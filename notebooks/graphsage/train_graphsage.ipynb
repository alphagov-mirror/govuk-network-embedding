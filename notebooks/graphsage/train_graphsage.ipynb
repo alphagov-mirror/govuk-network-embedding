{
 "cells": [
  {
   "cell_type": "markdown",
   "metadata": {},
   "source": [
    "# Link prediction example: GraphSAGE on GOV.UK data"
   ]
  },
  {
   "cell_type": "code",
   "execution_count": 1,
   "metadata": {},
   "outputs": [
    {
     "name": "stderr",
     "output_type": "stream",
     "text": [
      "Using TensorFlow backend.\n"
     ]
    }
   ],
   "source": [
    "import networkx as nx\n",
    "import pandas as pd\n",
    "import os\n",
    "\n",
    "import stellargraph as sg\n",
    "from stellargraph.data import EdgeSplitter\n",
    "from stellargraph.mapper import GraphSAGELinkGenerator\n",
    "from stellargraph.layer import GraphSAGE, link_classification, MeanPoolingAggregator, AttentionalAggregator\n",
    "\n",
    "import keras \n",
    "from keras.models import load_model\n",
    "\n",
    "from sklearn import preprocessing, feature_extraction, model_selection\n",
    "\n",
    "from stellargraph import globalvar"
   ]
  },
  {
   "cell_type": "code",
   "execution_count": 2,
   "metadata": {},
   "outputs": [],
   "source": [
    "from sklearn.feature_extraction.text import TfidfVectorizer"
   ]
  },
  {
   "cell_type": "code",
   "execution_count": 3,
   "metadata": {},
   "outputs": [],
   "source": [
    "import numpy as np"
   ]
  },
  {
   "cell_type": "code",
   "execution_count": 4,
   "metadata": {},
   "outputs": [],
   "source": [
    "import pickle"
   ]
  },
  {
   "cell_type": "markdown",
   "metadata": {},
   "source": [
    "### Loading the CORA network data"
   ]
  },
  {
   "cell_type": "code",
   "execution_count": 5,
   "metadata": {},
   "outputs": [],
   "source": [
    "DATA_DIR = os.getenv(\"DATA_DIR\")\n",
    "MODELS_DIR = os.path.join(os.path.dirname(os.path.dirname(os.getcwd())), \"models\")\n",
    "edgefile = os.path.join(DATA_DIR, \"processed_network\", \"graphsage_test.csv.gz\")"
   ]
  },
  {
   "cell_type": "markdown",
   "metadata": {},
   "source": [
    "Load the graph from edgelist"
   ]
  },
  {
   "cell_type": "code",
   "execution_count": 6,
   "metadata": {},
   "outputs": [],
   "source": [
    "edgelist = pd.read_csv(edgefile, compression=\"gzip\", sep='\\t')\n",
    "edgelist[\"label\"] = \"go_to\"  # set the edge type"
   ]
  },
  {
   "cell_type": "code",
   "execution_count": 7,
   "metadata": {},
   "outputs": [
    {
     "data": {
      "text/html": [
       "<div>\n",
       "<style scoped>\n",
       "    .dataframe tbody tr th:only-of-type {\n",
       "        vertical-align: middle;\n",
       "    }\n",
       "\n",
       "    .dataframe tbody tr th {\n",
       "        vertical-align: top;\n",
       "    }\n",
       "\n",
       "    .dataframe thead th {\n",
       "        text-align: right;\n",
       "    }\n",
       "</style>\n",
       "<table border=\"1\" class=\"dataframe\">\n",
       "  <thead>\n",
       "    <tr style=\"text-align: right;\">\n",
       "      <th></th>\n",
       "      <th>source</th>\n",
       "      <th>target</th>\n",
       "      <th>weight</th>\n",
       "      <th>label</th>\n",
       "    </tr>\n",
       "  </thead>\n",
       "  <tbody>\n",
       "    <tr>\n",
       "      <th>0</th>\n",
       "      <td>/government/publications/guidance-for-dependan...</td>\n",
       "      <td>/visa-fees</td>\n",
       "      <td>24</td>\n",
       "      <td>go_to</td>\n",
       "    </tr>\n",
       "    <tr>\n",
       "      <th>1</th>\n",
       "      <td>/visa-fees</td>\n",
       "      <td>/find-a-visa-application-centre</td>\n",
       "      <td>433</td>\n",
       "      <td>go_to</td>\n",
       "    </tr>\n",
       "    <tr>\n",
       "      <th>2</th>\n",
       "      <td>/entering-staying-uk/family-visas</td>\n",
       "      <td>/uk-family-visa</td>\n",
       "      <td>148</td>\n",
       "      <td>go_to</td>\n",
       "    </tr>\n",
       "    <tr>\n",
       "      <th>3</th>\n",
       "      <td>/uk-family-visa</td>\n",
       "      <td>/uk-family-visa/partner-spouse</td>\n",
       "      <td>10863</td>\n",
       "      <td>go_to</td>\n",
       "    </tr>\n",
       "    <tr>\n",
       "      <th>4</th>\n",
       "      <td>/uk-family-visa/partner-spouse</td>\n",
       "      <td>/government/publications/application-for-uk-vi...</td>\n",
       "      <td>1037</td>\n",
       "      <td>go_to</td>\n",
       "    </tr>\n",
       "  </tbody>\n",
       "</table>\n",
       "</div>"
      ],
      "text/plain": [
       "                                              source  \\\n",
       "0  /government/publications/guidance-for-dependan...   \n",
       "1                                         /visa-fees   \n",
       "2                  /entering-staying-uk/family-visas   \n",
       "3                                    /uk-family-visa   \n",
       "4                     /uk-family-visa/partner-spouse   \n",
       "\n",
       "                                              target  weight  label  \n",
       "0                                         /visa-fees      24  go_to  \n",
       "1                    /find-a-visa-application-centre     433  go_to  \n",
       "2                                    /uk-family-visa     148  go_to  \n",
       "3                     /uk-family-visa/partner-spouse   10863  go_to  \n",
       "4  /government/publications/application-for-uk-vi...    1037  go_to  "
      ]
     },
     "execution_count": 7,
     "metadata": {},
     "output_type": "execute_result"
    }
   ],
   "source": [
    "edgelist.head()"
   ]
  },
  {
   "cell_type": "code",
   "execution_count": 8,
   "metadata": {},
   "outputs": [],
   "source": [
    "node_id = {}\n",
    "counter=0\n",
    "for val in zip(edgelist.source.values, edgelist.target.values):\n",
    "    for v in val:\n",
    "        if v not in node_id.keys():\n",
    "            node_id[v] = counter\n",
    "            counter+=1"
   ]
  },
  {
   "cell_type": "code",
   "execution_count": 9,
   "metadata": {},
   "outputs": [],
   "source": [
    "edgelist['source_id'] = edgelist.source.map(lambda x : int(node_id[x]))\n",
    "edgelist['target_id'] = edgelist.target.map(lambda x : int(node_id[x]))"
   ]
  },
  {
   "cell_type": "code",
   "execution_count": 10,
   "metadata": {},
   "outputs": [
    {
     "data": {
      "text/html": [
       "<div>\n",
       "<style scoped>\n",
       "    .dataframe tbody tr th:only-of-type {\n",
       "        vertical-align: middle;\n",
       "    }\n",
       "\n",
       "    .dataframe tbody tr th {\n",
       "        vertical-align: top;\n",
       "    }\n",
       "\n",
       "    .dataframe thead th {\n",
       "        text-align: right;\n",
       "    }\n",
       "</style>\n",
       "<table border=\"1\" class=\"dataframe\">\n",
       "  <thead>\n",
       "    <tr style=\"text-align: right;\">\n",
       "      <th></th>\n",
       "      <th>source</th>\n",
       "      <th>target</th>\n",
       "      <th>weight</th>\n",
       "      <th>label</th>\n",
       "      <th>source_id</th>\n",
       "      <th>target_id</th>\n",
       "    </tr>\n",
       "  </thead>\n",
       "  <tbody>\n",
       "    <tr>\n",
       "      <th>0</th>\n",
       "      <td>/government/publications/guidance-for-dependan...</td>\n",
       "      <td>/visa-fees</td>\n",
       "      <td>24</td>\n",
       "      <td>go_to</td>\n",
       "      <td>0</td>\n",
       "      <td>1</td>\n",
       "    </tr>\n",
       "    <tr>\n",
       "      <th>1</th>\n",
       "      <td>/visa-fees</td>\n",
       "      <td>/find-a-visa-application-centre</td>\n",
       "      <td>433</td>\n",
       "      <td>go_to</td>\n",
       "      <td>1</td>\n",
       "      <td>2</td>\n",
       "    </tr>\n",
       "    <tr>\n",
       "      <th>2</th>\n",
       "      <td>/entering-staying-uk/family-visas</td>\n",
       "      <td>/uk-family-visa</td>\n",
       "      <td>148</td>\n",
       "      <td>go_to</td>\n",
       "      <td>3</td>\n",
       "      <td>4</td>\n",
       "    </tr>\n",
       "    <tr>\n",
       "      <th>3</th>\n",
       "      <td>/uk-family-visa</td>\n",
       "      <td>/uk-family-visa/partner-spouse</td>\n",
       "      <td>10863</td>\n",
       "      <td>go_to</td>\n",
       "      <td>4</td>\n",
       "      <td>5</td>\n",
       "    </tr>\n",
       "    <tr>\n",
       "      <th>4</th>\n",
       "      <td>/uk-family-visa/partner-spouse</td>\n",
       "      <td>/government/publications/application-for-uk-vi...</td>\n",
       "      <td>1037</td>\n",
       "      <td>go_to</td>\n",
       "      <td>5</td>\n",
       "      <td>6</td>\n",
       "    </tr>\n",
       "  </tbody>\n",
       "</table>\n",
       "</div>"
      ],
      "text/plain": [
       "                                              source  \\\n",
       "0  /government/publications/guidance-for-dependan...   \n",
       "1                                         /visa-fees   \n",
       "2                  /entering-staying-uk/family-visas   \n",
       "3                                    /uk-family-visa   \n",
       "4                     /uk-family-visa/partner-spouse   \n",
       "\n",
       "                                              target  weight  label  \\\n",
       "0                                         /visa-fees      24  go_to   \n",
       "1                    /find-a-visa-application-centre     433  go_to   \n",
       "2                                    /uk-family-visa     148  go_to   \n",
       "3                     /uk-family-visa/partner-spouse   10863  go_to   \n",
       "4  /government/publications/application-for-uk-vi...    1037  go_to   \n",
       "\n",
       "   source_id  target_id  \n",
       "0          0          1  \n",
       "1          1          2  \n",
       "2          3          4  \n",
       "3          4          5  \n",
       "4          5          6  "
      ]
     },
     "execution_count": 10,
     "metadata": {},
     "output_type": "execute_result"
    }
   ],
   "source": [
    "edgelist.head()"
   ]
  },
  {
   "cell_type": "code",
   "execution_count": 11,
   "metadata": {},
   "outputs": [
    {
     "data": {
      "text/plain": [
       "Index(['source', 'target', 'weight', 'label', 'source_id', 'target_id'], dtype='object')"
      ]
     },
     "execution_count": 11,
     "metadata": {},
     "output_type": "execute_result"
    }
   ],
   "source": [
    "edgelist.columns"
   ]
  },
  {
   "cell_type": "code",
   "execution_count": 12,
   "metadata": {},
   "outputs": [],
   "source": [
    "edgelist.rename(columns={'source':'source2', 'target':'target2', 'source_id':'source', 'target_id':'target'},inplace=True)"
   ]
  },
  {
   "cell_type": "markdown",
   "metadata": {},
   "source": [
    "### Load the features and subject for the nodes"
   ]
  },
  {
   "cell_type": "code",
   "execution_count": 13,
   "metadata": {},
   "outputs": [],
   "source": [
    "content_api = os.path.join(DATA_DIR, \"content_api\",\"07-02-19\")\n",
    "json = pd.read_csv(os.path.join(content_api,\"content_json.csv.gz\"), compression=\"gzip\")"
   ]
  },
  {
   "cell_type": "code",
   "execution_count": 14,
   "metadata": {},
   "outputs": [
    {
     "data": {
      "text/html": [
       "<div>\n",
       "<style scoped>\n",
       "    .dataframe tbody tr th:only-of-type {\n",
       "        vertical-align: middle;\n",
       "    }\n",
       "\n",
       "    .dataframe tbody tr th {\n",
       "        vertical-align: top;\n",
       "    }\n",
       "\n",
       "    .dataframe thead th {\n",
       "        text-align: right;\n",
       "    }\n",
       "</style>\n",
       "<table border=\"1\" class=\"dataframe\">\n",
       "  <thead>\n",
       "    <tr style=\"text-align: right;\">\n",
       "      <th></th>\n",
       "      <th>url</th>\n",
       "      <th>title</th>\n",
       "      <th>description</th>\n",
       "    </tr>\n",
       "  </thead>\n",
       "  <tbody>\n",
       "    <tr>\n",
       "      <th>0</th>\n",
       "      <td>/government/publications/guidance-for-dependan...</td>\n",
       "      <td>Guidance for dependants of UK visa applicants ...</td>\n",
       "      <td>Full guidance on the policy for applications b...</td>\n",
       "    </tr>\n",
       "    <tr>\n",
       "      <th>1</th>\n",
       "      <td>/visa-fees</td>\n",
       "      <td>Visa fees</td>\n",
       "      <td>Check how much your visa application costs in ...</td>\n",
       "    </tr>\n",
       "    <tr>\n",
       "      <th>2</th>\n",
       "      <td>/find-a-visa-application-centre</td>\n",
       "      <td>Find a visa application centre</td>\n",
       "      <td>Find the address, contact details and opening ...</td>\n",
       "    </tr>\n",
       "    <tr>\n",
       "      <th>3</th>\n",
       "      <td>/entering-staying-uk/family-visas</td>\n",
       "      <td>Family visas</td>\n",
       "      <td>NaN</td>\n",
       "    </tr>\n",
       "    <tr>\n",
       "      <th>4</th>\n",
       "      <td>/uk-family-visa</td>\n",
       "      <td>Family visas: apply, extend or switch</td>\n",
       "      <td>Get a family visa for the UK, live with your s...</td>\n",
       "    </tr>\n",
       "  </tbody>\n",
       "</table>\n",
       "</div>"
      ],
      "text/plain": [
       "                                                 url  \\\n",
       "0  /government/publications/guidance-for-dependan...   \n",
       "1                                         /visa-fees   \n",
       "2                    /find-a-visa-application-centre   \n",
       "3                  /entering-staying-uk/family-visas   \n",
       "4                                    /uk-family-visa   \n",
       "\n",
       "                                               title  \\\n",
       "0  Guidance for dependants of UK visa applicants ...   \n",
       "1                                          Visa fees   \n",
       "2                     Find a visa application centre   \n",
       "3                                       Family visas   \n",
       "4              Family visas: apply, extend or switch   \n",
       "\n",
       "                                         description  \n",
       "0  Full guidance on the policy for applications b...  \n",
       "1  Check how much your visa application costs in ...  \n",
       "2  Find the address, contact details and opening ...  \n",
       "3                                                NaN  \n",
       "4  Get a family visa for the UK, live with your s...  "
      ]
     },
     "execution_count": 14,
     "metadata": {},
     "output_type": "execute_result"
    }
   ],
   "source": [
    "json[['url','title','description']].head()"
   ]
  },
  {
   "cell_type": "code",
   "execution_count": 15,
   "metadata": {},
   "outputs": [
    {
     "data": {
      "text/plain": [
       "138372"
      ]
     },
     "execution_count": 15,
     "metadata": {},
     "output_type": "execute_result"
    }
   ],
   "source": [
    "len(node_id)"
   ]
  },
  {
   "cell_type": "markdown",
   "metadata": {},
   "source": [
    "### Compute text features, tfidf"
   ]
  },
  {
   "cell_type": "code",
   "execution_count": 16,
   "metadata": {},
   "outputs": [],
   "source": [
    "text_dict = {}\n",
    "for tup in json.itertuples():\n",
    "    if tup.url in node_id.keys():\n",
    "        text_dict[node_id[tup.url]] = \"{} {}\".format(tup.title, tup.description).rstrip()"
   ]
  },
  {
   "cell_type": "code",
   "execution_count": 17,
   "metadata": {},
   "outputs": [
    {
     "data": {
      "text/plain": [
       "'Guidance for dependants of UK visa applicants (Tiers 1, 2, 4, 5) Full guidance on the policy for applications by the family of people who have UK visas under the points-based system (PBS dependants).'"
      ]
     },
     "execution_count": 17,
     "metadata": {},
     "output_type": "execute_result"
    }
   ],
   "source": [
    "text_dict[0]"
   ]
  },
  {
   "cell_type": "code",
   "execution_count": 18,
   "metadata": {},
   "outputs": [
    {
     "data": {
      "text/plain": [
       "121054"
      ]
     },
     "execution_count": 18,
     "metadata": {},
     "output_type": "execute_result"
    }
   ],
   "source": [
    "len(text_dict)"
   ]
  },
  {
   "cell_type": "code",
   "execution_count": 19,
   "metadata": {},
   "outputs": [],
   "source": [
    "text_list = [(key,value) for key,value in text_dict.items()]\n",
    "text = [(value) for key,value in text_list]\n",
    "index = [key for key,value in text_list]"
   ]
  },
  {
   "cell_type": "code",
   "execution_count": 20,
   "metadata": {},
   "outputs": [
    {
     "data": {
      "text/plain": [
       "121054"
      ]
     },
     "execution_count": 20,
     "metadata": {},
     "output_type": "execute_result"
    }
   ],
   "source": [
    "len(text_list)"
   ]
  },
  {
   "cell_type": "code",
   "execution_count": 68,
   "metadata": {},
   "outputs": [],
   "source": [
    "vectorizer = TfidfVectorizer(stop_words=\"english\", max_features=2000, max_df=0.8)\n",
    "X = vectorizer.fit_transform(text)"
   ]
  },
  {
   "cell_type": "code",
   "execution_count": 69,
   "metadata": {},
   "outputs": [],
   "source": [
    "pickle.dump(vectorizer, open(os.path.join(MODELS_DIR, \"vectorizer_v3.pickle\"), \"wb\"))"
   ]
  },
  {
   "cell_type": "code",
   "execution_count": 70,
   "metadata": {},
   "outputs": [
    {
     "data": {
      "text/plain": [
       "121054"
      ]
     },
     "execution_count": 70,
     "metadata": {},
     "output_type": "execute_result"
    }
   ],
   "source": [
    "X.shape[0]"
   ]
  },
  {
   "cell_type": "markdown",
   "metadata": {},
   "source": [
    "### Initialize `node_data`"
   ]
  },
  {
   "cell_type": "code",
   "execution_count": 71,
   "metadata": {},
   "outputs": [],
   "source": [
    "node_data = pd.DataFrame(X.todense(),index=index)"
   ]
  },
  {
   "cell_type": "code",
   "execution_count": 72,
   "metadata": {},
   "outputs": [
    {
     "data": {
      "text/plain": [
       "(121054, 2000)"
      ]
     },
     "execution_count": 72,
     "metadata": {},
     "output_type": "execute_result"
    }
   ],
   "source": [
    "node_data.shape"
   ]
  },
  {
   "cell_type": "markdown",
   "metadata": {},
   "source": [
    "Define a set of node features that will be used by the model as the difference between the set of all node features and a list of user-defined node attributes to ignore:"
   ]
  },
  {
   "cell_type": "code",
   "execution_count": 73,
   "metadata": {},
   "outputs": [
    {
     "data": {
      "text/plain": [
       "((121054, 2000), 138372)"
      ]
     },
     "execution_count": 73,
     "metadata": {},
     "output_type": "execute_result"
    }
   ],
   "source": [
    "node_data.shape,len(node_id)"
   ]
  },
  {
   "cell_type": "code",
   "execution_count": 74,
   "metadata": {},
   "outputs": [
    {
     "data": {
      "text/plain": [
       "RangeIndex(start=0, stop=2000, step=1)"
      ]
     },
     "execution_count": 74,
     "metadata": {},
     "output_type": "execute_result"
    }
   ],
   "source": [
    "# ignore_attr = []\n",
    "# feature_names = sorted(set(column_names) - set(ignore_attr))\n",
    "feature_names = node_data.columns\n",
    "feature_names"
   ]
  },
  {
   "cell_type": "markdown",
   "metadata": {},
   "source": [
    "We need to convert node features that will be used by the model to numeric values that are required for GraphSAGE input. Note that all node features in the Cora dataset, except the categorical \"subject\" feature, are already numeric, and don't require the conversion."
   ]
  },
  {
   "cell_type": "code",
   "execution_count": 75,
   "metadata": {},
   "outputs": [],
   "source": [
    "if \"subject\" in feature_names:\n",
    "    # Convert node features to numeric vectors\n",
    "    feature_encoding = feature_extraction.DictVectorizer(sparse=False)\n",
    "    node_features = feature_encoding.fit_transform(\n",
    "        node_data[feature_names].to_dict(\"records\")\n",
    "    )\n",
    "else:  # node features are already numeric, no further conversion is needed\n",
    "    node_features = node_data[feature_names].values"
   ]
  },
  {
   "cell_type": "markdown",
   "metadata": {},
   "source": [
    "### Filter down the edgelist so it only contains nodes with text"
   ]
  },
  {
   "cell_type": "code",
   "execution_count": 76,
   "metadata": {},
   "outputs": [],
   "source": [
    "filtered_edges = edgelist[(edgelist.source.isin(node_data.index))&(edgelist.target.isin(node_data.index))]"
   ]
  },
  {
   "cell_type": "code",
   "execution_count": 77,
   "metadata": {},
   "outputs": [
    {
     "data": {
      "text/plain": [
       "(454260, 6)"
      ]
     },
     "execution_count": 77,
     "metadata": {},
     "output_type": "execute_result"
    }
   ],
   "source": [
    "edgelist.shape"
   ]
  },
  {
   "cell_type": "code",
   "execution_count": 78,
   "metadata": {},
   "outputs": [
    {
     "data": {
      "text/plain": [
       "(432936, 6)"
      ]
     },
     "execution_count": 78,
     "metadata": {},
     "output_type": "execute_result"
    }
   ],
   "source": [
    "filtered_edges.shape"
   ]
  },
  {
   "cell_type": "code",
   "execution_count": 79,
   "metadata": {},
   "outputs": [
    {
     "data": {
      "text/html": [
       "<div>\n",
       "<style scoped>\n",
       "    .dataframe tbody tr th:only-of-type {\n",
       "        vertical-align: middle;\n",
       "    }\n",
       "\n",
       "    .dataframe tbody tr th {\n",
       "        vertical-align: top;\n",
       "    }\n",
       "\n",
       "    .dataframe thead th {\n",
       "        text-align: right;\n",
       "    }\n",
       "</style>\n",
       "<table border=\"1\" class=\"dataframe\">\n",
       "  <thead>\n",
       "    <tr style=\"text-align: right;\">\n",
       "      <th></th>\n",
       "      <th>source2</th>\n",
       "      <th>target2</th>\n",
       "      <th>weight</th>\n",
       "      <th>label</th>\n",
       "      <th>source</th>\n",
       "      <th>target</th>\n",
       "    </tr>\n",
       "  </thead>\n",
       "  <tbody>\n",
       "    <tr>\n",
       "      <th>0</th>\n",
       "      <td>/government/publications/guidance-for-dependan...</td>\n",
       "      <td>/visa-fees</td>\n",
       "      <td>24</td>\n",
       "      <td>go_to</td>\n",
       "      <td>0</td>\n",
       "      <td>1</td>\n",
       "    </tr>\n",
       "    <tr>\n",
       "      <th>1</th>\n",
       "      <td>/visa-fees</td>\n",
       "      <td>/find-a-visa-application-centre</td>\n",
       "      <td>433</td>\n",
       "      <td>go_to</td>\n",
       "      <td>1</td>\n",
       "      <td>2</td>\n",
       "    </tr>\n",
       "    <tr>\n",
       "      <th>2</th>\n",
       "      <td>/entering-staying-uk/family-visas</td>\n",
       "      <td>/uk-family-visa</td>\n",
       "      <td>148</td>\n",
       "      <td>go_to</td>\n",
       "      <td>3</td>\n",
       "      <td>4</td>\n",
       "    </tr>\n",
       "    <tr>\n",
       "      <th>3</th>\n",
       "      <td>/uk-family-visa</td>\n",
       "      <td>/uk-family-visa/partner-spouse</td>\n",
       "      <td>10863</td>\n",
       "      <td>go_to</td>\n",
       "      <td>4</td>\n",
       "      <td>5</td>\n",
       "    </tr>\n",
       "    <tr>\n",
       "      <th>4</th>\n",
       "      <td>/uk-family-visa/partner-spouse</td>\n",
       "      <td>/government/publications/application-for-uk-vi...</td>\n",
       "      <td>1037</td>\n",
       "      <td>go_to</td>\n",
       "      <td>5</td>\n",
       "      <td>6</td>\n",
       "    </tr>\n",
       "  </tbody>\n",
       "</table>\n",
       "</div>"
      ],
      "text/plain": [
       "                                             source2  \\\n",
       "0  /government/publications/guidance-for-dependan...   \n",
       "1                                         /visa-fees   \n",
       "2                  /entering-staying-uk/family-visas   \n",
       "3                                    /uk-family-visa   \n",
       "4                     /uk-family-visa/partner-spouse   \n",
       "\n",
       "                                             target2  weight  label  source  \\\n",
       "0                                         /visa-fees      24  go_to       0   \n",
       "1                    /find-a-visa-application-centre     433  go_to       1   \n",
       "2                                    /uk-family-visa     148  go_to       3   \n",
       "3                     /uk-family-visa/partner-spouse   10863  go_to       4   \n",
       "4  /government/publications/application-for-uk-vi...    1037  go_to       5   \n",
       "\n",
       "   target  \n",
       "0       1  \n",
       "1       2  \n",
       "2       4  \n",
       "3       5  \n",
       "4       6  "
      ]
     },
     "execution_count": 79,
     "metadata": {},
     "output_type": "execute_result"
    }
   ],
   "source": [
    "filtered_edges.head()"
   ]
  },
  {
   "cell_type": "markdown",
   "metadata": {},
   "source": [
    "### Set up graph from edgelist"
   ]
  },
  {
   "cell_type": "code",
   "execution_count": 80,
   "metadata": {},
   "outputs": [],
   "source": [
    "G = nx.from_pandas_edgelist(filtered_edges[['source','target','label']], edge_attr=\"label\")"
   ]
  },
  {
   "cell_type": "code",
   "execution_count": 81,
   "metadata": {},
   "outputs": [
    {
     "data": {
      "text/plain": [
       "networkx.classes.graph.Graph"
      ]
     },
     "execution_count": 81,
     "metadata": {},
     "output_type": "execute_result"
    }
   ],
   "source": [
    "type(G)"
   ]
  },
  {
   "cell_type": "markdown",
   "metadata": {},
   "source": [
    "Add node data to G:"
   ]
  },
  {
   "cell_type": "code",
   "execution_count": 82,
   "metadata": {},
   "outputs": [],
   "source": [
    "for nid, f in zip(node_data.index, node_features):\n",
    "    if nid in G.node.keys():\n",
    "        G.node[nid][globalvar.TYPE_ATTR_NAME] = \"page\"  # specify node type\n",
    "        G.node[nid][\"feature\"] = f"
   ]
  },
  {
   "cell_type": "markdown",
   "metadata": {},
   "source": [
    "From the original graph G, extract a randomly sampled subset of test edges (true and false citation links) and the reduced graph G_test with the positive test edges removed:"
   ]
  },
  {
   "cell_type": "code",
   "execution_count": 83,
   "metadata": {},
   "outputs": [
    {
     "name": "stdout",
     "output_type": "stream",
     "text": [
      "Removed 1000 edges\n",
      "Removed 2000 edges\n",
      "Removed 3000 edges\n",
      "Removed 4000 edges\n",
      "Removed 5000 edges\n",
      "Removed 6000 edges\n",
      "Removed 7000 edges\n",
      "Removed 8000 edges\n",
      "Removed 9000 edges\n",
      "Removed 10000 edges\n",
      "Removed 11000 edges\n",
      "Removed 12000 edges\n",
      "Removed 13000 edges\n",
      "Removed 14000 edges\n",
      "Removed 15000 edges\n",
      "Removed 16000 edges\n",
      "Removed 17000 edges\n",
      "Removed 18000 edges\n",
      "Removed 19000 edges\n",
      "Removed 20000 edges\n",
      "Removed 21000 edges\n",
      "Removed 22000 edges\n",
      "Removed 23000 edges\n",
      "Removed 24000 edges\n",
      "Removed 25000 edges\n",
      "Removed 26000 edges\n",
      "Removed 27000 edges\n",
      "Removed 28000 edges\n",
      "Removed 29000 edges\n",
      "Removed 30000 edges\n",
      "Sampled 1000 negative examples\n",
      "Sampled 2000 negative examples\n",
      "Sampled 3000 negative examples\n",
      "Sampled 4000 negative examples\n",
      "Sampled 5000 negative examples\n",
      "Sampled 6000 negative examples\n",
      "Sampled 7000 negative examples\n",
      "Sampled 8000 negative examples\n",
      "Sampled 9000 negative examples\n",
      "Sampled 10000 negative examples\n",
      "Sampled 11000 negative examples\n",
      "Sampled 12000 negative examples\n",
      "Sampled 13000 negative examples\n",
      "Sampled 14000 negative examples\n",
      "Sampled 15000 negative examples\n",
      "Sampled 16000 negative examples\n",
      "Sampled 17000 negative examples\n",
      "Sampled 18000 negative examples\n",
      "Sampled 19000 negative examples\n",
      "Sampled 20000 negative examples\n",
      "Sampled 21000 negative examples\n",
      "Sampled 22000 negative examples\n",
      "Sampled 23000 negative examples\n",
      "Sampled 24000 negative examples\n",
      "Sampled 25000 negative examples\n",
      "Sampled 26000 negative examples\n",
      "Sampled 27000 negative examples\n",
      "Sampled 28000 negative examples\n",
      "Sampled 29000 negative examples\n",
      "Sampled 30000 negative examples\n",
      "** Sampled 30150 positive and 30150 negative edges. **\n"
     ]
    }
   ],
   "source": [
    "# Define an edge splitter on the original graph G:\n",
    "edge_splitter_test = EdgeSplitter(G)\n",
    "\n",
    "# Randomly sample a fraction p=0.1 of all positive links, and same number of negative links, from G, and obtain the\n",
    "# reduced graph G_test with the sampled links removed:\n",
    "G_test, edge_ids_test, edge_labels_test = edge_splitter_test.train_test_split(p=0.1, \n",
    "                                                                              method=\"global\", \n",
    "                                                                              keep_connected=True)"
   ]
  },
  {
   "cell_type": "markdown",
   "metadata": {},
   "source": [
    "The reduced graph G_test, together with the test ground truth set of links (edge_ids_test, edge_labels_test), will be used for testing the model.\n",
    "\n",
    "Now repeat this procedure to obtain the training data for the model. From the reduced graph G_test, extract a randomly sampled subset of train edges (true and false citation links) and the reduced graph G_train with the positive train edges removed:"
   ]
  },
  {
   "cell_type": "code",
   "execution_count": 84,
   "metadata": {},
   "outputs": [
    {
     "name": "stdout",
     "output_type": "stream",
     "text": [
      "Removed 1000 edges\n",
      "Removed 2000 edges\n",
      "Removed 3000 edges\n",
      "Removed 4000 edges\n",
      "Removed 5000 edges\n",
      "Removed 6000 edges\n",
      "Removed 7000 edges\n",
      "Removed 8000 edges\n",
      "Removed 9000 edges\n",
      "Removed 10000 edges\n",
      "Removed 11000 edges\n",
      "Removed 12000 edges\n",
      "Removed 13000 edges\n",
      "Removed 14000 edges\n",
      "Removed 15000 edges\n",
      "Removed 16000 edges\n",
      "Removed 17000 edges\n",
      "Removed 18000 edges\n",
      "Removed 19000 edges\n",
      "Removed 20000 edges\n",
      "Removed 21000 edges\n",
      "Removed 22000 edges\n",
      "Removed 23000 edges\n",
      "Removed 24000 edges\n",
      "Removed 25000 edges\n",
      "Removed 26000 edges\n",
      "Removed 27000 edges\n",
      "Sampled 1000 negative examples\n",
      "Sampled 2000 negative examples\n",
      "Sampled 3000 negative examples\n",
      "Sampled 4000 negative examples\n",
      "Sampled 5000 negative examples\n",
      "Sampled 6000 negative examples\n",
      "Sampled 7000 negative examples\n",
      "Sampled 8000 negative examples\n",
      "Sampled 9000 negative examples\n",
      "Sampled 10000 negative examples\n",
      "Sampled 11000 negative examples\n",
      "Sampled 12000 negative examples\n",
      "Sampled 13000 negative examples\n",
      "Sampled 14000 negative examples\n",
      "Sampled 15000 negative examples\n",
      "Sampled 16000 negative examples\n",
      "Sampled 17000 negative examples\n",
      "Sampled 18000 negative examples\n",
      "Sampled 19000 negative examples\n",
      "Sampled 20000 negative examples\n",
      "Sampled 21000 negative examples\n",
      "Sampled 22000 negative examples\n",
      "Sampled 23000 negative examples\n",
      "Sampled 24000 negative examples\n",
      "Sampled 25000 negative examples\n",
      "Sampled 26000 negative examples\n",
      "Sampled 27000 negative examples\n",
      "** Sampled 27135 positive and 27135 negative edges. **\n"
     ]
    }
   ],
   "source": [
    "# Define an edge splitter on the reduced graph G_test:\n",
    "edge_splitter_train = EdgeSplitter(G_test)\n",
    "\n",
    "# Randomly sample a fraction p=0.1 of all positive links, and same number of negative links, from G_test, and obtain the\n",
    "# reduced graph G_train with the sampled links removed:\n",
    "G_train, edge_ids_train, edge_labels_train = edge_splitter_train.train_test_split(p=0.1, \n",
    "                                                                                  method=\"global\",\n",
    "                                                                                  keep_connected=True\n",
    "                                                                                )"
   ]
  },
  {
   "cell_type": "markdown",
   "metadata": {},
   "source": [
    "G_train, together with the train ground truth set of links (edge_ids_train, edge_labels_train), will be used for training the model."
   ]
  },
  {
   "cell_type": "markdown",
   "metadata": {},
   "source": [
    "Convert G_train and G_test to StellarGraph objects (undirected, as required by GraphSAGE) for ML:"
   ]
  },
  {
   "cell_type": "code",
   "execution_count": 85,
   "metadata": {},
   "outputs": [],
   "source": [
    "G_train = sg.StellarGraph(G_train, node_features=\"feature\")\n",
    "G_test = sg.StellarGraph(G_test, node_features=\"feature\")"
   ]
  },
  {
   "cell_type": "code",
   "execution_count": 86,
   "metadata": {},
   "outputs": [],
   "source": [
    "# len(list(G_train.nodes))"
   ]
  },
  {
   "cell_type": "code",
   "execution_count": 87,
   "metadata": {},
   "outputs": [],
   "source": [
    "# list(G_train.nodes)[0:10]"
   ]
  },
  {
   "cell_type": "code",
   "execution_count": 88,
   "metadata": {},
   "outputs": [],
   "source": [
    "# G_train.nodes[35]['feature'].shape"
   ]
  },
  {
   "cell_type": "markdown",
   "metadata": {},
   "source": [
    "Summary of G_train and G_test - note that they have the same set of nodes, only differing in their edge sets:"
   ]
  },
  {
   "cell_type": "code",
   "execution_count": 89,
   "metadata": {},
   "outputs": [
    {
     "name": "stdout",
     "output_type": "stream",
     "text": [
      "StellarGraph: Undirected multigraph\n",
      " Nodes: 120990, Edges: 244221\n",
      "\n",
      " Node types:\n",
      "  page: [120990]\n",
      "        Attributes: {'feature'}\n",
      "    Edge types: page-go_to->page\n",
      "\n",
      " Edge types:\n",
      "    page-go_to->page: [244221]\n",
      "\n"
     ]
    }
   ],
   "source": [
    "print(G_train.info())"
   ]
  },
  {
   "cell_type": "code",
   "execution_count": null,
   "metadata": {},
   "outputs": [
    {
     "name": "stdout",
     "output_type": "stream",
     "text": [
      "StellarGraph: Undirected multigraph\n",
      " Nodes: 120990, Edges: 271356\n",
      "\n",
      " Node types:\n",
      "  page: [120990]\n",
      "        Attributes: {'feature'}\n",
      "    Edge types: page-go_to->page\n",
      "\n",
      " Edge types:\n",
      "    page-go_to->page: [271356]\n",
      "\n"
     ]
    }
   ],
   "source": [
    "print(G_test.info())"
   ]
  },
  {
   "cell_type": "markdown",
   "metadata": {},
   "source": [
    "Next, we create the link mappers for sampling and streaming training and testing data to the model. The link mappers essentially \"map\" pairs of nodes `(paper1, paper2)` to the input of GraphSAGE: they take minibatches of node pairs, sample 2-hop subgraphs with `(paper1, paper2)` head nodes extracted from those pairs, and feed them, together with the corresponding binary labels indicating whether those pairs represent true or false citation links, to the input layer of the GraphSAGE model, for SGD updates of the model parameters.\n",
    "\n",
    "Specify the minibatch size (number of node pairs per minibatch) and the number of epochs for training the model:"
   ]
  },
  {
   "cell_type": "markdown",
   "metadata": {},
   "source": [
    "### Model parameters"
   ]
  },
  {
   "cell_type": "code",
   "execution_count": null,
   "metadata": {},
   "outputs": [],
   "source": [
    "batch_size = 25\n",
    "epochs = 50"
   ]
  },
  {
   "cell_type": "markdown",
   "metadata": {},
   "source": [
    "Specify the sizes of 1- and 2-hop neighbour samples for GraphSAGE:\n",
    "\n",
    "Note that the length of `num_samples` list defines the number of layers/iterations in the GraphSAGE model. In this example, we are defining a 2-layer GraphSAGE model."
   ]
  },
  {
   "cell_type": "code",
   "execution_count": null,
   "metadata": {},
   "outputs": [],
   "source": [
    "num_samples = [20, 10]"
   ]
  },
  {
   "cell_type": "markdown",
   "metadata": {},
   "source": [
    "### Set up train and test set data generators"
   ]
  },
  {
   "cell_type": "code",
   "execution_count": null,
   "metadata": {},
   "outputs": [],
   "source": [
    "train_gen = GraphSAGELinkGenerator(G_train, batch_size, num_samples).flow(edge_ids_train,edge_labels_train)\n",
    "test_gen = GraphSAGELinkGenerator(G_test,  batch_size, num_samples).flow(edge_ids_test, edge_labels_test)"
   ]
  },
  {
   "cell_type": "markdown",
   "metadata": {},
   "source": [
    "Build the model: a 2-layer GraphSAGE model acting as node representation learner, with a link classification layer on concatenated `(paper1, paper2)` node embeddings.\n",
    "\n",
    "GraphSAGE part of the model, with hidden layer sizes of 50 for both GraphSAGE layers, a bias term, and no dropout. (Dropout can be switched on by specifying a positive dropout rate, 0 < dropout < 1)\n",
    "Note that the length of layer_sizes list must be equal to the length of num_samples, as len(num_samples) defines the number of hops (layers) in the GraphSAGE model."
   ]
  },
  {
   "cell_type": "code",
   "execution_count": null,
   "metadata": {},
   "outputs": [],
   "source": [
    "layer_sizes = [32, 32]\n",
    "assert len(layer_sizes) == len(num_samples)\n",
    "\n",
    "graphsage = GraphSAGE(\n",
    "        layer_sizes=layer_sizes, generator=train_gen, bias=True, dropout=0.2, aggregator=AttentionalAggregator\n",
    "    )"
   ]
  },
  {
   "cell_type": "code",
   "execution_count": null,
   "metadata": {},
   "outputs": [],
   "source": [
    "# Expose input and output sockets of graphsage, for source and destination nodes:\n",
    "x_inp_src, x_out_src = graphsage.default_model(flatten_output=False)\n",
    "x_inp_dst, x_out_dst = graphsage.default_model(flatten_output=False)\n",
    "# re-pack into a list where (source, destination) inputs alternate, for link inputs:\n",
    "x_inp = [x for ab in zip(x_inp_src, x_inp_dst) for x in ab]\n",
    "# same for outputs:\n",
    "x_out = [x_out_src, x_out_dst]"
   ]
  },
  {
   "cell_type": "markdown",
   "metadata": {},
   "source": [
    "Final link classification layer that takes a pair of node embeddings produced by graphsage, applies a binary operator to them to produce the corresponding link embedding ('ip' for inner product; other options for the binary operator can be seen by running a cell with `?link_classification` in it), and passes it through a dense layer:"
   ]
  },
  {
   "cell_type": "markdown",
   "metadata": {},
   "source": [
    "### Set up `link_classification` layer and model"
   ]
  },
  {
   "cell_type": "code",
   "execution_count": null,
   "metadata": {},
   "outputs": [
    {
     "name": "stdout",
     "output_type": "stream",
     "text": [
      "link_classification: using 'ip' method to combine node embeddings into edge embeddings\n"
     ]
    }
   ],
   "source": [
    "prediction = link_classification(\n",
    "        output_dim=1, output_act=\"sigmoid\", edge_embedding_method='ip'\n",
    "    )(x_out)"
   ]
  },
  {
   "cell_type": "markdown",
   "metadata": {},
   "source": [
    "Stack the GraphSAGE and prediction layers into a Keras model, and specify the loss"
   ]
  },
  {
   "cell_type": "code",
   "execution_count": null,
   "metadata": {},
   "outputs": [],
   "source": [
    "model = keras.Model(inputs=x_inp, outputs=prediction)\n",
    "\n",
    "model.compile(\n",
    "        optimizer=keras.optimizers.Adam(lr=1e-3),\n",
    "        loss=keras.losses.binary_crossentropy,\n",
    "        metrics=[keras.metrics.binary_accuracy],\n",
    "    )"
   ]
  },
  {
   "cell_type": "markdown",
   "metadata": {},
   "source": [
    "Evaluate the initial (untrained) model on the train and test set:"
   ]
  },
  {
   "cell_type": "code",
   "execution_count": null,
   "metadata": {},
   "outputs": [
    {
     "name": "stdout",
     "output_type": "stream",
     "text": [
      "2171/2171 [==============================] - 261s 120ms/step\n",
      " 591/2412 [======>.......................] - ETA: 3:47"
     ]
    }
   ],
   "source": [
    "init_train_metrics = model.evaluate_generator(train_gen, verbose=1)\n",
    "init_test_metrics = model.evaluate_generator(test_gen, verbose=1)\n",
    "\n",
    "print(\"\\nTrain Set Metrics of the initial (untrained) model:\")\n",
    "for name, val in zip(model.metrics_names, init_train_metrics):\n",
    "    print(\"\\t{}: {:0.4f}\".format(name, val))\n",
    "\n",
    "print(\"\\nTest Set Metrics of the initial (untrained) model:\")\n",
    "for name, val in zip(model.metrics_names, init_test_metrics):\n",
    "    print(\"\\t{}: {:0.4f}\".format(name, val))"
   ]
  },
  {
   "cell_type": "code",
   "execution_count": null,
   "metadata": {},
   "outputs": [],
   "source": [
    "model.summary()"
   ]
  },
  {
   "cell_type": "markdown",
   "metadata": {},
   "source": [
    "### Train the model"
   ]
  },
  {
   "cell_type": "code",
   "execution_count": null,
   "metadata": {},
   "outputs": [],
   "source": [
    "history = model.fit_generator(\n",
    "        train_gen,\n",
    "        epochs=epochs,\n",
    "        validation_data=test_gen,\n",
    "        verbose=1,\n",
    "        shuffle=True,\n",
    "    )"
   ]
  },
  {
   "cell_type": "code",
   "execution_count": null,
   "metadata": {},
   "outputs": [],
   "source": [
    "model.save(os.path.join(MODELS_DIR,'graphsage_attentional_32layer_50e.h5'))"
   ]
  },
  {
   "cell_type": "markdown",
   "metadata": {},
   "source": [
    "### Plot metrics\n",
    "Plot the training history:"
   ]
  },
  {
   "cell_type": "code",
   "execution_count": null,
   "metadata": {},
   "outputs": [],
   "source": [
    "import matplotlib.pyplot as plt\n",
    "%matplotlib inline\n",
    "\n",
    "def plot_history(history):\n",
    "    metrics = sorted(history.history.keys())\n",
    "    metrics = metrics[:len(metrics)//2]\n",
    "    \n",
    "    f,axs = plt.subplots(1, len(metrics), figsize=(12,4))\n",
    "\n",
    "    for m,ax in zip(metrics,axs):\n",
    "        # summarize history for metric m\n",
    "        ax.plot(history.history[m])\n",
    "        ax.plot(history.history['val_' + m])\n",
    "        ax.set_title(m)\n",
    "        ax.set_ylabel(m)\n",
    "        ax.set_xlabel('epoch')\n",
    "        ax.legend(['train', 'test'], loc='upper right')"
   ]
  },
  {
   "cell_type": "code",
   "execution_count": null,
   "metadata": {
    "scrolled": false
   },
   "outputs": [],
   "source": [
    "plot_history(history)"
   ]
  },
  {
   "cell_type": "markdown",
   "metadata": {},
   "source": [
    "Evaluate the trained model on test citation links:"
   ]
  },
  {
   "cell_type": "code",
   "execution_count": null,
   "metadata": {},
   "outputs": [],
   "source": [
    "train_metrics = model.evaluate_generator(train_gen)\n",
    "test_metrics = model.evaluate_generator(test_gen)\n",
    "\n",
    "print(\"\\nTrain Set Metrics of the trained model:\")\n",
    "for name, val in zip(model.metrics_names, train_metrics):\n",
    "    print(\"\\t{}: {:0.4f}\".format(name, val))\n",
    "\n",
    "print(\"\\nTest Set Metrics of the trained model:\")\n",
    "for name, val in zip(model.metrics_names, test_metrics):\n",
    "    print(\"\\t{}: {:0.4f}\".format(name, val))"
   ]
  },
  {
   "cell_type": "markdown",
   "metadata": {},
   "source": [
    "### Predict on `test_gen` link_mapper"
   ]
  },
  {
   "cell_type": "code",
   "execution_count": 136,
   "metadata": {},
   "outputs": [],
   "source": [
    "pred = model.predict_generator(test_gen)"
   ]
  },
  {
   "cell_type": "code",
   "execution_count": 137,
   "metadata": {},
   "outputs": [
    {
     "data": {
      "text/plain": [
       "array([[0.99702704],\n",
       "       [0.99129677],\n",
       "       [0.98810685],\n",
       "       [0.83475816],\n",
       "       [0.99734855],\n",
       "       [0.9958212 ],\n",
       "       [0.9960351 ],\n",
       "       [0.9460257 ],\n",
       "       [0.46158177],\n",
       "       [0.9307431 ]], dtype=float32)"
      ]
     },
     "execution_count": 137,
     "metadata": {},
     "output_type": "execute_result"
    }
   ],
   "source": [
    "pred[0:10]"
   ]
  },
  {
   "cell_type": "markdown",
   "metadata": {},
   "source": [
    "### Write `content_ids` to file for future feature representations"
   ]
  },
  {
   "cell_type": "code",
   "execution_count": 147,
   "metadata": {},
   "outputs": [
    {
     "data": {
      "text/plain": [
       "0    /government/publications/guidance-for-dependan...\n",
       "Name: url, dtype: object"
      ]
     },
     "execution_count": 147,
     "metadata": {},
     "output_type": "execute_result"
    }
   ],
   "source": [
    "json[json.url == \"/government/publications/guidance-for-dependants-of-uk-visa-applicants-tiers-1-2-4-5\"].url"
   ]
  },
  {
   "cell_type": "code",
   "execution_count": 154,
   "metadata": {},
   "outputs": [],
   "source": [
    "id_node = {}\n",
    "for key,value in node_id.items():\n",
    "    id_node[value] = key"
   ]
  },
  {
   "cell_type": "code",
   "execution_count": 156,
   "metadata": {},
   "outputs": [
    {
     "data": {
      "text/plain": [
       "((121054, 13), 121054)"
      ]
     },
     "execution_count": 156,
     "metadata": {},
     "output_type": "execute_result"
    }
   ],
   "source": [
    "json.shape, json.url.nunique()"
   ]
  },
  {
   "cell_type": "code",
   "execution_count": 160,
   "metadata": {},
   "outputs": [],
   "source": [
    "url_id = dict(zip(json.url,json.content_id))"
   ]
  },
  {
   "cell_type": "code",
   "execution_count": 180,
   "metadata": {},
   "outputs": [
    {
     "name": "stdout",
     "output_type": "stream",
     "text": [
      "0\n",
      "/government/publications/prepare-to-drive-in-the-eu-after-brexit\n",
      "/government/statistics/announcements/rough-sleeping-in-england-autumn-2018\n",
      "/government/statistics/announcements/english-housing-survey-2017-to-2018-headline-report\n",
      "/government/statistics/announcements/economic-review-january-2019\n",
      "/government/publications/eu-settlement-scheme-assisted-digital-service/assisted-digital-locations--3\n",
      "/tax-disc\n",
      "/government/publications/prepare-to-drive-in-the-eu-after-brexit?fbclid=iwar3nfg-xwip54yeluquu0awmkdfjqcyvww9mhdi36wz1lpkdyox5wqnynnw\n",
      "/government/publications/cac-outcome-nuj-bbc-news/application-progress\n",
      "/guidance/the-uks-exit-from-the-eu-important-information-for-uk-nationals\n",
      "20000\n",
      "/guidance/national-planning-policy-framework/13-facilitating-the-sustainable-use-of-minerals\n",
      "/guidance/status-of-eu-nationals-in-the-uk-what-you-need-to-know.ro\n",
      "/apply-uk-visa\n",
      "/guidance/requests-for-personal-data-and-service-records\n",
      "/contact-ukvi-outside-uk\n",
      "40000\n",
      "/government/collections/dwp-detailed-benefit-guides\n",
      "/government/publications/hmcts-reform-programme-reform-update\n",
      "/government/collections/immigration-rules\n",
      "/government/statistics/announcements/total-factor-productivity-of-the-united-kingdom-food-chain-2017-provisional-release\n",
      "/government/statistics/announcements/statistics-on-nhs-stop-smoking-services-in-england-july-2018-to-september-2018\n",
      "/guidance/status-of-eu-nationals-in-the-uk-what-you-need-to-know.pl\n",
      "/guidance/status-of-eu-nationals-in-the-uk-what-you-need-to-know.it\n",
      "/transaction-finished\n",
      "/check-if-you-need-a-tax-return\n",
      "/guidance/open-document-format-odf-guidance-for-uk-government\n",
      "60000\n",
      "/guidance/status-of-eu-citizens-in-the-uk-what-you-need-to-know\n",
      "/government/statistics/announcements/local-alcohol-profiles-for-england-lape-february-2019-update\n",
      "/government/statistics/announcements/annual-bus-statistics-year-ending-march-2018\n",
      "/government/statistics/announcements/low-carbon-and-renewable-energy-survey-2017\n",
      "/government/statistics/announcements/winter-situation-report-week-ending-27-january-2019\n",
      "/government/statistics/announcements/uk-economic-statistics-sector-classification-update-january-2019\n",
      "/government/statistics/announcements/youth-justice-statistics-2017-to-2018\n",
      "/government/statistics/announcements/fostering-in-england-1-april-2017-to-31-march-2018\n",
      "/government/statistics/announcements/update-on-our-population-and-migration-statistics-transformation-journey-a-research-engagement-report\n",
      "/government/statistics/announcements/public-health-outcomes-framework-february-2019-data-update\n",
      "/government/publications/sfa-funding-rules\n",
      "/government/statistics/announcements/road-fuel-prices-28-january-2019\n",
      "/government/statistics/announcements/energy-trends-and-prices-november-2018\n",
      "/government/statistics/announcements/quarterly-stamp-duty-statistics--2\n",
      "/government/statistics/announcements/insolvency-statistics-october-to-december-2018\n",
      "80000\n",
      "/general-visit-visa\n",
      "/government/statistics/announcements/employment-vacancies-statistics-from-october-to-december-2018\n",
      "/government/statistics/announcements/deaths-registered-in-england-and-wales-provisional-week-ending-18-january-2019\n",
      "/government/statistics/announcements/concessionary-travel-statistics-year-ending-march-2018\n",
      "/government/statistics/announcements/suicide-prevention-profile-february-2019-update\n",
      "/government/publications/application-for-united-kingdom-passport-for-applicants-aged-16-or-over\n",
      "/guidance/civil-service-fast-stream-summer-diversity-internship-programme\n",
      "/government/statistics/announcements/safety-in-custody-quarterly-update-to-september-2018--2\n",
      "/find-your-local-council\n",
      "/government/statistics/announcements/travel-survey-for-northern-ireland-in-depth-report-2015-2017\n",
      "/government/collections/how-to-access-school-to-school-support\n",
      "100000\n",
      "/government/statistics/announcements/research-outputs-subnational-dwelling-stock-by-tenure-estimates-england-2012-to-2017\n",
      "/guidance/status-of-eu-nationals-in-the-uk-what-you-need-to-know.es\n",
      "/government/statistics/announcements/annual-population-survey-uk-armed-forces-veterans-residing-in-great-britain-2017\n",
      "/tree-felling-licence-england-scotland-wales\n",
      "/government/collections/tax-credits-entitlement-tables\n",
      "/government/statistics/announcements/tax-reliefs-in-force-estimates-of-cost-unavailable\n",
      "/government/statistics/announcements/road-conditions-in-england-2018\n",
      "/government/statistics/announcements/apprenticeship-and-levy-statistics-january-2019\n",
      "/government/publications/steiner-schools-amanda-spielman-writes-to-damien-hinds\n",
      "120000\n",
      "/government/publications/ai-in-healthcard-mission-to-taiwan\n",
      "/government/publications/urinary-tract-infection-uti-diagnosis\n",
      "/government/statistics/announcements/economic-well-being-uk-july-to-september-2018\n",
      "/government/statistics/announcements/deaths-registered-in-england-and-wales-provisional-week-ending-25-january-2019\n"
     ]
    }
   ],
   "source": [
    "content_ids = []\n",
    "for ind, i in enumerate(index):\n",
    "    url_i = id_node[i]\n",
    "    content_id = url_id[url_i]\n",
    "    if ind%20000==0:\n",
    "        print(ind)\n",
    "    if content_id is np.nan:\n",
    "        print(url_i)\n",
    "    else:\n",
    "        content_ids.append(content_id)"
   ]
  },
  {
   "cell_type": "code",
   "execution_count": 181,
   "metadata": {},
   "outputs": [
    {
     "data": {
      "text/plain": [
       "48594"
      ]
     },
     "execution_count": 181,
     "metadata": {},
     "output_type": "execute_result"
    }
   ],
   "source": [
    "unique_content_ids = set(content_ids)\n",
    "len(unique_content_ids)"
   ]
  },
  {
   "cell_type": "code",
   "execution_count": 199,
   "metadata": {},
   "outputs": [
    {
     "data": {
      "text/plain": [
       "False"
      ]
     },
     "execution_count": 199,
     "metadata": {},
     "output_type": "execute_result"
    }
   ],
   "source": [
    "np.nan in unique_content_ids"
   ]
  },
  {
   "cell_type": "code",
   "execution_count": 183,
   "metadata": {},
   "outputs": [],
   "source": [
    "with open(os.path.join(DATA_DIR,\"content_ids.csv\"),\"w\") as writer:\n",
    "    writer.write(\"content_id\\n\")\n",
    "    for cid in unique_content_ids:\n",
    "        writer.write(\"{}\\n\".format(cid))"
   ]
  },
  {
   "cell_type": "code",
   "execution_count": 198,
   "metadata": {},
   "outputs": [
    {
     "ename": "TypeError",
     "evalue": "object of type 'numpy.int64' has no len()",
     "output_type": "error",
     "traceback": [
      "\u001b[0;31m---------------------------------------------------------------------------\u001b[0m",
      "\u001b[0;31mTypeError\u001b[0m                                 Traceback (most recent call last)",
      "\u001b[0;32m<ipython-input-198-d56c0b3a489f>\u001b[0m in \u001b[0;36m<module>\u001b[0;34m\u001b[0m\n\u001b[1;32m      1\u001b[0m \u001b[0;32mfor\u001b[0m \u001b[0mitem\u001b[0m \u001b[0;32min\u001b[0m \u001b[0mtest_gen\u001b[0m\u001b[0;34m[\u001b[0m\u001b[0;36m0\u001b[0m\u001b[0;34m]\u001b[0m\u001b[0;34m[\u001b[0m\u001b[0;36m1\u001b[0m\u001b[0;34m]\u001b[0m\u001b[0;34m:\u001b[0m\u001b[0;34m\u001b[0m\u001b[0m\n\u001b[0;32m----> 2\u001b[0;31m     \u001b[0mprint\u001b[0m\u001b[0;34m(\u001b[0m\u001b[0mlen\u001b[0m\u001b[0;34m(\u001b[0m\u001b[0mitem\u001b[0m\u001b[0;34m)\u001b[0m\u001b[0;34m)\u001b[0m\u001b[0;34m\u001b[0m\u001b[0m\n\u001b[0m",
      "\u001b[0;31mTypeError\u001b[0m: object of type 'numpy.int64' has no len()"
     ]
    }
   ],
   "source": [
    "for item in test_gen[0][1]:\n",
    "    print(len(item))"
   ]
  },
  {
   "cell_type": "code",
   "execution_count": null,
   "metadata": {},
   "outputs": [],
   "source": []
  }
 ],
 "metadata": {
  "kernelspec": {
   "display_name": "Python 3",
   "language": "python",
   "name": "python3"
  },
  "language_info": {
   "codemirror_mode": {
    "name": "ipython",
    "version": 3
   },
   "file_extension": ".py",
   "mimetype": "text/x-python",
   "name": "python",
   "nbconvert_exporter": "python",
   "pygments_lexer": "ipython3",
   "version": "3.6.0"
  }
 },
 "nbformat": 4,
 "nbformat_minor": 2
}
