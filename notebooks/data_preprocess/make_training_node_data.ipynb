{
 "cells": [
  {
   "cell_type": "code",
   "execution_count": 1,
   "metadata": {},
   "outputs": [],
   "source": [
    "import os\n",
    "import pandas as pd"
   ]
  },
  {
   "cell_type": "code",
   "execution_count": 23,
   "metadata": {},
   "outputs": [],
   "source": [
    "DATA_DIR = os.getenv(\"DATA_DIR\")\n",
    "content_api = os.path.join(DATA_DIR, \"content_api\")\n",
    "processed_network = os.path.join(DATA_DIR, \"processed_network\")"
   ]
  },
  {
   "cell_type": "markdown",
   "metadata": {},
   "source": [
    "## Load up embeddings"
   ]
  },
  {
   "cell_type": "code",
   "execution_count": 10,
   "metadata": {},
   "outputs": [],
   "source": [
    "embeddings_filename = os.path.join(content_api, \"text_for_embedding_reviewed_cid_embeds_300.csv.gz\")"
   ]
  },
  {
   "cell_type": "code",
   "execution_count": 14,
   "metadata": {},
   "outputs": [],
   "source": [
    "embeddings = pd.read_csv(embeddings_filename, compression=\"gzip\")"
   ]
  },
  {
   "cell_type": "code",
   "execution_count": 17,
   "metadata": {},
   "outputs": [
    {
     "data": {
      "text/html": [
       "<div>\n",
       "<style scoped>\n",
       "    .dataframe tbody tr th:only-of-type {\n",
       "        vertical-align: middle;\n",
       "    }\n",
       "\n",
       "    .dataframe tbody tr th {\n",
       "        vertical-align: top;\n",
       "    }\n",
       "\n",
       "    .dataframe thead th {\n",
       "        text-align: right;\n",
       "    }\n",
       "</style>\n",
       "<table border=\"1\" class=\"dataframe\">\n",
       "  <thead>\n",
       "    <tr style=\"text-align: right;\">\n",
       "      <th></th>\n",
       "      <th>0</th>\n",
       "      <th>1</th>\n",
       "      <th>2</th>\n",
       "      <th>3</th>\n",
       "      <th>4</th>\n",
       "      <th>5</th>\n",
       "      <th>6</th>\n",
       "      <th>7</th>\n",
       "      <th>8</th>\n",
       "      <th>9</th>\n",
       "      <th>...</th>\n",
       "      <th>503</th>\n",
       "      <th>504</th>\n",
       "      <th>505</th>\n",
       "      <th>506</th>\n",
       "      <th>507</th>\n",
       "      <th>508</th>\n",
       "      <th>509</th>\n",
       "      <th>510</th>\n",
       "      <th>511</th>\n",
       "      <th>content_id</th>\n",
       "    </tr>\n",
       "  </thead>\n",
       "  <tbody>\n",
       "    <tr>\n",
       "      <th>0</th>\n",
       "      <td>-0.047676</td>\n",
       "      <td>-0.027639</td>\n",
       "      <td>0.056349</td>\n",
       "      <td>-0.009413</td>\n",
       "      <td>-0.020528</td>\n",
       "      <td>-0.045546</td>\n",
       "      <td>0.068116</td>\n",
       "      <td>0.018213</td>\n",
       "      <td>0.016371</td>\n",
       "      <td>0.047445</td>\n",
       "      <td>...</td>\n",
       "      <td>0.066869</td>\n",
       "      <td>0.036356</td>\n",
       "      <td>-0.010981</td>\n",
       "      <td>0.030189</td>\n",
       "      <td>-0.045008</td>\n",
       "      <td>0.007033</td>\n",
       "      <td>-0.047787</td>\n",
       "      <td>-0.001289</td>\n",
       "      <td>-0.063644</td>\n",
       "      <td>5ef7560d-7631-11e4-a3cb-005056011aef</td>\n",
       "    </tr>\n",
       "    <tr>\n",
       "      <th>1</th>\n",
       "      <td>-0.033119</td>\n",
       "      <td>0.049818</td>\n",
       "      <td>0.042104</td>\n",
       "      <td>-0.017883</td>\n",
       "      <td>-0.007372</td>\n",
       "      <td>-0.054978</td>\n",
       "      <td>0.064178</td>\n",
       "      <td>0.062335</td>\n",
       "      <td>0.011622</td>\n",
       "      <td>0.006318</td>\n",
       "      <td>...</td>\n",
       "      <td>0.064000</td>\n",
       "      <td>0.063919</td>\n",
       "      <td>-0.037945</td>\n",
       "      <td>0.054777</td>\n",
       "      <td>0.023922</td>\n",
       "      <td>0.002650</td>\n",
       "      <td>-0.063124</td>\n",
       "      <td>-0.019809</td>\n",
       "      <td>-0.057015</td>\n",
       "      <td>1e333395-5dd5-4452-96a3-fbe939928761</td>\n",
       "    </tr>\n",
       "  </tbody>\n",
       "</table>\n",
       "<p>2 rows × 513 columns</p>\n",
       "</div>"
      ],
      "text/plain": [
       "          0         1         2         3         4         5         6  \\\n",
       "0 -0.047676 -0.027639  0.056349 -0.009413 -0.020528 -0.045546  0.068116   \n",
       "1 -0.033119  0.049818  0.042104 -0.017883 -0.007372 -0.054978  0.064178   \n",
       "\n",
       "          7         8         9                  ...                   \\\n",
       "0  0.018213  0.016371  0.047445                  ...                    \n",
       "1  0.062335  0.011622  0.006318                  ...                    \n",
       "\n",
       "        503       504       505       506       507       508       509  \\\n",
       "0  0.066869  0.036356 -0.010981  0.030189 -0.045008  0.007033 -0.047787   \n",
       "1  0.064000  0.063919 -0.037945  0.054777  0.023922  0.002650 -0.063124   \n",
       "\n",
       "        510       511                            content_id  \n",
       "0 -0.001289 -0.063644  5ef7560d-7631-11e4-a3cb-005056011aef  \n",
       "1 -0.019809 -0.057015  1e333395-5dd5-4452-96a3-fbe939928761  \n",
       "\n",
       "[2 rows x 513 columns]"
      ]
     },
     "execution_count": 17,
     "metadata": {},
     "output_type": "execute_result"
    }
   ],
   "source": [
    "embeddings.head(2)"
   ]
  },
  {
   "cell_type": "code",
   "execution_count": 19,
   "metadata": {},
   "outputs": [
    {
     "data": {
      "text/plain": [
       "(31932, 513)"
      ]
     },
     "execution_count": 19,
     "metadata": {},
     "output_type": "execute_result"
    }
   ],
   "source": [
    "embeddings.shape"
   ]
  },
  {
   "cell_type": "code",
   "execution_count": 20,
   "metadata": {},
   "outputs": [
    {
     "data": {
      "text/plain": [
       "Index(['0', '1', '2', '3', '4', '5', '6', '7', '8', '9',\n",
       "       ...\n",
       "       '503', '504', '505', '506', '507', '508', '509', '510', '511',\n",
       "       'content_id'],\n",
       "      dtype='object', length=513)"
      ]
     },
     "execution_count": 20,
     "metadata": {},
     "output_type": "execute_result"
    }
   ],
   "source": [
    "embeddings.columns"
   ]
  },
  {
   "cell_type": "code",
   "execution_count": 21,
   "metadata": {},
   "outputs": [],
   "source": [
    "cid_emb = dict(zip(embeddings['content_id'], embeddings[embeddings.columns[0:-1]].values))"
   ]
  },
  {
   "cell_type": "markdown",
   "metadata": {},
   "source": [
    "## Load up edges file for `node_id` mapping to embeddings df"
   ]
  },
  {
   "cell_type": "code",
   "execution_count": 24,
   "metadata": {},
   "outputs": [],
   "source": [
    "edges_file_filtered = os.path.join(processed_network, \"edges_graphsagetest_feb_01_18_doo_min15weight_wtext.csv.gz\")\n",
    "edges = pd.read_csv(edges_file_filtered, compression=\"gzip\")"
   ]
  },
  {
   "cell_type": "markdown",
   "metadata": {},
   "source": [
    "### Set up `node_id` to `content_id` dictionary"
   ]
  },
  {
   "cell_type": "code",
   "execution_count": 25,
   "metadata": {},
   "outputs": [],
   "source": [
    "nid_cid = dict(zip(edges['source'], edges['src_cid']))\n",
    "for nid, cid in zip(edges['target'], edges['dest_cid']):\n",
    "    if nid not in nid_cid.keys():\n",
    "        nid_cid[nid] = cid\n",
    "len(nid_cid)"
   ]
  },
  {
   "cell_type": "code",
   "execution_count": 35,
   "metadata": {},
   "outputs": [
    {
     "data": {
      "text/html": [
       "<div>\n",
       "<style scoped>\n",
       "    .dataframe tbody tr th:only-of-type {\n",
       "        vertical-align: middle;\n",
       "    }\n",
       "\n",
       "    .dataframe tbody tr th {\n",
       "        vertical-align: top;\n",
       "    }\n",
       "\n",
       "    .dataframe thead th {\n",
       "        text-align: right;\n",
       "    }\n",
       "</style>\n",
       "<table border=\"1\" class=\"dataframe\">\n",
       "  <thead>\n",
       "    <tr style=\"text-align: right;\">\n",
       "      <th></th>\n",
       "      <th>src_node</th>\n",
       "      <th>dest_node</th>\n",
       "      <th>weight</th>\n",
       "      <th>src_cid</th>\n",
       "      <th>dest_cid</th>\n",
       "      <th>source</th>\n",
       "      <th>target</th>\n",
       "    </tr>\n",
       "  </thead>\n",
       "  <tbody>\n",
       "    <tr>\n",
       "      <th>177</th>\n",
       "      <td>/sign-in-universal-credit</td>\n",
       "      <td>/</td>\n",
       "      <td>46821</td>\n",
       "      <td>b220a437-0d51-4390-9993-63345d0c83ad</td>\n",
       "      <td>f3bbdec2-0e62-4520-a7fd-6ffd5d36e03a</td>\n",
       "      <td>5947</td>\n",
       "      <td>4412</td>\n",
       "    </tr>\n",
       "    <tr>\n",
       "      <th>1694</th>\n",
       "      <td>/sign-in-universal-credit</td>\n",
       "      <td>/jobsearch</td>\n",
       "      <td>29431</td>\n",
       "      <td>b220a437-0d51-4390-9993-63345d0c83ad</td>\n",
       "      <td>a01fcb59-5dc8-4bf5-b06d-dd567a6d2f5f</td>\n",
       "      <td>5947</td>\n",
       "      <td>42642</td>\n",
       "    </tr>\n",
       "  </tbody>\n",
       "</table>\n",
       "</div>"
      ],
      "text/plain": [
       "                       src_node   dest_node  weight  \\\n",
       "177   /sign-in-universal-credit           /   46821   \n",
       "1694  /sign-in-universal-credit  /jobsearch   29431   \n",
       "\n",
       "                                   src_cid  \\\n",
       "177   b220a437-0d51-4390-9993-63345d0c83ad   \n",
       "1694  b220a437-0d51-4390-9993-63345d0c83ad   \n",
       "\n",
       "                                  dest_cid  source  target  \n",
       "177   f3bbdec2-0e62-4520-a7fd-6ffd5d36e03a    5947    4412  \n",
       "1694  a01fcb59-5dc8-4bf5-b06d-dd567a6d2f5f    5947   42642  "
      ]
     },
     "execution_count": 35,
     "metadata": {},
     "output_type": "execute_result"
    }
   ],
   "source": [
    "edges[edges.src_node==\"/sign-in-universal-credit\"][0:2]"
   ]
  },
  {
   "cell_type": "code",
   "execution_count": 31,
   "metadata": {},
   "outputs": [
    {
     "data": {
      "text/plain": [
       "('b220a437-0d51-4390-9993-63345d0c83ad',\n",
       " b220a437-0d51-4390-9993-63345d0c83ad    388\n",
       " Name: src_cid, dtype: int64,\n",
       " b220a437-0d51-4390-9993-63345d0c83ad    388\n",
       " Name: src_cid, dtype: int64)"
      ]
     },
     "execution_count": 31,
     "metadata": {},
     "output_type": "execute_result"
    }
   ],
   "source": [
    "target_id = 5947\n",
    "target_node = \"/sign-in-universal-credit\"\n",
    "nid_cid[target_id], edges[edges.src_node==target_node].src_cid.value_counts(),\\\n",
    "                        edges[edges.src_node==target_node].src_cid.value_counts()"
   ]
  },
  {
   "cell_type": "markdown",
   "metadata": {},
   "source": [
    "'b220a437-0d51-4390-9993-63345d0c83ad' /sign-in-universal-credit 5947"
   ]
  },
  {
   "cell_type": "markdown",
   "metadata": {},
   "source": [
    "### Map embeddings to `node_id`"
   ]
  },
  {
   "cell_type": "code",
   "execution_count": 37,
   "metadata": {},
   "outputs": [],
   "source": [
    "rowlist = []\n",
    "index = []\n",
    "for nid in set(list(edges['source']) + list(edges['target'])):\n",
    "    row_dict = {}\n",
    "    for i,emb in enumerate(cid_emb[nid_cid[nid]]):\n",
    "        row_dict[i] = emb\n",
    "    row_dict[\"content_id\"] = nid_cid[nid]\n",
    "    rowlist.append(row_dict)  \n",
    "    index.append(nid)"
   ]
  },
  {
   "cell_type": "code",
   "execution_count": 38,
   "metadata": {},
   "outputs": [],
   "source": [
    "df_embs = pd.DataFrame(rowlist, index=index)"
   ]
  },
  {
   "cell_type": "code",
   "execution_count": 44,
   "metadata": {},
   "outputs": [
    {
     "data": {
      "text/html": [
       "<div>\n",
       "<style scoped>\n",
       "    .dataframe tbody tr th:only-of-type {\n",
       "        vertical-align: middle;\n",
       "    }\n",
       "\n",
       "    .dataframe tbody tr th {\n",
       "        vertical-align: top;\n",
       "    }\n",
       "\n",
       "    .dataframe thead th {\n",
       "        text-align: right;\n",
       "    }\n",
       "</style>\n",
       "<table border=\"1\" class=\"dataframe\">\n",
       "  <thead>\n",
       "    <tr style=\"text-align: right;\">\n",
       "      <th></th>\n",
       "      <th>0</th>\n",
       "      <th>1</th>\n",
       "      <th>2</th>\n",
       "      <th>3</th>\n",
       "      <th>4</th>\n",
       "      <th>5</th>\n",
       "      <th>6</th>\n",
       "      <th>7</th>\n",
       "      <th>8</th>\n",
       "      <th>9</th>\n",
       "      <th>...</th>\n",
       "      <th>503</th>\n",
       "      <th>504</th>\n",
       "      <th>505</th>\n",
       "      <th>506</th>\n",
       "      <th>507</th>\n",
       "      <th>508</th>\n",
       "      <th>509</th>\n",
       "      <th>510</th>\n",
       "      <th>511</th>\n",
       "      <th>content_id</th>\n",
       "    </tr>\n",
       "  </thead>\n",
       "  <tbody>\n",
       "    <tr>\n",
       "      <th>0</th>\n",
       "      <td>0.014993</td>\n",
       "      <td>0.024639</td>\n",
       "      <td>0.058578</td>\n",
       "      <td>0.008009</td>\n",
       "      <td>0.008096</td>\n",
       "      <td>-0.062776</td>\n",
       "      <td>0.059777</td>\n",
       "      <td>0.005778</td>\n",
       "      <td>-0.008614</td>\n",
       "      <td>0.059473</td>\n",
       "      <td>...</td>\n",
       "      <td>0.065568</td>\n",
       "      <td>0.044270</td>\n",
       "      <td>-0.046852</td>\n",
       "      <td>0.035862</td>\n",
       "      <td>-0.043941</td>\n",
       "      <td>0.009524</td>\n",
       "      <td>-0.037714</td>\n",
       "      <td>-0.001525</td>\n",
       "      <td>-0.063660</td>\n",
       "      <td>80f7a69c-5cdc-4bd5-a16c-15d669ba2cc5</td>\n",
       "    </tr>\n",
       "    <tr>\n",
       "      <th>1</th>\n",
       "      <td>-0.057149</td>\n",
       "      <td>0.025875</td>\n",
       "      <td>0.049524</td>\n",
       "      <td>0.024483</td>\n",
       "      <td>-0.007833</td>\n",
       "      <td>-0.035528</td>\n",
       "      <td>0.056479</td>\n",
       "      <td>0.009408</td>\n",
       "      <td>-0.044370</td>\n",
       "      <td>-0.040844</td>\n",
       "      <td>...</td>\n",
       "      <td>0.056229</td>\n",
       "      <td>0.056662</td>\n",
       "      <td>-0.038329</td>\n",
       "      <td>0.056141</td>\n",
       "      <td>-0.052406</td>\n",
       "      <td>-0.038637</td>\n",
       "      <td>-0.047737</td>\n",
       "      <td>0.046157</td>\n",
       "      <td>-0.054258</td>\n",
       "      <td>81fb4151-bc2b-49b1-b86e-22f2a1d14208</td>\n",
       "    </tr>\n",
       "    <tr>\n",
       "      <th>2</th>\n",
       "      <td>-0.002469</td>\n",
       "      <td>-0.009080</td>\n",
       "      <td>0.014424</td>\n",
       "      <td>-0.018611</td>\n",
       "      <td>0.004600</td>\n",
       "      <td>-0.048021</td>\n",
       "      <td>0.067327</td>\n",
       "      <td>0.030089</td>\n",
       "      <td>-0.014283</td>\n",
       "      <td>0.058513</td>\n",
       "      <td>...</td>\n",
       "      <td>0.057214</td>\n",
       "      <td>0.015740</td>\n",
       "      <td>-0.032861</td>\n",
       "      <td>0.047954</td>\n",
       "      <td>-0.016275</td>\n",
       "      <td>0.011618</td>\n",
       "      <td>-0.041357</td>\n",
       "      <td>0.011032</td>\n",
       "      <td>-0.018847</td>\n",
       "      <td>5ef9b7da-7631-11e4-a3cb-005056011aef</td>\n",
       "    </tr>\n",
       "  </tbody>\n",
       "</table>\n",
       "<p>3 rows × 513 columns</p>\n",
       "</div>"
      ],
      "text/plain": [
       "          0         1         2         3         4         5         6  \\\n",
       "0  0.014993  0.024639  0.058578  0.008009  0.008096 -0.062776  0.059777   \n",
       "1 -0.057149  0.025875  0.049524  0.024483 -0.007833 -0.035528  0.056479   \n",
       "2 -0.002469 -0.009080  0.014424 -0.018611  0.004600 -0.048021  0.067327   \n",
       "\n",
       "          7         8         9                  ...                   \\\n",
       "0  0.005778 -0.008614  0.059473                  ...                    \n",
       "1  0.009408 -0.044370 -0.040844                  ...                    \n",
       "2  0.030089 -0.014283  0.058513                  ...                    \n",
       "\n",
       "        503       504       505       506       507       508       509  \\\n",
       "0  0.065568  0.044270 -0.046852  0.035862 -0.043941  0.009524 -0.037714   \n",
       "1  0.056229  0.056662 -0.038329  0.056141 -0.052406 -0.038637 -0.047737   \n",
       "2  0.057214  0.015740 -0.032861  0.047954 -0.016275  0.011618 -0.041357   \n",
       "\n",
       "        510       511                            content_id  \n",
       "0 -0.001525 -0.063660  80f7a69c-5cdc-4bd5-a16c-15d669ba2cc5  \n",
       "1  0.046157 -0.054258  81fb4151-bc2b-49b1-b86e-22f2a1d14208  \n",
       "2  0.011032 -0.018847  5ef9b7da-7631-11e4-a3cb-005056011aef  \n",
       "\n",
       "[3 rows x 513 columns]"
      ]
     },
     "execution_count": 44,
     "metadata": {},
     "output_type": "execute_result"
    }
   ],
   "source": [
    "df_embs.head(3)"
   ]
  },
  {
   "cell_type": "markdown",
   "metadata": {},
   "source": [
    "#### Verified results, match across training and predict data embeddings..."
   ]
  },
  {
   "cell_type": "code",
   "execution_count": 45,
   "metadata": {},
   "outputs": [],
   "source": [
    "embeddings_file = os.path.join(content_api, \"training_node_data_fixd.csv.gz\")\n",
    "df_embs.to_csv(embeddings_file, compression=\"gzip\")"
   ]
  },
  {
   "cell_type": "code",
   "execution_count": null,
   "metadata": {},
   "outputs": [],
   "source": []
  }
 ],
 "metadata": {
  "kernelspec": {
   "display_name": "Python 3",
   "language": "python",
   "name": "python3"
  },
  "language_info": {
   "codemirror_mode": {
    "name": "ipython",
    "version": 3
   },
   "file_extension": ".py",
   "mimetype": "text/x-python",
   "name": "python",
   "nbconvert_exporter": "python",
   "pygments_lexer": "ipython3",
   "version": "3.6.0"
  }
 },
 "nbformat": 4,
 "nbformat_minor": 2
}
