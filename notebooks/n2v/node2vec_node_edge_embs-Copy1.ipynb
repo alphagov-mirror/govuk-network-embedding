{
 "cells": [
  {
   "cell_type": "markdown",
   "metadata": {},
   "source": [
    "### **TODO** required graphSAGE inputs"
   ]
  },
  {
   "cell_type": "markdown",
   "metadata": {},
   "source": [
    "    <train_prefix>-G.json -- A networkx-specified json file describing the input graph. Nodes have 'val' and 'test' attributes specifying if they are a part of the validation and test sets, respectively.\n",
    "    <train_prefix>-id_map.json -- A json-stored dictionary mapping the graph node ids to consecutive integers.\n",
    "    <train_prefix>-class_map.json -- A json-stored dictionary mapping the graph node ids to classes.\n",
    "    <train_prefix>-feats.npy [optional] --- A numpy-stored array of node features; ordering given by id_map.json. Can be omitted and only identity features will be used.\n",
    "    <train_prefix>-walks.txt [optional] --- A text file specifying random walk co-occurrences (one pair per line) (*only for unsupervised version of graphsage)"
   ]
  },
  {
   "cell_type": "code",
   "execution_count": 66,
   "metadata": {},
   "outputs": [],
   "source": [
    "import networkx as nx\n",
    "import pandas as pd\n",
    "import json\n",
    "import os\n",
    "from networkx.readwrite import json_graph\n",
    "import numpy as np\n",
    "from datetime import datetime\n",
    "from node2vec import Node2Vec\n",
    "from node2vec.edges import HadamardEmbedder\n",
    "from ast import literal_eval\n",
    "from gensim.models import Word2Vec"
   ]
  },
  {
   "cell_type": "markdown",
   "metadata": {},
   "source": [
    "### Directories"
   ]
  },
  {
   "cell_type": "code",
   "execution_count": 2,
   "metadata": {},
   "outputs": [
    {
     "data": {
      "text/plain": [
       "['merged_edges_struct_funct.csv.gz', 'merged_embs_struct_funct.csv.gz']"
      ]
     },
     "execution_count": 2,
     "metadata": {},
     "output_type": "execute_result"
    }
   ],
   "source": [
    "DATA_DIR = os.getenv(\"DATA_DIR\")\n",
    "train_network = os.path.join(DATA_DIR, \"train_network\")\n",
    "models = os.path.join(os.path.dirname(DATA_DIR), \"models\")\n",
    "content_api = os.path.join(DATA_DIR, \"content_api\")\n",
    "os.listdir(train_network)"
   ]
  },
  {
   "cell_type": "code",
   "execution_count": 3,
   "metadata": {},
   "outputs": [],
   "source": [
    "edgefile = os.path.join(train_network, \"merged_edges_struct_funct.csv.gz\")\n",
    "edges = pd.read_csv(edgefile, compression=\"gzip\")"
   ]
  },
  {
   "cell_type": "code",
   "execution_count": 4,
   "metadata": {},
   "outputs": [],
   "source": [
    "emb_file = os.path.join(train_network, 'merged_embs_struct_funct.csv.gz')\n",
    "# embeddings = pd.read_csv(emb_file, compression=\"gzip\", index_col=0)"
   ]
  },
  {
   "cell_type": "code",
   "execution_count": 5,
   "metadata": {},
   "outputs": [
    {
     "data": {
      "text/html": [
       "<div>\n",
       "<style scoped>\n",
       "    .dataframe tbody tr th:only-of-type {\n",
       "        vertical-align: middle;\n",
       "    }\n",
       "\n",
       "    .dataframe tbody tr th {\n",
       "        vertical-align: top;\n",
       "    }\n",
       "\n",
       "    .dataframe thead th {\n",
       "        text-align: right;\n",
       "    }\n",
       "</style>\n",
       "<table border=\"1\" class=\"dataframe\">\n",
       "  <thead>\n",
       "    <tr style=\"text-align: right;\">\n",
       "      <th></th>\n",
       "      <th>dest_cid</th>\n",
       "      <th>dest_node</th>\n",
       "      <th>source</th>\n",
       "      <th>src_cid</th>\n",
       "      <th>src_node</th>\n",
       "      <th>target</th>\n",
       "      <th>weight</th>\n",
       "      <th>edge-id</th>\n",
       "    </tr>\n",
       "  </thead>\n",
       "  <tbody>\n",
       "    <tr>\n",
       "      <th>0</th>\n",
       "      <td>1e333395-5dd5-4452-96a3-fbe939928761</td>\n",
       "      <td>/visa-fees</td>\n",
       "      <td>33265</td>\n",
       "      <td>5ef7560d-7631-11e4-a3cb-005056011aef</td>\n",
       "      <td>/government/publications/guidance-for-dependan...</td>\n",
       "      <td>58314</td>\n",
       "      <td>66.0</td>\n",
       "      <td>33265-58314</td>\n",
       "    </tr>\n",
       "    <tr>\n",
       "      <th>1</th>\n",
       "      <td>aa055bd6-fde1-4471-8ac2-ac86241b4898</td>\n",
       "      <td>/find-a-visa-application-centre</td>\n",
       "      <td>58314</td>\n",
       "      <td>1e333395-5dd5-4452-96a3-fbe939928761</td>\n",
       "      <td>/visa-fees</td>\n",
       "      <td>12343</td>\n",
       "      <td>1164.0</td>\n",
       "      <td>58314-12343</td>\n",
       "    </tr>\n",
       "    <tr>\n",
       "      <th>2</th>\n",
       "      <td>305acc88-488e-44ec-8e5a-1a5de7819ba9</td>\n",
       "      <td>/uk-family-visa</td>\n",
       "      <td>23720</td>\n",
       "      <td>d612c61e-22f4-4922-8bb2-b04b9202126e</td>\n",
       "      <td>/entering-staying-uk/family-visas</td>\n",
       "      <td>25053</td>\n",
       "      <td>377.0</td>\n",
       "      <td>23720-25053</td>\n",
       "    </tr>\n",
       "    <tr>\n",
       "      <th>3</th>\n",
       "      <td>305acc88-488e-44ec-8e5a-1a5de7819ba9</td>\n",
       "      <td>/uk-family-visa/partner-spouse</td>\n",
       "      <td>25053</td>\n",
       "      <td>305acc88-488e-44ec-8e5a-1a5de7819ba9</td>\n",
       "      <td>/uk-family-visa</td>\n",
       "      <td>14044</td>\n",
       "      <td>26227.0</td>\n",
       "      <td>25053-14044</td>\n",
       "    </tr>\n",
       "    <tr>\n",
       "      <th>4</th>\n",
       "      <td>5ef421be-7631-11e4-a3cb-005056011aef</td>\n",
       "      <td>/government/publications/application-for-uk-vi...</td>\n",
       "      <td>14044</td>\n",
       "      <td>305acc88-488e-44ec-8e5a-1a5de7819ba9</td>\n",
       "      <td>/uk-family-visa/partner-spouse</td>\n",
       "      <td>33797</td>\n",
       "      <td>2733.0</td>\n",
       "      <td>14044-33797</td>\n",
       "    </tr>\n",
       "  </tbody>\n",
       "</table>\n",
       "</div>"
      ],
      "text/plain": [
       "                               dest_cid  \\\n",
       "0  1e333395-5dd5-4452-96a3-fbe939928761   \n",
       "1  aa055bd6-fde1-4471-8ac2-ac86241b4898   \n",
       "2  305acc88-488e-44ec-8e5a-1a5de7819ba9   \n",
       "3  305acc88-488e-44ec-8e5a-1a5de7819ba9   \n",
       "4  5ef421be-7631-11e4-a3cb-005056011aef   \n",
       "\n",
       "                                           dest_node  source  \\\n",
       "0                                         /visa-fees   33265   \n",
       "1                    /find-a-visa-application-centre   58314   \n",
       "2                                    /uk-family-visa   23720   \n",
       "3                     /uk-family-visa/partner-spouse   25053   \n",
       "4  /government/publications/application-for-uk-vi...   14044   \n",
       "\n",
       "                                src_cid  \\\n",
       "0  5ef7560d-7631-11e4-a3cb-005056011aef   \n",
       "1  1e333395-5dd5-4452-96a3-fbe939928761   \n",
       "2  d612c61e-22f4-4922-8bb2-b04b9202126e   \n",
       "3  305acc88-488e-44ec-8e5a-1a5de7819ba9   \n",
       "4  305acc88-488e-44ec-8e5a-1a5de7819ba9   \n",
       "\n",
       "                                            src_node  target   weight  \\\n",
       "0  /government/publications/guidance-for-dependan...   58314     66.0   \n",
       "1                                         /visa-fees   12343   1164.0   \n",
       "2                  /entering-staying-uk/family-visas   25053    377.0   \n",
       "3                                    /uk-family-visa   14044  26227.0   \n",
       "4                     /uk-family-visa/partner-spouse   33797   2733.0   \n",
       "\n",
       "       edge-id  \n",
       "0  33265-58314  \n",
       "1  58314-12343  \n",
       "2  23720-25053  \n",
       "3  25053-14044  \n",
       "4  14044-33797  "
      ]
     },
     "execution_count": 5,
     "metadata": {},
     "output_type": "execute_result"
    }
   ],
   "source": [
    "edges.head()"
   ]
  },
  {
   "cell_type": "markdown",
   "metadata": {},
   "source": [
    "## Set up content.json extract for related links prediction filtering \n",
    "ie to excude embedded links"
   ]
  },
  {
   "cell_type": "code",
   "execution_count": 6,
   "metadata": {},
   "outputs": [],
   "source": [
    "content_json_file = os.path.join(content_api, \"11-02-19\", \"content_json_extended.csv.gz\")\n",
    "content = pd.read_csv(content_json_file, compression=\"gzip\")"
   ]
  },
  {
   "cell_type": "code",
   "execution_count": 7,
   "metadata": {},
   "outputs": [
    {
     "data": {
      "text/plain": [
       "Index(['base_path', 'body', 'children', 'collection_links', 'content_id',\n",
       "       'description', 'document_collections', 'document_type',\n",
       "       'embedded_links', 'field_of_operation', 'finder', 'first_published_at',\n",
       "       'lead_organisations', 'locale', 'mainstream_browse_pages', 'ministers',\n",
       "       'ordered_related_items_overrides', 'organisations',\n",
       "       'pages_part_of_step_nav', 'pages_related_to_step_nav', 'parent',\n",
       "       'part_of_step_navs', 'people', 'policy_areas',\n",
       "       'primary_publishing_organisation', 'publishing_app', 'related_guides',\n",
       "       'related_links', 'related_mainstream', 'related_mainstream_content',\n",
       "       'related_policies', 'related_statistical_data_sets',\n",
       "       'related_to_step_navs', 'roles', 'sections', 'speaker', 'title',\n",
       "       'topical_events', 'topics'],\n",
       "      dtype='object')"
      ]
     },
     "execution_count": 7,
     "metadata": {},
     "output_type": "execute_result"
    }
   ],
   "source": [
    "content.columns"
   ]
  },
  {
   "cell_type": "code",
   "execution_count": 8,
   "metadata": {},
   "outputs": [],
   "source": [
    "content_base_cid = dict(zip(content.base_path, content.content_id))"
   ]
  },
  {
   "cell_type": "code",
   "execution_count": 9,
   "metadata": {},
   "outputs": [
    {
     "data": {
      "text/plain": [
       "\"['/government/uploads/system/uploads/attachment_data/file/631646/List_of_Psychologists_and_Psychiatrists_2017.pdf']\""
      ]
     },
     "execution_count": 9,
     "metadata": {},
     "output_type": "execute_result"
    }
   ],
   "source": [
    "content.embedded_links.iloc[0]"
   ]
  },
  {
   "cell_type": "code",
   "execution_count": 13,
   "metadata": {},
   "outputs": [],
   "source": [
    "content['embedded_links'] = content['embedded_links'].map(literal_eval)"
   ]
  },
  {
   "cell_type": "code",
   "execution_count": 14,
   "metadata": {},
   "outputs": [],
   "source": [
    "content['related_links'] = content['related_links'].map(literal_eval)"
   ]
  },
  {
   "cell_type": "code",
   "execution_count": 15,
   "metadata": {},
   "outputs": [],
   "source": [
    "content['embedded_cids'] = content['embedded_links'].map(lambda x: [content_base_cid[l] for l in x \n",
    "                                                                    if l in content_base_cid.keys()])\n",
    "content['related_cids'] = content['related_links'].map(lambda x: [content_base_cid[l] for l in x \n",
    "                                                                    if l in content_base_cid.keys()])"
   ]
  },
  {
   "cell_type": "code",
   "execution_count": 16,
   "metadata": {},
   "outputs": [],
   "source": [
    "cid_link_cids = dict(zip(content.content_id, content.embedded_cids))"
   ]
  },
  {
   "cell_type": "markdown",
   "metadata": {},
   "source": [
    "### Initialize `base_path`,  `content_id` and `feature` dictionaries"
   ]
  },
  {
   "cell_type": "code",
   "execution_count": 17,
   "metadata": {},
   "outputs": [],
   "source": [
    "def build_dict(k1,v1,k2,v2):\n",
    "    agg_dict = dict(zip(k1,v1))\n",
    "    for key,value in zip(k2,v2):\n",
    "        if key not in agg_dict.keys():\n",
    "            agg_dict[key] = value\n",
    "    return agg_dict   "
   ]
  },
  {
   "cell_type": "code",
   "execution_count": 18,
   "metadata": {},
   "outputs": [],
   "source": [
    "nid_cid = build_dict(edges.source, edges.src_cid, edges.target, edges.dest_cid)\n",
    "nid_url = build_dict(edges.source, edges.src_node, edges.target, edges.dest_node)\n",
    "url_nid = build_dict(edges.src_node, edges.source, edges.dest_node, edges.target)"
   ]
  },
  {
   "cell_type": "code",
   "execution_count": 20,
   "metadata": {},
   "outputs": [],
   "source": [
    "# cols = list(embeddings.columns[1:].values)\n",
    "# nid_emb = dict(zip(embeddings.index, embeddings[cols].values))\n",
    "# nid_emb[33265][0:2]"
   ]
  },
  {
   "cell_type": "markdown",
   "metadata": {},
   "source": [
    "## Add nodes from `content.json` to edgelist"
   ]
  },
  {
   "cell_type": "code",
   "execution_count": 21,
   "metadata": {},
   "outputs": [
    {
     "data": {
      "text/plain": [
       "Index(['dest_cid', 'dest_node', 'source', 'src_cid', 'src_node', 'target',\n",
       "       'weight', 'edge-id'],\n",
       "      dtype='object')"
      ]
     },
     "execution_count": 21,
     "metadata": {},
     "output_type": "execute_result"
    }
   ],
   "source": [
    "edges.columns"
   ]
  },
  {
   "cell_type": "code",
   "execution_count": 22,
   "metadata": {},
   "outputs": [
    {
     "data": {
      "text/plain": [
       "Index(['base_path', 'body', 'children', 'collection_links', 'content_id',\n",
       "       'description', 'document_collections', 'document_type',\n",
       "       'embedded_links', 'field_of_operation', 'finder', 'first_published_at',\n",
       "       'lead_organisations', 'locale', 'mainstream_browse_pages', 'ministers',\n",
       "       'ordered_related_items_overrides', 'organisations',\n",
       "       'pages_part_of_step_nav', 'pages_related_to_step_nav', 'parent',\n",
       "       'part_of_step_navs', 'people', 'policy_areas',\n",
       "       'primary_publishing_organisation', 'publishing_app', 'related_guides',\n",
       "       'related_links', 'related_mainstream', 'related_mainstream_content',\n",
       "       'related_policies', 'related_statistical_data_sets',\n",
       "       'related_to_step_navs', 'roles', 'sections', 'speaker', 'title',\n",
       "       'topical_events', 'topics', 'embedded_cids', 'related_cids'],\n",
       "      dtype='object')"
      ]
     },
     "execution_count": 22,
     "metadata": {},
     "output_type": "execute_result"
    }
   ],
   "source": [
    "content.columns"
   ]
  },
  {
   "cell_type": "code",
   "execution_count": 23,
   "metadata": {},
   "outputs": [
    {
     "data": {
      "text/plain": [
       "107864"
      ]
     },
     "execution_count": 23,
     "metadata": {},
     "output_type": "execute_result"
    }
   ],
   "source": [
    "max_node = max(nid_cid.keys())+1\n",
    "max_node"
   ]
  },
  {
   "cell_type": "code",
   "execution_count": 24,
   "metadata": {},
   "outputs": [],
   "source": [
    "def get_nid(base_path):\n",
    "    if base_path in url_nid.keys():\n",
    "        return url_nid[base_path]\n",
    "    else:\n",
    "        max_node = max(nid_url.keys())+1\n",
    "        url_nid[base_path] = max_node\n",
    "        nid_url[max_node] = base_path\n",
    "        return url_nid[base_path]"
   ]
  },
  {
   "cell_type": "code",
   "execution_count": 25,
   "metadata": {},
   "outputs": [],
   "source": [
    "link_list = ['related_links', 'embedded_links', 'collection_links',\\\n",
    "             'pages_part_of_step_nav', 'pages_related_to_step_nav', 'related_guides', 'related_mainstream']"
   ]
  },
  {
   "cell_type": "code",
   "execution_count": 26,
   "metadata": {},
   "outputs": [
    {
     "name": "stdout",
     "output_type": "stream",
     "text": [
      "collection_links\n",
      "pages_part_of_step_nav\n",
      "pages_related_to_step_nav\n",
      "related_guides\n",
      "related_mainstream\n"
     ]
    }
   ],
   "source": [
    "for item in link_list[2:]:\n",
    "    print(item)\n",
    "    content[item] = content[item].map(literal_eval)"
   ]
  },
  {
   "cell_type": "code",
   "execution_count": 27,
   "metadata": {},
   "outputs": [
    {
     "data": {
      "text/plain": [
       "(0, 41)"
      ]
     },
     "execution_count": 27,
     "metadata": {},
     "output_type": "execute_result"
    }
   ],
   "source": [
    "content[content.content_id.isna()].shape"
   ]
  },
  {
   "cell_type": "code",
   "execution_count": 28,
   "metadata": {},
   "outputs": [],
   "source": [
    "rowlist = []\n",
    "for tup in content.itertuples(index=False):\n",
    "    for l in link_list:\n",
    "        tup_ind = content.columns.get_loc(l)\n",
    "        for link in tup[tup_ind]:\n",
    "            if link in content_base_cid.keys():\n",
    "                row = {}\n",
    "                row['src_cid'] = tup.content_id\n",
    "                row['dest_cid'] = content_base_cid[link]\n",
    "                row['dest_node'] = link\n",
    "                row['src_node'] = tup.base_path\n",
    "                row['source'] = get_nid(tup.base_path)\n",
    "                row['target'] = get_nid(link)\n",
    "                row['weight'] = 0\n",
    "                row['edge-id'] = \"\"\n",
    "                rowlist.append(row)"
   ]
  },
  {
   "cell_type": "code",
   "execution_count": 29,
   "metadata": {},
   "outputs": [],
   "source": [
    "content_edges = pd.DataFrame(rowlist)"
   ]
  },
  {
   "cell_type": "code",
   "execution_count": 30,
   "metadata": {},
   "outputs": [
    {
     "data": {
      "text/plain": [
       "'/company-voluntary-arrangements'"
      ]
     },
     "execution_count": 30,
     "metadata": {},
     "output_type": "execute_result"
    }
   ],
   "source": [
    "edges[edges.source==30443].src_node.iloc[0]"
   ]
  },
  {
   "cell_type": "code",
   "execution_count": 31,
   "metadata": {},
   "outputs": [
    {
     "data": {
      "text/plain": [
       "118158"
      ]
     },
     "execution_count": 31,
     "metadata": {},
     "output_type": "execute_result"
    }
   ],
   "source": [
    "max(url_nid.values())"
   ]
  },
  {
   "cell_type": "code",
   "execution_count": 32,
   "metadata": {},
   "outputs": [],
   "source": [
    "merged_edges = pd.concat([edges,content_edges],sort=True)"
   ]
  },
  {
   "cell_type": "code",
   "execution_count": 33,
   "metadata": {},
   "outputs": [
    {
     "data": {
      "text/html": [
       "<div>\n",
       "<style scoped>\n",
       "    .dataframe tbody tr th:only-of-type {\n",
       "        vertical-align: middle;\n",
       "    }\n",
       "\n",
       "    .dataframe tbody tr th {\n",
       "        vertical-align: top;\n",
       "    }\n",
       "\n",
       "    .dataframe thead th {\n",
       "        text-align: right;\n",
       "    }\n",
       "</style>\n",
       "<table border=\"1\" class=\"dataframe\">\n",
       "  <thead>\n",
       "    <tr style=\"text-align: right;\">\n",
       "      <th></th>\n",
       "      <th>dest_cid</th>\n",
       "      <th>dest_node</th>\n",
       "      <th>edge-id</th>\n",
       "      <th>source</th>\n",
       "      <th>src_cid</th>\n",
       "      <th>src_node</th>\n",
       "      <th>target</th>\n",
       "      <th>weight</th>\n",
       "    </tr>\n",
       "  </thead>\n",
       "  <tbody>\n",
       "    <tr>\n",
       "      <th>0</th>\n",
       "      <td>1e333395-5dd5-4452-96a3-fbe939928761</td>\n",
       "      <td>/visa-fees</td>\n",
       "      <td>33265-58314</td>\n",
       "      <td>33265</td>\n",
       "      <td>5ef7560d-7631-11e4-a3cb-005056011aef</td>\n",
       "      <td>/government/publications/guidance-for-dependan...</td>\n",
       "      <td>58314</td>\n",
       "      <td>66.0</td>\n",
       "    </tr>\n",
       "    <tr>\n",
       "      <th>1</th>\n",
       "      <td>aa055bd6-fde1-4471-8ac2-ac86241b4898</td>\n",
       "      <td>/find-a-visa-application-centre</td>\n",
       "      <td>58314-12343</td>\n",
       "      <td>58314</td>\n",
       "      <td>1e333395-5dd5-4452-96a3-fbe939928761</td>\n",
       "      <td>/visa-fees</td>\n",
       "      <td>12343</td>\n",
       "      <td>1164.0</td>\n",
       "    </tr>\n",
       "  </tbody>\n",
       "</table>\n",
       "</div>"
      ],
      "text/plain": [
       "                               dest_cid                        dest_node  \\\n",
       "0  1e333395-5dd5-4452-96a3-fbe939928761                       /visa-fees   \n",
       "1  aa055bd6-fde1-4471-8ac2-ac86241b4898  /find-a-visa-application-centre   \n",
       "\n",
       "       edge-id  source                               src_cid  \\\n",
       "0  33265-58314   33265  5ef7560d-7631-11e4-a3cb-005056011aef   \n",
       "1  58314-12343   58314  1e333395-5dd5-4452-96a3-fbe939928761   \n",
       "\n",
       "                                            src_node  target  weight  \n",
       "0  /government/publications/guidance-for-dependan...   58314    66.0  \n",
       "1                                         /visa-fees   12343  1164.0  "
      ]
     },
     "execution_count": 33,
     "metadata": {},
     "output_type": "execute_result"
    }
   ],
   "source": [
    "merged_edges.head(2)"
   ]
  },
  {
   "cell_type": "code",
   "execution_count": 34,
   "metadata": {},
   "outputs": [],
   "source": [
    "nid_cid = build_dict(merged_edges.source, merged_edges.src_cid, merged_edges.target, merged_edges.dest_cid)\n",
    "nid_url = build_dict(merged_edges.source, merged_edges.src_node, merged_edges.target, merged_edges.dest_node)\n",
    "url_nid = build_dict(merged_edges.src_node, merged_edges.source, merged_edges.dest_node, merged_edges.target)"
   ]
  },
  {
   "cell_type": "code",
   "execution_count": 35,
   "metadata": {},
   "outputs": [
    {
     "data": {
      "text/plain": [
       "'5ef7560d-7631-11e4-a3cb-005056011aef'"
      ]
     },
     "execution_count": 35,
     "metadata": {},
     "output_type": "execute_result"
    }
   ],
   "source": [
    "nid_cid[33265]"
   ]
  },
  {
   "cell_type": "code",
   "execution_count": 36,
   "metadata": {},
   "outputs": [
    {
     "data": {
      "text/plain": [
       "dest_cid                  1e333395-5dd5-4452-96a3-fbe939928761\n",
       "dest_node                                           /visa-fees\n",
       "source                                                   33265\n",
       "src_cid                   5ef7560d-7631-11e4-a3cb-005056011aef\n",
       "src_node     /government/publications/guidance-for-dependan...\n",
       "target                                                   58314\n",
       "weight                                                      66\n",
       "edge-id                                            33265-58314\n",
       "Name: 0, dtype: object"
      ]
     },
     "execution_count": 36,
     "metadata": {},
     "output_type": "execute_result"
    }
   ],
   "source": [
    "edges[edges.source==33265].iloc[0]"
   ]
  },
  {
   "cell_type": "markdown",
   "metadata": {},
   "source": [
    "## Set up digraph and add node attributes \n",
    "#### attributes are more relevant to future graphSAGE work"
   ]
  },
  {
   "cell_type": "code",
   "execution_count": 37,
   "metadata": {},
   "outputs": [],
   "source": [
    "graph = nx.DiGraph()\n",
    "for src,dest in zip(merged_edges.source, merged_edges.target):\n",
    "    graph.add_edge(src, dest)\n",
    "    graph[src][dest].update({'test_removed': False, 'train_removed': False})"
   ]
  },
  {
   "cell_type": "code",
   "execution_count": 38,
   "metadata": {},
   "outputs": [],
   "source": [
    "# >>> attrs = {0: {'attr1': 20, 'attr2': 'nothing'}, 1: {'attr2': 3}}\n",
    "# >>> nx.set_node_attributes(G, attrs)\n",
    "# \"feature\":nid_emb[nid],\n",
    "attrs = {nid:{\"cid\":nid_cid[nid], \"url\":nid_url[nid], \n",
    "              \"test\":False, \"val\":False,\n",
    "               \"label\":[] \n",
    "              } for nid in graph.nodes()}\n",
    "nx.set_node_attributes(graph, attrs)"
   ]
  },
  {
   "cell_type": "code",
   "execution_count": 39,
   "metadata": {},
   "outputs": [
    {
     "data": {
      "text/plain": [
       "dict_keys(['cid', 'url', 'test', 'val', 'label'])"
      ]
     },
     "execution_count": 39,
     "metadata": {},
     "output_type": "execute_result"
    }
   ],
   "source": [
    "graph.nodes[0].keys()"
   ]
  },
  {
   "cell_type": "markdown",
   "metadata": {},
   "source": [
    "## Node2Vec"
   ]
  },
  {
   "cell_type": "code",
   "execution_count": 40,
   "metadata": {},
   "outputs": [
    {
     "name": "stderr",
     "output_type": "stream",
     "text": [
      "Computing transition probabilities: 100%|██████████| 118159/118159 [01:57<00:00, 1008.29it/s]\n",
      "Generating walks (CPU: 1): 100%|██████████| 300/300 [2:05:05<00:00, 24.59s/it]  \n"
     ]
    }
   ],
   "source": [
    "# Precompute probabilities and generate walks\n",
    "node2vec = Node2Vec(graph, dimensions=64, walk_length=30, num_walks=300, workers=1)  "
   ]
  },
  {
   "cell_type": "markdown",
   "metadata": {},
   "source": [
    "### Compute node embeddings"
   ]
  },
  {
   "cell_type": "code",
   "execution_count": 41,
   "metadata": {},
   "outputs": [
    {
     "name": "stdout",
     "output_type": "stream",
     "text": [
      "01:07:25 Fitting model...\n",
      "10:36:00 Finished fitting model...\n"
     ]
    },
    {
     "name": "stderr",
     "output_type": "stream",
     "text": [
      "/Users/felisialoukou/.pyenv/versions/3.6.0/lib/python3.6/site-packages/gensim/matutils.py:737: FutureWarning: Conversion of the second argument of issubdtype from `int` to `np.signedinteger` is deprecated. In future, it will be treated as `np.int64 == np.dtype(int).type`.\n",
      "  if np.issubdtype(vec.dtype, np.int):\n"
     ]
    },
    {
     "data": {
      "text/plain": [
       "[('38738', 0.9659421443939209),\n",
       " ('11131', 0.9386969208717346),\n",
       " ('16608', 0.9371576905250549),\n",
       " ('31388', 0.9371330738067627),\n",
       " ('9904', 0.9369335174560547),\n",
       " ('22485', 0.9360983371734619),\n",
       " ('65693', 0.9349657893180847),\n",
       " ('48555', 0.9337107539176941),\n",
       " ('5506', 0.9334402680397034),\n",
       " ('23939', 0.933233380317688)]"
      ]
     },
     "execution_count": 41,
     "metadata": {},
     "output_type": "execute_result"
    }
   ],
   "source": [
    "print(datetime.now().strftime(\"%H:%M:%S\"), \"Fitting model...\")\n",
    "# Embed nodes\n",
    "model = node2vec.fit(window=10, min_count=1, batch_words=4)  \n",
    "# Any keywords acceptable by gensim.Word2Vec can be passed, `dimensions` and `workers` are \n",
    "# automatically passed (from the Node2Vec constructor)\n",
    "print(datetime.now().strftime(\"%H:%M:%S\"), \"Finished fitting model...\")\n",
    "# Look for most similar nodes\n",
    "model.wv.most_similar('2', topn=10)  # Output node names are always strings"
   ]
  },
  {
   "cell_type": "markdown",
   "metadata": {},
   "source": [
    "### check some results"
   ]
  },
  {
   "cell_type": "code",
   "execution_count": 44,
   "metadata": {},
   "outputs": [
    {
     "ename": "IndexError",
     "evalue": "index 0 is out of bounds for axis 0 with size 0",
     "output_type": "error",
     "traceback": [
      "\u001b[0;31m---------------------------------------------------------------------------\u001b[0m",
      "\u001b[0;31mIndexError\u001b[0m                                Traceback (most recent call last)",
      "\u001b[0;32m<ipython-input-44-e7ac1c16f669>\u001b[0m in \u001b[0;36m<module>\u001b[0;34m\u001b[0m\n\u001b[1;32m      1\u001b[0m \u001b[0mstr_node\u001b[0m \u001b[0;34m=\u001b[0m \u001b[0;34m\"/government/publications/below-the-radar-low-level-disruption-in-the-countrys-classrooms\"\u001b[0m\u001b[0;34m\u001b[0m\u001b[0m\n\u001b[1;32m      2\u001b[0m \u001b[0;31m# \"/sold-bought-vehicle\"\u001b[0m\u001b[0;34m\u001b[0m\u001b[0;34m\u001b[0m\u001b[0m\n\u001b[0;32m----> 3\u001b[0;31m \u001b[0mtarget\u001b[0m \u001b[0;34m=\u001b[0m \u001b[0mstr\u001b[0m\u001b[0;34m(\u001b[0m\u001b[0medges\u001b[0m\u001b[0;34m[\u001b[0m\u001b[0medges\u001b[0m\u001b[0;34m.\u001b[0m\u001b[0msrc_node\u001b[0m \u001b[0;34m==\u001b[0m \u001b[0mstr_node\u001b[0m\u001b[0;34m]\u001b[0m\u001b[0;34m.\u001b[0m\u001b[0msource\u001b[0m\u001b[0;34m.\u001b[0m\u001b[0mvalues\u001b[0m\u001b[0;34m[\u001b[0m\u001b[0;36m0\u001b[0m\u001b[0;34m]\u001b[0m\u001b[0;34m)\u001b[0m\u001b[0;34m\u001b[0m\u001b[0m\n\u001b[0m\u001b[1;32m      4\u001b[0m \u001b[0mtarget\u001b[0m\u001b[0;34m\u001b[0m\u001b[0m\n",
      "\u001b[0;31mIndexError\u001b[0m: index 0 is out of bounds for axis 0 with size 0"
     ]
    }
   ],
   "source": [
    "str_node = \"/government/publications/below-the-radar-low-level-disruption-in-the-countrys-classrooms\"\n",
    "# \"/sold-bought-vehicle\"\n",
    "target = str(edges[edges.src_node == str_node].source.values[0])\n",
    "target"
   ]
  },
  {
   "cell_type": "code",
   "execution_count": null,
   "metadata": {},
   "outputs": [],
   "source": [
    "count = 0\n",
    "cids = []\n",
    "for nid, prob in model.wv.most_similar(target, topn=50):\n",
    "    if nid_cid[int(target)] != nid_cid[int(nid)] and \"/browse\" not in nid_url[int(nid)]\\\n",
    "    and nid_cid[int(nid)] not in cids:\n",
    "        print(nid_url[int(nid)])\n",
    "        count+=1\n",
    "        cids.append(nid_cid[int(nid)])\n",
    "    if count == 10:\n",
    "        break"
   ]
  },
  {
   "cell_type": "markdown",
   "metadata": {},
   "source": [
    "## \"Predict\" for top 50 pages"
   ]
  },
  {
   "cell_type": "code",
   "execution_count": null,
   "metadata": {},
   "outputs": [],
   "source": [
    "top = pd.read_csv(os.path.join(DATA_DIR, \"top-pages-govuk-feb19.tsv\"), sep='\\t', usecols=['Page', 'Page Views'])\n",
    "top['Page'] = top['Page'].map(lambda x: x.replace(\"https://www.integration.publishing.service.gov.uk\",\"\"))\n",
    "top['Page Views'] = top['Page Views'].map(lambda x: x.replace(',', ''))\n",
    "top['Page Views'] = top['Page Views'].astype(\"float\")\n",
    "# top['content_id'] = top['Page'].map(base_cid)"
   ]
  },
  {
   "cell_type": "code",
   "execution_count": null,
   "metadata": {},
   "outputs": [],
   "source": [
    "top.head()"
   ]
  },
  {
   "cell_type": "markdown",
   "metadata": {},
   "source": [
    "### Set up content item titles for human assessment"
   ]
  },
  {
   "cell_type": "code",
   "execution_count": null,
   "metadata": {},
   "outputs": [],
   "source": [
    "labelled_file = os.path.join(DATA_DIR, \"content_api\", \"labelled.csv.gz\")\n",
    "labelled = pd.read_csv(labelled_file, compression=\"gzip\")\n",
    "base_cid = dict(zip(labelled.base_path, labelled.content_id))\n",
    "cid_title = dict(zip(labelled.content_id, labelled.title))\n",
    "top[\"content_id\"] = top[\"Page\"].map(base_cid)\n",
    "top.dropna(subset=[\"content_id\"], inplace=True)"
   ]
  },
  {
   "cell_type": "code",
   "execution_count": 50,
   "metadata": {},
   "outputs": [],
   "source": [
    "def generate_vectors(vector_list):\n",
    "    for nid, prob in vector_list:\n",
    "        yield nid, prob"
   ]
  },
  {
   "cell_type": "code",
   "execution_count": 51,
   "metadata": {},
   "outputs": [],
   "source": [
    "vecs = generate_vectors(model.wv.most_similar(\"0\", topn=1000))"
   ]
  },
  {
   "cell_type": "code",
   "execution_count": 52,
   "metadata": {},
   "outputs": [
    {
     "data": {
      "text/plain": [
       "('22461', 0.8243222236633301)"
      ]
     },
     "execution_count": 52,
     "metadata": {},
     "output_type": "execute_result"
    }
   ],
   "source": [
    "nid, prob = next(vecs)\n",
    "nid, prob"
   ]
  },
  {
   "cell_type": "markdown",
   "metadata": {},
   "source": [
    "## Compute related links for a set of pages"
   ]
  },
  {
   "cell_type": "code",
   "execution_count": 53,
   "metadata": {},
   "outputs": [],
   "source": [
    "cids_edgeset = set(list(edges.src_cid)+list(edges.dest_cid))"
   ]
  },
  {
   "cell_type": "code",
   "execution_count": 67,
   "metadata": {},
   "outputs": [],
   "source": [
    "EMBEDDING_MODEL_FILENAME = os.path.join(models, \"n2v.model\")"
   ]
  },
  {
   "cell_type": "code",
   "execution_count": 68,
   "metadata": {},
   "outputs": [],
   "source": [
    "model =  Word2Vec.load(EMBEDDING_MODEL_FILENAME)"
   ]
  },
  {
   "cell_type": "code",
   "execution_count": 71,
   "metadata": {},
   "outputs": [],
   "source": [
    "nid_cid = build_dict(edges.source, edges.src_cid, edges.target, edges.dest_cid)\n",
    "nid_url = build_dict(edges.source, edges.src_node, edges.target, edges.dest_node)\n",
    "url_nid = build_dict(edges.src_node, edges.source, edges.dest_node, edges.target)"
   ]
  },
  {
   "cell_type": "code",
   "execution_count": 72,
   "metadata": {},
   "outputs": [],
   "source": [
    "def compute_top_n(df_path, n):\n",
    "    pages_links = []\n",
    "    missing = []\n",
    "    for page in df_path.values:\n",
    "        if page in url_nid.keys():\n",
    "            target = str(url_nid[page])\n",
    "            count = 0\n",
    "            cids = []\n",
    "            vecs = generate_vectors(model.wv.most_similar(target, topn=1000))\n",
    "            while count <= n:\n",
    "                nid, prob = next(vecs)\n",
    "                if nid_cid[int(target)] != nid_cid[int(nid)]\\\n",
    "                and all(t not in nid_url[int(nid)] for t in [\"/topic\",\"/browse\"])\\\n",
    "                and nid_cid[int(nid)] not in cids\\\n",
    "                and nid_cid[int(nid)] not in cid_link_cids[nid_cid[int(target)]]:\n",
    "                    \n",
    "                    cids.append(nid_cid[int(nid)])\n",
    "                    page_link = {\"nid\":int(target),\n",
    "                                 \"cid\":nid_cid[int(target)],\n",
    "                                 \"base_path\": page, \n",
    "                                 \"link\":nid_url[int(nid)], \n",
    "                                 \"link_cid\":nid_cid[int(nid)],\n",
    "                                 \"probability\":round(prob,3)}\n",
    "                    pages_links.append(page_link)\n",
    "                    count+=1\n",
    "        else:\n",
    "            missing.append(page)\n",
    "#             print(\"Page {} is missing from training set\".format(page))\n",
    "            \n",
    "    return pd.DataFrame(pages_links), missing"
   ]
  },
  {
   "cell_type": "code",
   "execution_count": 73,
   "metadata": {},
   "outputs": [],
   "source": [
    "top_50_links, misses = compute_top_n(content.base_path, 10)"
   ]
  },
  {
   "cell_type": "code",
   "execution_count": 74,
   "metadata": {},
   "outputs": [
    {
     "data": {
      "text/plain": [
       "((611138, 6), 181676, 55558)"
      ]
     },
     "execution_count": 74,
     "metadata": {},
     "output_type": "execute_result"
    }
   ],
   "source": [
    "top_50_links.shape, len(misses), len(set(content.base_path.values))-len(misses)"
   ]
  },
  {
   "cell_type": "code",
   "execution_count": 75,
   "metadata": {},
   "outputs": [
    {
     "data": {
      "text/html": [
       "<div>\n",
       "<style scoped>\n",
       "    .dataframe tbody tr th:only-of-type {\n",
       "        vertical-align: middle;\n",
       "    }\n",
       "\n",
       "    .dataframe tbody tr th {\n",
       "        vertical-align: top;\n",
       "    }\n",
       "\n",
       "    .dataframe thead th {\n",
       "        text-align: right;\n",
       "    }\n",
       "</style>\n",
       "<table border=\"1\" class=\"dataframe\">\n",
       "  <thead>\n",
       "    <tr style=\"text-align: right;\">\n",
       "      <th></th>\n",
       "      <th>base_path</th>\n",
       "      <th>cid</th>\n",
       "      <th>link</th>\n",
       "      <th>link_cid</th>\n",
       "      <th>nid</th>\n",
       "      <th>probability</th>\n",
       "    </tr>\n",
       "  </thead>\n",
       "  <tbody>\n",
       "    <tr>\n",
       "      <th>249095</th>\n",
       "      <td>/universal-credit</td>\n",
       "      <td>f790dc71-386e-4440-9689-31f94e7ac64d</td>\n",
       "      <td>/income-support</td>\n",
       "      <td>f331c8e2-3163-4230-8471-2b6987cc1eaf</td>\n",
       "      <td>26857</td>\n",
       "      <td>0.831</td>\n",
       "    </tr>\n",
       "    <tr>\n",
       "      <th>249096</th>\n",
       "      <td>/universal-credit</td>\n",
       "      <td>f790dc71-386e-4440-9689-31f94e7ac64d</td>\n",
       "      <td>/child-tax-credit</td>\n",
       "      <td>a14072ba-e2d1-47fa-93d4-e9cb023a3450</td>\n",
       "      <td>26857</td>\n",
       "      <td>0.799</td>\n",
       "    </tr>\n",
       "    <tr>\n",
       "      <th>249097</th>\n",
       "      <td>/universal-credit</td>\n",
       "      <td>f790dc71-386e-4440-9689-31f94e7ac64d</td>\n",
       "      <td>/contact-jobcentre-plus/existing-benefit-claims</td>\n",
       "      <td>7f6e97b2-fc2e-4e21-b854-88fcb84d866d</td>\n",
       "      <td>26857</td>\n",
       "      <td>0.786</td>\n",
       "    </tr>\n",
       "    <tr>\n",
       "      <th>249098</th>\n",
       "      <td>/universal-credit</td>\n",
       "      <td>f790dc71-386e-4440-9689-31f94e7ac64d</td>\n",
       "      <td>/tax-credits-calculator</td>\n",
       "      <td>7a61b192-8edf-4204-8ead-705e5f115c81</td>\n",
       "      <td>26857</td>\n",
       "      <td>0.779</td>\n",
       "    </tr>\n",
       "    <tr>\n",
       "      <th>249099</th>\n",
       "      <td>/universal-credit</td>\n",
       "      <td>f790dc71-386e-4440-9689-31f94e7ac64d</td>\n",
       "      <td>/how-to-have-your-benefits-paid</td>\n",
       "      <td>f33cbf6f-f27c-4335-ab6f-b5e396f02d56</td>\n",
       "      <td>26857</td>\n",
       "      <td>0.776</td>\n",
       "    </tr>\n",
       "    <tr>\n",
       "      <th>249100</th>\n",
       "      <td>/universal-credit</td>\n",
       "      <td>f790dc71-386e-4440-9689-31f94e7ac64d</td>\n",
       "      <td>/working-tax-credit</td>\n",
       "      <td>bced106c-3ee7-434c-89dc-0007163b5425</td>\n",
       "      <td>26857</td>\n",
       "      <td>0.771</td>\n",
       "    </tr>\n",
       "    <tr>\n",
       "      <th>249101</th>\n",
       "      <td>/universal-credit</td>\n",
       "      <td>f790dc71-386e-4440-9689-31f94e7ac64d</td>\n",
       "      <td>/jobseekers-allowance</td>\n",
       "      <td>122fdb0f-471c-4dcc-986b-8c3691ceacf8</td>\n",
       "      <td>26857</td>\n",
       "      <td>0.757</td>\n",
       "    </tr>\n",
       "    <tr>\n",
       "      <th>249102</th>\n",
       "      <td>/universal-credit</td>\n",
       "      <td>f790dc71-386e-4440-9689-31f94e7ac64d</td>\n",
       "      <td>/housing-benefit</td>\n",
       "      <td>a324ac01-b2da-4bd0-ad41-b33cb37754e8</td>\n",
       "      <td>26857</td>\n",
       "      <td>0.754</td>\n",
       "    </tr>\n",
       "    <tr>\n",
       "      <th>249103</th>\n",
       "      <td>/universal-credit</td>\n",
       "      <td>f790dc71-386e-4440-9689-31f94e7ac64d</td>\n",
       "      <td>/manage-your-tax-credits</td>\n",
       "      <td>e2048d9b-fae4-45fd-810c-16e5fdb866cb</td>\n",
       "      <td>26857</td>\n",
       "      <td>0.739</td>\n",
       "    </tr>\n",
       "    <tr>\n",
       "      <th>249104</th>\n",
       "      <td>/universal-credit</td>\n",
       "      <td>f790dc71-386e-4440-9689-31f94e7ac64d</td>\n",
       "      <td>/guidance/new-style-employment-and-support-all...</td>\n",
       "      <td>ef2842ca-f87b-43d4-9e8e-52cf7f64399d</td>\n",
       "      <td>26857</td>\n",
       "      <td>0.736</td>\n",
       "    </tr>\n",
       "    <tr>\n",
       "      <th>249105</th>\n",
       "      <td>/universal-credit</td>\n",
       "      <td>f790dc71-386e-4440-9689-31f94e7ac64d</td>\n",
       "      <td>/government/publications/universal-credit-if-y...</td>\n",
       "      <td>9b4e798b-6cf1-401c-b80d-21e6733ef89f</td>\n",
       "      <td>26857</td>\n",
       "      <td>0.718</td>\n",
       "    </tr>\n",
       "  </tbody>\n",
       "</table>\n",
       "</div>"
      ],
      "text/plain": [
       "                base_path                                   cid  \\\n",
       "249095  /universal-credit  f790dc71-386e-4440-9689-31f94e7ac64d   \n",
       "249096  /universal-credit  f790dc71-386e-4440-9689-31f94e7ac64d   \n",
       "249097  /universal-credit  f790dc71-386e-4440-9689-31f94e7ac64d   \n",
       "249098  /universal-credit  f790dc71-386e-4440-9689-31f94e7ac64d   \n",
       "249099  /universal-credit  f790dc71-386e-4440-9689-31f94e7ac64d   \n",
       "249100  /universal-credit  f790dc71-386e-4440-9689-31f94e7ac64d   \n",
       "249101  /universal-credit  f790dc71-386e-4440-9689-31f94e7ac64d   \n",
       "249102  /universal-credit  f790dc71-386e-4440-9689-31f94e7ac64d   \n",
       "249103  /universal-credit  f790dc71-386e-4440-9689-31f94e7ac64d   \n",
       "249104  /universal-credit  f790dc71-386e-4440-9689-31f94e7ac64d   \n",
       "249105  /universal-credit  f790dc71-386e-4440-9689-31f94e7ac64d   \n",
       "\n",
       "                                                     link  \\\n",
       "249095                                    /income-support   \n",
       "249096                                  /child-tax-credit   \n",
       "249097    /contact-jobcentre-plus/existing-benefit-claims   \n",
       "249098                            /tax-credits-calculator   \n",
       "249099                    /how-to-have-your-benefits-paid   \n",
       "249100                                /working-tax-credit   \n",
       "249101                              /jobseekers-allowance   \n",
       "249102                                   /housing-benefit   \n",
       "249103                           /manage-your-tax-credits   \n",
       "249104  /guidance/new-style-employment-and-support-all...   \n",
       "249105  /government/publications/universal-credit-if-y...   \n",
       "\n",
       "                                    link_cid    nid  probability  \n",
       "249095  f331c8e2-3163-4230-8471-2b6987cc1eaf  26857        0.831  \n",
       "249096  a14072ba-e2d1-47fa-93d4-e9cb023a3450  26857        0.799  \n",
       "249097  7f6e97b2-fc2e-4e21-b854-88fcb84d866d  26857        0.786  \n",
       "249098  7a61b192-8edf-4204-8ead-705e5f115c81  26857        0.779  \n",
       "249099  f33cbf6f-f27c-4335-ab6f-b5e396f02d56  26857        0.776  \n",
       "249100  bced106c-3ee7-434c-89dc-0007163b5425  26857        0.771  \n",
       "249101  122fdb0f-471c-4dcc-986b-8c3691ceacf8  26857        0.757  \n",
       "249102  a324ac01-b2da-4bd0-ad41-b33cb37754e8  26857        0.754  \n",
       "249103  e2048d9b-fae4-45fd-810c-16e5fdb866cb  26857        0.739  \n",
       "249104  ef2842ca-f87b-43d4-9e8e-52cf7f64399d  26857        0.736  \n",
       "249105  9b4e798b-6cf1-401c-b80d-21e6733ef89f  26857        0.718  "
      ]
     },
     "execution_count": 75,
     "metadata": {},
     "output_type": "execute_result"
    }
   ],
   "source": [
    "top_50_links[top_50_links.base_path == \"/universal-credit\"]"
   ]
  },
  {
   "cell_type": "code",
   "execution_count": 57,
   "metadata": {},
   "outputs": [
    {
     "ename": "NameError",
     "evalue": "name 'cid_title' is not defined",
     "output_type": "error",
     "traceback": [
      "\u001b[0;31m---------------------------------------------------------------------------\u001b[0m",
      "\u001b[0;31mNameError\u001b[0m                                 Traceback (most recent call last)",
      "\u001b[0;32m<ipython-input-57-f979842b2708>\u001b[0m in \u001b[0;36m<module>\u001b[0;34m\u001b[0m\n\u001b[0;32m----> 1\u001b[0;31m \u001b[0mtop_50_links\u001b[0m\u001b[0;34m[\u001b[0m\u001b[0;34m'title'\u001b[0m\u001b[0;34m]\u001b[0m \u001b[0;34m=\u001b[0m \u001b[0mtop_50_links\u001b[0m\u001b[0;34m[\u001b[0m\u001b[0;34m'cid'\u001b[0m\u001b[0;34m]\u001b[0m\u001b[0;34m.\u001b[0m\u001b[0mmap\u001b[0m\u001b[0;34m(\u001b[0m\u001b[0mcid_title\u001b[0m\u001b[0;34m)\u001b[0m\u001b[0;34m\u001b[0m\u001b[0m\n\u001b[0m\u001b[1;32m      2\u001b[0m \u001b[0mtop_50_links\u001b[0m\u001b[0;34m[\u001b[0m\u001b[0;34m'link_title'\u001b[0m\u001b[0;34m]\u001b[0m \u001b[0;34m=\u001b[0m \u001b[0mtop_50_links\u001b[0m\u001b[0;34m[\u001b[0m\u001b[0;34m'link_cid'\u001b[0m\u001b[0;34m]\u001b[0m\u001b[0;34m.\u001b[0m\u001b[0mmap\u001b[0m\u001b[0;34m(\u001b[0m\u001b[0mcid_title\u001b[0m\u001b[0;34m)\u001b[0m\u001b[0;34m\u001b[0m\u001b[0m\n",
      "\u001b[0;31mNameError\u001b[0m: name 'cid_title' is not defined"
     ]
    }
   ],
   "source": [
    "top_50_links['title'] = top_50_links['cid'].map(cid_title)\n",
    "top_50_links['link_title'] = top_50_links['link_cid'].map(cid_title)\n"
   ]
  },
  {
   "cell_type": "code",
   "execution_count": 76,
   "metadata": {},
   "outputs": [],
   "source": [
    "top_50_links.to_csv(os.path.join(DATA_DIR, \"results\", \"n2v_struct_funct_results.csv\"), index=False)\n"
   ]
  },
  {
   "cell_type": "markdown",
   "metadata": {},
   "source": [
    "### Compute edge embeddings"
   ]
  },
  {
   "cell_type": "code",
   "execution_count": null,
   "metadata": {},
   "outputs": [],
   "source": [
    "# Embed edges using Hadamard method\n",
    "edges_embs = HadamardEmbedder(keyed_vectors=model.wv)\n",
    "# Lookup embeddings\n",
    "edges_embs[('1', '2')]"
   ]
  },
  {
   "cell_type": "code",
   "execution_count": null,
   "metadata": {},
   "outputs": [],
   "source": [
    "# Get all edges in a separate KeyedVectors instance - use with caution 5817375180 edge features...\n",
    "edges_kv = edges_embs.as_keyed_vectors()\n",
    "# Look for most similar edges - this time tuples must be sorted and as str\n",
    "edges_kv.most_similar(str(('1', '2')))"
   ]
  },
  {
   "cell_type": "markdown",
   "metadata": {},
   "source": [
    "## Save out resulting node/edge embeddings and model."
   ]
  },
  {
   "cell_type": "code",
   "execution_count": 42,
   "metadata": {},
   "outputs": [],
   "source": [
    "EMBEDDING_FILENAME = os.path.join(models, \"n2v_node_embeddings_all_content\")\n",
    "EMBEDDING_MODEL_FILENAME = os.path.join(models, \"n2v_all_content.model\")\n",
    "EDGES_EMBEDDING_FILENAME = os.path.join(models, \"n2v_edge_embeddings_all_content\")"
   ]
  },
  {
   "cell_type": "code",
   "execution_count": 43,
   "metadata": {},
   "outputs": [],
   "source": [
    "# Save embeddings for later use\n",
    "model.wv.save_word2vec_format(EMBEDDING_FILENAME)\n",
    "# Save model for later use\n",
    "model.save(EMBEDDING_MODEL_FILENAME)"
   ]
  },
  {
   "cell_type": "code",
   "execution_count": null,
   "metadata": {},
   "outputs": [],
   "source": []
  }
 ],
 "metadata": {
  "kernelspec": {
   "display_name": "Python 3",
   "language": "python",
   "name": "python3"
  },
  "language_info": {
   "codemirror_mode": {
    "name": "ipython",
    "version": 3
   },
   "file_extension": ".py",
   "mimetype": "text/x-python",
   "name": "python",
   "nbconvert_exporter": "python",
   "pygments_lexer": "ipython3",
   "version": "3.6.0"
  }
 },
 "nbformat": 4,
 "nbformat_minor": 2
}
