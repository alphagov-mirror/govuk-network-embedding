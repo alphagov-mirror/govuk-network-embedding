{
 "cells": [
  {
   "cell_type": "code",
   "execution_count": 1,
   "metadata": {},
   "outputs": [],
   "source": [
    "import networkx as nx\n",
    "import pandas as pd\n",
    "import json\n",
    "import os\n",
    "from networkx.readwrite import json_graph\n",
    "import numpy as np\n",
    "from datetime import datetime\n",
    "from node2vec import Node2Vec\n",
    "from node2vec.edges import HadamardEmbedder\n",
    "from ast import literal_eval\n",
    "from gensim.models import Word2Vec"
   ]
  },
  {
   "cell_type": "markdown",
   "metadata": {},
   "source": [
    "### Directories"
   ]
  },
  {
   "cell_type": "code",
   "execution_count": 2,
   "metadata": {},
   "outputs": [
    {
     "data": {
      "text/plain": [
       "['merged_edges_struct_funct.csv.gz', 'merged_embs_struct_funct.csv.gz']"
      ]
     },
     "execution_count": 2,
     "metadata": {},
     "output_type": "execute_result"
    }
   ],
   "source": [
    "DATA_DIR = os.getenv(\"DATA_DIR\")\n",
    "train_network = os.path.join(DATA_DIR, \"train_network\")\n",
    "models = os.path.join(os.path.dirname(DATA_DIR), \"models\")\n",
    "content_api = os.path.join(DATA_DIR, \"content_api\")\n",
    "os.listdir(train_network)"
   ]
  },
  {
   "cell_type": "code",
   "execution_count": 3,
   "metadata": {},
   "outputs": [],
   "source": [
    "edgefile = os.path.join(train_network, \"merged_edges_struct_funct.csv.gz\")\n",
    "edges = pd.read_csv(edgefile, compression=\"gzip\")"
   ]
  },
  {
   "cell_type": "code",
   "execution_count": 4,
   "metadata": {},
   "outputs": [],
   "source": [
    "# emb_file = os.path.join(train_network, 'merged_embs_struct_funct.csv.gz')\n",
    "# embeddings = pd.read_csv(emb_file, compression=\"gzip\", index_col=0)"
   ]
  },
  {
   "cell_type": "code",
   "execution_count": 5,
   "metadata": {},
   "outputs": [
    {
     "data": {
      "text/html": [
       "<div>\n",
       "<style scoped>\n",
       "    .dataframe tbody tr th:only-of-type {\n",
       "        vertical-align: middle;\n",
       "    }\n",
       "\n",
       "    .dataframe tbody tr th {\n",
       "        vertical-align: top;\n",
       "    }\n",
       "\n",
       "    .dataframe thead th {\n",
       "        text-align: right;\n",
       "    }\n",
       "</style>\n",
       "<table border=\"1\" class=\"dataframe\">\n",
       "  <thead>\n",
       "    <tr style=\"text-align: right;\">\n",
       "      <th></th>\n",
       "      <th>dest_cid</th>\n",
       "      <th>dest_node</th>\n",
       "      <th>source</th>\n",
       "      <th>src_cid</th>\n",
       "      <th>src_node</th>\n",
       "      <th>target</th>\n",
       "      <th>weight</th>\n",
       "      <th>edge-id</th>\n",
       "    </tr>\n",
       "  </thead>\n",
       "  <tbody>\n",
       "    <tr>\n",
       "      <th>0</th>\n",
       "      <td>1e333395-5dd5-4452-96a3-fbe939928761</td>\n",
       "      <td>/visa-fees</td>\n",
       "      <td>33265</td>\n",
       "      <td>5ef7560d-7631-11e4-a3cb-005056011aef</td>\n",
       "      <td>/government/publications/guidance-for-dependan...</td>\n",
       "      <td>58314</td>\n",
       "      <td>66.0</td>\n",
       "      <td>33265-58314</td>\n",
       "    </tr>\n",
       "    <tr>\n",
       "      <th>1</th>\n",
       "      <td>aa055bd6-fde1-4471-8ac2-ac86241b4898</td>\n",
       "      <td>/find-a-visa-application-centre</td>\n",
       "      <td>58314</td>\n",
       "      <td>1e333395-5dd5-4452-96a3-fbe939928761</td>\n",
       "      <td>/visa-fees</td>\n",
       "      <td>12343</td>\n",
       "      <td>1164.0</td>\n",
       "      <td>58314-12343</td>\n",
       "    </tr>\n",
       "    <tr>\n",
       "      <th>2</th>\n",
       "      <td>305acc88-488e-44ec-8e5a-1a5de7819ba9</td>\n",
       "      <td>/uk-family-visa</td>\n",
       "      <td>23720</td>\n",
       "      <td>d612c61e-22f4-4922-8bb2-b04b9202126e</td>\n",
       "      <td>/entering-staying-uk/family-visas</td>\n",
       "      <td>25053</td>\n",
       "      <td>377.0</td>\n",
       "      <td>23720-25053</td>\n",
       "    </tr>\n",
       "    <tr>\n",
       "      <th>3</th>\n",
       "      <td>305acc88-488e-44ec-8e5a-1a5de7819ba9</td>\n",
       "      <td>/uk-family-visa/partner-spouse</td>\n",
       "      <td>25053</td>\n",
       "      <td>305acc88-488e-44ec-8e5a-1a5de7819ba9</td>\n",
       "      <td>/uk-family-visa</td>\n",
       "      <td>14044</td>\n",
       "      <td>26227.0</td>\n",
       "      <td>25053-14044</td>\n",
       "    </tr>\n",
       "    <tr>\n",
       "      <th>4</th>\n",
       "      <td>5ef421be-7631-11e4-a3cb-005056011aef</td>\n",
       "      <td>/government/publications/application-for-uk-vi...</td>\n",
       "      <td>14044</td>\n",
       "      <td>305acc88-488e-44ec-8e5a-1a5de7819ba9</td>\n",
       "      <td>/uk-family-visa/partner-spouse</td>\n",
       "      <td>33797</td>\n",
       "      <td>2733.0</td>\n",
       "      <td>14044-33797</td>\n",
       "    </tr>\n",
       "  </tbody>\n",
       "</table>\n",
       "</div>"
      ],
      "text/plain": [
       "                               dest_cid  \\\n",
       "0  1e333395-5dd5-4452-96a3-fbe939928761   \n",
       "1  aa055bd6-fde1-4471-8ac2-ac86241b4898   \n",
       "2  305acc88-488e-44ec-8e5a-1a5de7819ba9   \n",
       "3  305acc88-488e-44ec-8e5a-1a5de7819ba9   \n",
       "4  5ef421be-7631-11e4-a3cb-005056011aef   \n",
       "\n",
       "                                           dest_node  source  \\\n",
       "0                                         /visa-fees   33265   \n",
       "1                    /find-a-visa-application-centre   58314   \n",
       "2                                    /uk-family-visa   23720   \n",
       "3                     /uk-family-visa/partner-spouse   25053   \n",
       "4  /government/publications/application-for-uk-vi...   14044   \n",
       "\n",
       "                                src_cid  \\\n",
       "0  5ef7560d-7631-11e4-a3cb-005056011aef   \n",
       "1  1e333395-5dd5-4452-96a3-fbe939928761   \n",
       "2  d612c61e-22f4-4922-8bb2-b04b9202126e   \n",
       "3  305acc88-488e-44ec-8e5a-1a5de7819ba9   \n",
       "4  305acc88-488e-44ec-8e5a-1a5de7819ba9   \n",
       "\n",
       "                                            src_node  target   weight  \\\n",
       "0  /government/publications/guidance-for-dependan...   58314     66.0   \n",
       "1                                         /visa-fees   12343   1164.0   \n",
       "2                  /entering-staying-uk/family-visas   25053    377.0   \n",
       "3                                    /uk-family-visa   14044  26227.0   \n",
       "4                     /uk-family-visa/partner-spouse   33797   2733.0   \n",
       "\n",
       "       edge-id  \n",
       "0  33265-58314  \n",
       "1  58314-12343  \n",
       "2  23720-25053  \n",
       "3  25053-14044  \n",
       "4  14044-33797  "
      ]
     },
     "execution_count": 5,
     "metadata": {},
     "output_type": "execute_result"
    }
   ],
   "source": [
    "edges.head()"
   ]
  },
  {
   "cell_type": "markdown",
   "metadata": {},
   "source": [
    "### Initialize `base_path`,  `content_id` and `feature` dictionaries"
   ]
  },
  {
   "cell_type": "code",
   "execution_count": 6,
   "metadata": {},
   "outputs": [],
   "source": [
    "def build_dict(k1,v1,k2,v2):\n",
    "    agg_dict = dict(zip(k1,v1))\n",
    "    for key,value in zip(k2,v2):\n",
    "        if key not in agg_dict.keys():\n",
    "            agg_dict[key] = value\n",
    "    return agg_dict   "
   ]
  },
  {
   "cell_type": "code",
   "execution_count": 7,
   "metadata": {},
   "outputs": [],
   "source": [
    "nid_cid = build_dict(edges.source, edges.src_cid, edges.target, edges.dest_cid)\n",
    "nid_url = build_dict(edges.source, edges.src_node, edges.target, edges.dest_node)\n",
    "url_nid = build_dict(edges.src_node, edges.source, edges.dest_node, edges.target)"
   ]
  },
  {
   "cell_type": "code",
   "execution_count": null,
   "metadata": {},
   "outputs": [],
   "source": [
    "# cols = list(embeddings.columns[1:].values)\n",
    "# nid_emb = dict(zip(embeddings.index, embeddings[cols].values))\n",
    "# nid_emb[33265][0:2]"
   ]
  },
  {
   "cell_type": "markdown",
   "metadata": {},
   "source": [
    "## Set up digraph and add node attributes \n",
    "#### attributes are more relevant to future graphSAGE work"
   ]
  },
  {
   "cell_type": "code",
   "execution_count": 9,
   "metadata": {},
   "outputs": [],
   "source": [
    "graph = nx.DiGraph()\n",
    "for src,dest in zip(edges.source, edges.target):\n",
    "    graph.add_edge(src, dest)\n",
    "#     graph[src][dest].update({'test_removed': False, 'train_removed': False})"
   ]
  },
  {
   "cell_type": "code",
   "execution_count": 13,
   "metadata": {},
   "outputs": [],
   "source": [
    "# >>> attrs = {0: {'attr1': 20, 'attr2': 'nothing'}, 1: {'attr2': 3}}\n",
    "# >>> nx.set_node_attributes(G, attrs)\n",
    "# \"feature\":nid_emb[nid],\n",
    "attrs = {nid:{\"cid\":nid_cid[nid], \"url\":nid_url[nid]\n",
    "#               \"test\":False, \"val\":False,\n",
    "#                \"label\":[] \n",
    "              } for nid in graph.nodes()}\n",
    "nx.set_node_attributes(graph, attrs)"
   ]
  },
  {
   "cell_type": "code",
   "execution_count": 15,
   "metadata": {},
   "outputs": [
    {
     "data": {
      "text/plain": [
       "{'cid': '1e333395-5dd5-4452-96a3-fbe939928761', 'url': '/visa-fees'}"
      ]
     },
     "execution_count": 15,
     "metadata": {},
     "output_type": "execute_result"
    }
   ],
   "source": [
    "graph.nodes[58314]"
   ]
  },
  {
   "cell_type": "code",
   "execution_count": 16,
   "metadata": {},
   "outputs": [
    {
     "data": {
      "text/plain": [
       "dict_keys(['cid', 'url'])"
      ]
     },
     "execution_count": 16,
     "metadata": {},
     "output_type": "execute_result"
    }
   ],
   "source": [
    "graph.nodes[58314].keys()"
   ]
  },
  {
   "cell_type": "code",
   "execution_count": 20,
   "metadata": {},
   "outputs": [
    {
     "data": {
      "text/plain": [
       "False"
      ]
     },
     "execution_count": 20,
     "metadata": {},
     "output_type": "execute_result"
    }
   ],
   "source": [
    "(33265,-1) in graph.edges"
   ]
  },
  {
   "cell_type": "markdown",
   "metadata": {},
   "source": [
    "## Node2Vec"
   ]
  },
  {
   "cell_type": "code",
   "execution_count": null,
   "metadata": {},
   "outputs": [],
   "source": [
    "# Precompute probabilities and generate walks\n",
    "node2vec = Node2Vec(graph, dimensions=64, walk_length=30, num_walks=300, workers=1)  "
   ]
  },
  {
   "cell_type": "markdown",
   "metadata": {},
   "source": [
    "### Compute node embeddings"
   ]
  },
  {
   "cell_type": "code",
   "execution_count": null,
   "metadata": {},
   "outputs": [],
   "source": [
    "print(datetime.now().strftime(\"%H:%M:%S\"), \"Fitting model...\")\n",
    "# Embed nodes\n",
    "model = node2vec.fit(window=10, min_count=1, batch_words=4)  \n",
    "# Any keywords acceptable by gensim.Word2Vec can be passed, `dimensions` and `workers` are \n",
    "# automatically passed (from the Node2Vec constructor)\n",
    "print(datetime.now().strftime(\"%H:%M:%S\"), \"Finished fitting model...\")\n",
    "# Look for most similar nodes\n",
    "model.wv.most_similar('2', topn=10)  # Output node names are always strings"
   ]
  },
  {
   "cell_type": "markdown",
   "metadata": {},
   "source": [
    "## Save out resulting node/edge embeddings and model."
   ]
  },
  {
   "cell_type": "code",
   "execution_count": 23,
   "metadata": {},
   "outputs": [],
   "source": [
    "EMBEDDING_FILENAME = os.path.join(models, \"n2v_node_embeddings\")\n",
    "EMBEDDING_MODEL_FILENAME = os.path.join(models, \"n2v.model\")\n",
    "EDGES_EMBEDDING_FILENAME = os.path.join(models, \"n2v_edge_embeddings\")"
   ]
  },
  {
   "cell_type": "code",
   "execution_count": null,
   "metadata": {},
   "outputs": [],
   "source": [
    "# Save embeddings for later use\n",
    "model.wv.save_word2vec_format(EMBEDDING_FILENAME)\n",
    "# Save model for later use\n",
    "model.save(EMBEDDING_MODEL_FILENAME)"
   ]
  },
  {
   "cell_type": "markdown",
   "metadata": {},
   "source": [
    "## Check some results, load saved trained model from above"
   ]
  },
  {
   "cell_type": "code",
   "execution_count": 25,
   "metadata": {},
   "outputs": [],
   "source": [
    "model =  Word2Vec.load(EMBEDDING_MODEL_FILENAME)"
   ]
  },
  {
   "cell_type": "code",
   "execution_count": 27,
   "metadata": {},
   "outputs": [
    {
     "data": {
      "text/plain": [
       "'61415'"
      ]
     },
     "execution_count": 27,
     "metadata": {},
     "output_type": "execute_result"
    }
   ],
   "source": [
    "str_node = \"/sold-bought-vehicle\"\n",
    "# \"/sold-bought-vehicle\"/government/publications/below-the-radar-low-level-disruption-in-the-countrys-classrooms\n",
    "target = str(edges[edges.src_node == str_node].source.values[0])\n",
    "target"
   ]
  },
  {
   "cell_type": "code",
   "execution_count": 28,
   "metadata": {},
   "outputs": [
    {
     "name": "stdout",
     "output_type": "stream",
     "text": [
      "/make-a-sorn\n",
      "/vehicle-tax-refund\n",
      "/vehicle-log-book\n",
      "/car-tax-disc-without-v11-reminder\n",
      "/responsibilities-selling-vehicle\n",
      "/sorn-statutory-off-road-notification\n",
      "/contact-the-dvla\n",
      "/government/publications/application-for-a-vehicle-registration-certificate\n",
      "/check-vehicle-tax\n",
      "/written-off-vehicle\n"
     ]
    },
    {
     "name": "stderr",
     "output_type": "stream",
     "text": [
      "/Users/felisialoukou/.pyenv/versions/3.6.0/lib/python3.6/site-packages/gensim/matutils.py:737: FutureWarning: Conversion of the second argument of issubdtype from `int` to `np.signedinteger` is deprecated. In future, it will be treated as `np.int64 == np.dtype(int).type`.\n",
      "  if np.issubdtype(vec.dtype, np.int):\n"
     ]
    }
   ],
   "source": [
    "count = 0\n",
    "cids = []\n",
    "for nid, prob in model.wv.most_similar(target, topn=50):\n",
    "    if nid_cid[int(target)] != nid_cid[int(nid)] and \"/browse\" not in nid_url[int(nid)]\\\n",
    "    and nid_cid[int(nid)] not in cids:\n",
    "        print(nid_url[int(nid)])\n",
    "        count+=1\n",
    "        cids.append(nid_cid[int(nid)])\n",
    "    if count == 10:\n",
    "        break"
   ]
  },
  {
   "cell_type": "markdown",
   "metadata": {},
   "source": [
    "## \"Predict\" for top 50 pages"
   ]
  },
  {
   "cell_type": "code",
   "execution_count": 29,
   "metadata": {},
   "outputs": [],
   "source": [
    "top = pd.read_csv(os.path.join(DATA_DIR, \"top-pages-govuk-feb19.tsv\"), sep='\\t', usecols=['Page', 'Page Views'])\n",
    "top['Page'] = top['Page'].map(lambda x: x.replace(\"https://www.integration.publishing.service.gov.uk\",\"\"))\n",
    "top['Page Views'] = top['Page Views'].map(lambda x: x.replace(',', ''))\n",
    "top['Page Views'] = top['Page Views'].astype(\"float\")\n",
    "# top['content_id'] = top['Page'].map(base_cid)"
   ]
  },
  {
   "cell_type": "code",
   "execution_count": 30,
   "metadata": {},
   "outputs": [
    {
     "data": {
      "text/html": [
       "<div>\n",
       "<style scoped>\n",
       "    .dataframe tbody tr th:only-of-type {\n",
       "        vertical-align: middle;\n",
       "    }\n",
       "\n",
       "    .dataframe tbody tr th {\n",
       "        vertical-align: top;\n",
       "    }\n",
       "\n",
       "    .dataframe thead th {\n",
       "        text-align: right;\n",
       "    }\n",
       "</style>\n",
       "<table border=\"1\" class=\"dataframe\">\n",
       "  <thead>\n",
       "    <tr style=\"text-align: right;\">\n",
       "      <th></th>\n",
       "      <th>Page</th>\n",
       "      <th>Page Views</th>\n",
       "    </tr>\n",
       "  </thead>\n",
       "  <tbody>\n",
       "    <tr>\n",
       "      <th>0</th>\n",
       "      <td>/</td>\n",
       "      <td>10219580.0</td>\n",
       "    </tr>\n",
       "    <tr>\n",
       "      <th>1</th>\n",
       "      <td>/search</td>\n",
       "      <td>9619994.0</td>\n",
       "    </tr>\n",
       "    <tr>\n",
       "      <th>2</th>\n",
       "      <td>/sign-in-universal-credit</td>\n",
       "      <td>8221833.0</td>\n",
       "    </tr>\n",
       "    <tr>\n",
       "      <th>3</th>\n",
       "      <td>/log-in-register-hmrc-online-services</td>\n",
       "      <td>6564918.0</td>\n",
       "    </tr>\n",
       "    <tr>\n",
       "      <th>4</th>\n",
       "      <td>/sold-bought-vehicle</td>\n",
       "      <td>4722768.0</td>\n",
       "    </tr>\n",
       "  </tbody>\n",
       "</table>\n",
       "</div>"
      ],
      "text/plain": [
       "                                    Page  Page Views\n",
       "0                                      /  10219580.0\n",
       "1                                /search   9619994.0\n",
       "2              /sign-in-universal-credit   8221833.0\n",
       "3  /log-in-register-hmrc-online-services   6564918.0\n",
       "4                   /sold-bought-vehicle   4722768.0"
      ]
     },
     "execution_count": 30,
     "metadata": {},
     "output_type": "execute_result"
    }
   ],
   "source": [
    "top.head()"
   ]
  },
  {
   "cell_type": "markdown",
   "metadata": {},
   "source": [
    "### Set up content item titles for human assessment"
   ]
  },
  {
   "cell_type": "code",
   "execution_count": 31,
   "metadata": {},
   "outputs": [
    {
     "name": "stderr",
     "output_type": "stream",
     "text": [
      "/Users/felisialoukou/.pyenv/versions/3.6.0/lib/python3.6/site-packages/IPython/core/interactiveshell.py:3018: DtypeWarning: Columns (16,17,18) have mixed types. Specify dtype option on import or set low_memory=False.\n",
      "  interactivity=interactivity, compiler=compiler, result=result)\n"
     ]
    }
   ],
   "source": [
    "labelled_file = os.path.join(DATA_DIR, \"content_api\", \"labelled.csv.gz\")\n",
    "labelled = pd.read_csv(labelled_file, compression=\"gzip\")\n",
    "base_cid = dict(zip(labelled.base_path, labelled.content_id))\n",
    "cid_title = dict(zip(labelled.content_id, labelled.title))\n",
    "top[\"content_id\"] = top[\"Page\"].map(base_cid)\n",
    "top.dropna(subset=[\"content_id\"], inplace=True)"
   ]
  },
  {
   "cell_type": "code",
   "execution_count": 32,
   "metadata": {},
   "outputs": [],
   "source": [
    "def generate_vectors(vector_list):\n",
    "    for nid, prob in vector_list:\n",
    "        yield nid, prob"
   ]
  },
  {
   "cell_type": "code",
   "execution_count": 33,
   "metadata": {},
   "outputs": [],
   "source": [
    "vecs = generate_vectors(model.wv.most_similar(\"0\", topn=1000))"
   ]
  },
  {
   "cell_type": "code",
   "execution_count": 34,
   "metadata": {},
   "outputs": [
    {
     "data": {
      "text/plain": [
       "('22461', 0.8493591547012329)"
      ]
     },
     "execution_count": 34,
     "metadata": {},
     "output_type": "execute_result"
    }
   ],
   "source": [
    "nid, prob = next(vecs)\n",
    "nid, prob"
   ]
  },
  {
   "cell_type": "markdown",
   "metadata": {},
   "source": [
    "## Compute related links for a set of pages"
   ]
  },
  {
   "cell_type": "code",
   "execution_count": null,
   "metadata": {},
   "outputs": [],
   "source": [
    "cids_edgeset = set(list(edges.src_cid)+list(edges.dest_cid))"
   ]
  },
  {
   "cell_type": "code",
   "execution_count": null,
   "metadata": {},
   "outputs": [],
   "source": [
    "nid_cid = build_dict(edges.source, edges.src_cid, edges.target, edges.dest_cid)\n",
    "nid_url = build_dict(edges.source, edges.src_node, edges.target, edges.dest_node)\n",
    "url_nid = build_dict(edges.src_node, edges.source, edges.dest_node, edges.target)"
   ]
  },
  {
   "cell_type": "code",
   "execution_count": null,
   "metadata": {},
   "outputs": [],
   "source": [
    "def compute_top_n(df_path, n):\n",
    "    pages_links = []\n",
    "    missing = []\n",
    "    for page in df_path.values:\n",
    "        if page in url_nid.keys():\n",
    "            target = str(url_nid[page])\n",
    "            count = 0\n",
    "            cids = []\n",
    "            vecs = generate_vectors(model.wv.most_similar(target, topn=1000))\n",
    "            while count <= n:\n",
    "                nid, prob = next(vecs)\n",
    "                if nid_cid[int(target)] != nid_cid[int(nid)]\\\n",
    "                and all(t not in nid_url[int(nid)] for t in [\"/topic\",\"/browse\"])\\\n",
    "                and nid_cid[int(nid)] not in cids\\\n",
    "                and nid_cid[int(nid)] not in cid_link_cids[nid_cid[int(target)]]:\n",
    "                    \n",
    "                    cids.append(nid_cid[int(nid)])\n",
    "                    page_link = {\"nid\":int(target),\n",
    "                                 \"cid\":nid_cid[int(target)],\n",
    "                                 \"base_path\": page, \n",
    "                                 \"link\":nid_url[int(nid)], \n",
    "                                 \"link_cid\":nid_cid[int(nid)],\n",
    "                                 \"probability\":round(prob,3)}\n",
    "                    pages_links.append(page_link)\n",
    "                    count+=1\n",
    "        else:\n",
    "            missing.append(page)\n",
    "#             print(\"Page {} is missing from training set\".format(page))\n",
    "            \n",
    "    return pd.DataFrame(pages_links), missing"
   ]
  },
  {
   "cell_type": "code",
   "execution_count": null,
   "metadata": {},
   "outputs": [],
   "source": [
    "top_50_links, misses = compute_top_n(content.base_path, 10)"
   ]
  },
  {
   "cell_type": "code",
   "execution_count": null,
   "metadata": {},
   "outputs": [],
   "source": [
    "top_50_links.shape, len(misses), len(set(content.base_path.values))-len(misses)"
   ]
  },
  {
   "cell_type": "code",
   "execution_count": null,
   "metadata": {},
   "outputs": [],
   "source": [
    "top_50_links[top_50_links.base_path == \"/universal-credit\"]"
   ]
  },
  {
   "cell_type": "code",
   "execution_count": null,
   "metadata": {},
   "outputs": [],
   "source": [
    "top_50_links['title'] = top_50_links['cid'].map(cid_title)\n",
    "top_50_links['link_title'] = top_50_links['link_cid'].map(cid_title)\n"
   ]
  },
  {
   "cell_type": "code",
   "execution_count": null,
   "metadata": {},
   "outputs": [],
   "source": [
    "top_50_links.to_csv(os.path.join(DATA_DIR, \"results\",\\\n",
    "                                 \"n2v_struct_funct_results.csv\"), index=False)"
   ]
  },
  {
   "cell_type": "markdown",
   "metadata": {},
   "source": [
    "### Compute edge embeddings"
   ]
  },
  {
   "cell_type": "code",
   "execution_count": null,
   "metadata": {},
   "outputs": [],
   "source": [
    "# Embed edges using Hadamard method\n",
    "edges_embs = HadamardEmbedder(keyed_vectors=model.wv)\n",
    "# Lookup embeddings\n",
    "edges_embs[('1', '2')]"
   ]
  },
  {
   "cell_type": "code",
   "execution_count": null,
   "metadata": {},
   "outputs": [],
   "source": [
    "# Get all edges in a separate KeyedVectors instance - use with caution 5817375180 edge features...\n",
    "edges_kv = edges_embs.as_keyed_vectors()\n",
    "# Look for most similar edges - this time tuples must be sorted and as str\n",
    "edges_kv.most_similar(str(('1', '2')))"
   ]
  },
  {
   "cell_type": "code",
   "execution_count": null,
   "metadata": {},
   "outputs": [],
   "source": []
  }
 ],
 "metadata": {
  "kernelspec": {
   "display_name": "Python 3",
   "language": "python",
   "name": "python3"
  },
  "language_info": {
   "codemirror_mode": {
    "name": "ipython",
    "version": 3
   },
   "file_extension": ".py",
   "mimetype": "text/x-python",
   "name": "python",
   "nbconvert_exporter": "python",
   "pygments_lexer": "ipython3",
   "version": "3.6.0"
  }
 },
 "nbformat": 4,
 "nbformat_minor": 2
}
