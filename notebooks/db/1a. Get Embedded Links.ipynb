{
 "cells": [
  {
   "cell_type": "markdown",
   "metadata": {},
   "source": [
    "# Set up"
   ]
  },
  {
   "cell_type": "code",
   "execution_count": 20,
   "metadata": {
    "ExecuteTime": {
     "end_time": "2019-04-23T16:18:51.221903Z",
     "start_time": "2019-04-23T16:18:50.746603Z"
    }
   },
   "outputs": [],
   "source": [
    "import pymongo\n",
    "import os\n",
    "import pandas as pd\n",
    "import yaml\n",
    "from collections import Counter\n",
    "from datetime import datetime\n",
    "import sys\n",
    "SRC = os.path.join(os.path.dirname(os.path.dirname(os.getcwd())), \"src\")\n",
    "sys.path.append(SRC)\n",
    "\n",
    "from content_api.details_utils import extract_html_links"
   ]
  },
  {
   "cell_type": "markdown",
   "metadata": {},
   "source": [
    "## get DIRs of where things are"
   ]
  },
  {
   "cell_type": "code",
   "execution_count": 3,
   "metadata": {
    "ExecuteTime": {
     "end_time": "2019-04-23T16:03:32.083828Z",
     "start_time": "2019-04-23T16:03:32.079669Z"
    }
   },
   "outputs": [],
   "source": [
    "DATA_DIR = os.getenv(\"DATA_DIR\")\n",
    "config = os.path.join(SRC, \"config\")\n",
    "black_list_path = os.path.join(config, \"document_types_excluded_from_the_topic_taxonomy.yml\")"
   ]
  },
  {
   "cell_type": "markdown",
   "metadata": {},
   "source": [
    "## get blacklisted document types"
   ]
  },
  {
   "cell_type": "code",
   "execution_count": 7,
   "metadata": {
    "ExecuteTime": {
     "end_time": "2019-04-23T16:15:33.530238Z",
     "start_time": "2019-04-23T16:15:33.517203Z"
    }
   },
   "outputs": [
    {
     "name": "stderr",
     "output_type": "stream",
     "text": [
      "/Users/suganyasivaskantharajah/.virtualenvs/network-embedding/lib/python3.6/site-packages/ipykernel_launcher.py:2: YAMLLoadWarning: calling yaml.load() without Loader=... is deprecated, as the default Loader is unsafe. Please read https://msg.pyyaml.org/load for full details.\n",
      "  \n"
     ]
    }
   ],
   "source": [
    "with open(black_list_path, 'r') as stream:\n",
    "    blacklisted_content_page = sorted(yaml.load(stream)['document_types'])"
   ]
  },
  {
   "cell_type": "markdown",
   "metadata": {},
   "source": [
    "## Lists of:\n",
    "- fields we should keep from the content data JSON e.g. document_type\n",
    "- links types we care about e.g. ordered_related_items\n",
    "- what keys we want for each link ['base_path', 'content_id']"
   ]
  },
  {
   "cell_type": "code",
   "execution_count": 8,
   "metadata": {
    "ExecuteTime": {
     "end_time": "2019-04-23T16:15:34.471929Z",
     "start_time": "2019-04-23T16:15:34.467221Z"
    },
    "code_folding": [
     0
    ]
   },
   "outputs": [],
   "source": [
    "keep_columns =[\n",
    "    '_id', \n",
    "    #                 'access_limited', \n",
    "    #                 'analytics_identifier', \n",
    "    'content_id',\n",
    "    'content_purpose_document_supertype', \n",
    "    'content_purpose_subgroup',\n",
    "    'content_purpose_supergroup', \n",
    "    # 'created_at', \n",
    "    'description', \n",
    "    'details',\n",
    "    'document_type', \n",
    "    'email_document_supertype', \n",
    "    # 'expanded_links',\n",
    "    'first_published_at', \n",
    "    #                 'format', \n",
    "    'government_document_supertype',\n",
    "    #                 'links', \n",
    "    'locale', \n",
    "    'navigation_document_supertype', \n",
    "    #                 'need_ids',\n",
    "    #                 'payload_version', \n",
    "    'phase', \n",
    "    'public_updated_at', \n",
    "    'publishing_app',\n",
    "    #                 'publishing_request_id', \n",
    "    'publishing_scheduled_at', \n",
    "    #                 'redirects',\n",
    "    'rendering_app', \n",
    "    #                 'routes', \n",
    "    #                 'scheduled_publishing_delay_seconds',\n",
    "    #                 'schema_name', \n",
    "    'search_user_need_document_supertype', \n",
    "    'title',\n",
    "    'updated_at', \n",
    "    'user_journey_document_supertype' \n",
    "    #                 'withdrawn_notice'\n",
    "    ]"
   ]
  },
  {
   "cell_type": "code",
   "execution_count": 9,
   "metadata": {
    "ExecuteTime": {
     "end_time": "2019-04-23T16:15:34.670689Z",
     "start_time": "2019-04-23T16:15:34.666665Z"
    },
    "code_folding": [
     0
    ]
   },
   "outputs": [],
   "source": [
    "links_keep = [\n",
    "    'organisations',\n",
    "    'primary_publishing_organisation',\n",
    "    'taxons',\n",
    "    #  'finder',\n",
    "    #  'available_translations',\n",
    "    'mainstream_browse_pages',\n",
    "    # 'parent',\n",
    "    'part_of_step_navs',\n",
    "    'ordered_related_items',\n",
    "    #  'meets_user_needs',\n",
    "    'topics',\n",
    "    'ordered_related_items_overrides',\n",
    "    'pages_part_of_step_nav',\n",
    "    'pages_related_to_step_nav',\n",
    "    'related_to_step_navs',\n",
    "    # 'children',\n",
    "    'document_collections',\n",
    "    #  'lead_organisations',\n",
    "    #  'world_locations',\n",
    "    #  'worldwide_organisations',\n",
    "    #  'supporting_organisations',\n",
    "    #  'worldwide_priorities',\n",
    "    # 'original_primary_publishing_organisation',\n",
    "    'documents',\n",
    "    'policy_areas',\n",
    "    # 'topical_events',\n",
    "    #  'suggested_ordered_related_items',\n",
    "    'related_policies',\n",
    "    # 'ministers',\n",
    "    # 'people',\n",
    "    # 'roles',\n",
    "    #  'field_of_operation'\n",
    "    ]"
   ]
  },
  {
   "cell_type": "code",
   "execution_count": 10,
   "metadata": {
    "ExecuteTime": {
     "end_time": "2019-04-23T16:15:36.019465Z",
     "start_time": "2019-04-23T16:15:36.016149Z"
    },
    "code_folding": [
     0
    ]
   },
   "outputs": [],
   "source": [
    "keep_keys = [\n",
    "    # 'analytics_identifier', \n",
    "    # 'api_path', \n",
    "    'base_path', \n",
    "    'content_id', \n",
    "    # 'description', \n",
    "    # 'document_type', \n",
    "    # 'locale', \n",
    "    # 'schema_name', \n",
    "    # 'title', \n",
    "    # 'withdrawn', \n",
    "    # 'details', \n",
    "    # 'links'\n",
    "    ]"
   ]
  },
  {
   "cell_type": "markdown",
   "metadata": {},
   "source": [
    "# Query database"
   ]
  },
  {
   "cell_type": "code",
   "execution_count": 11,
   "metadata": {
    "ExecuteTime": {
     "end_time": "2019-04-23T16:15:36.946769Z",
     "start_time": "2019-04-23T16:15:36.941382Z"
    }
   },
   "outputs": [],
   "source": [
    "myclient = pymongo.MongoClient(\"mongodb://localhost:27017/\")\n",
    "# specify the DB and collection within the DB that we are interested in\n",
    "mydb = myclient[\"content_store\"]\n",
    "mycol = mydb[\"content_items\"]"
   ]
  },
  {
   "cell_type": "code",
   "execution_count": 12,
   "metadata": {
    "ExecuteTime": {
     "end_time": "2019-04-23T16:15:37.771572Z",
     "start_time": "2019-04-23T16:15:37.766497Z"
    }
   },
   "outputs": [],
   "source": [
    "def handle_expanded_links(content_links, row_dict):\n",
    "    for key,value in content_links.items():\n",
    "        if key in links_keep:\n",
    "            row_dict[key] = []\n",
    "            for item in value:\n",
    "                row = {}\n",
    "                for k in keep_keys:\n",
    "                    if k in item.keys():\n",
    "                        row[k] = item[k]\n",
    "                row_dict[key].append(row)"
   ]
  },
  {
   "cell_type": "markdown",
   "metadata": {},
   "source": [
    "## get info from the keep_columns for all content items that are live, and aren't of a document type in the blacklist\n",
    "If there is an expanded_links key, use handle_expanded_links to get these links out\n",
    "return a df"
   ]
  },
  {
   "cell_type": "code",
   "execution_count": 16,
   "metadata": {
    "ExecuteTime": {
     "end_time": "2019-04-23T16:16:21.404573Z",
     "start_time": "2019-04-23T16:15:53.167993Z"
    }
   },
   "outputs": [
    {
     "name": "stdout",
     "output_type": "stream",
     "text": [
      "Started: 17:15:53\n",
      "0 17:15:53\n",
      "10000 17:15:56\n",
      "20000 17:16:06\n",
      "30000 17:16:11\n",
      "40000 17:16:15\n",
      "Ended: 17:16:20\n"
     ]
    },
    {
     "data": {
      "text/plain": [
       "(50000, 34)"
      ]
     },
     "execution_count": 16,
     "metadata": {},
     "output_type": "execute_result"
    }
   ],
   "source": [
    "mydoc = mycol.find({ \"$and\": [\n",
    "                    { \"document_type\": {\n",
    "                        \"$not\" : { \"$in\": blacklisted_content_page}}},\n",
    "                    { \"phase\": \"live\"}]})\n",
    "print(\"Started:\",datetime.now().strftime(\"%H:%M:%S\"))\n",
    "rowlist = []\n",
    "for i,item in enumerate(mydoc):\n",
    "    if i < 50000:\n",
    "        row = {key:value for key,value in item.items() if key in keep_columns}\n",
    "#         row['body'] = extract_from_details(item['details'], \"text\")\n",
    "#         row['embedded_links'] = extract_from_details(item['details'], \"links\")\n",
    "        if \"expanded_links\" in item.keys():\n",
    "            handle_expanded_links(item[\"expanded_links\"], row)    \n",
    "        rowlist.append(row)\n",
    "    else:\n",
    "        break\n",
    "    if i % 10000==0:\n",
    "        print(i,datetime.now().strftime(\"%H:%M:%S\"))\n",
    "print(\"Ended:\",datetime.now().strftime(\"%H:%M:%S\"))\n",
    "df = pd.DataFrame(rowlist)\n",
    "df.shape"
   ]
  },
  {
   "cell_type": "code",
   "execution_count": 18,
   "metadata": {
    "ExecuteTime": {
     "end_time": "2019-04-23T16:16:38.648204Z",
     "start_time": "2019-04-23T16:16:38.643378Z"
    }
   },
   "outputs": [
    {
     "data": {
      "text/plain": [
       "Index(['_id', 'content_id', 'content_purpose_document_supertype',\n",
       "       'content_purpose_subgroup', 'content_purpose_supergroup', 'description',\n",
       "       'details', 'document_collections', 'document_type',\n",
       "       'email_document_supertype', 'first_published_at',\n",
       "       'government_document_supertype', 'locale', 'mainstream_browse_pages',\n",
       "       'navigation_document_supertype', 'ordered_related_items',\n",
       "       'ordered_related_items_overrides', 'organisations',\n",
       "       'pages_part_of_step_nav', 'pages_related_to_step_nav',\n",
       "       'part_of_step_navs', 'phase', 'primary_publishing_organisation',\n",
       "       'public_updated_at', 'publishing_app', 'publishing_scheduled_at',\n",
       "       'related_to_step_navs', 'rendering_app',\n",
       "       'search_user_need_document_supertype', 'taxons', 'title', 'topics',\n",
       "       'updated_at', 'user_journey_document_supertype'],\n",
       "      dtype='object')"
      ]
     },
     "execution_count": 18,
     "metadata": {},
     "output_type": "execute_result"
    }
   ],
   "source": [
    "df.columns"
   ]
  },
  {
   "cell_type": "code",
   "execution_count": 19,
   "metadata": {
    "ExecuteTime": {
     "end_time": "2019-04-23T16:16:46.976940Z",
     "start_time": "2019-04-23T16:16:46.919683Z"
    }
   },
   "outputs": [
    {
     "data": {
      "text/html": [
       "<div>\n",
       "<style scoped>\n",
       "    .dataframe tbody tr th:only-of-type {\n",
       "        vertical-align: middle;\n",
       "    }\n",
       "\n",
       "    .dataframe tbody tr th {\n",
       "        vertical-align: top;\n",
       "    }\n",
       "\n",
       "    .dataframe thead th {\n",
       "        text-align: right;\n",
       "    }\n",
       "</style>\n",
       "<table border=\"1\" class=\"dataframe\">\n",
       "  <thead>\n",
       "    <tr style=\"text-align: right;\">\n",
       "      <th></th>\n",
       "      <th>_id</th>\n",
       "      <th>content_id</th>\n",
       "      <th>content_purpose_document_supertype</th>\n",
       "      <th>content_purpose_subgroup</th>\n",
       "      <th>content_purpose_supergroup</th>\n",
       "      <th>description</th>\n",
       "      <th>details</th>\n",
       "      <th>document_collections</th>\n",
       "      <th>document_type</th>\n",
       "      <th>email_document_supertype</th>\n",
       "      <th>...</th>\n",
       "      <th>publishing_app</th>\n",
       "      <th>publishing_scheduled_at</th>\n",
       "      <th>related_to_step_navs</th>\n",
       "      <th>rendering_app</th>\n",
       "      <th>search_user_need_document_supertype</th>\n",
       "      <th>taxons</th>\n",
       "      <th>title</th>\n",
       "      <th>topics</th>\n",
       "      <th>updated_at</th>\n",
       "      <th>user_journey_document_supertype</th>\n",
       "    </tr>\n",
       "  </thead>\n",
       "  <tbody>\n",
       "    <tr>\n",
       "      <th>0</th>\n",
       "      <td>/30-hours-free-childcare</td>\n",
       "      <td>ddda6dc8-e9de-49db-bbd1-97e3d0bc1e6f</td>\n",
       "      <td>guidance</td>\n",
       "      <td>transactions</td>\n",
       "      <td>services</td>\n",
       "      <td>{'value': 'Who is eligible for 30 hours free c...</td>\n",
       "      <td>{'body': [{'content_type': 'text/govspeak', 'c...</td>\n",
       "      <td>NaN</td>\n",
       "      <td>answer</td>\n",
       "      <td>other</td>\n",
       "      <td>...</td>\n",
       "      <td>publisher</td>\n",
       "      <td>NaT</td>\n",
       "      <td>NaN</td>\n",
       "      <td>government-frontend</td>\n",
       "      <td>core</td>\n",
       "      <td>NaN</td>\n",
       "      <td>30 hours free childcare</td>\n",
       "      <td>NaN</td>\n",
       "      <td>2019-03-06 09:32:27.771</td>\n",
       "      <td>thing</td>\n",
       "    </tr>\n",
       "    <tr>\n",
       "      <th>1</th>\n",
       "      <td>/aaib-reports/aaib-investigation-to-skyranger-...</td>\n",
       "      <td>b88fe96f-57bd-4302-ae7f-82fb3c88f0ee</td>\n",
       "      <td>reports</td>\n",
       "      <td>incidents</td>\n",
       "      <td>transparency</td>\n",
       "      <td>{'value': 'Lost control during taxiing, Newtow...</td>\n",
       "      <td>{'metadata': {'date_of_occurrence': '2014-07-0...</td>\n",
       "      <td>NaN</td>\n",
       "      <td>aaib_report</td>\n",
       "      <td>other</td>\n",
       "      <td>...</td>\n",
       "      <td>specialist-publisher</td>\n",
       "      <td>NaT</td>\n",
       "      <td>NaN</td>\n",
       "      <td>government-frontend</td>\n",
       "      <td>government</td>\n",
       "      <td>[{'base_path': '/transport/air-accidents-and-s...</td>\n",
       "      <td>AAIB investigation to Skyranger 912(2), G-CCCK\\t</td>\n",
       "      <td>NaN</td>\n",
       "      <td>2019-03-06 12:07:13.338</td>\n",
       "      <td>thing</td>\n",
       "    </tr>\n",
       "    <tr>\n",
       "      <th>2</th>\n",
       "      <td>/aaib-reports/aaib-investigation-to-skyranger-...</td>\n",
       "      <td>01f0d046-2642-4723-a996-9f7c32d4129f</td>\n",
       "      <td>reports</td>\n",
       "      <td>incidents</td>\n",
       "      <td>transparency</td>\n",
       "      <td>{'value': 'Engine failure after take-off follo...</td>\n",
       "      <td>{'metadata': {'date_of_occurrence': '2015-06-2...</td>\n",
       "      <td>NaN</td>\n",
       "      <td>aaib_report</td>\n",
       "      <td>other</td>\n",
       "      <td>...</td>\n",
       "      <td>specialist-publisher</td>\n",
       "      <td>NaT</td>\n",
       "      <td>NaN</td>\n",
       "      <td>government-frontend</td>\n",
       "      <td>government</td>\n",
       "      <td>[{'base_path': '/transport/air-accidents-and-s...</td>\n",
       "      <td>AAIB investigation to Skyranger 912(2), G-JBUL</td>\n",
       "      <td>NaN</td>\n",
       "      <td>2019-03-06 13:13:54.143</td>\n",
       "      <td>thing</td>\n",
       "    </tr>\n",
       "    <tr>\n",
       "      <th>3</th>\n",
       "      <td>/aaib-reports/aaib-investigation-to-skyranger-...</td>\n",
       "      <td>2c18962c-57d5-4ea2-b1f4-7093059946bc</td>\n",
       "      <td>reports</td>\n",
       "      <td>incidents</td>\n",
       "      <td>transparency</td>\n",
       "      <td>{'value': 'Heavy landing and propeller strike,...</td>\n",
       "      <td>{'metadata': {'date_of_occurrence': '2015-01-2...</td>\n",
       "      <td>NaN</td>\n",
       "      <td>aaib_report</td>\n",
       "      <td>other</td>\n",
       "      <td>...</td>\n",
       "      <td>specialist-publisher</td>\n",
       "      <td>NaT</td>\n",
       "      <td>NaN</td>\n",
       "      <td>government-frontend</td>\n",
       "      <td>government</td>\n",
       "      <td>[{'base_path': '/transport/air-accidents-and-s...</td>\n",
       "      <td>AAIB investigation to Skyranger J2.2(3), G-CBXS</td>\n",
       "      <td>NaN</td>\n",
       "      <td>2019-03-06 11:34:38.358</td>\n",
       "      <td>thing</td>\n",
       "    </tr>\n",
       "    <tr>\n",
       "      <th>4</th>\n",
       "      <td>/aaib-reports/aaib-investigation-to-skyranger-...</td>\n",
       "      <td>15c8690c-0089-4d53-8601-17081a7963cf</td>\n",
       "      <td>reports</td>\n",
       "      <td>incidents</td>\n",
       "      <td>transparency</td>\n",
       "      <td>{'value': 'Aircraft departed runway, Brookfiel...</td>\n",
       "      <td>{'metadata': {'date_of_occurrence': '2014-09-1...</td>\n",
       "      <td>NaN</td>\n",
       "      <td>aaib_report</td>\n",
       "      <td>other</td>\n",
       "      <td>...</td>\n",
       "      <td>specialist-publisher</td>\n",
       "      <td>NaT</td>\n",
       "      <td>NaN</td>\n",
       "      <td>government-frontend</td>\n",
       "      <td>government</td>\n",
       "      <td>[{'base_path': '/transport/air-accidents-and-s...</td>\n",
       "      <td>AAIB investigation to Skyranger Swift 912S(1),...</td>\n",
       "      <td>NaN</td>\n",
       "      <td>2019-03-06 12:27:23.287</td>\n",
       "      <td>thing</td>\n",
       "    </tr>\n",
       "  </tbody>\n",
       "</table>\n",
       "<p>5 rows × 34 columns</p>\n",
       "</div>"
      ],
      "text/plain": [
       "                                                 _id  \\\n",
       "0                           /30-hours-free-childcare   \n",
       "1  /aaib-reports/aaib-investigation-to-skyranger-...   \n",
       "2  /aaib-reports/aaib-investigation-to-skyranger-...   \n",
       "3  /aaib-reports/aaib-investigation-to-skyranger-...   \n",
       "4  /aaib-reports/aaib-investigation-to-skyranger-...   \n",
       "\n",
       "                             content_id content_purpose_document_supertype  \\\n",
       "0  ddda6dc8-e9de-49db-bbd1-97e3d0bc1e6f                           guidance   \n",
       "1  b88fe96f-57bd-4302-ae7f-82fb3c88f0ee                            reports   \n",
       "2  01f0d046-2642-4723-a996-9f7c32d4129f                            reports   \n",
       "3  2c18962c-57d5-4ea2-b1f4-7093059946bc                            reports   \n",
       "4  15c8690c-0089-4d53-8601-17081a7963cf                            reports   \n",
       "\n",
       "  content_purpose_subgroup content_purpose_supergroup  \\\n",
       "0             transactions                   services   \n",
       "1                incidents               transparency   \n",
       "2                incidents               transparency   \n",
       "3                incidents               transparency   \n",
       "4                incidents               transparency   \n",
       "\n",
       "                                         description  \\\n",
       "0  {'value': 'Who is eligible for 30 hours free c...   \n",
       "1  {'value': 'Lost control during taxiing, Newtow...   \n",
       "2  {'value': 'Engine failure after take-off follo...   \n",
       "3  {'value': 'Heavy landing and propeller strike,...   \n",
       "4  {'value': 'Aircraft departed runway, Brookfiel...   \n",
       "\n",
       "                                             details document_collections  \\\n",
       "0  {'body': [{'content_type': 'text/govspeak', 'c...                  NaN   \n",
       "1  {'metadata': {'date_of_occurrence': '2014-07-0...                  NaN   \n",
       "2  {'metadata': {'date_of_occurrence': '2015-06-2...                  NaN   \n",
       "3  {'metadata': {'date_of_occurrence': '2015-01-2...                  NaN   \n",
       "4  {'metadata': {'date_of_occurrence': '2014-09-1...                  NaN   \n",
       "\n",
       "  document_type email_document_supertype  ...        publishing_app  \\\n",
       "0        answer                    other  ...             publisher   \n",
       "1   aaib_report                    other  ...  specialist-publisher   \n",
       "2   aaib_report                    other  ...  specialist-publisher   \n",
       "3   aaib_report                    other  ...  specialist-publisher   \n",
       "4   aaib_report                    other  ...  specialist-publisher   \n",
       "\n",
       "  publishing_scheduled_at related_to_step_navs        rendering_app  \\\n",
       "0                     NaT                  NaN  government-frontend   \n",
       "1                     NaT                  NaN  government-frontend   \n",
       "2                     NaT                  NaN  government-frontend   \n",
       "3                     NaT                  NaN  government-frontend   \n",
       "4                     NaT                  NaN  government-frontend   \n",
       "\n",
       "  search_user_need_document_supertype  \\\n",
       "0                                core   \n",
       "1                          government   \n",
       "2                          government   \n",
       "3                          government   \n",
       "4                          government   \n",
       "\n",
       "                                              taxons  \\\n",
       "0                                                NaN   \n",
       "1  [{'base_path': '/transport/air-accidents-and-s...   \n",
       "2  [{'base_path': '/transport/air-accidents-and-s...   \n",
       "3  [{'base_path': '/transport/air-accidents-and-s...   \n",
       "4  [{'base_path': '/transport/air-accidents-and-s...   \n",
       "\n",
       "                                               title topics  \\\n",
       "0                            30 hours free childcare    NaN   \n",
       "1   AAIB investigation to Skyranger 912(2), G-CCCK\\t    NaN   \n",
       "2     AAIB investigation to Skyranger 912(2), G-JBUL    NaN   \n",
       "3    AAIB investigation to Skyranger J2.2(3), G-CBXS    NaN   \n",
       "4  AAIB investigation to Skyranger Swift 912S(1),...    NaN   \n",
       "\n",
       "               updated_at user_journey_document_supertype  \n",
       "0 2019-03-06 09:32:27.771                           thing  \n",
       "1 2019-03-06 12:07:13.338                           thing  \n",
       "2 2019-03-06 13:13:54.143                           thing  \n",
       "3 2019-03-06 11:34:38.358                           thing  \n",
       "4 2019-03-06 12:27:23.287                           thing  \n",
       "\n",
       "[5 rows x 34 columns]"
      ]
     },
     "execution_count": 19,
     "metadata": {},
     "output_type": "execute_result"
    }
   ],
   "source": [
    "df.head()"
   ]
  },
  {
   "cell_type": "code",
   "execution_count": 45,
   "metadata": {
    "ExecuteTime": {
     "end_time": "2019-04-23T16:29:55.693579Z",
     "start_time": "2019-04-23T16:29:55.681934Z"
    }
   },
   "outputs": [],
   "source": [
    "LOOK = ['title', 'body']\n",
    "CHILD_KEYS = ['title', 'description']\n",
    "DETAILS_SECTIONS = ['body', 'brand', 'documents', 'final_outcome_detail', 'final_outcome_documents',\n",
    "                    'government', 'headers', 'introduction', 'introductory_paragraph',\n",
    "                    'licence_overview', 'licence_short_description', 'logo', 'metadata', 'more_information',\n",
    "                    'need_to_know',\n",
    "                    'other_ways_to_apply', 'summary', 'ways_to_respond', 'what_you_need_to_know', 'will_continue_on',\n",
    "                    'parts',\n",
    "                    'collection_groups']\n",
    "\n",
    "def cs_extract_links(details):\n",
    "    \"\"\"\n",
    "    Generic implementation to extract text or links from the details entry in a content store item. Details contains\n",
    "    what is shown in the main body of a page. This is catered to content pages.\n",
    "    :param details: A nested json dictionary-like structure\n",
    "    :param function_type: extract texts or links\n",
    "    :return: the aggregated text or links\n",
    "    \"\"\"\n",
    "\n",
    "    links = []\n",
    "\n",
    "    for key, dict_list in sorted(details.items()):\n",
    "        if key in DETAILS_SECTIONS:\n",
    "            print(\"thru if\", key)\n",
    "            if isinstance(dict_list, list):\n",
    "                print('list')\n",
    "                print(dict_list)\n",
    "                for dict_i in dict_list:\n",
    "                    # print(\"dict_i\", dict_i)\n",
    "#                     why are we looking only at dict_i['content_type'] == \"text/html\"? what about when there are no conteent types?\n",
    "                    if 'content_type' in dict_i.keys() and dict_i['content_type'] == \"text/html\":\n",
    "                        # print(\"get content\")\n",
    "                        links.extend(extract_html_links(dict_i['content']))\n",
    "                    elif any(l in dict_i.keys() for l in LOOK):\n",
    "                        for l in LOOK:\n",
    "                            print(l)\n",
    "                            if l in dict_i.keys():\n",
    "                                for dict_j in dict_i[l]:\n",
    "                                    print(dict_j)\n",
    "                                    if 'content_type' in dict_j.keys() and dict_j['content_type'] == \"text/html\":\n",
    "                                        links.extend(extract_html_links(dict_j['content']))\n",
    "            else:\n",
    "                print(dict_list)\n",
    "                links.extend(extract_html_links(dict_list))\n",
    "    if \"transaction_start_link\" in details.keys():\n",
    "        links.append(details[\"transaction_start_link\"])\n",
    "\n",
    "    return links"
   ]
  },
  {
   "cell_type": "code",
   "execution_count": 48,
   "metadata": {
    "ExecuteTime": {
     "end_time": "2019-04-23T16:30:15.752571Z",
     "start_time": "2019-04-23T16:30:15.749918Z"
    }
   },
   "outputs": [],
   "source": [
    "# sorted(df.details.iloc[13].items())"
   ]
  },
  {
   "cell_type": "code",
   "execution_count": 47,
   "metadata": {
    "ExecuteTime": {
     "end_time": "2019-04-23T16:29:56.215116Z",
     "start_time": "2019-04-23T16:29:56.205614Z"
    }
   },
   "outputs": [
    {
     "name": "stdout",
     "output_type": "stream",
     "text": [
      "thru if body\n",
      "list\n",
      "[{'content_type': 'text/govspeak', 'content': '## Summary:\\r\\nFollowing engine shutdown due to a failed fuel pump, the pilot made a forced landing during which the landing gear collapsed.\\r\\n\\r\\n### Download report:\\r\\n[embed:attachments:inline:b0cb96e1-a605-470a-bf8e-45927bf2358a] \\r\\n\\r\\n### Download glossary of abbreviations:\\r\\n[Glossary of abbreviations](https://www.gov.uk/government/uploads/system/uploads/attachment_data/file/433812/Glossary_of_abbreviations.pdf)\\r\\n'}, {'content_type': 'text/html', 'content': '<h2 id=\"summary\">Summary:</h2>\\n<p>Following engine shutdown due to a failed fuel pump, the pilot made a forced landing during which the landing gear collapsed.</p>\\n\\n<h3 id=\"download-report\">Download report:</h3>\\n<p><span class=\"attachment-inline\"><a href=\"https://assets.publishing.service.gov.uk/media/59b0024ee5274a180e3705e3/Stolp_Starduster_Too_SA300_G-JIII_09-17.pdf\">Stolp Starduster Too SA300, G-JIII 09-17</a></span></p>\\n\\n<h3 id=\"download-glossary-of-abbreviations\">Download glossary of abbreviations:</h3>\\n<p><a href=\"https://www.gov.uk/government/uploads/system/uploads/attachment_data/file/433812/Glossary_of_abbreviations.pdf\">Glossary of abbreviations</a></p>\\n'}]\n",
      "thru if headers\n",
      "list\n",
      "[{'text': 'Summary:', 'level': 2, 'id': 'summary', 'headers': [{'text': 'Download report:', 'level': 3, 'id': 'download-report'}, {'text': 'Download glossary of abbreviations:', 'level': 3, 'id': 'download-glossary-of-abbreviations'}]}]\n",
      "thru if metadata\n",
      "{'date_of_occurrence': '2017-05-14', 'aircraft_category': ['general-aviation-fixed-wing'], 'report_type': 'correspondence-investigation', 'location': 'Raydale, North Yorkshire', 'aircraft_type': 'Stolp Starduster Too SA300', 'registration': 'G-JIII\\t'}\n",
      "error\n"
     ]
    },
    {
     "data": {
      "text/plain": [
       "['/government/uploads/system/uploads/attachment_data/file/433812/Glossary_of_abbreviations.pdf']"
      ]
     },
     "execution_count": 47,
     "metadata": {},
     "output_type": "execute_result"
    }
   ],
   "source": [
    "cs_extract_links(df.details.iloc[13])"
   ]
  },
  {
   "cell_type": "code",
   "execution_count": 58,
   "metadata": {
    "ExecuteTime": {
     "end_time": "2019-04-23T16:30:59.593223Z",
     "start_time": "2019-04-23T16:30:59.584031Z"
    }
   },
   "outputs": [
    {
     "name": "stdout",
     "output_type": "stream",
     "text": [
      "thru if body\n",
      "list\n",
      "[{'content_type': 'text/html', 'content': '<h2 id=\"fokker-f28-mark-0070-ph-kzb\">Fokker F.28 Mark 0070, PH-KZB</h2>\\n\\n<h3 id=\"summary\">Summary:</h3>\\n\\n<p>The aircraft was taxied onto Stand 214C (centre) using the right engine with the left engine shut down and the APU running. As soon as the right engine was shut down, there was a strong smell of electrical burning and smoke began to accumulate on the flight deck. Following a brief discussion with the Cabin Service Supervisor, the aircraft was evacuated. An engineering investigation identified that the emergency inverter cooling fan capacitor, was completely burnt out. This had released smoke and fumes into the flight deck area. </p>\\n\\n<h3 id=\"download-report\">Download report:</h3>\\n\\n<p><a rel=\"external\" href=\"https://assets.digital.cabinet-office.gov.uk/media/5422f81be5274a13170006ed/Fokker_F_28_Mark_0070__PH-KZB_05-09.pdf\">Fokker F 28 Mark 0070, PH-KZB 05-09.pdf</a> (535.27 kb) </p>\\n'}, {'content_type': 'text/govspeak', 'content': '## Fokker F.28 Mark 0070, PH-KZB\\n\\n### Summary: \\n\\n\\nThe aircraft was taxied onto Stand 214C (centre) using the right engine with the left engine shut down and the APU running. As soon as the right engine was shut down, there was a strong smell of electrical burning and smoke began to accumulate on the flight deck. Following a brief discussion with the Cabin Service Supervisor, the aircraft was evacuated. An engineering investigation identified that the emergency inverter cooling fan capacitor, was completely burnt out. This had released smoke and fumes into the flight deck area. \\n\\n### Download report: \\n\\n\\n[InlineAttachment:Fokker F 28 Mark 0070, PH-KZB 05-09.pdf] (535.27 kb) \\n'}]\n",
      "thru if headers\n",
      "list\n",
      "[{'text': 'Fokker F.28 Mark 0070, PH-KZB', 'level': 2, 'id': 'fokker-f28-mark-0070-ph-kzb', 'headers': [{'text': 'Summary:', 'level': 3, 'id': 'summary'}, {'text': 'Download report:', 'level': 3, 'id': 'download-report'}]}]\n",
      "thru if metadata\n",
      "{'date_of_occurrence': '2008-09-29', 'aircraft_category': ['commercial-fixed-wing'], 'report_type': 'field-investigation', 'location': 'Manchester Airport', 'aircraft_type': 'Fokker F.28 Mark 0070', 'registration': 'PH-KZB', 'bulk_published': True, 'document_type': 'aaib_report'}\n",
      "error\n"
     ]
    },
    {
     "data": {
      "text/plain": [
       "[]"
      ]
     },
     "execution_count": 58,
     "metadata": {},
     "output_type": "execute_result"
    }
   ],
   "source": [
    "cs_extract_links(df.details.iloc[5510])"
   ]
  },
  {
   "cell_type": "code",
   "execution_count": 59,
   "metadata": {
    "ExecuteTime": {
     "end_time": "2019-04-23T16:37:18.880926Z",
     "start_time": "2019-04-23T16:37:18.877836Z"
    }
   },
   "outputs": [],
   "source": [
    "mydoc1 = mycol.find({ \"$and\": [\n",
    "                    { \"content_id\": \"457fe71a-0ce9-46d5-b22a-0426cdd99ebc\"},\n",
    "                    { \"phase\": \"live\"}]})\n"
   ]
  },
  {
   "cell_type": "code",
   "execution_count": 61,
   "metadata": {
    "ExecuteTime": {
     "end_time": "2019-04-23T16:38:09.103046Z",
     "start_time": "2019-04-23T16:37:33.189767Z"
    }
   },
   "outputs": [],
   "source": [
    "contentdata1 = mydoc1.next()"
   ]
  },
  {
   "cell_type": "code",
   "execution_count": 63,
   "metadata": {
    "ExecuteTime": {
     "end_time": "2019-04-23T16:38:16.633907Z",
     "start_time": "2019-04-23T16:38:16.615837Z"
    }
   },
   "outputs": [
    {
     "data": {
      "text/plain": [
       "{'_id': '/government/news/brexit-britain-will-have-the-worlds-best-maritime-industry',\n",
       " 'description': {'value': 'Announces plans to shape, promote and collaborate with the maritime sector, double apprenticeships and launch a shipbuilding renaissance.'},\n",
       " 'content_purpose_document_supertype': 'news',\n",
       " 'content_purpose_subgroup': 'news',\n",
       " 'content_purpose_supergroup': 'news_and_communications',\n",
       " 'email_document_supertype': 'announcements',\n",
       " 'government_document_supertype': 'news-stories',\n",
       " 'navigation_document_supertype': 'other',\n",
       " 'search_user_need_document_supertype': 'government',\n",
       " 'user_journey_document_supertype': 'thing',\n",
       " 'locale': 'en',\n",
       " 'details': {'body': '<div class=\"govspeak\"><p>Brexit Britain will be the best country in the world to do maritime business thanks to more trade opportunities, more jobs and more investment in new technologies, Transport Secretary Chris Grayling said today (11 September 2017).</p>\\n\\n<p>The government has committed to working with industry to deliver an ambitious export plan for when we leave the European Union.</p>\\n\\n<p>This will maximise new trade opportunities and significantly grow the <abbr title=\"United Kingdom\">UK</abbr>’s maritime sector to become a global front runner in future innovation and technology.</p>\\n\\n<p>The government will achieve this by:</p>\\n\\n<ul>\\n  <li>creating a plan to shape and promote the maritime industry up to 2050</li>\\n  <li>collaborating with industry partners to significantly grow the sector by seizing new trade opportunities</li>\\n  <li>calling on maritime employers to double the number of apprenticeships they offer</li>\\n  <li>launching a British shipbuilding ‘renaissance’ as part of the <a href=\"https://www.gov.uk/government/publications/national-shipbuilding-strategy\">National Ship Building Strategy</a>\\n</li>\\n</ul>\\n\\n<p>The Transport Secretary spoke ahead of at a meeting with international industry figures at 10 Downing Street on Monday to kick-off <a rel=\"external\" href=\"https://londoninternationalshippingweek.com/\">London International Shipping Week</a>, the biggest promotional <abbr title=\"United Kingdom\">UK</abbr> shipping event in recent history.</p>\\n\\n<p>Mr Grayling will shortly announce plans for a public discussion to help shape and promote the future of the maritime industry both up to 2050 and beyond.</p>\\n\\n<p>This vision will looks at how the government can support future growth in an industry which directly supports at least 111,000 jobs and contributes around £15 billion to the <abbr title=\"United Kingdom\">UK</abbr> economy each year.</p>\\n\\n<p>The Department for Transport will also call on employers to double the number of apprentices they employ in order to boost skills, jobs, and productivity across the <abbr title=\"United Kingdom\">UK</abbr>.</p>\\n\\n<p>This announcement comes after the government published its ‘National Ship Building Strategy’, which aims to step up a prospective ‘renaissance’ in British shipbuilding.</p>\\n\\n<p>Building on the government’s industrial strategy, it outlines an ambition to transform the procurement of naval ships, make the <abbr title=\"United Kingdom\">UK</abbr>’s maritime industry more competitive and grow the Royal Navy fleet by the 2030s.</p>\\n\\n<p>Transport Secretary Chris Grayling said:</p>\\n\\n<blockquote>\\n  <p>Leaving the European Union will allow Britain to seize new opportunities and rediscover our heritage as a truly global, seafaring, trading nation.</p>\\n\\n  <p>Our maritime industry, far from being a story of the past, is a thriving success story – worth around £15 billion a year to our economy and supporting a quarter of a million jobs.</p>\\n\\n  <p class=\"last-child\">This government is determined to work with the maritime industry to help it grow significantly and make the <abbr title=\"United Kingdom\">UK</abbr> a world leader for shipping business.</p>\\n</blockquote>\\n\\n<p>The roundtable summit of maritime leaders at 10 Downing Street will strengthen the partnership with investors and <abbr title=\"United Kingdom\">UK</abbr> exporters and identify post-<abbr title=\"European Union\">EU</abbr> exit opportunities.</p>\\n\\n<p>Shipping week will highlight the opportunities to boost trade and investment in the sector as the <abbr title=\"United Kingdom\">UK</abbr> leaves the European Union and looks to strike new deals with nations around the world.</p>\\n\\n<p>The government has already made good progress to bolster our trade and export relationships including by supporting the first Maritime <abbr title=\"United Kingdom\">UK</abbr> trade mission to China and Hong Kong.</p>\\n\\n<p>International Trade Secretary Dr Liam Fox said:</p>\\n\\n<blockquote>\\n  <p>The <abbr title=\"United Kingdom\">UK</abbr>’s maritime industry brings billions of pounds a year into our economy and will be vital to our continued prosperity when we leave the European Union. As an international economic department, our ambition is that we lead the way in world-class shipbuilding and maritime technology.</p>\\n\\n  <p class=\"last-child\">I’m delighted to be here at London Shipping Week to demonstrate our commitment to strengthen this thriving industry and promote the very best of British maritime innovation to the world.</p>\\n</blockquote>\\n\\n<p>The government has already implemented the recommendations from the <a href=\"https://www.gov.uk/government/publications/maritime-growth-study-report\">2015 maritime growth study</a> including setting up a ministerial working group for maritime growth. We have also <a href=\"https://www.gov.uk/guidance/support-for-maritime-training-smart\">supported maritime training for officers/cadets through the £15 million SMarT budget</a>.</p>\\n\\n<p>The work to develop a vision for the maritime sector will include maximising the value of new trade deals and a maritime skills strategy that identifies the industry’s future skills needs and the steps required to achieve them.</p>\\n\\n<p>The ship building strategy also aims to increase the export British ships overseas, and boost innovation, skills, jobs, and productivity across the <abbr title=\"United Kingdom\">UK</abbr>.</p>\\n\\n<div class=\"contact \" id=\"contact_1017\">\\n  <div class=\"content\">\\n    <h3>Maritime media enquiries</h3>\\n\\n    <div class=\"vcard contact-inner\">\\n\\n        <div class=\"email-url-number\">\\n            <p class=\"tel\">\\n              <span class=\"type\">Media enquiries</span>\\n              020 7944 3021\\n            </p>\\n            <p class=\"tel\">\\n              <span class=\"type\">Out of hours media enquiries</span>\\n              020 7944 4292\\n            </p>\\n            <p class=\"tel\">\\n              <span class=\"type\">Switchboard</span>\\n              0300 330 3000\\n            </p>\\n        </div>\\n\\n\\n    </div>\\n  </div>\\n</div>\\n\\n</div>',\n",
       "  'emphasised_organisations': ['4c717efc-f47b-478e-a76d-ce1ae0af1946'],\n",
       "  'change_history': [{'public_timestamp': '2017-09-11T10:04:10.000+01:00',\n",
       "    'note': 'First published.'}],\n",
       "  'image': {'url': 'https://assets.publishing.service.gov.uk/government/uploads/system/uploads/image_data/file/67056/s300_shipping-containers.jpg',\n",
       "   'caption': None,\n",
       "   'alt_text': 'Image of port shipping containers being moved.'},\n",
       "  'first_public_at': '2017-09-11T10:04:10.000+01:00',\n",
       "  'political': True,\n",
       "  'government': {'title': '2015 Conservative government',\n",
       "   'slug': '2015-conservative-government',\n",
       "   'current': True},\n",
       "  'tags': {'browse_pages': [], 'policies': ['maritime-sector'], 'topics': []}},\n",
       " 'routes': [{'path': '/government/news/brexit-britain-will-have-the-worlds-best-maritime-industry',\n",
       "   'type': 'exact'}],\n",
       " 'redirects': [],\n",
       " 'links': {},\n",
       " 'expanded_links': {'ministers': [{'analytics_identifier': None,\n",
       "    'api_path': '/api/content/government/people/liam-fox',\n",
       "    'base_path': '/government/people/liam-fox',\n",
       "    'content_id': '852c36b5-c0f1-11e4-8223-005056011aef',\n",
       "    'description': None,\n",
       "    'document_type': 'person',\n",
       "    'locale': 'en',\n",
       "    'public_updated_at': '2017-08-10T15:16:42Z',\n",
       "    'schema_name': 'person',\n",
       "    'title': 'The Rt Hon Liam Fox MP',\n",
       "    'withdrawn': False,\n",
       "    'links': {}},\n",
       "   {'analytics_identifier': None,\n",
       "    'api_path': '/api/content/government/people/chris-grayling',\n",
       "    'base_path': '/government/people/chris-grayling',\n",
       "    'content_id': '8529413a-c0f1-11e4-8223-005056011aef',\n",
       "    'description': None,\n",
       "    'document_type': 'person',\n",
       "    'locale': 'en',\n",
       "    'public_updated_at': '2018-01-31T12:00:58Z',\n",
       "    'schema_name': 'person',\n",
       "    'title': 'The Rt Hon Chris Grayling MP',\n",
       "    'withdrawn': False,\n",
       "    'links': {}}],\n",
       "  'organisations': [{'analytics_identifier': 'D9',\n",
       "    'api_path': '/api/content/government/organisations/department-for-transport',\n",
       "    'base_path': '/government/organisations/department-for-transport',\n",
       "    'content_id': '4c717efc-f47b-478e-a76d-ce1ae0af1946',\n",
       "    'description': 'We work with our agencies and partners to support the transport network that helps the UK’s businesses and gets people and goods travelling around the country. We plan and invest in transport infrastructure to keep the UK on the move. DfT is a ministerial department, supported by 23 agencies and public bodies .',\n",
       "    'document_type': 'organisation',\n",
       "    'locale': 'en',\n",
       "    'schema_name': 'organisation',\n",
       "    'title': 'Department for Transport',\n",
       "    'withdrawn': False,\n",
       "    'details': {'logo': {'formatted_title': 'Department<br/>for Transport',\n",
       "      'crest': 'single-identity'},\n",
       "     'brand': 'department-for-transport',\n",
       "     'default_news_image': {'url': 'https://assets.publishing.service.gov.uk/government/uploads/system/uploads/default_news_organisation_image_data/file/26/s300_Great-Minster-House.jpg',\n",
       "      'high_resolution_url': 'https://assets.publishing.service.gov.uk/government/uploads/system/uploads/default_news_organisation_image_data/file/26/s960_Great-Minster-House.jpg'}},\n",
       "    'links': {}}],\n",
       "  'original_primary_publishing_organisation': [{'analytics_identifier': 'D9',\n",
       "    'api_path': '/api/content/government/organisations/department-for-transport',\n",
       "    'base_path': '/government/organisations/department-for-transport',\n",
       "    'content_id': '4c717efc-f47b-478e-a76d-ce1ae0af1946',\n",
       "    'description': 'We work with our agencies and partners to support the transport network that helps the UK’s businesses and gets people and goods travelling around the country. We plan and invest in transport infrastructure to keep the UK on the move. DfT is a ministerial department, supported by 23 agencies and public bodies .',\n",
       "    'document_type': 'organisation',\n",
       "    'locale': 'en',\n",
       "    'schema_name': 'organisation',\n",
       "    'title': 'Department for Transport',\n",
       "    'withdrawn': False,\n",
       "    'details': {'logo': {'formatted_title': 'Department<br/>for Transport',\n",
       "      'crest': 'single-identity'},\n",
       "     'brand': 'department-for-transport',\n",
       "     'default_news_image': {'url': 'https://assets.publishing.service.gov.uk/government/uploads/system/uploads/default_news_organisation_image_data/file/26/s300_Great-Minster-House.jpg',\n",
       "      'high_resolution_url': 'https://assets.publishing.service.gov.uk/government/uploads/system/uploads/default_news_organisation_image_data/file/26/s960_Great-Minster-House.jpg'}},\n",
       "    'links': {}}],\n",
       "  'people': [{'analytics_identifier': None,\n",
       "    'api_path': '/api/content/government/people/liam-fox',\n",
       "    'base_path': '/government/people/liam-fox',\n",
       "    'content_id': '852c36b5-c0f1-11e4-8223-005056011aef',\n",
       "    'description': None,\n",
       "    'document_type': 'person',\n",
       "    'locale': 'en',\n",
       "    'public_updated_at': '2017-08-10T15:16:42Z',\n",
       "    'schema_name': 'person',\n",
       "    'title': 'The Rt Hon Liam Fox MP',\n",
       "    'withdrawn': False,\n",
       "    'links': {}},\n",
       "   {'analytics_identifier': None,\n",
       "    'api_path': '/api/content/government/people/chris-grayling',\n",
       "    'base_path': '/government/people/chris-grayling',\n",
       "    'content_id': '8529413a-c0f1-11e4-8223-005056011aef',\n",
       "    'description': None,\n",
       "    'document_type': 'person',\n",
       "    'locale': 'en',\n",
       "    'public_updated_at': '2018-01-31T12:00:58Z',\n",
       "    'schema_name': 'person',\n",
       "    'title': 'The Rt Hon Chris Grayling MP',\n",
       "    'withdrawn': False,\n",
       "    'links': {}}],\n",
       "  'policy_areas': [{'analytics_identifier': None,\n",
       "    'api_path': '/api/content/government/topics/transport',\n",
       "    'base_path': '/government/topics/transport',\n",
       "    'content_id': '020cdae2-ee93-4fca-bfb7-3f5f8f5751d1',\n",
       "    'description': None,\n",
       "    'document_type': 'policy_area',\n",
       "    'locale': 'en',\n",
       "    'public_updated_at': '2018-10-22T09:46:33Z',\n",
       "    'schema_name': 'placeholder',\n",
       "    'title': 'Transport',\n",
       "    'withdrawn': False,\n",
       "    'links': {}},\n",
       "   {'analytics_identifier': None,\n",
       "    'api_path': '/api/content/government/topics/uk-economy',\n",
       "    'base_path': '/government/topics/uk-economy',\n",
       "    'content_id': 'f10df7ae-e3a6-4f9c-b764-541f62c8e6cf',\n",
       "    'description': None,\n",
       "    'document_type': 'policy_area',\n",
       "    'locale': 'en',\n",
       "    'public_updated_at': '2018-10-22T09:46:33Z',\n",
       "    'schema_name': 'placeholder',\n",
       "    'title': 'UK economy',\n",
       "    'withdrawn': False,\n",
       "    'links': {}}],\n",
       "  'primary_publishing_organisation': [{'analytics_identifier': 'D9',\n",
       "    'api_path': '/api/content/government/organisations/department-for-transport',\n",
       "    'base_path': '/government/organisations/department-for-transport',\n",
       "    'content_id': '4c717efc-f47b-478e-a76d-ce1ae0af1946',\n",
       "    'description': 'We work with our agencies and partners to support the transport network that helps the UK’s businesses and gets people and goods travelling around the country. We plan and invest in transport infrastructure to keep the UK on the move. DfT is a ministerial department, supported by 23 agencies and public bodies .',\n",
       "    'document_type': 'organisation',\n",
       "    'locale': 'en',\n",
       "    'schema_name': 'organisation',\n",
       "    'title': 'Department for Transport',\n",
       "    'withdrawn': False,\n",
       "    'details': {'logo': {'formatted_title': 'Department<br/>for Transport',\n",
       "      'crest': 'single-identity'},\n",
       "     'brand': 'department-for-transport',\n",
       "     'default_news_image': {'url': 'https://assets.publishing.service.gov.uk/government/uploads/system/uploads/default_news_organisation_image_data/file/26/s300_Great-Minster-House.jpg',\n",
       "      'high_resolution_url': 'https://assets.publishing.service.gov.uk/government/uploads/system/uploads/default_news_organisation_image_data/file/26/s960_Great-Minster-House.jpg'}},\n",
       "    'links': {}}],\n",
       "  'roles': [{'analytics_identifier': None,\n",
       "    'api_path': '/api/content/government/ministers/secretary-of-state-for-international-trade',\n",
       "    'base_path': '/government/ministers/secretary-of-state-for-international-trade',\n",
       "    'content_id': '30371bc0-0c68-4146-b5a1-2ba89b15516c',\n",
       "    'description': None,\n",
       "    'document_type': 'ministerial_role',\n",
       "    'locale': 'en',\n",
       "    'public_updated_at': '2017-04-04T12:38:58Z',\n",
       "    'schema_name': 'role',\n",
       "    'title': ' Secretary of State for International Trade and President of the Board of Trade',\n",
       "    'withdrawn': False,\n",
       "    'links': {}},\n",
       "   {'analytics_identifier': None,\n",
       "    'api_path': '/api/content/government/ministers/secretary-of-state-for-transport',\n",
       "    'base_path': '/government/ministers/secretary-of-state-for-transport',\n",
       "    'content_id': '845e6453-c0f1-11e4-8223-005056011aef',\n",
       "    'description': None,\n",
       "    'document_type': 'ministerial_role',\n",
       "    'locale': 'en',\n",
       "    'public_updated_at': '2017-06-27T18:07:24Z',\n",
       "    'schema_name': 'role',\n",
       "    'title': 'Secretary of State for Transport',\n",
       "    'withdrawn': False,\n",
       "    'links': {}}],\n",
       "  'taxons': [{'analytics_identifier': None,\n",
       "    'api_path': '/api/content/business-and-industry/uk-economy',\n",
       "    'base_path': '/business-and-industry/uk-economy',\n",
       "    'content_id': 'a1e4659c-dc15-48be-bc4f-6c609ae061dc',\n",
       "    'description': None,\n",
       "    'document_type': 'taxon',\n",
       "    'locale': 'en',\n",
       "    'public_updated_at': '2018-09-03T15:41:06Z',\n",
       "    'schema_name': 'taxon',\n",
       "    'title': 'UK economy',\n",
       "    'withdrawn': False,\n",
       "    'details': {'internal_name': 'UK economy',\n",
       "     'notes_for_editors': '...',\n",
       "     'visible_to_departmental_editors': False},\n",
       "    'phase': 'live',\n",
       "    'links': {'parent_taxons': [{'analytics_identifier': None,\n",
       "       'api_path': '/api/content/business-and-industry',\n",
       "       'base_path': '/business-and-industry',\n",
       "       'content_id': '495afdb6-47be-4df1-8b38-91c8adb1eefc',\n",
       "       'description': '',\n",
       "       'document_type': 'taxon',\n",
       "       'locale': 'en',\n",
       "       'public_updated_at': '2018-09-03T15:41:02Z',\n",
       "       'schema_name': 'taxon',\n",
       "       'title': 'Business and industry',\n",
       "       'withdrawn': False,\n",
       "       'details': {'internal_name': 'Business and industry',\n",
       "        'notes_for_editors': '',\n",
       "        'visible_to_departmental_editors': True},\n",
       "       'phase': 'live',\n",
       "       'links': {'root_taxon': [{'analytics_identifier': None,\n",
       "          'api_path': '/api/content/',\n",
       "          'base_path': '/',\n",
       "          'content_id': 'f3bbdec2-0e62-4520-a7fd-6ffd5d36e03a',\n",
       "          'description': '',\n",
       "          'document_type': 'homepage',\n",
       "          'locale': 'en',\n",
       "          'public_updated_at': '2018-06-12T15:28:48Z',\n",
       "          'schema_name': 'homepage',\n",
       "          'title': 'GOV.UK homepage',\n",
       "          'withdrawn': False,\n",
       "          'links': {}}]}}]}},\n",
       "   {'analytics_identifier': None,\n",
       "    'api_path': '/api/content/transport/maritime-and-shipping',\n",
       "    'base_path': '/transport/maritime-and-shipping',\n",
       "    'content_id': '4a9ab4d7-0d03-4c61-9e16-47787cbf53cd',\n",
       "    'description': 'Shipping, ports and harbours, security, safety at sea, crew training and certifications, sea passengers and vessel registration.',\n",
       "    'document_type': 'taxon',\n",
       "    'locale': 'en',\n",
       "    'public_updated_at': '2018-06-14T09:27:18Z',\n",
       "    'schema_name': 'taxon',\n",
       "    'title': 'Maritime and shipping',\n",
       "    'withdrawn': False,\n",
       "    'details': {'internal_name': 'Maritime and shipping',\n",
       "     'notes_for_editors': '',\n",
       "     'visible_to_departmental_editors': False},\n",
       "    'phase': 'live',\n",
       "    'links': {'parent_taxons': [{'analytics_identifier': None,\n",
       "       'api_path': '/api/content/transport',\n",
       "       'base_path': '/transport',\n",
       "       'content_id': 'a4038b29-b332-4f13-98b1-1c9709e216bc',\n",
       "       'description': 'Aviation, roads, rail, maritime, driving, freight, public transport, safety, environment and transport accessibility.',\n",
       "       'document_type': 'taxon',\n",
       "       'locale': 'en',\n",
       "       'public_updated_at': '2018-06-15T14:31:46Z',\n",
       "       'schema_name': 'taxon',\n",
       "       'title': 'Transport',\n",
       "       'withdrawn': False,\n",
       "       'details': {'internal_name': 'Transport',\n",
       "        'notes_for_editors': '',\n",
       "        'visible_to_departmental_editors': True},\n",
       "       'phase': 'live',\n",
       "       'links': {'root_taxon': [{'analytics_identifier': None,\n",
       "          'api_path': '/api/content/',\n",
       "          'base_path': '/',\n",
       "          'content_id': 'f3bbdec2-0e62-4520-a7fd-6ffd5d36e03a',\n",
       "          'description': '',\n",
       "          'document_type': 'homepage',\n",
       "          'locale': 'en',\n",
       "          'public_updated_at': '2018-06-12T15:28:48Z',\n",
       "          'schema_name': 'homepage',\n",
       "          'title': 'GOV.UK homepage',\n",
       "          'withdrawn': False,\n",
       "          'links': {}}]}}]}}],\n",
       "  'available_translations': [{'title': \"Brexit Britain will have the world's best maritime industry\",\n",
       "    'public_updated_at': '2017-09-11T09:04:10Z',\n",
       "    'analytics_identifier': None,\n",
       "    'document_type': 'news_story',\n",
       "    'schema_name': 'news_article',\n",
       "    'base_path': '/government/news/brexit-britain-will-have-the-worlds-best-maritime-industry',\n",
       "    'description': 'Announces plans to shape, promote and collaborate with the maritime sector, double apprenticeships and launch a shipbuilding renaissance.',\n",
       "    'api_path': '/api/content/government/news/brexit-britain-will-have-the-worlds-best-maritime-industry',\n",
       "    'withdrawn': False,\n",
       "    'content_id': '457fe71a-0ce9-46d5-b22a-0426cdd99ebc',\n",
       "    'locale': 'en'}]},\n",
       " 'access_limited': {},\n",
       " 'phase': 'live',\n",
       " 'withdrawn_notice': {},\n",
       " 'title': \"Brexit Britain will have the world's best maritime industry\",\n",
       " 'public_updated_at': datetime.datetime(2017, 9, 11, 9, 4, 10),\n",
       " 'publishing_app': 'whitehall',\n",
       " 'rendering_app': 'government-frontend',\n",
       " 'analytics_identifier': None,\n",
       " 'document_type': 'news_story',\n",
       " 'schema_name': 'news_article',\n",
       " 'first_published_at': datetime.datetime(2017, 9, 11, 9, 4, 10),\n",
       " 'content_id': '457fe71a-0ce9-46d5-b22a-0426cdd99ebc',\n",
       " 'publishing_request_id': '20040-1533132485.277-10.3.3.1-410',\n",
       " 'payload_version': 23646568,\n",
       " 'created_at': None,\n",
       " 'updated_at': datetime.datetime(2019, 3, 6, 10, 11, 22, 296000)}"
      ]
     },
     "execution_count": 63,
     "metadata": {},
     "output_type": "execute_result"
    }
   ],
   "source": [
    "contentdata1"
   ]
  },
  {
   "cell_type": "code",
   "execution_count": 67,
   "metadata": {
    "ExecuteTime": {
     "end_time": "2019-04-23T16:54:45.541192Z",
     "start_time": "2019-04-23T16:54:45.408390Z"
    }
   },
   "outputs": [
    {
     "name": "stdout",
     "output_type": "stream",
     "text": [
      "thru if body\n",
      "<div class=\"govspeak\"><p>Brexit Britain will be the best country in the world to do maritime business thanks to more trade opportunities, more jobs and more investment in new technologies, Transport Secretary Chris Grayling said today (11 September 2017).</p>\n",
      "\n",
      "<p>The government has committed to working with industry to deliver an ambitious export plan for when we leave the European Union.</p>\n",
      "\n",
      "<p>This will maximise new trade opportunities and significantly grow the <abbr title=\"United Kingdom\">UK</abbr>’s maritime sector to become a global front runner in future innovation and technology.</p>\n",
      "\n",
      "<p>The government will achieve this by:</p>\n",
      "\n",
      "<ul>\n",
      "  <li>creating a plan to shape and promote the maritime industry up to 2050</li>\n",
      "  <li>collaborating with industry partners to significantly grow the sector by seizing new trade opportunities</li>\n",
      "  <li>calling on maritime employers to double the number of apprenticeships they offer</li>\n",
      "  <li>launching a British shipbuilding ‘renaissance’ as part of the <a href=\"https://www.gov.uk/government/publications/national-shipbuilding-strategy\">National Ship Building Strategy</a>\n",
      "</li>\n",
      "</ul>\n",
      "\n",
      "<p>The Transport Secretary spoke ahead of at a meeting with international industry figures at 10 Downing Street on Monday to kick-off <a rel=\"external\" href=\"https://londoninternationalshippingweek.com/\">London International Shipping Week</a>, the biggest promotional <abbr title=\"United Kingdom\">UK</abbr> shipping event in recent history.</p>\n",
      "\n",
      "<p>Mr Grayling will shortly announce plans for a public discussion to help shape and promote the future of the maritime industry both up to 2050 and beyond.</p>\n",
      "\n",
      "<p>This vision will looks at how the government can support future growth in an industry which directly supports at least 111,000 jobs and contributes around £15 billion to the <abbr title=\"United Kingdom\">UK</abbr> economy each year.</p>\n",
      "\n",
      "<p>The Department for Transport will also call on employers to double the number of apprentices they employ in order to boost skills, jobs, and productivity across the <abbr title=\"United Kingdom\">UK</abbr>.</p>\n",
      "\n",
      "<p>This announcement comes after the government published its ‘National Ship Building Strategy’, which aims to step up a prospective ‘renaissance’ in British shipbuilding.</p>\n",
      "\n",
      "<p>Building on the government’s industrial strategy, it outlines an ambition to transform the procurement of naval ships, make the <abbr title=\"United Kingdom\">UK</abbr>’s maritime industry more competitive and grow the Royal Navy fleet by the 2030s.</p>\n",
      "\n",
      "<p>Transport Secretary Chris Grayling said:</p>\n",
      "\n",
      "<blockquote>\n",
      "  <p>Leaving the European Union will allow Britain to seize new opportunities and rediscover our heritage as a truly global, seafaring, trading nation.</p>\n",
      "\n",
      "  <p>Our maritime industry, far from being a story of the past, is a thriving success story – worth around £15 billion a year to our economy and supporting a quarter of a million jobs.</p>\n",
      "\n",
      "  <p class=\"last-child\">This government is determined to work with the maritime industry to help it grow significantly and make the <abbr title=\"United Kingdom\">UK</abbr> a world leader for shipping business.</p>\n",
      "</blockquote>\n",
      "\n",
      "<p>The roundtable summit of maritime leaders at 10 Downing Street will strengthen the partnership with investors and <abbr title=\"United Kingdom\">UK</abbr> exporters and identify post-<abbr title=\"European Union\">EU</abbr> exit opportunities.</p>\n",
      "\n",
      "<p>Shipping week will highlight the opportunities to boost trade and investment in the sector as the <abbr title=\"United Kingdom\">UK</abbr> leaves the European Union and looks to strike new deals with nations around the world.</p>\n",
      "\n",
      "<p>The government has already made good progress to bolster our trade and export relationships including by supporting the first Maritime <abbr title=\"United Kingdom\">UK</abbr> trade mission to China and Hong Kong.</p>\n",
      "\n",
      "<p>International Trade Secretary Dr Liam Fox said:</p>\n",
      "\n",
      "<blockquote>\n",
      "  <p>The <abbr title=\"United Kingdom\">UK</abbr>’s maritime industry brings billions of pounds a year into our economy and will be vital to our continued prosperity when we leave the European Union. As an international economic department, our ambition is that we lead the way in world-class shipbuilding and maritime technology.</p>\n",
      "\n",
      "  <p class=\"last-child\">I’m delighted to be here at London Shipping Week to demonstrate our commitment to strengthen this thriving industry and promote the very best of British maritime innovation to the world.</p>\n",
      "</blockquote>\n",
      "\n",
      "<p>The government has already implemented the recommendations from the <a href=\"https://www.gov.uk/government/publications/maritime-growth-study-report\">2015 maritime growth study</a> including setting up a ministerial working group for maritime growth. We have also <a href=\"https://www.gov.uk/guidance/support-for-maritime-training-smart\">supported maritime training for officers/cadets through the £15 million SMarT budget</a>.</p>\n",
      "\n",
      "<p>The work to develop a vision for the maritime sector will include maximising the value of new trade deals and a maritime skills strategy that identifies the industry’s future skills needs and the steps required to achieve them.</p>\n",
      "\n",
      "<p>The ship building strategy also aims to increase the export British ships overseas, and boost innovation, skills, jobs, and productivity across the <abbr title=\"United Kingdom\">UK</abbr>.</p>\n",
      "\n",
      "<div class=\"contact \" id=\"contact_1017\">\n",
      "  <div class=\"content\">\n",
      "    <h3>Maritime media enquiries</h3>\n",
      "\n",
      "    <div class=\"vcard contact-inner\">\n",
      "\n",
      "        <div class=\"email-url-number\">\n",
      "            <p class=\"tel\">\n",
      "              <span class=\"type\">Media enquiries</span>\n",
      "              020 7944 3021\n",
      "            </p>\n",
      "            <p class=\"tel\">\n",
      "              <span class=\"type\">Out of hours media enquiries</span>\n",
      "              020 7944 4292\n",
      "            </p>\n",
      "            <p class=\"tel\">\n",
      "              <span class=\"type\">Switchboard</span>\n",
      "              0300 330 3000\n",
      "            </p>\n",
      "        </div>\n",
      "\n",
      "\n",
      "    </div>\n",
      "  </div>\n",
      "</div>\n",
      "\n",
      "</div>\n",
      "thru if government\n",
      "{'title': '2015 Conservative government', 'slug': '2015-conservative-government', 'current': True}\n",
      "error\n"
     ]
    },
    {
     "data": {
      "text/plain": [
       "['/government/publications/national-shipbuilding-strategy',\n",
       " '/government/publications/maritime-growth-study-report',\n",
       " '/guidance/support-for-maritime-training-smart']"
      ]
     },
     "execution_count": 67,
     "metadata": {},
     "output_type": "execute_result"
    }
   ],
   "source": [
    "cs_extract_links(contentdata1['details'])"
   ]
  },
  {
   "cell_type": "code",
   "execution_count": null,
   "metadata": {},
   "outputs": [],
   "source": []
  }
 ],
 "metadata": {
  "kernelspec": {
   "display_name": "Python 3",
   "language": "python",
   "name": "python3"
  },
  "language_info": {
   "codemirror_mode": {
    "name": "ipython",
    "version": 3
   },
   "file_extension": ".py",
   "mimetype": "text/x-python",
   "name": "python",
   "nbconvert_exporter": "python",
   "pygments_lexer": "ipython3",
   "version": "3.6.4"
  },
  "toc": {
   "base_numbering": 1,
   "nav_menu": {},
   "number_sections": true,
   "sideBar": true,
   "skip_h1_title": false,
   "title_cell": "Table of Contents",
   "title_sidebar": "Contents",
   "toc_cell": false,
   "toc_position": {},
   "toc_section_display": true,
   "toc_window_display": false
  }
 },
 "nbformat": 4,
 "nbformat_minor": 2
}
