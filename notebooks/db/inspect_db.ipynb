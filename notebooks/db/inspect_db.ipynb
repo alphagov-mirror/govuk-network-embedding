{
 "cells": [
  {
   "cell_type": "code",
   "execution_count": 1,
   "metadata": {},
   "outputs": [],
   "source": [
    "import pymongo\n",
    "import os\n",
    "import pandas as pd\n",
    "import yaml\n",
    "from collections import Counter\n",
    "from datetime import datetime\n",
    "import sys\n",
    "SRC = os.path.join(os.path.dirname(os.path.dirname(os.getcwd())), \"src\")\n",
    "sys.path.append(SRC)\n",
    "from content_api.details_utils import extract_from_details"
   ]
  },
  {
   "cell_type": "code",
   "execution_count": 2,
   "metadata": {},
   "outputs": [],
   "source": [
    "### Get dirs"
   ]
  },
  {
   "cell_type": "code",
   "execution_count": 3,
   "metadata": {},
   "outputs": [],
   "source": [
    "DATA_DIR = os.getenv(\"DATA_DIR\")\n",
    "config = os.path.join(SRC, \"config\")\n",
    "black_list_path = os.path.join(config, \"document_types_excluded_from_the_topic_taxonomy.yml\")"
   ]
  },
  {
   "cell_type": "code",
   "execution_count": 4,
   "metadata": {},
   "outputs": [],
   "source": [
    "### Get database running locally"
   ]
  },
  {
   "cell_type": "code",
   "execution_count": 5,
   "metadata": {},
   "outputs": [],
   "source": [
    "myclient = pymongo.MongoClient(\"mongodb://localhost:27017/\")"
   ]
  },
  {
   "cell_type": "code",
   "execution_count": 6,
   "metadata": {},
   "outputs": [
    {
     "name": "stdout",
     "output_type": "stream",
     "text": [
      "['admin', 'config', 'content_store', 'local']\n"
     ]
    }
   ],
   "source": [
    "print(myclient.list_database_names())"
   ]
  },
  {
   "cell_type": "code",
   "execution_count": 7,
   "metadata": {},
   "outputs": [],
   "source": [
    "mydb = myclient[\"content_store\"]\n",
    "mycol = mydb[\"content_items\"]"
   ]
  },
  {
   "cell_type": "code",
   "execution_count": 8,
   "metadata": {},
   "outputs": [
    {
     "data": {
      "text/plain": [
       "['about',\n",
       " 'about_our_services',\n",
       " 'access_and_opening',\n",
       " 'business_support_finder',\n",
       " 'coming_soon']"
      ]
     },
     "execution_count": 8,
     "metadata": {},
     "output_type": "execute_result"
    }
   ],
   "source": [
    "with open(black_list_path, 'r') as stream:\n",
    "    blacklisted_content_page = sorted(yaml.load(stream)['document_types'])\n",
    "blacklisted_content_page[0:5]"
   ]
  },
  {
   "cell_type": "code",
   "execution_count": null,
   "metadata": {},
   "outputs": [],
   "source": [
    "mydoc = mycol.find({ \"$and\": [\n",
    "                    { \"document_type\": {\"$not\" : { \"$in\": blacklisted_content_page}}},\n",
    "                    { \"phase\": \"live\"}]})\n",
    "print(\"Started:\",datetime.now().strftime(\"%H:%M:%S\"))\n",
    "rowlist = []\n",
    "for i,item in enumerate(mydoc):\n",
    "    if i < 10000:\n",
    "        rowlist.append(item)\n",
    "    else:\n",
    "        break\n",
    "#     if i% 10000==0:\n",
    "#         print(i,datetime.now().strftime(\"%H:%M:%S\"))\n",
    "print(\"Ended:\",datetime.now().strftime(\"%H:%M:%S\"))\n",
    "df = pd.DataFrame(rowlist)\n",
    "df.shape"
   ]
  },
  {
   "cell_type": "code",
   "execution_count": 187,
   "metadata": {},
   "outputs": [
    {
     "data": {
      "text/html": [
       "<div>\n",
       "<style scoped>\n",
       "    .dataframe tbody tr th:only-of-type {\n",
       "        vertical-align: middle;\n",
       "    }\n",
       "\n",
       "    .dataframe tbody tr th {\n",
       "        vertical-align: top;\n",
       "    }\n",
       "\n",
       "    .dataframe thead th {\n",
       "        text-align: right;\n",
       "    }\n",
       "</style>\n",
       "<table border=\"1\" class=\"dataframe\">\n",
       "  <thead>\n",
       "    <tr style=\"text-align: right;\">\n",
       "      <th></th>\n",
       "      <th>_id</th>\n",
       "      <th>access_limited</th>\n",
       "      <th>analytics_identifier</th>\n",
       "      <th>content_id</th>\n",
       "      <th>content_purpose_document_supertype</th>\n",
       "      <th>content_purpose_subgroup</th>\n",
       "      <th>content_purpose_supergroup</th>\n",
       "      <th>created_at</th>\n",
       "      <th>description</th>\n",
       "      <th>details</th>\n",
       "      <th>...</th>\n",
       "      <th>redirects</th>\n",
       "      <th>rendering_app</th>\n",
       "      <th>routes</th>\n",
       "      <th>scheduled_publishing_delay_seconds</th>\n",
       "      <th>schema_name</th>\n",
       "      <th>search_user_need_document_supertype</th>\n",
       "      <th>title</th>\n",
       "      <th>updated_at</th>\n",
       "      <th>user_journey_document_supertype</th>\n",
       "      <th>withdrawn_notice</th>\n",
       "    </tr>\n",
       "  </thead>\n",
       "  <tbody>\n",
       "    <tr>\n",
       "      <th>0</th>\n",
       "      <td>/aaib-reports/3-1976-hot-air-balloon-g-bccg-8-...</td>\n",
       "      <td>{}</td>\n",
       "      <td>NaN</td>\n",
       "      <td>9c575137-efe4-4ac1-8042-ad0010e80dc5</td>\n",
       "      <td>reports</td>\n",
       "      <td>incidents</td>\n",
       "      <td>transparency</td>\n",
       "      <td>NaT</td>\n",
       "      <td>{'value': ''}</td>\n",
       "      <td>{'metadata': {'date_of_occurrence': '1974-10-0...</td>\n",
       "      <td>...</td>\n",
       "      <td>[]</td>\n",
       "      <td>government-frontend</td>\n",
       "      <td>[{'path': '/aaib-reports/3-1976-hot-air-balloo...</td>\n",
       "      <td>NaN</td>\n",
       "      <td>specialist_document</td>\n",
       "      <td>government</td>\n",
       "      <td>3/1976   Hot Air Balloon, G-BCCG, 8 October 1974</td>\n",
       "      <td>2019-03-06 11:22:35.976</td>\n",
       "      <td>thing</td>\n",
       "      <td>{}</td>\n",
       "    </tr>\n",
       "    <tr>\n",
       "      <th>1</th>\n",
       "      <td>/aaib-reports/3-1979-piper-pa24-comanche-180-g...</td>\n",
       "      <td>{}</td>\n",
       "      <td>NaN</td>\n",
       "      <td>18bdf4b5-8425-4375-9d1e-02fbf8483e9d</td>\n",
       "      <td>reports</td>\n",
       "      <td>incidents</td>\n",
       "      <td>transparency</td>\n",
       "      <td>NaT</td>\n",
       "      <td>{'value': ''}</td>\n",
       "      <td>{'metadata': {'date_of_occurrence': '1978-12-1...</td>\n",
       "      <td>...</td>\n",
       "      <td>[]</td>\n",
       "      <td>government-frontend</td>\n",
       "      <td>[{'path': '/aaib-reports/3-1979-piper-pa24-com...</td>\n",
       "      <td>NaN</td>\n",
       "      <td>specialist_document</td>\n",
       "      <td>government</td>\n",
       "      <td>3/1979 Piper PA24 Comanche 180, G-ARSC, 15 Dec...</td>\n",
       "      <td>2019-03-02 01:21:18.322</td>\n",
       "      <td>thing</td>\n",
       "      <td>{}</td>\n",
       "    </tr>\n",
       "  </tbody>\n",
       "</table>\n",
       "<p>2 rows × 36 columns</p>\n",
       "</div>"
      ],
      "text/plain": [
       "                                                 _id access_limited  \\\n",
       "0  /aaib-reports/3-1976-hot-air-balloon-g-bccg-8-...             {}   \n",
       "1  /aaib-reports/3-1979-piper-pa24-comanche-180-g...             {}   \n",
       "\n",
       "   analytics_identifier                            content_id  \\\n",
       "0                   NaN  9c575137-efe4-4ac1-8042-ad0010e80dc5   \n",
       "1                   NaN  18bdf4b5-8425-4375-9d1e-02fbf8483e9d   \n",
       "\n",
       "  content_purpose_document_supertype content_purpose_subgroup  \\\n",
       "0                            reports                incidents   \n",
       "1                            reports                incidents   \n",
       "\n",
       "  content_purpose_supergroup created_at    description  \\\n",
       "0               transparency        NaT  {'value': ''}   \n",
       "1               transparency        NaT  {'value': ''}   \n",
       "\n",
       "                                             details       ...         \\\n",
       "0  {'metadata': {'date_of_occurrence': '1974-10-0...       ...          \n",
       "1  {'metadata': {'date_of_occurrence': '1978-12-1...       ...          \n",
       "\n",
       "  redirects        rendering_app  \\\n",
       "0        []  government-frontend   \n",
       "1        []  government-frontend   \n",
       "\n",
       "                                              routes  \\\n",
       "0  [{'path': '/aaib-reports/3-1976-hot-air-balloo...   \n",
       "1  [{'path': '/aaib-reports/3-1979-piper-pa24-com...   \n",
       "\n",
       "  scheduled_publishing_delay_seconds          schema_name  \\\n",
       "0                                NaN  specialist_document   \n",
       "1                                NaN  specialist_document   \n",
       "\n",
       "  search_user_need_document_supertype  \\\n",
       "0                          government   \n",
       "1                          government   \n",
       "\n",
       "                                               title              updated_at  \\\n",
       "0   3/1976   Hot Air Balloon, G-BCCG, 8 October 1974 2019-03-06 11:22:35.976   \n",
       "1  3/1979 Piper PA24 Comanche 180, G-ARSC, 15 Dec... 2019-03-02 01:21:18.322   \n",
       "\n",
       "  user_journey_document_supertype withdrawn_notice  \n",
       "0                           thing               {}  \n",
       "1                           thing               {}  \n",
       "\n",
       "[2 rows x 36 columns]"
      ]
     },
     "execution_count": 187,
     "metadata": {},
     "output_type": "execute_result"
    }
   ],
   "source": [
    "df.head(2)"
   ]
  },
  {
   "cell_type": "code",
   "execution_count": 173,
   "metadata": {},
   "outputs": [
    {
     "data": {
      "text/plain": [
       "live    100000\n",
       "Name: phase, dtype: int64"
      ]
     },
     "execution_count": 173,
     "metadata": {},
     "output_type": "execute_result"
    }
   ],
   "source": [
    "df.phase.value_counts()"
   ]
  },
  {
   "cell_type": "code",
   "execution_count": 175,
   "metadata": {},
   "outputs": [
    {
     "data": {
      "text/plain": [
       "_id                                           /aaib-reports/3-1982-maule-m-5-235c-g-love\n",
       "access_limited                                                                        {}\n",
       "analytics_identifier                                                                 NaN\n",
       "content_id                                          b7353bf2-bbde-4705-8e8d-edf2e1f108d9\n",
       "content_purpose_document_supertype                                               reports\n",
       "content_purpose_subgroup                                                       incidents\n",
       "content_purpose_supergroup                                                  transparency\n",
       "created_at                                                                           NaT\n",
       "description                            {'value': 'This occurred on 4 September 1981, ...\n",
       "details                                {'metadata': {'date_of_occurrence': '1981-09-0...\n",
       "document_type                                                                aaib_report\n",
       "email_document_supertype                                                           other\n",
       "expanded_links                         {'organisations': [{'analytics_identifier': 'O...\n",
       "first_published_at                                                   2014-12-10 17:24:27\n",
       "format                                                                               NaN\n",
       "government_document_supertype                                                      other\n",
       "links                                                                                 {}\n",
       "locale                                                                                en\n",
       "navigation_document_supertype                                                      other\n",
       "need_ids                                                                             NaN\n",
       "payload_version                                                                 23552207\n",
       "phase                                                                               live\n",
       "public_updated_at                                                    2014-12-10 17:24:27\n",
       "publishing_app                                                      specialist-publisher\n",
       "publishing_request_id                                                                NaN\n",
       "publishing_scheduled_at                                                              NaT\n",
       "redirects                                                                             []\n",
       "rendering_app                                                        government-frontend\n",
       "routes                                 [{'path': '/aaib-reports/3-1982-maule-m-5-235c...\n",
       "scheduled_publishing_delay_seconds                                                   NaN\n",
       "schema_name                                                          specialist_document\n",
       "search_user_need_document_supertype                                           government\n",
       "title                                                     3/1982 Maule M-5-235C, G-LOVE \n",
       "updated_at                                                    2019-03-06 09:19:41.602000\n",
       "user_journey_document_supertype                                                    thing\n",
       "withdrawn_notice                                                                      {}\n",
       "Name: 2, dtype: object"
      ]
     },
     "execution_count": 175,
     "metadata": {},
     "output_type": "execute_result"
    }
   ],
   "source": [
    "df.iloc[2]"
   ]
  },
  {
   "cell_type": "code",
   "execution_count": 226,
   "metadata": {},
   "outputs": [],
   "source": [
    "keep_columns = \\\n",
    "['_id', \n",
    "#                 'access_limited', \n",
    "#                 'analytics_identifier', \n",
    "'content_id',\n",
    "'content_purpose_document_supertype', \n",
    "'content_purpose_subgroup',\n",
    "'content_purpose_supergroup', \n",
    "# 'created_at', \n",
    "'description', \n",
    "'details',\n",
    "'document_type', \n",
    "'email_document_supertype', \n",
    "# 'expanded_links',\n",
    "'first_published_at', \n",
    "#                 'format', \n",
    "'government_document_supertype',\n",
    "#                 'links', \n",
    "'locale', \n",
    "'navigation_document_supertype', \n",
    "#                 'need_ids',\n",
    "#                 'payload_version', \n",
    "'phase', \n",
    "'public_updated_at', \n",
    "'publishing_app',\n",
    "#                 'publishing_request_id', \n",
    "'publishing_scheduled_at', \n",
    "#                 'redirects',\n",
    "'rendering_app', \n",
    "#                 'routes', \n",
    "#                 'scheduled_publishing_delay_seconds',\n",
    "#                 'schema_name', \n",
    "'search_user_need_document_supertype', \n",
    "'title',\n",
    "'updated_at', \n",
    "'user_journey_document_supertype' \n",
    "#                 'withdrawn_notice'\n",
    "]"
   ]
  },
  {
   "cell_type": "code",
   "execution_count": 176,
   "metadata": {},
   "outputs": [
    {
     "data": {
      "text/plain": [
       "(100000, 36)"
      ]
     },
     "execution_count": 176,
     "metadata": {},
     "output_type": "execute_result"
    }
   ],
   "source": [
    "df.shape"
   ]
  },
  {
   "cell_type": "code",
   "execution_count": 177,
   "metadata": {},
   "outputs": [
    {
     "data": {
      "text/plain": [
       "['organisations',\n",
       " 'primary_publishing_organisation',\n",
       " 'taxons',\n",
       " 'finder',\n",
       " 'available_translations',\n",
       " 'mainstream_browse_pages',\n",
       " 'parent',\n",
       " 'part_of_step_navs',\n",
       " 'ordered_related_items',\n",
       " 'meets_user_needs']"
      ]
     },
     "execution_count": 177,
     "metadata": {},
     "output_type": "execute_result"
    }
   ],
   "source": [
    "link_counts = Counter([key for l in df.expanded_links.values for key in l.keys()])\n",
    "link_keys = [k for k in link_counts.keys()]\n",
    "link_keys[0:10]"
   ]
  },
  {
   "cell_type": "code",
   "execution_count": 178,
   "metadata": {},
   "outputs": [],
   "source": [
    "links_keep = \\\n",
    "[\n",
    "'organisations',\n",
    "'primary_publishing_organisation',\n",
    "'taxons',\n",
    "#  'finder',\n",
    "#  'available_translations',\n",
    "'mainstream_browse_pages',\n",
    "# 'parent',\n",
    "'part_of_step_navs',\n",
    "'ordered_related_items',\n",
    "#  'meets_user_needs',\n",
    "'topics',\n",
    "'ordered_related_items_overrides',\n",
    "'pages_part_of_step_nav',\n",
    "'pages_related_to_step_nav',\n",
    "'related_to_step_navs',\n",
    "# 'children',\n",
    "'document_collections',\n",
    "#  'lead_organisations',\n",
    "#  'world_locations',\n",
    "#  'worldwide_organisations',\n",
    "#  'supporting_organisations',\n",
    "#  'worldwide_priorities',\n",
    "# 'original_primary_publishing_organisation',\n",
    "'documents',\n",
    "'policy_areas',\n",
    "# 'topical_events',\n",
    "#  'suggested_ordered_related_items',\n",
    "'related_policies',\n",
    "# 'ministers',\n",
    "# 'people',\n",
    "# 'roles',\n",
    "#  'field_of_operation'\n",
    "]"
   ]
  },
  {
   "cell_type": "code",
   "execution_count": 185,
   "metadata": {},
   "outputs": [
    {
     "data": {
      "text/plain": [
       "[dict_keys(['analytics_identifier', 'api_path', 'base_path', 'content_id', 'description', 'document_type', 'locale', 'public_updated_at', 'schema_name', 'title', 'withdrawn', 'details', 'phase', 'links'])]"
      ]
     },
     "execution_count": 185,
     "metadata": {},
     "output_type": "execute_result"
    }
   ],
   "source": [
    "[item.keys() for item in df.iloc[0].expanded_links['taxons']]"
   ]
  },
  {
   "cell_type": "code",
   "execution_count": 200,
   "metadata": {},
   "outputs": [],
   "source": [
    "keep_keys = \\\n",
    "[\n",
    "# 'analytics_identifier', \n",
    "# 'api_path', \n",
    "'base_path', \n",
    "'content_id', \n",
    "# 'description', \n",
    "# 'document_type', \n",
    "# 'locale', \n",
    "# 'schema_name', \n",
    "# 'title', \n",
    "# 'withdrawn', \n",
    "# 'details', \n",
    "# 'links'\n",
    "]"
   ]
  },
  {
   "cell_type": "code",
   "execution_count": 188,
   "metadata": {},
   "outputs": [],
   "source": [
    "del df"
   ]
  },
  {
   "cell_type": "code",
   "execution_count": 212,
   "metadata": {},
   "outputs": [],
   "source": [
    "def handle_expanded_links(content_links, row_dict):\n",
    "    for key,value in content_links.items():\n",
    "        if key in links_keep:\n",
    "            row_dict[key] = []\n",
    "            for item in value:\n",
    "                row = {}\n",
    "                for k in keep_keys:\n",
    "                    if k in item.keys():\n",
    "                        row[k] = item[k]\n",
    "                row_dict[key].append(row)"
   ]
  },
  {
   "cell_type": "code",
   "execution_count": null,
   "metadata": {},
   "outputs": [
    {
     "name": "stdout",
     "output_type": "stream",
     "text": [
      "Started: 15:40:21\n"
     ]
    }
   ],
   "source": [
    "mydoc = mycol.find({ \"$and\": [\n",
    "                    { \"document_type\": {\"$not\" : { \"$in\": blacklisted_content_page}}},\n",
    "                    { \"phase\": \"live\"}]})\n",
    "print(\"Started:\",datetime.now().strftime(\"%H:%M:%S\"))\n",
    "rowlist = []\n",
    "for i,item in enumerate(mydoc):\n",
    "    if i < 90000:\n",
    "        row = {key:value for key,value in item.items() if key in keep_columns}\n",
    "    #     row['details'] = extract_from_details(item['details'])\n",
    "        if \"expanded_links\" in item.keys():\n",
    "            handle_expanded_links(item[\"expanded_links\"], row)    \n",
    "        rowlist.append(row)\n",
    "    else:\n",
    "        break\n",
    "print(\"Ended:\",datetime.now().strftime(\"%H:%M:%S\"))\n",
    "df = pd.DataFrame(rowlist)\n",
    "df.shape"
   ]
  },
  {
   "cell_type": "code",
   "execution_count": 214,
   "metadata": {},
   "outputs": [
    {
     "data": {
      "text/plain": [
       "[{'base_path': '/transport/air-accidents-and-serious-incidents',\n",
       "  'content_id': '951ece54-c6df-4fbc-aa18-1bc629815fe2',\n",
       "  'title': 'Air accidents and serious incidents'}]"
      ]
     },
     "execution_count": 214,
     "metadata": {},
     "output_type": "execute_result"
    }
   ],
   "source": [
    "df.iloc[0].taxons"
   ]
  },
  {
   "cell_type": "code",
   "execution_count": null,
   "metadata": {},
   "outputs": [],
   "source": [
    "Counter([k for det in df.details for d in det for k in d.keys()])"
   ]
  },
  {
   "cell_type": "code",
   "execution_count": null,
   "metadata": {},
   "outputs": [],
   "source": []
  }
 ],
 "metadata": {
  "kernelspec": {
   "display_name": "Python 3",
   "language": "python",
   "name": "python3"
  },
  "language_info": {
   "codemirror_mode": {
    "name": "ipython",
    "version": 3
   },
   "file_extension": ".py",
   "mimetype": "text/x-python",
   "name": "python",
   "nbconvert_exporter": "python",
   "pygments_lexer": "ipython3",
   "version": "3.6.0"
  }
 },
 "nbformat": 4,
 "nbformat_minor": 2
}
