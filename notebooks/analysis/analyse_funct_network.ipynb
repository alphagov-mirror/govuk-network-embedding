{
 "cells": [
  {
   "cell_type": "code",
   "execution_count": 1,
   "metadata": {},
   "outputs": [],
   "source": [
    "import networkx as nx\n",
    "import os\n",
    "import pandas as pd\n",
    "import numpy as np"
   ]
  },
  {
   "cell_type": "code",
   "execution_count": 2,
   "metadata": {},
   "outputs": [],
   "source": [
    "processed_network = os.path.join(os.getenv(\"DATA_DIR\"),\"processed_network\")"
   ]
  },
  {
   "cell_type": "code",
   "execution_count": 3,
   "metadata": {},
   "outputs": [
    {
     "data": {
      "text/plain": [
       "['taxon_28_31_01_sample30_nodes.csv.gz',\n",
       " 'taxon_28_31_01_edges_doo.csv.gz',\n",
       " 'taxon_28_31_01_nodes_doo.csv.gz',\n",
       " 'taxon_28_31_01_sample30_edges.csv.gz',\n",
       " 'for_networkx_tutorial_nodes.csv.gz',\n",
       " 'for_networkx_tutorial_edges.csv.gz']"
      ]
     },
     "execution_count": 3,
     "metadata": {},
     "output_type": "execute_result"
    }
   ],
   "source": [
    "os.listdir(processed_network)"
   ]
  },
  {
   "cell_type": "code",
   "execution_count": 4,
   "metadata": {},
   "outputs": [],
   "source": [
    "nodefile = os.path.join(processed_network, \"taxon_28_31_01_sample30_nodes.csv.gz\")\n",
    "edgefile = os.path.join(processed_network, \"taxon_28_31_01_sample30_edges.csv.gz\")"
   ]
  },
  {
   "cell_type": "markdown",
   "metadata": {},
   "source": [
    "### Load nodes"
   ]
  },
  {
   "cell_type": "code",
   "execution_count": 5,
   "metadata": {},
   "outputs": [],
   "source": [
    "nodes = pd.read_csv(nodefile, compression=\"gzip\", sep=\"\\t\")"
   ]
  },
  {
   "cell_type": "code",
   "execution_count": 6,
   "metadata": {},
   "outputs": [
    {
     "data": {
      "text/html": [
       "<div>\n",
       "<style scoped>\n",
       "    .dataframe tbody tr th:only-of-type {\n",
       "        vertical-align: middle;\n",
       "    }\n",
       "\n",
       "    .dataframe tbody tr th {\n",
       "        vertical-align: top;\n",
       "    }\n",
       "\n",
       "    .dataframe thead th {\n",
       "        text-align: right;\n",
       "    }\n",
       "</style>\n",
       "<table border=\"1\" class=\"dataframe\">\n",
       "  <thead>\n",
       "    <tr style=\"text-align: right;\">\n",
       "      <th></th>\n",
       "      <th>Node</th>\n",
       "      <th>Node_id</th>\n",
       "      <th>Node_Taxon</th>\n",
       "    </tr>\n",
       "  </thead>\n",
       "  <tbody>\n",
       "    <tr>\n",
       "      <th>0</th>\n",
       "      <td>date of transfer</td>\n",
       "      <td>1038061</td>\n",
       "      <td>('other',)</td>\n",
       "    </tr>\n",
       "    <tr>\n",
       "      <th>1</th>\n",
       "      <td>/</td>\n",
       "      <td>13</td>\n",
       "      <td>('other',)</td>\n",
       "    </tr>\n",
       "    <tr>\n",
       "      <th>2</th>\n",
       "      <td>/ /apply-universal-credit</td>\n",
       "      <td>1085030</td>\n",
       "      <td>('other',)</td>\n",
       "    </tr>\n",
       "    <tr>\n",
       "      <th>3</th>\n",
       "      <td>/ accessibility</td>\n",
       "      <td>918380</td>\n",
       "      <td>('other',)</td>\n",
       "    </tr>\n",
       "    <tr>\n",
       "      <th>4</th>\n",
       "      <td>/ aeoi</td>\n",
       "      <td>564171</td>\n",
       "      <td>('other',)</td>\n",
       "    </tr>\n",
       "  </tbody>\n",
       "</table>\n",
       "</div>"
      ],
      "text/plain": [
       "                        Node  Node_id  Node_Taxon\n",
       "0           date of transfer  1038061  ('other',)\n",
       "1                          /       13  ('other',)\n",
       "2  / /apply-universal-credit  1085030  ('other',)\n",
       "3            / accessibility   918380  ('other',)\n",
       "4                     / aeoi   564171  ('other',)"
      ]
     },
     "execution_count": 6,
     "metadata": {},
     "output_type": "execute_result"
    }
   ],
   "source": [
    "nodes.head()"
   ]
  },
  {
   "cell_type": "code",
   "execution_count": 7,
   "metadata": {},
   "outputs": [
    {
     "data": {
      "text/plain": [
       "(1179923, 3)"
      ]
     },
     "execution_count": 7,
     "metadata": {},
     "output_type": "execute_result"
    }
   ],
   "source": [
    "nodes.shape"
   ]
  },
  {
   "cell_type": "code",
   "execution_count": 8,
   "metadata": {},
   "outputs": [],
   "source": [
    "nodes = nodes[~nodes.Node.str.contains(\" \")]"
   ]
  },
  {
   "cell_type": "markdown",
   "metadata": {},
   "source": [
    "### Load edges"
   ]
  },
  {
   "cell_type": "code",
   "execution_count": 9,
   "metadata": {},
   "outputs": [],
   "source": [
    "edges = pd.read_csv(edgefile, compression=\"gzip\", sep=\"\\t\")"
   ]
  },
  {
   "cell_type": "code",
   "execution_count": 10,
   "metadata": {},
   "outputs": [
    {
     "data": {
      "text/html": [
       "<div>\n",
       "<style scoped>\n",
       "    .dataframe tbody tr th:only-of-type {\n",
       "        vertical-align: middle;\n",
       "    }\n",
       "\n",
       "    .dataframe tbody tr th {\n",
       "        vertical-align: top;\n",
       "    }\n",
       "\n",
       "    .dataframe thead th {\n",
       "        text-align: right;\n",
       "    }\n",
       "</style>\n",
       "<table border=\"1\" class=\"dataframe\">\n",
       "  <thead>\n",
       "    <tr style=\"text-align: right;\">\n",
       "      <th></th>\n",
       "      <th>Source_node</th>\n",
       "      <th>Source_id</th>\n",
       "      <th>Destination_node</th>\n",
       "      <th>Destination_id</th>\n",
       "      <th>Weight</th>\n",
       "      <th>Source_Taxon</th>\n",
       "      <th>Destination_Taxon</th>\n",
       "    </tr>\n",
       "  </thead>\n",
       "  <tbody>\n",
       "    <tr>\n",
       "      <th>0</th>\n",
       "      <td>/government/publications/guidance-for-dependan...</td>\n",
       "      <td>0</td>\n",
       "      <td>/visa-fees</td>\n",
       "      <td>1</td>\n",
       "      <td>23</td>\n",
       "      <td>('d612c61e-22f4-4922-8bb2-b04b9202126e',)</td>\n",
       "      <td>('29480b00-dc4d-49a0-b48c-25dda8569325',)</td>\n",
       "    </tr>\n",
       "    <tr>\n",
       "      <th>1</th>\n",
       "      <td>/visa-fees</td>\n",
       "      <td>1</td>\n",
       "      <td>/find-a-visa-application-centre</td>\n",
       "      <td>2</td>\n",
       "      <td>427</td>\n",
       "      <td>('29480b00-dc4d-49a0-b48c-25dda8569325',)</td>\n",
       "      <td>('d3df7728-db52-411f-afd2-44dbd09f553b',)</td>\n",
       "    </tr>\n",
       "    <tr>\n",
       "      <th>2</th>\n",
       "      <td>/find-a-visa-application-centre</td>\n",
       "      <td>2</td>\n",
       "      <td>/entering-staying-uk/family-visas</td>\n",
       "      <td>3</td>\n",
       "      <td>1</td>\n",
       "      <td>('d3df7728-db52-411f-afd2-44dbd09f553b',)</td>\n",
       "      <td>('d612c61e-22f4-4922-8bb2-b04b9202126e',)</td>\n",
       "    </tr>\n",
       "    <tr>\n",
       "      <th>3</th>\n",
       "      <td>/entering-staying-uk/family-visas</td>\n",
       "      <td>3</td>\n",
       "      <td>/uk-family-visa</td>\n",
       "      <td>4</td>\n",
       "      <td>148</td>\n",
       "      <td>('d612c61e-22f4-4922-8bb2-b04b9202126e',)</td>\n",
       "      <td>('d612c61e-22f4-4922-8bb2-b04b9202126e',)</td>\n",
       "    </tr>\n",
       "    <tr>\n",
       "      <th>4</th>\n",
       "      <td>/uk-family-visa</td>\n",
       "      <td>4</td>\n",
       "      <td>/uk-family-visa/partner-spouse</td>\n",
       "      <td>5</td>\n",
       "      <td>10858</td>\n",
       "      <td>('d612c61e-22f4-4922-8bb2-b04b9202126e',)</td>\n",
       "      <td>('d612c61e-22f4-4922-8bb2-b04b9202126e',)</td>\n",
       "    </tr>\n",
       "  </tbody>\n",
       "</table>\n",
       "</div>"
      ],
      "text/plain": [
       "                                         Source_node  Source_id  \\\n",
       "0  /government/publications/guidance-for-dependan...          0   \n",
       "1                                         /visa-fees          1   \n",
       "2                    /find-a-visa-application-centre          2   \n",
       "3                  /entering-staying-uk/family-visas          3   \n",
       "4                                    /uk-family-visa          4   \n",
       "\n",
       "                    Destination_node  Destination_id  Weight  \\\n",
       "0                         /visa-fees               1      23   \n",
       "1    /find-a-visa-application-centre               2     427   \n",
       "2  /entering-staying-uk/family-visas               3       1   \n",
       "3                    /uk-family-visa               4     148   \n",
       "4     /uk-family-visa/partner-spouse               5   10858   \n",
       "\n",
       "                                Source_Taxon  \\\n",
       "0  ('d612c61e-22f4-4922-8bb2-b04b9202126e',)   \n",
       "1  ('29480b00-dc4d-49a0-b48c-25dda8569325',)   \n",
       "2  ('d3df7728-db52-411f-afd2-44dbd09f553b',)   \n",
       "3  ('d612c61e-22f4-4922-8bb2-b04b9202126e',)   \n",
       "4  ('d612c61e-22f4-4922-8bb2-b04b9202126e',)   \n",
       "\n",
       "                           Destination_Taxon  \n",
       "0  ('29480b00-dc4d-49a0-b48c-25dda8569325',)  \n",
       "1  ('d3df7728-db52-411f-afd2-44dbd09f553b',)  \n",
       "2  ('d612c61e-22f4-4922-8bb2-b04b9202126e',)  \n",
       "3  ('d612c61e-22f4-4922-8bb2-b04b9202126e',)  \n",
       "4  ('d612c61e-22f4-4922-8bb2-b04b9202126e',)  "
      ]
     },
     "execution_count": 10,
     "metadata": {},
     "output_type": "execute_result"
    }
   ],
   "source": [
    "edges.head()"
   ]
  },
  {
   "cell_type": "markdown",
   "metadata": {},
   "source": [
    "#### Filter edge list: remove self-loops, remove edges to/from `/search`"
   ]
  },
  {
   "cell_type": "code",
   "execution_count": 11,
   "metadata": {},
   "outputs": [
    {
     "data": {
      "text/plain": [
       "((758634, 7), 1718465)"
      ]
     },
     "execution_count": 11,
     "metadata": {},
     "output_type": "execute_result"
    }
   ],
   "source": [
    "edges[edges.Destination_node.str.contains(\"/search?\")].shape, edges[edges.Destination_node.str.\n",
    "                                                                    contains(\"/search?\")].Weight.sum()"
   ]
  },
  {
   "cell_type": "code",
   "execution_count": 20,
   "metadata": {},
   "outputs": [],
   "source": [
    "edges = edges[(~edges.Source_node.str.contains(\" \")) & (~edges.Destination_node.str.contains(\" \"))]\n",
    "edges = edges[edges.Source_node!=edges.Destination_node]\n",
    "edges = edges[(~edges.Source_node.str.contains(\"/search?\")) & (~edges.Destination_node.str.contains(\"/search?\"))]"
   ]
  },
  {
   "cell_type": "code",
   "execution_count": 21,
   "metadata": {},
   "outputs": [
    {
     "data": {
      "text/plain": [
       "(2244101, 7)"
      ]
     },
     "execution_count": 21,
     "metadata": {},
     "output_type": "execute_result"
    }
   ],
   "source": [
    "edges.shape"
   ]
  },
  {
   "cell_type": "code",
   "execution_count": 22,
   "metadata": {},
   "outputs": [
    {
     "data": {
      "text/html": [
       "<div>\n",
       "<style scoped>\n",
       "    .dataframe tbody tr th:only-of-type {\n",
       "        vertical-align: middle;\n",
       "    }\n",
       "\n",
       "    .dataframe tbody tr th {\n",
       "        vertical-align: top;\n",
       "    }\n",
       "\n",
       "    .dataframe thead th {\n",
       "        text-align: right;\n",
       "    }\n",
       "</style>\n",
       "<table border=\"1\" class=\"dataframe\">\n",
       "  <thead>\n",
       "    <tr style=\"text-align: right;\">\n",
       "      <th></th>\n",
       "      <th>Source_node</th>\n",
       "      <th>Source_id</th>\n",
       "      <th>Destination_node</th>\n",
       "      <th>Destination_id</th>\n",
       "      <th>Weight</th>\n",
       "      <th>Source_Taxon</th>\n",
       "      <th>Destination_Taxon</th>\n",
       "    </tr>\n",
       "  </thead>\n",
       "  <tbody>\n",
       "  </tbody>\n",
       "</table>\n",
       "</div>"
      ],
      "text/plain": [
       "Empty DataFrame\n",
       "Columns: [Source_node, Source_id, Destination_node, Destination_id, Weight, Source_Taxon, Destination_Taxon]\n",
       "Index: []"
      ]
     },
     "execution_count": 22,
     "metadata": {},
     "output_type": "execute_result"
    }
   ],
   "source": [
    "edges[(edges.Source_node.str.contains(\"/search?\"))]"
   ]
  },
  {
   "cell_type": "code",
   "execution_count": 23,
   "metadata": {},
   "outputs": [
    {
     "data": {
      "text/html": [
       "<div>\n",
       "<style scoped>\n",
       "    .dataframe tbody tr th:only-of-type {\n",
       "        vertical-align: middle;\n",
       "    }\n",
       "\n",
       "    .dataframe tbody tr th {\n",
       "        vertical-align: top;\n",
       "    }\n",
       "\n",
       "    .dataframe thead th {\n",
       "        text-align: right;\n",
       "    }\n",
       "</style>\n",
       "<table border=\"1\" class=\"dataframe\">\n",
       "  <thead>\n",
       "    <tr style=\"text-align: right;\">\n",
       "      <th></th>\n",
       "      <th>Source_node</th>\n",
       "      <th>Destination_node</th>\n",
       "      <th>Weight</th>\n",
       "    </tr>\n",
       "  </thead>\n",
       "  <tbody>\n",
       "    <tr>\n",
       "      <th>276</th>\n",
       "      <td>/government/organisations/companies-house</td>\n",
       "      <td>/get-information-about-a-company</td>\n",
       "      <td>6975383</td>\n",
       "    </tr>\n",
       "    <tr>\n",
       "      <th>20</th>\n",
       "      <td>/log-in-file-self-assessment-tax-return</td>\n",
       "      <td>/log-in-file-self-assessment-tax-return/sign-i...</td>\n",
       "      <td>3627670</td>\n",
       "    </tr>\n",
       "    <tr>\n",
       "      <th>225</th>\n",
       "      <td>/government/organisations/hm-revenue-customs</td>\n",
       "      <td>/log-in-register-hmrc-online-services</td>\n",
       "      <td>3018949</td>\n",
       "    </tr>\n",
       "    <tr>\n",
       "      <th>241</th>\n",
       "      <td>/self-assessment-tax-returns</td>\n",
       "      <td>/log-in-file-self-assessment-tax-return</td>\n",
       "      <td>1935164</td>\n",
       "    </tr>\n",
       "    <tr>\n",
       "      <th>2478</th>\n",
       "      <td>/universal-credit</td>\n",
       "      <td>/sign-in-universal-credit</td>\n",
       "      <td>1801480</td>\n",
       "    </tr>\n",
       "  </tbody>\n",
       "</table>\n",
       "</div>"
      ],
      "text/plain": [
       "                                       Source_node  \\\n",
       "276      /government/organisations/companies-house   \n",
       "20         /log-in-file-self-assessment-tax-return   \n",
       "225   /government/organisations/hm-revenue-customs   \n",
       "241                   /self-assessment-tax-returns   \n",
       "2478                             /universal-credit   \n",
       "\n",
       "                                       Destination_node   Weight  \n",
       "276                    /get-information-about-a-company  6975383  \n",
       "20    /log-in-file-self-assessment-tax-return/sign-i...  3627670  \n",
       "225               /log-in-register-hmrc-online-services  3018949  \n",
       "241             /log-in-file-self-assessment-tax-return  1935164  \n",
       "2478                          /sign-in-universal-credit  1801480  "
      ]
     },
     "execution_count": 23,
     "metadata": {},
     "output_type": "execute_result"
    }
   ],
   "source": [
    "edges.sort_values(by=\"Weight\", ascending=False)[[\"Source_node\",\"Destination_node\",\"Weight\"]].head()"
   ]
  },
  {
   "cell_type": "code",
   "execution_count": 24,
   "metadata": {},
   "outputs": [
    {
     "data": {
      "text/plain": [
       "((2244101, 7), (433644, 7))"
      ]
     },
     "execution_count": 24,
     "metadata": {},
     "output_type": "execute_result"
    }
   ],
   "source": [
    "edges.shape, edges[edges.Weight >= 3].shape"
   ]
  },
  {
   "cell_type": "markdown",
   "metadata": {},
   "source": [
    "## Initialize functional graph"
   ]
  },
  {
   "cell_type": "code",
   "execution_count": 25,
   "metadata": {},
   "outputs": [],
   "source": [
    "graph = nx.DiGraph()"
   ]
  },
  {
   "cell_type": "code",
   "execution_count": 26,
   "metadata": {},
   "outputs": [],
   "source": [
    "# nodes_list = [[tup.Node,{\"id\":tup.Node_id, \"taxon\":tup.Node_Taxon}] for tup in nodes.itertuples()]\n",
    "# print(nodes_list[0:10])\n",
    "# graph.add_nodes_from(nodes_list)"
   ]
  },
  {
   "cell_type": "code",
   "execution_count": 27,
   "metadata": {},
   "outputs": [],
   "source": [
    "edge_list = [(tup.Source_node, tup.Destination_node, {\"weight\":tup.Weight}) \n",
    "             for tup in edges.itertuples() if tup.Weight >= 3]"
   ]
  },
  {
   "cell_type": "code",
   "execution_count": 28,
   "metadata": {},
   "outputs": [],
   "source": [
    "graph.add_edges_from(edge_list)"
   ]
  },
  {
   "cell_type": "code",
   "execution_count": 29,
   "metadata": {},
   "outputs": [
    {
     "data": {
      "text/plain": [
       "'Name: \\nType: DiGraph\\nNumber of nodes: 137160\\nNumber of edges: 433644\\nAverage in degree:   3.1616\\nAverage out degree:   3.1616'"
      ]
     },
     "execution_count": 29,
     "metadata": {},
     "output_type": "execute_result"
    }
   ],
   "source": [
    "nx.info(graph)"
   ]
  },
  {
   "cell_type": "code",
   "execution_count": 30,
   "metadata": {},
   "outputs": [
    {
     "data": {
      "text/plain": [
       "False"
      ]
     },
     "execution_count": 30,
     "metadata": {},
     "output_type": "execute_result"
    }
   ],
   "source": [
    "nx.is_connected(graph.to_undirected())"
   ]
  },
  {
   "cell_type": "code",
   "execution_count": 31,
   "metadata": {},
   "outputs": [
    {
     "data": {
      "text/plain": [
       "4207"
      ]
     },
     "execution_count": 31,
     "metadata": {},
     "output_type": "execute_result"
    }
   ],
   "source": [
    "len(list(nx.connected_components(graph.to_undirected())))"
   ]
  },
  {
   "cell_type": "code",
   "execution_count": 32,
   "metadata": {},
   "outputs": [
    {
     "name": "stdout",
     "output_type": "stream",
     "text": [
      "0 126424\n"
     ]
    }
   ],
   "source": [
    "for i,cc in enumerate(nx.connected_components(graph.to_undirected())):\n",
    "    if len(cc) > 10000:\n",
    "        print(i,len(cc))"
   ]
  },
  {
   "cell_type": "code",
   "execution_count": 33,
   "metadata": {},
   "outputs": [
    {
     "data": {
      "text/plain": [
       "['/hmrc-internal-manuals/business-income-manual/bim39520',\n",
       " '/check-if-you-need-tax-return/y/no/between-50-000-and-100-000/no-i-do-not-have-children-or-did-not-claim/no/no/none-of-these/no',\n",
       " '/calculate-your-holiday-entitlement/y/casual-or-irregular-hours/28.5',\n",
       " '/government/news/government-announces-new-housing-measures',\n",
       " '/towing-rules/y/medium-sized-vehicle/no/no/before-jan-1997',\n",
       " '/calculate-your-holiday-entitlement/y/hours-worked-per-week/starting/2018-05-09/2018-04-01',\n",
       " '/hmrc-internal-manuals/pensions-tax-manual/ptm145100',\n",
       " '/state-pension-age/y/age/1959-06-12/female',\n",
       " '/hmrc-internal-manuals/international-exchange-of-information/ieim401200',\n",
       " '/government/publications/procurement-policy-note-10-12-the-public-services-social-value-act-2012']"
      ]
     },
     "execution_count": 33,
     "metadata": {},
     "output_type": "execute_result"
    }
   ],
   "source": [
    "largest_cc = max(nx.connected_components(graph.to_undirected()), key=len)\n",
    "list(largest_cc)[0:10]"
   ]
  },
  {
   "cell_type": "code",
   "execution_count": 34,
   "metadata": {},
   "outputs": [
    {
     "data": {
      "text/plain": [
       "'Name: \\nType: DiGraph\\nNumber of nodes: 126424\\nNumber of edges: 425389\\nAverage in degree:   3.3648\\nAverage out degree:   3.3648'"
      ]
     },
     "execution_count": 34,
     "metadata": {},
     "output_type": "execute_result"
    }
   ],
   "source": [
    "subgraph = graph.subgraph(largest_cc)\n",
    "nx.info(subgraph)"
   ]
  },
  {
   "cell_type": "markdown",
   "metadata": {},
   "source": [
    "    'Name: \\nType: DiGraph\\nNumber of nodes: 146748\\nNumber of edges: 514181\\nAverage in degree:   3.5038\\nAverage out degree:   3.5038'"
   ]
  },
  {
   "cell_type": "code",
   "execution_count": 35,
   "metadata": {},
   "outputs": [],
   "source": [
    "attrs = {\"node_id\":{},\"node_taxon\":{}}\n",
    "for tup in nodes.itertuples():\n",
    "    if tup.Node in subgraph.nodes():\n",
    "        attrs[\"node_id\"][tup.Node] = tup.Node_id\n",
    "        attrs[\"node_taxon\"][tup.Node] = tup.Node_Taxon"
   ]
  },
  {
   "cell_type": "code",
   "execution_count": 36,
   "metadata": {},
   "outputs": [
    {
     "data": {
      "text/plain": [
       "[('/', 13),\n",
       " ('/-self-assessment-tax-bill', 375786),\n",
       " ('/-tax', 229776),\n",
       " ('/-tax-debit-credit-card', 111642),\n",
       " ('/1619-bursary-fund', 6687),\n",
       " ('/1619-bursary-fund/eligibility', 6689),\n",
       " ('/1619-bursary-fund/further-information', 45809),\n",
       " ('/1619-bursary-fund/how-to-claim', 6690),\n",
       " ('/1619-bursary-fund/print', 178760),\n",
       " ('/1619-bursary-fund/what-youll-get', 6688)]"
      ]
     },
     "execution_count": 36,
     "metadata": {},
     "output_type": "execute_result"
    }
   ],
   "source": [
    "list(attrs[\"node_id\"].items())[0:10]"
   ]
  },
  {
   "cell_type": "code",
   "execution_count": 37,
   "metadata": {},
   "outputs": [],
   "source": [
    "nx.set_node_attributes(graph, attrs[\"node_id\"], 'nid')\n",
    "nx.set_node_attributes(graph, attrs[\"node_taxon\"], 'taxon')"
   ]
  },
  {
   "cell_type": "code",
   "execution_count": 38,
   "metadata": {},
   "outputs": [
    {
     "name": "stdout",
     "output_type": "stream",
     "text": [
      "/government/publications/guidance-for-dependants-of-uk-visa-applicants-tiers-1-2-4-5 dict_keys(['nid', 'taxon'])\n",
      "/visa-fees dict_keys(['nid', 'taxon'])\n"
     ]
    }
   ],
   "source": [
    "for node,data in list(subgraph.nodes(data=True))[0:2]:\n",
    "    print(node,data.keys())"
   ]
  },
  {
   "cell_type": "markdown",
   "metadata": {},
   "source": [
    "### Compute shortest path"
   ]
  },
  {
   "cell_type": "code",
   "execution_count": 39,
   "metadata": {},
   "outputs": [],
   "source": [
    "short_paths = nx.shortest_path(subgraph, source=\"/\")"
   ]
  },
  {
   "cell_type": "code",
   "execution_count": 42,
   "metadata": {},
   "outputs": [
    {
     "data": {
      "text/plain": [
       "121409"
      ]
     },
     "execution_count": 42,
     "metadata": {},
     "output_type": "execute_result"
    }
   ],
   "source": [
    "len(short_paths)"
   ]
  },
  {
   "cell_type": "code",
   "execution_count": 41,
   "metadata": {},
   "outputs": [
    {
     "data": {
      "text/plain": [
       "394"
      ]
     },
     "execution_count": 41,
     "metadata": {},
     "output_type": "execute_result"
    }
   ],
   "source": [
    "count = 0\n",
    "for key,value in short_paths.items():\n",
    "    if len(value) > 15:\n",
    "        count+=1\n",
    "count"
   ]
  },
  {
   "cell_type": "code",
   "execution_count": null,
   "metadata": {},
   "outputs": [],
   "source": [
    "%timeit nx.average_shortest_path_length(subgraph)"
   ]
  },
  {
   "cell_type": "markdown",
   "metadata": {},
   "source": [
    "### Subtrees from homepage"
   ]
  },
  {
   "cell_type": "code",
   "execution_count": null,
   "metadata": {},
   "outputs": [],
   "source": [
    "home_edges = list(nx.dfs_edges(subgraph, source='/'))"
   ]
  },
  {
   "cell_type": "code",
   "execution_count": null,
   "metadata": {},
   "outputs": [],
   "source": [
    "home_graph = subgraph.edge_subgraph(home_edges).copy()  "
   ]
  },
  {
   "cell_type": "code",
   "execution_count": null,
   "metadata": {},
   "outputs": [],
   "source": []
  }
 ],
 "metadata": {
  "kernelspec": {
   "display_name": "Python 3",
   "language": "python",
   "name": "python3"
  },
  "language_info": {
   "codemirror_mode": {
    "name": "ipython",
    "version": 3
   },
   "file_extension": ".py",
   "mimetype": "text/x-python",
   "name": "python",
   "nbconvert_exporter": "python",
   "pygments_lexer": "ipython3",
   "version": "3.6.0"
  }
 },
 "nbformat": 4,
 "nbformat_minor": 2
}
