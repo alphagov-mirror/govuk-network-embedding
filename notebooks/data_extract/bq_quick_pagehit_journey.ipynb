{
 "cells": [
  {
   "cell_type": "code",
   "execution_count": 9,
   "metadata": {},
   "outputs": [],
   "source": [
    "import pandas as pd\n",
    "import os\n",
    "import logging\n",
    "import sys"
   ]
  },
  {
   "cell_type": "markdown",
   "metadata": {},
   "source": [
    "### Load environment vars and directories"
   ]
  },
  {
   "cell_type": "code",
   "execution_count": 6,
   "metadata": {},
   "outputs": [],
   "source": [
    "KEY_DIR = os.path.join(os.getenv(\"DOCUMENTS\"), \"govuk-network-data\", \"key\")\n",
    "KEY_PATH = os.path.join(KEY_DIR, os.listdir(KEY_DIR)[0])\n",
    "PROJECT_ID = \"govuk-bigquery-analytics\""
   ]
  },
  {
   "cell_type": "markdown",
   "metadata": {},
   "source": [
    "#### Logging for `pandas_gbq`"
   ]
  },
  {
   "cell_type": "code",
   "execution_count": 10,
   "metadata": {},
   "outputs": [],
   "source": [
    "logger = logging.getLogger('pandas_gbq')\n",
    "logger.setLevel(logging.DEBUG)\n",
    "logger.addHandler(logging.StreamHandler(stream=sys.stdout))"
   ]
  },
  {
   "cell_type": "markdown",
   "metadata": {},
   "source": [
    "### Extract page-hit only user journeys for February 11 to 18\n",
    "8.8 GB"
   ]
  },
  {
   "cell_type": "code",
   "execution_count": 7,
   "metadata": {},
   "outputs": [],
   "source": [
    "query = \"\"\"SELECT\n",
    "  COUNT(*) AS Occurrences,\n",
    "  PageSeq_Length,\n",
    "  PageSequence\n",
    "FROM (\n",
    "  SELECT\n",
    "    *\n",
    "  FROM (\n",
    "    SELECT\n",
    "      CONCAT(fullVisitorId,\"-\",CAST(visitId AS STRING),\"-\",CAST(visitNumber AS STRING)) AS sessionId,\n",
    "      STRING_AGG(IF(htype = 'PAGE',\n",
    "          pagePath,\n",
    "          NULL),\">>\") OVER (PARTITION BY fullVisitorId, visitId, visitStartTime ORDER BY hitNumber ROWS BETWEEN UNBOUNDED PRECEDING AND UNBOUNDED FOLLOWING ) AS PageSequence,\n",
    "      SUM(IF(htype='PAGE',\n",
    "          1,\n",
    "          0)) OVER (PARTITION BY fullVisitorId, visitId, visitStartTime ORDER BY hitNumber ROWS BETWEEN UNBOUNDED PRECEDING AND UNBOUNDED FOLLOWING ) AS PageSeq_Length\n",
    "    FROM (\n",
    "      SELECT\n",
    "        fullVisitorId,\n",
    "        visitId,\n",
    "        visitNumber,\n",
    "        visitStartTime,\n",
    "        hits.page.pagePath AS pagePath,\n",
    "        hits.hitNumber AS hitNumber,\n",
    "        hits.type AS htype\n",
    "      FROM\n",
    "        `govuk-bigquery-analytics.87773428.ga_sessions_*` AS sessions\n",
    "      CROSS JOIN\n",
    "        UNNEST(sessions.hits) AS hits \n",
    "       WHERE _TABLE_SUFFIX BETWEEN '20190211' AND '20190218' ) )\n",
    "  WHERE\n",
    "    PageSeq_Length >1\n",
    "  GROUP BY\n",
    "    sessionId,\n",
    "    PageSequence,\n",
    "    PageSeq_Length)\n",
    "GROUP BY\n",
    "  PageSequence,\n",
    "  PageSeq_Length\"\"\""
   ]
  },
  {
   "cell_type": "markdown",
   "metadata": {},
   "source": [
    "### Extract data from BigQuery"
   ]
  },
  {
   "cell_type": "code",
   "execution_count": 11,
   "metadata": {},
   "outputs": [
    {
     "name": "stdout",
     "output_type": "stream",
     "text": [
      "Requesting query... \n",
      "Query running...\n",
      "Job ID: 9066f954-1dd6-40c6-af0a-84e394001b36\n",
      "  Elapsed 8.19 s. Waiting...\n",
      "  Elapsed 9.59 s. Waiting...\n",
      "  Elapsed 10.92 s. Waiting...\n",
      "  Elapsed 12.26 s. Waiting...\n",
      "  Elapsed 13.59 s. Waiting...\n",
      "  Elapsed 14.92 s. Waiting...\n",
      "  Elapsed 16.25 s. Waiting...\n",
      "  Elapsed 17.56 s. Waiting...\n",
      "  Elapsed 18.92 s. Waiting...\n",
      "  Elapsed 20.24 s. Waiting...\n",
      "  Elapsed 21.53 s. Waiting...\n",
      "  Elapsed 22.9 s. Waiting...\n",
      "  Elapsed 24.24 s. Waiting...\n",
      "  Elapsed 25.57 s. Waiting...\n",
      "  Elapsed 26.85 s. Waiting...\n",
      "  Elapsed 28.22 s. Waiting...\n",
      "  Elapsed 29.56 s. Waiting...\n",
      "  Elapsed 30.89 s. Waiting...\n",
      "  Elapsed 32.03 s. Waiting...\n",
      "  Elapsed 33.35 s. Waiting...\n",
      "  Elapsed 34.68 s. Waiting...\n",
      "  Elapsed 35.98 s. Waiting...\n",
      "  Elapsed 37.25 s. Waiting...\n",
      "  Elapsed 38.55 s. Waiting...\n",
      "  Elapsed 39.9 s. Waiting...\n",
      "  Elapsed 41.19 s. Waiting...\n",
      "  Elapsed 42.48 s. Waiting...\n",
      "  Elapsed 43.8 s. Waiting...\n",
      "  Elapsed 45.09 s. Waiting...\n",
      "  Elapsed 46.46 s. Waiting...\n",
      "  Elapsed 47.73 s. Waiting...\n",
      "  Elapsed 49.0 s. Waiting...\n",
      "  Elapsed 50.35 s. Waiting...\n",
      "  Elapsed 51.68 s. Waiting...\n",
      "  Elapsed 53.02 s. Waiting...\n",
      "Query done.\n",
      "Processed: 8.8 GB Billed: 8.8 GB\n",
      "Standard price: $0.04 USD\n",
      "\n",
      "Got 5717481 rows.\n",
      "\n",
      "Total time taken 679.62 s.\n",
      "Finished at 2019-02-21 21:15:32.\n"
     ]
    }
   ],
   "source": [
    "df_in = pd.read_gbq(query,\n",
    "                           project_id=PROJECT_ID,\n",
    "                           reauth=False,\n",
    "                           verbose=True,\n",
    "                           private_key=KEY_PATH,\n",
    "                           dialect=\"standard\")"
   ]
  },
  {
   "cell_type": "code",
   "execution_count": 12,
   "metadata": {},
   "outputs": [
    {
     "data": {
      "text/plain": [
       "(5717481, 3)"
      ]
     },
     "execution_count": 12,
     "metadata": {},
     "output_type": "execute_result"
    }
   ],
   "source": [
    "df_in.shape"
   ]
  },
  {
   "cell_type": "code",
   "execution_count": 13,
   "metadata": {},
   "outputs": [
    {
     "data": {
      "text/html": [
       "<div>\n",
       "<style scoped>\n",
       "    .dataframe tbody tr th:only-of-type {\n",
       "        vertical-align: middle;\n",
       "    }\n",
       "\n",
       "    .dataframe tbody tr th {\n",
       "        vertical-align: top;\n",
       "    }\n",
       "\n",
       "    .dataframe thead th {\n",
       "        text-align: right;\n",
       "    }\n",
       "</style>\n",
       "<table border=\"1\" class=\"dataframe\">\n",
       "  <thead>\n",
       "    <tr style=\"text-align: right;\">\n",
       "      <th></th>\n",
       "      <th>Occurrences</th>\n",
       "      <th>PageSeq_Length</th>\n",
       "      <th>PageSequence</th>\n",
       "    </tr>\n",
       "  </thead>\n",
       "  <tbody>\n",
       "    <tr>\n",
       "      <th>0</th>\n",
       "      <td>1</td>\n",
       "      <td>35</td>\n",
       "      <td>/topic/help-british-nationals-overseas&gt;&gt;/topic...</td>\n",
       "    </tr>\n",
       "    <tr>\n",
       "      <th>1</th>\n",
       "      <td>1</td>\n",
       "      <td>22</td>\n",
       "      <td>/child-benefit/eligibility&gt;&gt;/child-benefit-tax...</td>\n",
       "    </tr>\n",
       "    <tr>\n",
       "      <th>2</th>\n",
       "      <td>1</td>\n",
       "      <td>26</td>\n",
       "      <td>/future-pension-centre&gt;&gt;/check-state-pension&gt;&gt;...</td>\n",
       "    </tr>\n",
       "    <tr>\n",
       "      <th>3</th>\n",
       "      <td>1</td>\n",
       "      <td>25</td>\n",
       "      <td>/uk-visa-sponsorship-employers&gt;&gt;/uk-visa-spons...</td>\n",
       "    </tr>\n",
       "    <tr>\n",
       "      <th>4</th>\n",
       "      <td>1</td>\n",
       "      <td>44</td>\n",
       "      <td>/bankruptcy/restrictions&gt;&gt;/bankruptcy&gt;&gt;/search...</td>\n",
       "    </tr>\n",
       "  </tbody>\n",
       "</table>\n",
       "</div>"
      ],
      "text/plain": [
       "   Occurrences  PageSeq_Length  \\\n",
       "0            1              35   \n",
       "1            1              22   \n",
       "2            1              26   \n",
       "3            1              25   \n",
       "4            1              44   \n",
       "\n",
       "                                        PageSequence  \n",
       "0  /topic/help-british-nationals-overseas>>/topic...  \n",
       "1  /child-benefit/eligibility>>/child-benefit-tax...  \n",
       "2  /future-pension-centre>>/check-state-pension>>...  \n",
       "3  /uk-visa-sponsorship-employers>>/uk-visa-spons...  \n",
       "4  /bankruptcy/restrictions>>/bankruptcy>>/search...  "
      ]
     },
     "execution_count": 13,
     "metadata": {},
     "output_type": "execute_result"
    }
   ],
   "source": [
    "df_in.head()"
   ]
  },
  {
   "cell_type": "markdown",
   "metadata": {},
   "source": [
    "### Explore occurrences stats"
   ]
  },
  {
   "cell_type": "code",
   "execution_count": 16,
   "metadata": {},
   "outputs": [
    {
     "data": {
      "text/plain": [
       "count    5.717481e+06\n",
       "mean     2.554230e+00\n",
       "std      2.641301e+02\n",
       "min      1.000000e+00\n",
       "25%      1.000000e+00\n",
       "50%      1.000000e+00\n",
       "75%      1.000000e+00\n",
       "max      4.953760e+05\n",
       "Name: Occurrences, dtype: float64"
      ]
     },
     "execution_count": 16,
     "metadata": {},
     "output_type": "execute_result"
    }
   ],
   "source": [
    "df_in.Occurrences.describe()"
   ]
  },
  {
   "cell_type": "code",
   "execution_count": 17,
   "metadata": {},
   "outputs": [],
   "source": [
    "all_occ = df_in.Occurrences.sum()\n",
    "num_one_off_journeys = df_in[df_in.Occurrences==1].shape[0]\n",
    "one_off_occ = df_in[df_in.Occurrences==1].Occurrences.sum()"
   ]
  },
  {
   "cell_type": "code",
   "execution_count": 18,
   "metadata": {},
   "outputs": [
    {
     "data": {
      "text/plain": [
       "(14603761, 5129478, 5129478)"
      ]
     },
     "execution_count": 18,
     "metadata": {},
     "output_type": "execute_result"
    }
   ],
   "source": [
    "all_occ, num_one_off_journeys, one_off_occ"
   ]
  },
  {
   "cell_type": "code",
   "execution_count": 23,
   "metadata": {},
   "outputs": [
    {
     "data": {
      "text/html": [
       "<div>\n",
       "<style scoped>\n",
       "    .dataframe tbody tr th:only-of-type {\n",
       "        vertical-align: middle;\n",
       "    }\n",
       "\n",
       "    .dataframe tbody tr th {\n",
       "        vertical-align: top;\n",
       "    }\n",
       "\n",
       "    .dataframe thead th {\n",
       "        text-align: right;\n",
       "    }\n",
       "</style>\n",
       "<table border=\"1\" class=\"dataframe\">\n",
       "  <thead>\n",
       "    <tr style=\"text-align: right;\">\n",
       "      <th></th>\n",
       "      <th>Occurrences</th>\n",
       "      <th>PageSeq_Length</th>\n",
       "      <th>PageSequence</th>\n",
       "    </tr>\n",
       "  </thead>\n",
       "  <tbody>\n",
       "    <tr>\n",
       "      <th>609519</th>\n",
       "      <td>495376</td>\n",
       "      <td>2</td>\n",
       "      <td>/government/organisations/companies-house&gt;&gt;/ge...</td>\n",
       "    </tr>\n",
       "    <tr>\n",
       "      <th>1168172</th>\n",
       "      <td>229609</td>\n",
       "      <td>2</td>\n",
       "      <td>/universal-credit&gt;&gt;/sign-in-universal-credit</td>\n",
       "    </tr>\n",
       "    <tr>\n",
       "      <th>4622735</th>\n",
       "      <td>164249</td>\n",
       "      <td>2</td>\n",
       "      <td>/sign-in-universal-credit&gt;&gt;/sign-in-universal-...</td>\n",
       "    </tr>\n",
       "    <tr>\n",
       "      <th>2316097</th>\n",
       "      <td>142012</td>\n",
       "      <td>2</td>\n",
       "      <td>/government/organisations/hm-revenue-customs&gt;&gt;...</td>\n",
       "    </tr>\n",
       "    <tr>\n",
       "      <th>54671</th>\n",
       "      <td>94502</td>\n",
       "      <td>2</td>\n",
       "      <td>/check-mot-history&gt;&gt;/check-mot-history</td>\n",
       "    </tr>\n",
       "  </tbody>\n",
       "</table>\n",
       "</div>"
      ],
      "text/plain": [
       "         Occurrences  PageSeq_Length  \\\n",
       "609519        495376               2   \n",
       "1168172       229609               2   \n",
       "4622735       164249               2   \n",
       "2316097       142012               2   \n",
       "54671          94502               2   \n",
       "\n",
       "                                              PageSequence  \n",
       "609519   /government/organisations/companies-house>>/ge...  \n",
       "1168172       /universal-credit>>/sign-in-universal-credit  \n",
       "4622735  /sign-in-universal-credit>>/sign-in-universal-...  \n",
       "2316097  /government/organisations/hm-revenue-customs>>...  \n",
       "54671               /check-mot-history>>/check-mot-history  "
      ]
     },
     "execution_count": 23,
     "metadata": {},
     "output_type": "execute_result"
    }
   ],
   "source": [
    "df_in.sort_values(\"Occurrences\", ascending=False).head()"
   ]
  },
  {
   "cell_type": "markdown",
   "metadata": {},
   "source": [
    "### Add `Page_List` column"
   ]
  },
  {
   "cell_type": "code",
   "execution_count": 26,
   "metadata": {},
   "outputs": [],
   "source": [
    "pagelist = [pageseq.split(\">>\") for pageseq in df_in['PageSequence'].values]\n",
    "df_in['Page_List'] = pagelist"
   ]
  },
  {
   "cell_type": "code",
   "execution_count": 28,
   "metadata": {},
   "outputs": [
    {
     "data": {
      "text/plain": [
       "0    [/topic/help-british-nationals-overseas, /topi...\n",
       "1    [/child-benefit/eligibility, /child-benefit-ta...\n",
       "2    [/future-pension-centre, /check-state-pension,...\n",
       "3    [/uk-visa-sponsorship-employers, /uk-visa-spon...\n",
       "4    [/bankruptcy/restrictions, /bankruptcy, /searc...\n",
       "Name: Page_List, dtype: object"
      ]
     },
     "execution_count": 28,
     "metadata": {},
     "output_type": "execute_result"
    }
   ],
   "source": [
    "df_in['Page_List'].head()"
   ]
  },
  {
   "cell_type": "code",
   "execution_count": 33,
   "metadata": {},
   "outputs": [],
   "source": [
    "page_views = {}\n",
    "for tup in df_in.itertuples():\n",
    "    for p in tup.Page_List:\n",
    "        if p in page_views.keys():\n",
    "            page_views[p] += tup.Occurrences\n",
    "        else:\n",
    "            page_views[p] = tup.Occurrences"
   ]
  },
  {
   "cell_type": "code",
   "execution_count": 39,
   "metadata": {},
   "outputs": [
    {
     "data": {
      "text/plain": [
       "(2092293, 69467448)"
      ]
     },
     "execution_count": 39,
     "metadata": {},
     "output_type": "execute_result"
    }
   ],
   "source": [
    "len(page_views), sum(page_views.values())"
   ]
  },
  {
   "cell_type": "markdown",
   "metadata": {},
   "source": [
    "### Save out "
   ]
  },
  {
   "cell_type": "code",
   "execution_count": 34,
   "metadata": {},
   "outputs": [],
   "source": [
    "bq_dir = os.path.join(os.getenv(\"DATA_DIR\"),\"raw\", \"bq_journey_extract\")\n",
    "bq_file = os.path.join(bq_dir, \"pageseq_user_journey_feb_11_18.csv.gz\")\n",
    "bq_file_doo = os.path.join(bq_dir, \"pageseq_user_journey_feb_11_18_doo.csv.gz\")\n",
    "page_views_file = os.path.join(bq_dir, \"pageviews_feb_11_18.csv.gz\")"
   ]
  },
  {
   "cell_type": "code",
   "execution_count": null,
   "metadata": {},
   "outputs": [],
   "source": [
    "df_in.to_csv(bq_file, compression=\"gzip\", sep='\\t', index=False)"
   ]
  },
  {
   "cell_type": "code",
   "execution_count": null,
   "metadata": {},
   "outputs": [],
   "source": [
    "df_in[df_in.Occurrences>1].to_csv(bq_file_doo, compression=\"gzip\", sep='\\t', index=False)"
   ]
  },
  {
   "cell_type": "code",
   "execution_count": 35,
   "metadata": {},
   "outputs": [],
   "source": [
    "import gzip\n",
    "with gzip.open(page_views_file, \"wb\") as writer:\n",
    "    writer.write(\"page_url\\tviews\\n\".encode())\n",
    "    for key,value in page_views.items():\n",
    "        writer.write(\"{}\\t{}\\n\".format(key,value).encode())"
   ]
  },
  {
   "cell_type": "code",
   "execution_count": null,
   "metadata": {},
   "outputs": [],
   "source": []
  }
 ],
 "metadata": {
  "kernelspec": {
   "display_name": "Python 3",
   "language": "python",
   "name": "python3"
  },
  "language_info": {
   "codemirror_mode": {
    "name": "ipython",
    "version": 3
   },
   "file_extension": ".py",
   "mimetype": "text/x-python",
   "name": "python",
   "nbconvert_exporter": "python",
   "pygments_lexer": "ipython3",
   "version": "3.6.0"
  }
 },
 "nbformat": 4,
 "nbformat_minor": 2
}
