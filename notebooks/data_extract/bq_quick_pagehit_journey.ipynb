{
 "cells": [
  {
   "cell_type": "code",
   "execution_count": 1,
   "metadata": {},
   "outputs": [],
   "source": [
    "import pandas as pd\n",
    "import os\n",
    "import logging\n",
    "import sys"
   ]
  },
  {
   "cell_type": "markdown",
   "metadata": {},
   "source": [
    "### Load environment vars and directories"
   ]
  },
  {
   "cell_type": "code",
   "execution_count": 2,
   "metadata": {},
   "outputs": [],
   "source": [
    "KEY_DIR = os.path.join(os.getenv(\"DOCUMENTS\"), \"govuk-network-data\", \"key\")\n",
    "KEY_PATH = os.path.join(KEY_DIR, os.listdir(KEY_DIR)[0])\n",
    "PROJECT_ID = \"govuk-bigquery-analytics\""
   ]
  },
  {
   "cell_type": "markdown",
   "metadata": {},
   "source": [
    "#### Logging for `pandas_gbq`"
   ]
  },
  {
   "cell_type": "code",
   "execution_count": 3,
   "metadata": {},
   "outputs": [],
   "source": [
    "logger = logging.getLogger('pandas_gbq')\n",
    "logger.setLevel(logging.DEBUG)\n",
    "logger.addHandler(logging.StreamHandler(stream=sys.stdout))"
   ]
  },
  {
   "cell_type": "markdown",
   "metadata": {},
   "source": [
    "### Extract page-hit only user journeys for February 11 to 18\n",
    "8.8 GB"
   ]
  },
  {
   "cell_type": "code",
   "execution_count": 4,
   "metadata": {},
   "outputs": [],
   "source": [
    "query = \"\"\"SELECT\n",
    "  COUNT(*) AS Occurrences,\n",
    "  PageSeq_Length,\n",
    "  PageSequence\n",
    "FROM (\n",
    "  SELECT\n",
    "    *\n",
    "  FROM (\n",
    "    SELECT\n",
    "      CONCAT(fullVisitorId,\"-\",CAST(visitId AS STRING),\"-\",CAST(visitNumber AS STRING)) AS sessionId,\n",
    "      STRING_AGG(IF(htype = 'PAGE',\n",
    "          pagePath,\n",
    "          NULL),\">>\") OVER (PARTITION BY fullVisitorId, visitId, visitStartTime ORDER BY hitNumber ROWS BETWEEN UNBOUNDED PRECEDING AND UNBOUNDED FOLLOWING ) AS PageSequence,\n",
    "      SUM(IF(htype='PAGE',\n",
    "          1,\n",
    "          0)) OVER (PARTITION BY fullVisitorId, visitId, visitStartTime ORDER BY hitNumber ROWS BETWEEN UNBOUNDED PRECEDING AND UNBOUNDED FOLLOWING ) AS PageSeq_Length\n",
    "    FROM (\n",
    "      SELECT\n",
    "        fullVisitorId,\n",
    "        visitId,\n",
    "        visitNumber,\n",
    "        visitStartTime,\n",
    "        hits.page.pagePath AS pagePath,\n",
    "        hits.hitNumber AS hitNumber,\n",
    "        hits.type AS htype\n",
    "      FROM\n",
    "        `govuk-bigquery-analytics.87773428.ga_sessions_*` AS sessions\n",
    "      CROSS JOIN\n",
    "        UNNEST(sessions.hits) AS hits \n",
    "       WHERE _TABLE_SUFFIX BETWEEN '20190110' AND '20190128' ) )\n",
    "  WHERE\n",
    "    PageSeq_Length >1\n",
    "  GROUP BY\n",
    "    sessionId,\n",
    "    PageSequence,\n",
    "    PageSeq_Length)\n",
    "GROUP BY\n",
    "  PageSequence,\n",
    "  PageSeq_Length\"\"\""
   ]
  },
  {
   "cell_type": "markdown",
   "metadata": {},
   "source": [
    "### Extract data from BigQuery"
   ]
  },
  {
   "cell_type": "code",
   "execution_count": 5,
   "metadata": {},
   "outputs": [
    {
     "name": "stdout",
     "output_type": "stream",
     "text": [
      "Requesting query... \n",
      "Query running...\n",
      "Job ID: 8d4740ca-1e76-4812-9e8f-b217fe5c8de9\n",
      "  Elapsed 7.31 s. Waiting...\n",
      "  Elapsed 8.62 s. Waiting...\n",
      "  Elapsed 9.91 s. Waiting...\n",
      "  Elapsed 11.22 s. Waiting...\n",
      "  Elapsed 12.52 s. Waiting...\n",
      "  Elapsed 13.91 s. Waiting...\n",
      "  Elapsed 15.2 s. Waiting...\n",
      "  Elapsed 16.5 s. Waiting...\n",
      "  Elapsed 17.8 s. Waiting...\n",
      "  Elapsed 19.09 s. Waiting...\n",
      "  Elapsed 20.38 s. Waiting...\n",
      "  Elapsed 21.66 s. Waiting...\n",
      "  Elapsed 22.93 s. Waiting...\n",
      "  Elapsed 24.22 s. Waiting...\n",
      "  Elapsed 25.52 s. Waiting...\n",
      "  Elapsed 26.86 s. Waiting...\n",
      "  Elapsed 28.18 s. Waiting...\n",
      "  Elapsed 29.46 s. Waiting...\n",
      "  Elapsed 30.73 s. Waiting...\n",
      "  Elapsed 32.02 s. Waiting...\n",
      "  Elapsed 33.32 s. Waiting...\n",
      "  Elapsed 34.6 s. Waiting...\n",
      "  Elapsed 35.91 s. Waiting...\n",
      "  Elapsed 37.26 s. Waiting...\n",
      "  Elapsed 38.54 s. Waiting...\n",
      "  Elapsed 39.84 s. Waiting...\n",
      "  Elapsed 41.12 s. Waiting...\n",
      "  Elapsed 42.41 s. Waiting...\n",
      "  Elapsed 43.77 s. Waiting...\n",
      "  Elapsed 45.06 s. Waiting...\n",
      "  Elapsed 46.36 s. Waiting...\n",
      "  Elapsed 47.64 s. Waiting...\n",
      "  Elapsed 48.92 s. Waiting...\n",
      "  Elapsed 50.24 s. Waiting...\n",
      "  Elapsed 51.59 s. Waiting...\n",
      "  Elapsed 52.89 s. Waiting...\n",
      "  Elapsed 54.17 s. Waiting...\n",
      "  Elapsed 55.45 s. Waiting...\n",
      "  Elapsed 56.82 s. Waiting...\n",
      "  Elapsed 58.12 s. Waiting...\n",
      "  Elapsed 59.48 s. Waiting...\n",
      "  Elapsed 60.79 s. Waiting...\n",
      "  Elapsed 62.06 s. Waiting...\n",
      "  Elapsed 63.33 s. Waiting...\n",
      "  Elapsed 64.61 s. Waiting...\n",
      "  Elapsed 65.9 s. Waiting...\n",
      "  Elapsed 67.26 s. Waiting...\n",
      "  Elapsed 68.54 s. Waiting...\n",
      "  Elapsed 69.8 s. Waiting...\n",
      "  Elapsed 71.15 s. Waiting...\n",
      "  Elapsed 72.44 s. Waiting...\n",
      "  Elapsed 73.72 s. Waiting...\n",
      "  Elapsed 75.05 s. Waiting...\n",
      "  Elapsed 76.32 s. Waiting...\n",
      "  Elapsed 77.61 s. Waiting...\n",
      "  Elapsed 78.94 s. Waiting...\n",
      "  Elapsed 80.27 s. Waiting...\n",
      "  Elapsed 81.54 s. Waiting...\n",
      "  Elapsed 82.82 s. Waiting...\n",
      "  Elapsed 84.16 s. Waiting...\n",
      "  Elapsed 85.47 s. Waiting...\n",
      "  Elapsed 86.82 s. Waiting...\n",
      "  Elapsed 87.97 s. Waiting...\n",
      "  Elapsed 89.25 s. Waiting...\n",
      "  Elapsed 90.53 s. Waiting...\n",
      "  Elapsed 91.83 s. Waiting...\n",
      "  Elapsed 93.17 s. Waiting...\n",
      "  Elapsed 94.46 s. Waiting...\n",
      "  Elapsed 95.74 s. Waiting...\n",
      "  Elapsed 97.06 s. Waiting...\n",
      "  Elapsed 98.35 s. Waiting...\n",
      "  Elapsed 99.72 s. Waiting...\n",
      "  Elapsed 101.05 s. Waiting...\n",
      "  Elapsed 102.39 s. Waiting...\n",
      "  Elapsed 103.69 s. Waiting...\n",
      "  Elapsed 105.05 s. Waiting...\n",
      "  Elapsed 106.33 s. Waiting...\n",
      "  Elapsed 107.71 s. Waiting...\n",
      "  Elapsed 109.0 s. Waiting...\n",
      "  Elapsed 110.26 s. Waiting...\n",
      "  Elapsed 111.53 s. Waiting...\n",
      "  Elapsed 112.83 s. Waiting...\n",
      "  Elapsed 114.09 s. Waiting...\n",
      "  Elapsed 115.39 s. Waiting...\n",
      "  Elapsed 116.51 s. Waiting...\n",
      "  Elapsed 117.77 s. Waiting...\n",
      "  Elapsed 119.08 s. Waiting...\n",
      "  Elapsed 120.41 s. Waiting...\n",
      "  Elapsed 121.74 s. Waiting...\n",
      "  Elapsed 123.07 s. Waiting...\n",
      "  Elapsed 124.4 s. Waiting...\n",
      "  Elapsed 125.68 s. Waiting...\n",
      "  Elapsed 127.06 s. Waiting...\n",
      "  Elapsed 128.32 s. Waiting...\n",
      "  Elapsed 129.59 s. Waiting...\n",
      "  Elapsed 130.96 s. Waiting...\n",
      "  Elapsed 132.29 s. Waiting...\n",
      "  Elapsed 133.57 s. Waiting...\n",
      "  Elapsed 134.85 s. Waiting...\n",
      "  Elapsed 136.13 s. Waiting...\n",
      "  Elapsed 137.51 s. Waiting...\n",
      "  Elapsed 138.84 s. Waiting...\n",
      "  Elapsed 140.13 s. Waiting...\n",
      "  Elapsed 141.5 s. Waiting...\n",
      "  Elapsed 142.83 s. Waiting...\n",
      "  Elapsed 144.12 s. Waiting...\n",
      "  Elapsed 145.39 s. Waiting...\n",
      "  Elapsed 146.65 s. Waiting...\n",
      "  Elapsed 147.93 s. Waiting...\n",
      "  Elapsed 149.2 s. Waiting...\n",
      "  Elapsed 150.46 s. Waiting...\n",
      "  Elapsed 151.75 s. Waiting...\n",
      "  Elapsed 153.08 s. Waiting...\n",
      "  Elapsed 154.41 s. Waiting...\n",
      "  Elapsed 155.87 s. Waiting...\n",
      "Query done.\n",
      "Processed: 23.7 GB Billed: 23.7 GB\n",
      "Standard price: $0.12 USD\n",
      "\n",
      "Got 13968085 rows.\n",
      "\n",
      "Total time taken 1886.74 s.\n",
      "Finished at 2019-02-22 00:04:54.\n"
     ]
    }
   ],
   "source": [
    "df_in = pd.read_gbq(query,\n",
    "                       project_id=PROJECT_ID,\n",
    "                       reauth=False,\n",
    "                       private_key=KEY_PATH,\n",
    "                       dialect=\"standard\")"
   ]
  },
  {
   "cell_type": "code",
   "execution_count": 6,
   "metadata": {},
   "outputs": [
    {
     "data": {
      "text/plain": [
       "(13968085, 3)"
      ]
     },
     "execution_count": 6,
     "metadata": {},
     "output_type": "execute_result"
    }
   ],
   "source": [
    "df_in.shape"
   ]
  },
  {
   "cell_type": "code",
   "execution_count": 7,
   "metadata": {},
   "outputs": [
    {
     "data": {
      "text/html": [
       "<div>\n",
       "<style scoped>\n",
       "    .dataframe tbody tr th:only-of-type {\n",
       "        vertical-align: middle;\n",
       "    }\n",
       "\n",
       "    .dataframe tbody tr th {\n",
       "        vertical-align: top;\n",
       "    }\n",
       "\n",
       "    .dataframe thead th {\n",
       "        text-align: right;\n",
       "    }\n",
       "</style>\n",
       "<table border=\"1\" class=\"dataframe\">\n",
       "  <thead>\n",
       "    <tr style=\"text-align: right;\">\n",
       "      <th></th>\n",
       "      <th>Occurrences</th>\n",
       "      <th>PageSeq_Length</th>\n",
       "      <th>PageSequence</th>\n",
       "    </tr>\n",
       "  </thead>\n",
       "  <tbody>\n",
       "    <tr>\n",
       "      <th>0</th>\n",
       "      <td>1</td>\n",
       "      <td>8</td>\n",
       "      <td>/budgeting-help-benefits&gt;&gt;/budgeting-help-bene...</td>\n",
       "    </tr>\n",
       "    <tr>\n",
       "      <th>1</th>\n",
       "      <td>1</td>\n",
       "      <td>33</td>\n",
       "      <td>/support-for-mortgage-interest&gt;&gt;/government/pu...</td>\n",
       "    </tr>\n",
       "    <tr>\n",
       "      <th>2</th>\n",
       "      <td>1</td>\n",
       "      <td>7</td>\n",
       "      <td>/log-in-register-hmrc-online-services&gt;&gt;/search...</td>\n",
       "    </tr>\n",
       "    <tr>\n",
       "      <th>3</th>\n",
       "      <td>1</td>\n",
       "      <td>5</td>\n",
       "      <td>/government/organisations/companies-house&gt;&gt;/ge...</td>\n",
       "    </tr>\n",
       "    <tr>\n",
       "      <th>4</th>\n",
       "      <td>1</td>\n",
       "      <td>9</td>\n",
       "      <td>/government/news/number-of-2-year-olds-eligibl...</td>\n",
       "    </tr>\n",
       "  </tbody>\n",
       "</table>\n",
       "</div>"
      ],
      "text/plain": [
       "   Occurrences  PageSeq_Length  \\\n",
       "0            1               8   \n",
       "1            1              33   \n",
       "2            1               7   \n",
       "3            1               5   \n",
       "4            1               9   \n",
       "\n",
       "                                        PageSequence  \n",
       "0  /budgeting-help-benefits>>/budgeting-help-bene...  \n",
       "1  /support-for-mortgage-interest>>/government/pu...  \n",
       "2  /log-in-register-hmrc-online-services>>/search...  \n",
       "3  /government/organisations/companies-house>>/ge...  \n",
       "4  /government/news/number-of-2-year-olds-eligibl...  "
      ]
     },
     "execution_count": 7,
     "metadata": {},
     "output_type": "execute_result"
    }
   ],
   "source": [
    "df_in.head()"
   ]
  },
  {
   "cell_type": "markdown",
   "metadata": {},
   "source": [
    "### Explore occurrences stats"
   ]
  },
  {
   "cell_type": "code",
   "execution_count": 8,
   "metadata": {},
   "outputs": [
    {
     "data": {
      "text/plain": [
       "count    1.396808e+07\n",
       "mean     2.766656e+00\n",
       "std      3.970094e+02\n",
       "min      1.000000e+00\n",
       "25%      1.000000e+00\n",
       "50%      1.000000e+00\n",
       "75%      1.000000e+00\n",
       "max      1.122761e+06\n",
       "Name: Occurrences, dtype: float64"
      ]
     },
     "execution_count": 8,
     "metadata": {},
     "output_type": "execute_result"
    }
   ],
   "source": [
    "df_in.Occurrences.describe()"
   ]
  },
  {
   "cell_type": "code",
   "execution_count": 9,
   "metadata": {},
   "outputs": [],
   "source": [
    "all_occ = df_in.Occurrences.sum()\n",
    "num_one_off_journeys = df_in[df_in.Occurrences==1].shape[0]\n",
    "one_off_occ = df_in[df_in.Occurrences==1].Occurrences.sum()"
   ]
  },
  {
   "cell_type": "code",
   "execution_count": 10,
   "metadata": {},
   "outputs": [
    {
     "data": {
      "text/plain": [
       "(38644889, 12579331, 12579331)"
      ]
     },
     "execution_count": 10,
     "metadata": {},
     "output_type": "execute_result"
    }
   ],
   "source": [
    "all_occ, num_one_off_journeys, one_off_occ"
   ]
  },
  {
   "cell_type": "code",
   "execution_count": 11,
   "metadata": {},
   "outputs": [
    {
     "data": {
      "text/html": [
       "<div>\n",
       "<style scoped>\n",
       "    .dataframe tbody tr th:only-of-type {\n",
       "        vertical-align: middle;\n",
       "    }\n",
       "\n",
       "    .dataframe tbody tr th {\n",
       "        vertical-align: top;\n",
       "    }\n",
       "\n",
       "    .dataframe thead th {\n",
       "        text-align: right;\n",
       "    }\n",
       "</style>\n",
       "<table border=\"1\" class=\"dataframe\">\n",
       "  <thead>\n",
       "    <tr style=\"text-align: right;\">\n",
       "      <th></th>\n",
       "      <th>Occurrences</th>\n",
       "      <th>PageSeq_Length</th>\n",
       "      <th>PageSequence</th>\n",
       "    </tr>\n",
       "  </thead>\n",
       "  <tbody>\n",
       "    <tr>\n",
       "      <th>6651719</th>\n",
       "      <td>1122761</td>\n",
       "      <td>2</td>\n",
       "      <td>/government/organisations/companies-house&gt;&gt;/ge...</td>\n",
       "    </tr>\n",
       "    <tr>\n",
       "      <th>12702836</th>\n",
       "      <td>524897</td>\n",
       "      <td>2</td>\n",
       "      <td>/government/organisations/hm-revenue-customs&gt;&gt;...</td>\n",
       "    </tr>\n",
       "    <tr>\n",
       "      <th>813759</th>\n",
       "      <td>433269</td>\n",
       "      <td>2</td>\n",
       "      <td>/universal-credit&gt;&gt;/sign-in-universal-credit</td>\n",
       "    </tr>\n",
       "    <tr>\n",
       "      <th>5165683</th>\n",
       "      <td>318898</td>\n",
       "      <td>2</td>\n",
       "      <td>/sign-in-universal-credit&gt;&gt;/sign-in-universal-...</td>\n",
       "    </tr>\n",
       "    <tr>\n",
       "      <th>13272106</th>\n",
       "      <td>240900</td>\n",
       "      <td>3</td>\n",
       "      <td>/self-assessment-tax-returns&gt;&gt;/log-in-file-sel...</td>\n",
       "    </tr>\n",
       "  </tbody>\n",
       "</table>\n",
       "</div>"
      ],
      "text/plain": [
       "          Occurrences  PageSeq_Length  \\\n",
       "6651719       1122761               2   \n",
       "12702836       524897               2   \n",
       "813759         433269               2   \n",
       "5165683        318898               2   \n",
       "13272106       240900               3   \n",
       "\n",
       "                                               PageSequence  \n",
       "6651719   /government/organisations/companies-house>>/ge...  \n",
       "12702836  /government/organisations/hm-revenue-customs>>...  \n",
       "813759         /universal-credit>>/sign-in-universal-credit  \n",
       "5165683   /sign-in-universal-credit>>/sign-in-universal-...  \n",
       "13272106  /self-assessment-tax-returns>>/log-in-file-sel...  "
      ]
     },
     "execution_count": 11,
     "metadata": {},
     "output_type": "execute_result"
    }
   ],
   "source": [
    "df_in.sort_values(\"Occurrences\", ascending=False).head()"
   ]
  },
  {
   "cell_type": "markdown",
   "metadata": {},
   "source": [
    "### Add `Page_List` column"
   ]
  },
  {
   "cell_type": "code",
   "execution_count": 12,
   "metadata": {},
   "outputs": [],
   "source": [
    "pagelist = [pageseq.split(\">>\") for pageseq in df_in['PageSequence'].values]\n",
    "df_in['Page_List'] = pagelist"
   ]
  },
  {
   "cell_type": "code",
   "execution_count": 13,
   "metadata": {},
   "outputs": [
    {
     "data": {
      "text/plain": [
       "0    [/budgeting-help-benefits, /budgeting-help-ben...\n",
       "1    [/support-for-mortgage-interest, /government/p...\n",
       "2    [/log-in-register-hmrc-online-services, /searc...\n",
       "3    [/government/organisations/companies-house, /g...\n",
       "4    [/government/news/number-of-2-year-olds-eligib...\n",
       "Name: Page_List, dtype: object"
      ]
     },
     "execution_count": 13,
     "metadata": {},
     "output_type": "execute_result"
    }
   ],
   "source": [
    "df_in['Page_List'].head()"
   ]
  },
  {
   "cell_type": "code",
   "execution_count": 14,
   "metadata": {},
   "outputs": [],
   "source": [
    "page_views = {}\n",
    "for tup in df_in.itertuples():\n",
    "    for p in tup.Page_List:\n",
    "        if p in page_views.keys():\n",
    "            page_views[p] += tup.Occurrences\n",
    "        else:\n",
    "            page_views[p] = tup.Occurrences"
   ]
  },
  {
   "cell_type": "code",
   "execution_count": 15,
   "metadata": {},
   "outputs": [
    {
     "data": {
      "text/plain": [
       "(4355402, 189524646)"
      ]
     },
     "execution_count": 15,
     "metadata": {},
     "output_type": "execute_result"
    }
   ],
   "source": [
    "len(page_views), sum(page_views.values())"
   ]
  },
  {
   "cell_type": "markdown",
   "metadata": {},
   "source": [
    "### Save out "
   ]
  },
  {
   "cell_type": "code",
   "execution_count": 16,
   "metadata": {},
   "outputs": [],
   "source": [
    "date_range = \"jan_10_28\"\n",
    "bq_dir = os.path.join(os.getenv(\"DATA_DIR\"),\"raw\", \"bq_journey_extract\")\n",
    "bq_file = os.path.join(bq_dir, \"pageseq_user_journey_\"+date_range+\".csv.gz\")\n",
    "bq_file_doo = os.path.join(bq_dir, \"pageseq_user_journey_\"+date_range+\"_doo.csv.gz\")\n",
    "page_views_file = os.path.join(bq_dir, \"pageviews_\"+date_range+\".csv.gz\")"
   ]
  },
  {
   "cell_type": "code",
   "execution_count": 17,
   "metadata": {},
   "outputs": [],
   "source": [
    "df_in.to_csv(bq_file, compression=\"gzip\", sep='\\t', index=False)"
   ]
  },
  {
   "cell_type": "code",
   "execution_count": 18,
   "metadata": {},
   "outputs": [],
   "source": [
    "df_in[df_in.Occurrences>1].to_csv(bq_file_doo, compression=\"gzip\", sep='\\t', index=False)"
   ]
  },
  {
   "cell_type": "code",
   "execution_count": 19,
   "metadata": {},
   "outputs": [],
   "source": [
    "import gzip\n",
    "with gzip.open(page_views_file, \"wb\") as writer:\n",
    "    writer.write(\"page_url\\tviews\\n\".encode())\n",
    "    for key,value in page_views.items():\n",
    "        writer.write(\"{}\\t{}\\n\".format(key,value).encode())"
   ]
  },
  {
   "cell_type": "code",
   "execution_count": null,
   "metadata": {},
   "outputs": [],
   "source": []
  }
 ],
 "metadata": {
  "kernelspec": {
   "display_name": "Python 3",
   "language": "python",
   "name": "python3"
  },
  "language_info": {
   "codemirror_mode": {
    "name": "ipython",
    "version": 3
   },
   "file_extension": ".py",
   "mimetype": "text/x-python",
   "name": "python",
   "nbconvert_exporter": "python",
   "pygments_lexer": "ipython3",
   "version": "3.6.0"
  }
 },
 "nbformat": 4,
 "nbformat_minor": 2
}
