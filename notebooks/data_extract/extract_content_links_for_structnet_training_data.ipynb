{
 "cells": [
  {
   "cell_type": "code",
   "execution_count": 105,
   "metadata": {},
   "outputs": [],
   "source": [
    "import os\n",
    "import pandas as pd\n",
    "import gzip\n",
    "import ijson\n",
    "import itertools\n",
    "import datetime\n",
    "import json\n",
    "import os\n",
    "import re\n",
    "import urllib.request\n",
    "from collections import OrderedDict\n",
    "from bs4 import BeautifulSoup\n",
    "from lxml import html\n",
    "from pandas.io.json import json_normalize\n",
    "import sys"
   ]
  },
  {
   "cell_type": "code",
   "execution_count": 106,
   "metadata": {},
   "outputs": [],
   "source": [
    "src = os.path.join(os.path.dirname(os.getenv(\"DATA_DIR\")), \"src\")\n",
    "sys.path.append(os.path.join(src, \"data\"))"
   ]
  },
  {
   "cell_type": "code",
   "execution_count": 108,
   "metadata": {},
   "outputs": [],
   "source": [
    "from extract_text_utils import get_text"
   ]
  },
  {
   "cell_type": "markdown",
   "metadata": {},
   "source": [
    "### Directories and whatnot"
   ]
  },
  {
   "cell_type": "code",
   "execution_count": 82,
   "metadata": {},
   "outputs": [],
   "source": [
    "DATA_DIR = os.getenv(\"DATA_DIR\")\n",
    "content_api = os.path.join(DATA_DIR, \"content_api\")\n",
    "content_file = os.path.join(content_api,\"content.json.gz\")\n",
    "labelled_file = os.path.join(content_api,\"labelled.csv.gz\")"
   ]
  },
  {
   "cell_type": "code",
   "execution_count": 109,
   "metadata": {},
   "outputs": [
    {
     "data": {
      "text/plain": [
       "234693"
      ]
     },
     "execution_count": 109,
     "metadata": {},
     "output_type": "execute_result"
    }
   ],
   "source": [
    "count = 0\n",
    "with gzip.open(content_file, \"rt\") as reader:\n",
    "    content_generator = ijson.items(reader, prefix='item')\n",
    "    for content_item in content_generator:\n",
    "        count+=1\n",
    "count"
   ]
  },
  {
   "cell_type": "markdown",
   "metadata": {},
   "source": [
    "### Extract text, links etc from a `content.json.gz` export (from data science folder) \n",
    "Seems suspiciously small"
   ]
  },
  {
   "cell_type": "code",
   "execution_count": 110,
   "metadata": {},
   "outputs": [],
   "source": [
    "def extract_link_types(content_item):\n",
    "    links = []\n",
    "    related_links = []\n",
    "    coll_links = []\n",
    "    \n",
    "    if content_item is not None:\n",
    "        links = get_text(content_item['details'])\n",
    "        related_links = []\n",
    "        coll_links = []\n",
    "        if 'ordered_related_items' in content_item['links'].keys():\n",
    "            related_links = [related_item['base_path'] for related_item in\n",
    "                             content_item['links']['ordered_related_items'] if\n",
    "                             'base_path' in related_item.keys()]\n",
    "\n",
    "        if 'documents' in content_item['links'].keys():\n",
    "            coll_links = [document['base_path'] for document in content_item['links']['documents'] if\n",
    "                          'base_path' in document.keys()]\n",
    "        \n",
    "    return links, related_links, coll_links"
   ]
  },
  {
   "cell_type": "code",
   "execution_count": 111,
   "metadata": {},
   "outputs": [
    {
     "name": "stdout",
     "output_type": "stream",
     "text": [
      "Start: 03:30:14\n"
     ]
    },
    {
     "ename": "ValueError",
     "evalue": "too many values to unpack (expected 2)",
     "output_type": "error",
     "traceback": [
      "\u001b[0;31m---------------------------------------------------------------------------\u001b[0m",
      "\u001b[0;31mValueError\u001b[0m                                Traceback (most recent call last)",
      "\u001b[0;32m<ipython-input-111-d06fade7c01d>\u001b[0m in \u001b[0;36m<module>\u001b[0;34m\u001b[0m\n\u001b[1;32m      3\u001b[0m \u001b[0;32mwith\u001b[0m \u001b[0mgzip\u001b[0m\u001b[0;34m.\u001b[0m\u001b[0mopen\u001b[0m\u001b[0;34m(\u001b[0m\u001b[0mcontent_file\u001b[0m\u001b[0;34m,\u001b[0m \u001b[0;34m\"rt\"\u001b[0m\u001b[0;34m)\u001b[0m \u001b[0;32mas\u001b[0m \u001b[0mreader\u001b[0m\u001b[0;34m,\u001b[0m \u001b[0mgzip\u001b[0m\u001b[0;34m.\u001b[0m\u001b[0mopen\u001b[0m\u001b[0;34m(\u001b[0m\u001b[0mdestination\u001b[0m\u001b[0;34m,\u001b[0m \u001b[0;34m'wb'\u001b[0m\u001b[0;34m)\u001b[0m \u001b[0;32mas\u001b[0m \u001b[0mwriter\u001b[0m\u001b[0;34m:\u001b[0m\u001b[0;34m\u001b[0m\u001b[0m\n\u001b[1;32m      4\u001b[0m     \u001b[0mcontent_generator\u001b[0m \u001b[0;34m=\u001b[0m \u001b[0mijson\u001b[0m\u001b[0;34m.\u001b[0m\u001b[0mitems\u001b[0m\u001b[0;34m(\u001b[0m\u001b[0mreader\u001b[0m\u001b[0;34m,\u001b[0m \u001b[0mprefix\u001b[0m\u001b[0;34m=\u001b[0m\u001b[0;34m'item'\u001b[0m\u001b[0;34m)\u001b[0m\u001b[0;34m\u001b[0m\u001b[0m\n\u001b[0;32m----> 5\u001b[0;31m     \u001b[0;32mfor\u001b[0m \u001b[0mi\u001b[0m\u001b[0;34m,\u001b[0m\u001b[0mcontent_item\u001b[0m \u001b[0;32min\u001b[0m \u001b[0mcontent_generator\u001b[0m\u001b[0;34m:\u001b[0m\u001b[0;34m\u001b[0m\u001b[0m\n\u001b[0m\u001b[1;32m      6\u001b[0m         \u001b[0mrow\u001b[0m \u001b[0;34m=\u001b[0m \u001b[0;34m{\u001b[0m\u001b[0;34m}\u001b[0m\u001b[0;34m\u001b[0m\u001b[0m\n\u001b[1;32m      7\u001b[0m         \u001b[0mrow\u001b[0m\u001b[0;34m[\u001b[0m\u001b[0;34m'base_path'\u001b[0m\u001b[0;34m]\u001b[0m \u001b[0;34m=\u001b[0m \u001b[0mcontent_item\u001b[0m\u001b[0;34m[\u001b[0m\u001b[0;34m'base_path'\u001b[0m\u001b[0;34m]\u001b[0m\u001b[0;34m\u001b[0m\u001b[0m\n",
      "\u001b[0;31mValueError\u001b[0m: too many values to unpack (expected 2)"
     ]
    }
   ],
   "source": [
    "destination = os.path.join(content_api, \"content_reduced.json.gz\")\n",
    "print(\"Start:\",datetime.datetime.now().strftime(\"%H:%M:%S\"))\n",
    "with gzip.open(content_file, \"rt\") as reader, gzip.open(destination, 'wb') as writer:\n",
    "    content_generator = ijson.items(reader, prefix='item')\n",
    "    for i,content_item in content_generator:\n",
    "        row = {}\n",
    "        row['base_path'] = content_item['base_path']\n",
    "        row['content_id'] = content_item['content_id']\n",
    "        row['title'] = content_item['title']\n",
    "        row['description'] = content_item['description']\n",
    "        row['details'] = content_item['details']\n",
    "        l1, l2, l3 = extract_link_types(content_item)\n",
    "        row['embedded_links'] = l1\n",
    "        row['related_links'] = l2\n",
    "        row['coll_links'] = l3\n",
    "        string_dict = json.dumps(row)\n",
    "#         row_list.append(string_dict)\n",
    "        writer.write(\"{}\\n\".format(string_dict).encode())\n",
    "        if i % 10000 == 0:\n",
    "            print(\"i:\",i,datetime.datetime.now().strftime(\"%H:%M:%S\"))\n",
    "print(\"End:\",datetime.datetime.now().strftime(\"%H:%M:%S\"))"
   ]
  },
  {
   "cell_type": "code",
   "execution_count": null,
   "metadata": {},
   "outputs": [],
   "source": [
    "row_list = []\n",
    "with gzip.open(destination, 'rt') as reader:\n",
    "    for line in reader.readlines():\n",
    "        row_list.append(line)"
   ]
  },
  {
   "cell_type": "code",
   "execution_count": null,
   "metadata": {},
   "outputs": [],
   "source": [
    "df1 = pd.DataFrame([json.loads(s) for s in row_list])"
   ]
  },
  {
   "cell_type": "code",
   "execution_count": 49,
   "metadata": {},
   "outputs": [
    {
     "data": {
      "text/plain": [
       "(234693, 8)"
      ]
     },
     "execution_count": 49,
     "metadata": {},
     "output_type": "execute_result"
    }
   ],
   "source": [
    "df1.shape"
   ]
  },
  {
   "cell_type": "code",
   "execution_count": 50,
   "metadata": {},
   "outputs": [
    {
     "data": {
      "text/html": [
       "<div>\n",
       "<style scoped>\n",
       "    .dataframe tbody tr th:only-of-type {\n",
       "        vertical-align: middle;\n",
       "    }\n",
       "\n",
       "    .dataframe tbody tr th {\n",
       "        vertical-align: top;\n",
       "    }\n",
       "\n",
       "    .dataframe thead th {\n",
       "        text-align: right;\n",
       "    }\n",
       "</style>\n",
       "<table border=\"1\" class=\"dataframe\">\n",
       "  <thead>\n",
       "    <tr style=\"text-align: right;\">\n",
       "      <th></th>\n",
       "      <th>base_path</th>\n",
       "      <th>coll_links</th>\n",
       "      <th>content_id</th>\n",
       "      <th>description</th>\n",
       "      <th>details</th>\n",
       "      <th>embdedded_links</th>\n",
       "      <th>related_links</th>\n",
       "      <th>title</th>\n",
       "    </tr>\n",
       "  </thead>\n",
       "  <tbody>\n",
       "    <tr>\n",
       "      <th>0</th>\n",
       "      <td>/aaib-reports/reims-cessna-fa152-g-bgxz-27-may...</td>\n",
       "      <td>[]</td>\n",
       "      <td>534b2eeb-505c-41cc-9b2c-eacea6947cd1</td>\n",
       "      <td></td>\n",
       "      <td>{'attachments': [{'content_id': '4fe1018d-48f9...</td>\n",
       "      <td>[]</td>\n",
       "      <td>[]</td>\n",
       "      <td>Reims Cessna FA152, G-BGXZ, 27 May 1988</td>\n",
       "    </tr>\n",
       "    <tr>\n",
       "      <th>1</th>\n",
       "      <td>/employment-tribunal-decisions/mr-k-wieczorek-...</td>\n",
       "      <td>[]</td>\n",
       "      <td>7b706877-05e8-4e2c-b061-565ecc3c716c</td>\n",
       "      <td>Employment Tribunal decision.</td>\n",
       "      <td>{'attachments': [{'content_id': '919b1efe-dc62...</td>\n",
       "      <td>[]</td>\n",
       "      <td>[]</td>\n",
       "      <td>Mr K Wieczorek v Greencore Food to Go Ltd: 332...</td>\n",
       "    </tr>\n",
       "  </tbody>\n",
       "</table>\n",
       "</div>"
      ],
      "text/plain": [
       "                                           base_path coll_links  \\\n",
       "0  /aaib-reports/reims-cessna-fa152-g-bgxz-27-may...         []   \n",
       "1  /employment-tribunal-decisions/mr-k-wieczorek-...         []   \n",
       "\n",
       "                             content_id                    description  \\\n",
       "0  534b2eeb-505c-41cc-9b2c-eacea6947cd1                                  \n",
       "1  7b706877-05e8-4e2c-b061-565ecc3c716c  Employment Tribunal decision.   \n",
       "\n",
       "                                             details embdedded_links  \\\n",
       "0  {'attachments': [{'content_id': '4fe1018d-48f9...              []   \n",
       "1  {'attachments': [{'content_id': '919b1efe-dc62...              []   \n",
       "\n",
       "  related_links                                              title  \n",
       "0            []            Reims Cessna FA152, G-BGXZ, 27 May 1988  \n",
       "1            []  Mr K Wieczorek v Greencore Food to Go Ltd: 332...  "
      ]
     },
     "execution_count": 50,
     "metadata": {},
     "output_type": "execute_result"
    }
   ],
   "source": [
    "df1.head(2)"
   ]
  },
  {
   "cell_type": "code",
   "execution_count": 59,
   "metadata": {},
   "outputs": [],
   "source": [
    "destination = os.path.join(content_api, \"content_wlinks.csv.gz\")"
   ]
  },
  {
   "cell_type": "code",
   "execution_count": 61,
   "metadata": {},
   "outputs": [],
   "source": [
    "df_wlinks = df1[(df1.embdedded_links.str.len()>0) | (df1.related_links.str.len()>0) | (df1.coll_links.str.len()>0)]\n",
    "df_wlinks.to_csv(destination, compression=\"gzip\", index=False)"
   ]
  },
  {
   "cell_type": "code",
   "execution_count": null,
   "metadata": {},
   "outputs": [],
   "source": [
    "df1.to_csv(destination, compression=\"gzip\", index=False)"
   ]
  },
  {
   "cell_type": "markdown",
   "metadata": {},
   "source": [
    "## Set up `src_node` and `dest_node` pairs"
   ]
  },
  {
   "cell_type": "code",
   "execution_count": null,
   "metadata": {},
   "outputs": [],
   "source": [
    "df_wlinks = df1[(df1.embdedded_links.str.len()>0) | (df1.related_links.str.len()>0) | (df1.coll_links.str.len()>0)]"
   ]
  },
  {
   "cell_type": "code",
   "execution_count": 63,
   "metadata": {},
   "outputs": [
    {
     "data": {
      "text/plain": [
       "Index(['base_path', 'coll_links', 'content_id', 'description', 'details',\n",
       "       'embdedded_links', 'related_links', 'title'],\n",
       "      dtype='object')"
      ]
     },
     "execution_count": 63,
     "metadata": {},
     "output_type": "execute_result"
    }
   ],
   "source": [
    "df_wlinks.columns"
   ]
  },
  {
   "cell_type": "code",
   "execution_count": 74,
   "metadata": {},
   "outputs": [],
   "source": [
    "def iterate_links(tupl, ltype_i, ltype_str):\n",
    "    return [{'src_node': tupl.base_path,\n",
    "               'dest_node': d,\n",
    "               'link_type': ltype_str,\n",
    "               'src_cid': tupl.content_id} for d in tupl[ltype_i]]"
   ]
  },
  {
   "cell_type": "code",
   "execution_count": 75,
   "metadata": {},
   "outputs": [
    {
     "data": {
      "text/plain": [
       "[(1, 'coll_links'), (5, 'embdedded_links'), (6, 'related_links')]"
      ]
     },
     "execution_count": 75,
     "metadata": {},
     "output_type": "execute_result"
    }
   ],
   "source": [
    "link_index_type = [(df_wlinks.columns.get_loc(lt), lt) for lt in ['coll_links', \n",
    "                                                                  'embdedded_links', \n",
    "                                                                  'related_links']]\n",
    "link_index_type"
   ]
  },
  {
   "cell_type": "code",
   "execution_count": 76,
   "metadata": {},
   "outputs": [],
   "source": [
    "rowlist = []\n",
    "for tup in df_wlinks.itertuples(index=False):\n",
    "    for lt, ltype in link_index_type:\n",
    "        list_links = iterate_links(tup, lt, ltype)\n",
    "        rowlist.extend(list_links)"
   ]
  },
  {
   "cell_type": "code",
   "execution_count": 78,
   "metadata": {},
   "outputs": [],
   "source": [
    "df_struct_edges = pd.DataFrame(rowlist)"
   ]
  },
  {
   "cell_type": "code",
   "execution_count": 79,
   "metadata": {},
   "outputs": [
    {
     "data": {
      "text/html": [
       "<div>\n",
       "<style scoped>\n",
       "    .dataframe tbody tr th:only-of-type {\n",
       "        vertical-align: middle;\n",
       "    }\n",
       "\n",
       "    .dataframe tbody tr th {\n",
       "        vertical-align: top;\n",
       "    }\n",
       "\n",
       "    .dataframe thead th {\n",
       "        text-align: right;\n",
       "    }\n",
       "</style>\n",
       "<table border=\"1\" class=\"dataframe\">\n",
       "  <thead>\n",
       "    <tr style=\"text-align: right;\">\n",
       "      <th></th>\n",
       "      <th>dest_node</th>\n",
       "      <th>link_type</th>\n",
       "      <th>src_cid</th>\n",
       "      <th>src_node</th>\n",
       "    </tr>\n",
       "  </thead>\n",
       "  <tbody>\n",
       "    <tr>\n",
       "      <th>0</th>\n",
       "      <td>/government/uploads/system/uploads/attachment_...</td>\n",
       "      <td>embdedded_links</td>\n",
       "      <td>5ebcfb03-7631-11e4-a3cb-005056011aef</td>\n",
       "      <td>/government/publications/exotic-global-breeds-...</td>\n",
       "    </tr>\n",
       "    <tr>\n",
       "      <th>1</th>\n",
       "      <td>/government/publications/wd6-3bl-reviva-compos...</td>\n",
       "      <td>embdedded_links</td>\n",
       "      <td>4f34eed2-02b0-4c26-ba85-d671ee0503f2</td>\n",
       "      <td>/government/publications/wd6-3bl-reviva-compos...</td>\n",
       "    </tr>\n",
       "    <tr>\n",
       "      <th>2</th>\n",
       "      <td>/government/uploads/system/uploads/attachment_...</td>\n",
       "      <td>embdedded_links</td>\n",
       "      <td>3b073fb9-ff9c-4164-b71d-f00fa60fc51e</td>\n",
       "      <td>/government/publications/business-incubators-a...</td>\n",
       "    </tr>\n",
       "    <tr>\n",
       "      <th>3</th>\n",
       "      <td>/government/uploads/system/uploads/attachment_...</td>\n",
       "      <td>embdedded_links</td>\n",
       "      <td>3b073fb9-ff9c-4164-b71d-f00fa60fc51e</td>\n",
       "      <td>/government/publications/business-incubators-a...</td>\n",
       "    </tr>\n",
       "    <tr>\n",
       "      <th>4</th>\n",
       "      <td>/government/uploads/system/uploads/attachment_...</td>\n",
       "      <td>embdedded_links</td>\n",
       "      <td>5c7c9a30-7631-11e4-a3cb-005056011aef</td>\n",
       "      <td>/government/publications/early-morning-tests-a...</td>\n",
       "    </tr>\n",
       "  </tbody>\n",
       "</table>\n",
       "</div>"
      ],
      "text/plain": [
       "                                           dest_node        link_type  \\\n",
       "0  /government/uploads/system/uploads/attachment_...  embdedded_links   \n",
       "1  /government/publications/wd6-3bl-reviva-compos...  embdedded_links   \n",
       "2  /government/uploads/system/uploads/attachment_...  embdedded_links   \n",
       "3  /government/uploads/system/uploads/attachment_...  embdedded_links   \n",
       "4  /government/uploads/system/uploads/attachment_...  embdedded_links   \n",
       "\n",
       "                                src_cid  \\\n",
       "0  5ebcfb03-7631-11e4-a3cb-005056011aef   \n",
       "1  4f34eed2-02b0-4c26-ba85-d671ee0503f2   \n",
       "2  3b073fb9-ff9c-4164-b71d-f00fa60fc51e   \n",
       "3  3b073fb9-ff9c-4164-b71d-f00fa60fc51e   \n",
       "4  5c7c9a30-7631-11e4-a3cb-005056011aef   \n",
       "\n",
       "                                            src_node  \n",
       "0  /government/publications/exotic-global-breeds-...  \n",
       "1  /government/publications/wd6-3bl-reviva-compos...  \n",
       "2  /government/publications/business-incubators-a...  \n",
       "3  /government/publications/business-incubators-a...  \n",
       "4  /government/publications/early-morning-tests-a...  "
      ]
     },
     "execution_count": 79,
     "metadata": {},
     "output_type": "execute_result"
    }
   ],
   "source": [
    "df_struct_edges.head()"
   ]
  },
  {
   "cell_type": "markdown",
   "metadata": {},
   "source": [
    "### Figure out destination node `content_id`"
   ]
  },
  {
   "cell_type": "code",
   "execution_count": 83,
   "metadata": {},
   "outputs": [
    {
     "name": "stderr",
     "output_type": "stream",
     "text": [
      "/Users/felisialoukou/.pyenv/versions/3.6.0/lib/python3.6/site-packages/IPython/core/interactiveshell.py:3018: DtypeWarning: Columns (16,17,18) have mixed types. Specify dtype option on import or set low_memory=False.\n",
      "  interactivity=interactivity, compiler=compiler, result=result)\n"
     ]
    }
   ],
   "source": [
    "labelled = pd.read_csv(labelled_file, compression=\"gzip\")\n",
    "base_cid = dict(zip(labelled.base_path, labelled.content_id))"
   ]
  },
  {
   "cell_type": "code",
   "execution_count": 84,
   "metadata": {},
   "outputs": [],
   "source": [
    "df_struct_edges['dest_cid'] = df_struct_edges['dest_node'].map(base_cid)"
   ]
  },
  {
   "cell_type": "code",
   "execution_count": 88,
   "metadata": {},
   "outputs": [
    {
     "data": {
      "text/plain": [
       "(294327, 5)"
      ]
     },
     "execution_count": 88,
     "metadata": {},
     "output_type": "execute_result"
    }
   ],
   "source": [
    "df_struct_edges.shape"
   ]
  },
  {
   "cell_type": "code",
   "execution_count": 119,
   "metadata": {},
   "outputs": [
    {
     "data": {
      "text/plain": [
       "121232"
      ]
     },
     "execution_count": 119,
     "metadata": {},
     "output_type": "execute_result"
    }
   ],
   "source": [
    "### Check overlap of structural edges with labelled\n",
    "diff_label_struct = set(labelled.content_id).difference(set(df_struct_edges.src_cid.values))\n",
    "len(diff_label_struct)"
   ]
  },
  {
   "cell_type": "code",
   "execution_count": 89,
   "metadata": {},
   "outputs": [
    {
     "data": {
      "text/plain": [
       "embdedded_links    215858\n",
       "coll_links          13933\n",
       "related_links         113\n",
       "Name: link_type, dtype: int64"
      ]
     },
     "execution_count": 89,
     "metadata": {},
     "output_type": "execute_result"
    }
   ],
   "source": [
    "df_struct_edges[df_struct_edges['dest_cid'].isna()].link_type.value_counts()"
   ]
  },
  {
   "cell_type": "markdown",
   "metadata": {},
   "source": [
    "### Data seems insufficient, might as well extract base_paths in labelled to get all data from the content API"
   ]
  },
  {
   "cell_type": "code",
   "execution_count": 120,
   "metadata": {},
   "outputs": [],
   "source": [
    "with gzip.open(os.path.join(DATA_DIR, \"processed_network\", \"labelled_for_conext.csv.gz\"), \"wt\") as w:\n",
    "    w.write(\"Node\\n\")\n",
    "    for tup in labelled.itertuples():\n",
    "        if tup.content_id in diff_label_struct:\n",
    "            w.write(\"{}\\n\".format(tup.base_path))"
   ]
  },
  {
   "cell_type": "code",
   "execution_count": 121,
   "metadata": {},
   "outputs": [],
   "source": [
    "temp = pd.read_csv(os.path.join(DATA_DIR, \"processed_network\", \"labelled_for_conext.csv.gz\"), compression=\"gzip\")"
   ]
  },
  {
   "cell_type": "code",
   "execution_count": 122,
   "metadata": {},
   "outputs": [
    {
     "data": {
      "text/html": [
       "<div>\n",
       "<style scoped>\n",
       "    .dataframe tbody tr th:only-of-type {\n",
       "        vertical-align: middle;\n",
       "    }\n",
       "\n",
       "    .dataframe tbody tr th {\n",
       "        vertical-align: top;\n",
       "    }\n",
       "\n",
       "    .dataframe thead th {\n",
       "        text-align: right;\n",
       "    }\n",
       "</style>\n",
       "<table border=\"1\" class=\"dataframe\">\n",
       "  <thead>\n",
       "    <tr style=\"text-align: right;\">\n",
       "      <th></th>\n",
       "      <th>Node</th>\n",
       "    </tr>\n",
       "  </thead>\n",
       "  <tbody>\n",
       "    <tr>\n",
       "      <th>0</th>\n",
       "      <td>/aaib-reports/reims-cessna-fa152-g-bgxz-27-may...</td>\n",
       "    </tr>\n",
       "    <tr>\n",
       "      <th>1</th>\n",
       "      <td>/aaib-reports/pterodactyl-microlight-g-mboj-6-...</td>\n",
       "    </tr>\n",
       "    <tr>\n",
       "      <th>2</th>\n",
       "      <td>/aaib-reports/aar-4-2007-airbus-a340-642-g-vat...</td>\n",
       "    </tr>\n",
       "    <tr>\n",
       "      <th>3</th>\n",
       "      <td>/aaib-reports/enstrom-280c-uk-g-ctsi-14-januar...</td>\n",
       "    </tr>\n",
       "    <tr>\n",
       "      <th>4</th>\n",
       "      <td>/aaib-reports/aaib-investigation-to-pitts-supe...</td>\n",
       "    </tr>\n",
       "  </tbody>\n",
       "</table>\n",
       "</div>"
      ],
      "text/plain": [
       "                                                Node\n",
       "0  /aaib-reports/reims-cessna-fa152-g-bgxz-27-may...\n",
       "1  /aaib-reports/pterodactyl-microlight-g-mboj-6-...\n",
       "2  /aaib-reports/aar-4-2007-airbus-a340-642-g-vat...\n",
       "3  /aaib-reports/enstrom-280c-uk-g-ctsi-14-januar...\n",
       "4  /aaib-reports/aaib-investigation-to-pitts-supe..."
      ]
     },
     "execution_count": 122,
     "metadata": {},
     "output_type": "execute_result"
    }
   ],
   "source": [
    "temp.head()"
   ]
  },
  {
   "cell_type": "code",
   "execution_count": 129,
   "metadata": {},
   "outputs": [
    {
     "data": {
      "text/plain": [
       "87401.0"
      ]
     },
     "execution_count": 129,
     "metadata": {},
     "output_type": "execute_result"
    }
   ],
   "source": [
    "temp.shape[0]/2"
   ]
  },
  {
   "cell_type": "code",
   "execution_count": 130,
   "metadata": {},
   "outputs": [],
   "source": [
    "temp[0:87000].to_csv(os.path.join(DATA_DIR, \"processed_network\", \"labelled_for_conext_pt1.csv.gz\"), \n",
    "                      compression=\"gzip\", index=False)"
   ]
  },
  {
   "cell_type": "code",
   "execution_count": 131,
   "metadata": {},
   "outputs": [],
   "source": [
    "temp[87000:].to_csv(os.path.join(DATA_DIR, \"processed_network\", \"labelled_for_conext_pt2.csv.gz\"), \n",
    "                      compression=\"gzip\", index=False)"
   ]
  },
  {
   "cell_type": "code",
   "execution_count": null,
   "metadata": {},
   "outputs": [],
   "source": []
  }
 ],
 "metadata": {
  "kernelspec": {
   "display_name": "Python 3",
   "language": "python",
   "name": "python3"
  },
  "language_info": {
   "codemirror_mode": {
    "name": "ipython",
    "version": 3
   },
   "file_extension": ".py",
   "mimetype": "text/x-python",
   "name": "python",
   "nbconvert_exporter": "python",
   "pygments_lexer": "ipython3",
   "version": "3.6.0"
  }
 },
 "nbformat": 4,
 "nbformat_minor": 2
}
