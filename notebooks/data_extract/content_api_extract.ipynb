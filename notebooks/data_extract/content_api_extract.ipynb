{
 "cells": [
  {
   "cell_type": "code",
   "execution_count": 1,
   "metadata": {},
   "outputs": [],
   "source": [
    "import os \n",
    "import pprint\n",
    "import gzip\n",
    "import ijson\n",
    "from collections import OrderedDict\n",
    "import pandas as pd\n",
    "import numpy as np\n",
    "from pandas.io.json import json_normalize\n",
    "import json\n",
    "import requests\n",
    "import urllib.request\n",
    "from bs4 import BeautifulSoup\n",
    "from lxml import html"
   ]
  },
  {
   "cell_type": "markdown",
   "metadata": {},
   "source": [
    "## Directories"
   ]
  },
  {
   "cell_type": "code",
   "execution_count": 18,
   "metadata": {},
   "outputs": [],
   "source": [
    "processed_network = os.path.join(os.getenv(\"DATA_DIR\"), \"processed_network\")"
   ]
  },
  {
   "cell_type": "code",
   "execution_count": 19,
   "metadata": {},
   "outputs": [
    {
     "data": {
      "text/plain": [
       "['taxon_28_31_01_sample30_nodes.csv.gz',\n",
       " 'taxon_28_31_01_edges_doo.csv.gz',\n",
       " 'taxon_28_31_01_nodes_doo.csv.gz',\n",
       " 'taxon_28_31_01_sample30_edges.csv.gz',\n",
       " 'for_networkx_tutorial_nodes.csv.gz',\n",
       " 'for_networkx_tutorial_edges.csv.gz']"
      ]
     },
     "execution_count": 19,
     "metadata": {},
     "output_type": "execute_result"
    }
   ],
   "source": [
    "os.listdir(processed_network)"
   ]
  },
  {
   "cell_type": "code",
   "execution_count": 62,
   "metadata": {},
   "outputs": [],
   "source": [
    "nodefile = os.path.join(processed_network, \"sampled_clean_nodes.csv.gz\")"
   ]
  },
  {
   "cell_type": "code",
   "execution_count": 63,
   "metadata": {},
   "outputs": [],
   "source": [
    "nodes = pd.read_csv(nodefile, compression=\"gzip\", sep= \"\\t\")"
   ]
  },
  {
   "cell_type": "code",
   "execution_count": 64,
   "metadata": {},
   "outputs": [
    {
     "data": {
      "text/html": [
       "<div>\n",
       "<style scoped>\n",
       "    .dataframe tbody tr th:only-of-type {\n",
       "        vertical-align: middle;\n",
       "    }\n",
       "\n",
       "    .dataframe tbody tr th {\n",
       "        vertical-align: top;\n",
       "    }\n",
       "\n",
       "    .dataframe thead th {\n",
       "        text-align: right;\n",
       "    }\n",
       "</style>\n",
       "<table border=\"1\" class=\"dataframe\">\n",
       "  <thead>\n",
       "    <tr style=\"text-align: right;\">\n",
       "      <th></th>\n",
       "      <th>Node</th>\n",
       "    </tr>\n",
       "  </thead>\n",
       "  <tbody>\n",
       "    <tr>\n",
       "      <th>0</th>\n",
       "      <td>/government/publications/guidance-for-dependan...</td>\n",
       "    </tr>\n",
       "    <tr>\n",
       "      <th>1</th>\n",
       "      <td>/visa-fees</td>\n",
       "    </tr>\n",
       "    <tr>\n",
       "      <th>2</th>\n",
       "      <td>/find-a-visa-application-centre</td>\n",
       "    </tr>\n",
       "    <tr>\n",
       "      <th>3</th>\n",
       "      <td>/entering-staying-uk/family-visas</td>\n",
       "    </tr>\n",
       "    <tr>\n",
       "      <th>4</th>\n",
       "      <td>/uk-family-visa</td>\n",
       "    </tr>\n",
       "  </tbody>\n",
       "</table>\n",
       "</div>"
      ],
      "text/plain": [
       "                                                Node\n",
       "0  /government/publications/guidance-for-dependan...\n",
       "1                                         /visa-fees\n",
       "2                    /find-a-visa-application-centre\n",
       "3                  /entering-staying-uk/family-visas\n",
       "4                                    /uk-family-visa"
      ]
     },
     "execution_count": 64,
     "metadata": {},
     "output_type": "execute_result"
    }
   ],
   "source": [
    "nodes.head()"
   ]
  },
  {
   "cell_type": "code",
   "execution_count": 66,
   "metadata": {},
   "outputs": [
    {
     "data": {
      "text/plain": [
       "(126424, 1)"
      ]
     },
     "execution_count": 66,
     "metadata": {},
     "output_type": "execute_result"
    }
   ],
   "source": [
    "nodes.shape"
   ]
  },
  {
   "cell_type": "markdown",
   "metadata": {},
   "source": [
    "### Link extraction function"
   ]
  },
  {
   "cell_type": "code",
   "execution_count": 67,
   "metadata": {},
   "outputs": [],
   "source": [
    "def get_links(url):\n",
    "    soup = BeautifulSoup(url, \"html5lib\")\n",
    "    links = [link.get('href') for link in soup.findAll('a' , href=True)]\n",
    "    return [l for l in links if l.startswith(\"/\")]"
   ]
  },
  {
   "cell_type": "markdown",
   "metadata": {},
   "source": [
    "## Nested link extraction for in-text links"
   ]
  },
  {
   "cell_type": "code",
   "execution_count": 68,
   "metadata": {},
   "outputs": [],
   "source": [
    "look = ['title', 'body']\n",
    "child_keys = ['title', 'description']\n",
    "filtered = ['body', 'brand', 'documents', 'final_outcome_detail', 'final_outcome_documents',\n",
    "            'government', 'headers', 'introduction', 'introductory_paragraph',\n",
    "            'licence_overview', 'licence_short_description', 'logo', 'metadata', 'more_information', 'need_to_know',\n",
    "            'other_ways_to_apply', 'summary', 'ways_to_respond', 'what_you_need_to_know', 'will_continue_on', 'parts',\n",
    "            'collection_groups']\n",
    "\n",
    "def is_html(raw_text):\n",
    "    return html.fromstring(str(raw_text)).find('.//*') is not None\n",
    "\n",
    "def is_json(raw_text):\n",
    "    try:\n",
    "        json_normalize(raw_text).columns.tolist()\n",
    "    except AttributeError:\n",
    "        return False\n",
    "    return True\n",
    "\n",
    "def get_text(x):\n",
    "    links = []\n",
    "    string_json = json.dumps(OrderedDict(x))\n",
    "    order_json = json.loads(string_json, object_pairs_hook=OrderedDict)\n",
    "    for key, raw_text in sorted(order_json.items()):\n",
    "        if key in filtered:\n",
    "            if isinstance(raw_text, str) and len(raw_text) > 1:\n",
    "                    links.extend(get_links(raw_text))\n",
    "            elif isinstance(raw_text, list) and len(raw_text) > 0:\n",
    "                for sub_text in raw_text:\n",
    "                    if is_json(sub_text):\n",
    "                        links.extend(nested_extract(sub_text))\n",
    "                    elif is_html(sub_text):\n",
    "                        links.extend(get_links(sub_text))\n",
    "    return list(set(links))\n",
    "\n",
    "\n",
    "def nested_extract(x):\n",
    "    links = []\n",
    "    string_json2 = json.dumps(OrderedDict(x))\n",
    "    order_json2 = json.loads(string_json2, object_pairs_hook=OrderedDict)\n",
    "    if ('body' or 'title') in order_json2.keys():\n",
    "        for item in look:\n",
    "            links.extend(get_links(order_json2[item]))\n",
    "    elif 'child_sections' in order_json2.keys():\n",
    "        for child in order_json2['child_sections']:\n",
    "            for key in child_keys:\n",
    "                links.extend(get_links(key))\n",
    "    return links"
   ]
  },
  {
   "cell_type": "markdown",
   "metadata": {},
   "source": [
    "## Extract links (in-text and related items) from `details` and `links` respectively"
   ]
  },
  {
   "cell_type": "markdown",
   "metadata": {},
   "source": [
    "#### Apart from in-text and related links, there's the `documents` entry in `links` which contains the links to the contents of a collection page"
   ]
  },
  {
   "cell_type": "code",
   "execution_count": 78,
   "metadata": {},
   "outputs": [
    {
     "name": "stdout",
     "output_type": "stream",
     "text": [
      "<class 'requests.models.Response'>\n",
      "dict_keys(['analytics_identifier', 'base_path', 'content_id', 'document_type', 'first_published_at', 'locale', 'phase', 'public_updated_at', 'publishing_app', 'publishing_scheduled_at', 'rendering_app', 'scheduled_publishing_delay_seconds', 'schema_name', 'title', 'updated_at', 'withdrawn_notice', 'publishing_request_id', 'links', 'description', 'details'])\n"
     ]
    }
   ],
   "source": [
    "url = \"https://www.gov.uk/api/content/entering-staying-uk/family-visas\"\n",
    "# https://www.gov.uk/api/content/find-a-visa-application-centre\n",
    "response = requests.get(url)\n",
    "print(type(response))\n",
    "d = json.loads(urllib.request.urlopen(url).read())\n",
    "print(d.keys())"
   ]
  },
  {
   "cell_type": "code",
   "execution_count": 87,
   "metadata": {},
   "outputs": [],
   "source": [
    "import datetime"
   ]
  },
  {
   "cell_type": "code",
   "execution_count": null,
   "metadata": {},
   "outputs": [
    {
     "name": "stdout",
     "output_type": "stream",
     "text": [
      "13:32:59 0\n"
     ]
    }
   ],
   "source": [
    "page_links = {}\n",
    "related_page_links = {}\n",
    "collection_links = {}\n",
    "not_found= []\n",
    "json_dict = {}\n",
    "\n",
    "for i,tup in enumerate(nodes.itertuples()):\n",
    "    content_item = None\n",
    "    try:\n",
    "        url = \"https://www.gov.uk/api/content\" + tup.Node\n",
    "        content_item = json.loads(urllib.request.urlopen(url).read())\n",
    "        json_dict[node] = content_item\n",
    "    except Exception:\n",
    "        not_found.append(url)\n",
    "        \n",
    "    if content_item is not None:\n",
    "        links = get_text(content_item['details'])\n",
    "        related_links = []\n",
    "        coll_links = []\n",
    "        if 'ordered_related_items' in content_item['links'].keys():\n",
    "            related_links = [related_item['base_path'] for related_item in content_item['links']['ordered_related_items']\\\n",
    "                                 if 'base_path' in related_item.keys()]\n",
    "\n",
    "        if 'documents' in content_item['links'].keys():\n",
    "            coll_links = [document['base_path'] for document in content_item['links']['documents']\\\n",
    "                                 if 'base_path' in document.keys()]\n",
    "\n",
    "        related_page_links[content_item['base_path']] = related_links\n",
    "        collection_links[content_item['base_path']] = coll_links\n",
    "        page_links[content_item['base_path']] = links\n",
    "\n",
    "    if i%10000==0:\n",
    "        print(datetime.datetime.now().strftime(\"%H:%M:%S\"),i)"
   ]
  },
  {
   "cell_type": "code",
   "execution_count": null,
   "metadata": {},
   "outputs": [],
   "source": [
    "len(json_dict)"
   ]
  },
  {
   "cell_type": "code",
   "execution_count": null,
   "metadata": {},
   "outputs": [],
   "source": []
  }
 ],
 "metadata": {
  "kernelspec": {
   "display_name": "Python 3",
   "language": "python",
   "name": "python3"
  },
  "language_info": {
   "codemirror_mode": {
    "name": "ipython",
    "version": 3
   },
   "file_extension": ".py",
   "mimetype": "text/x-python",
   "name": "python",
   "nbconvert_exporter": "python",
   "pygments_lexer": "ipython3",
   "version": "3.6.0"
  }
 },
 "nbformat": 4,
 "nbformat_minor": 2
}
