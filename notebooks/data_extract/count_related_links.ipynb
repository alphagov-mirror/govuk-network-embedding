{
 "cells": [
  {
   "cell_type": "markdown",
   "metadata": {},
   "source": [
    "### **TODO:** Also extract additional links from the `links` keys"
   ]
  },
  {
   "cell_type": "code",
   "execution_count": 101,
   "metadata": {},
   "outputs": [],
   "source": [
    "import pandas as pd\n",
    "import os\n",
    "import ijson\n",
    "import json\n",
    "import gzip\n",
    "import itertools\n",
    "import sys\n",
    "sys.path.append(\"../../src/data\")\n",
    "from content_api_extract import extract_link_types\n",
    "from extract_text_utils import get_text\n",
    "from datetime import datetime\n",
    "from collections import Counter\n",
    "from pprint import pprint\n",
    "import numpy as np"
   ]
  },
  {
   "cell_type": "markdown",
   "metadata": {},
   "source": [
    "### Directories"
   ]
  },
  {
   "cell_type": "code",
   "execution_count": null,
   "metadata": {},
   "outputs": [],
   "source": [
    "DATA_DIR = os.getenv(\"DATA_DIR\")\n",
    "content_api = os.path.join(DATA_DIR, \"content_api\")\n",
    "filename = os.path.join(content_api, \"11-02-19\", \"content.json.gz\")\n",
    "filename_labelled = os.path.join(content_api, \"11-02-19\", \"labelled.csv.gz\")"
   ]
  },
  {
   "cell_type": "code",
   "execution_count": 90,
   "metadata": {},
   "outputs": [
    {
     "name": "stderr",
     "output_type": "stream",
     "text": [
      "/Users/felisialoukou/.pyenv/versions/3.6.0/lib/python3.6/site-packages/IPython/core/interactiveshell.py:3018: DtypeWarning: Columns (17,18) have mixed types. Specify dtype option on import or set low_memory=False.\n",
      "  interactivity=interactivity, compiler=compiler, result=result)\n"
     ]
    }
   ],
   "source": [
    "labelled = pd.read_csv(filename_labelled, compression=\"gzip\")"
   ]
  },
  {
   "cell_type": "code",
   "execution_count": 91,
   "metadata": {},
   "outputs": [
    {
     "data": {
      "text/plain": [
       "Index(['base_path', 'content_id', 'description', 'document_type',\n",
       "       'first_published_at', 'locale', 'primary_publishing_organisation',\n",
       "       'publishing_app', 'title', 'body', 'combined_text', 'taxon_id',\n",
       "       'taxon_base_path', 'taxon_name', 'level1taxon', 'level2taxon',\n",
       "       'level3taxon', 'level4taxon', 'level5taxon'],\n",
       "      dtype='object')"
      ]
     },
     "execution_count": 91,
     "metadata": {},
     "output_type": "execute_result"
    }
   ],
   "source": [
    "labelled.columns"
   ]
  },
  {
   "cell_type": "markdown",
   "metadata": {},
   "source": [
    "### Iteratively extract links from a content store dump"
   ]
  },
  {
   "cell_type": "code",
   "execution_count": 141,
   "metadata": {},
   "outputs": [],
   "source": [
    "links_keys = ['organisations', \n",
    " 'policy_areas', \n",
    " 'document_collections', \n",
    " 'people', \n",
    " 'roles', \n",
    " 'speaker', \n",
    " 'finder', \n",
    " 'ministers', \n",
    " 'children', \n",
    " 'lead_organisations', \n",
    " 'related_guides', \n",
    " 'topical_events', \n",
    " 'parent', \n",
    " 'topics', \n",
    " 'mainstream_browse_pages', \n",
    " 'related_statistical_data_sets', \n",
    " 'sections', \n",
    " 'field_of_operation', \n",
    " 'related_mainstream', \n",
    " 'related_mainstream_content', \n",
    " 'part_of_step_navs', \n",
    " 'related_to_step_navs', \n",
    " 'ordered_related_items_overrides', \n",
    " 'pages_part_of_step_nav', \n",
    " 'pages_related_to_step_nav', \n",
    " 'related_policies']"
   ]
  },
  {
   "cell_type": "code",
   "execution_count": 149,
   "metadata": {},
   "outputs": [],
   "source": [
    "def get_other_links(content_item):\n",
    "    link_dict = {}\n",
    "    for key in links_keys:\n",
    "        if key in content_item['links'].keys():\n",
    "            link_dict[key] = [item['base_path'] for item in content_item['links'][key] if \"base_path\" in item.keys()]\n",
    "        else:\n",
    "            link_dict[key] = []\n",
    "    return link_dict"
   ]
  },
  {
   "cell_type": "code",
   "execution_count": 150,
   "metadata": {},
   "outputs": [
    {
     "data": {
      "text/plain": [
       "'/Users/felisialoukou/Documents/govuk-network-embedding/data/content_api/11-02-19/content.json.gz'"
      ]
     },
     "execution_count": 150,
     "metadata": {},
     "output_type": "execute_result"
    }
   ],
   "source": [
    "filename"
   ]
  },
  {
   "cell_type": "code",
   "execution_count": null,
   "metadata": {},
   "outputs": [
    {
     "name": "stdout",
     "output_type": "stream",
     "text": [
      "Starting... 11:24:10\n",
      "11:24:10 0\n",
      "11:24:22 1000\n"
     ]
    }
   ],
   "source": [
    "rowlist = []\n",
    "with gzip.open(filename, \"rt\") as reader:\n",
    "    page_links = {}\n",
    "    related_page_links = {}\n",
    "    collection_links = {}\n",
    "    print(\"Starting...\",datetime.now().strftime(\"%H:%M:%S\"))\n",
    "    content_generator = ijson.items(reader, prefix='item')\n",
    "    for i, content_item in enumerate(content_generator):\n",
    "        extract_link_types(collection_links, content_item, related_page_links, page_links)\n",
    "        row = {\"base_path\": content_item[\"base_path\"],\n",
    "               \"content_id\": content_item[\"content_id\"],\n",
    "               \"title\": content_item[\"title\"],\n",
    "               \"keys\": content_item[\"links\"].keys(),\n",
    "               \"description\": content_item[\"description\"],\n",
    "               \"document_type\": content_item[\"document_type\"],\n",
    "               \"first_published_at\": content_item[\"first_published_at\"], \n",
    "               \"locale\": content_item[\"locale\"], \n",
    "               \"primary_publishing_organisation\": content_item[\"primary_publishing_organisation\"] \\\n",
    "                                       if \"primary_publishing_organisation\" in content_item.keys() else np.NaN,\n",
    "               \"publishing_app\": content_item[\"publishing_app\"],\n",
    "               \"body\": get_text(content_item[\"details\"]),\n",
    "               \"embedded_links\": page_links[content_item[\"base_path\"]],\n",
    "               \"related_links\":  related_page_links[content_item[\"base_path\"]],\n",
    "               \"collection_links\": collection_links[content_item[\"base_path\"]]}\n",
    "        row.update(get_other_links(content_item))\n",
    "        rowlist.append(row)\n",
    "        if i%1000==0:\n",
    "            print(datetime.now().strftime(\"%H:%M:%S\"),i)\n",
    "            \n",
    "print(\"Ending...\",datetime.now().strftime(\"%H:%M:%S\"))\n",
    "df_extract = pd.DataFrame(rowlist)"
   ]
  },
  {
   "cell_type": "code",
   "execution_count": null,
   "metadata": {},
   "outputs": [],
   "source": [
    "df_extract.head()"
   ]
  },
  {
   "cell_type": "markdown",
   "metadata": {},
   "source": [
    "### Look at all possible values in the the links schema"
   ]
  },
  {
   "cell_type": "code",
   "execution_count": 56,
   "metadata": {},
   "outputs": [],
   "source": [
    "df['keys'] = df['keys'].map(list)"
   ]
  },
  {
   "cell_type": "code",
   "execution_count": 65,
   "metadata": {},
   "outputs": [],
   "source": [
    "all_keys = Counter([k for key in df['keys'].values for k in key ])"
   ]
  },
  {
   "cell_type": "code",
   "execution_count": 71,
   "metadata": {},
   "outputs": [
    {
     "name": "stdout",
     "output_type": "stream",
     "text": [
      "[('available_translations', 237225),\n",
      " ('organisations', 226664),\n",
      " ('policy_areas', 150138),\n",
      " ('primary_publishing_organisation', 223339),\n",
      " ('taxons', 208686),\n",
      " ('world_locations', 22751),\n",
      " ('document_collections', 52778),\n",
      " ('original_primary_publishing_organisation', 44408),\n",
      " ('people', 34036),\n",
      " ('roles', 32781),\n",
      " ('speaker', 7769),\n",
      " ('finder', 40105),\n",
      " ('suggested_ordered_related_items', 30156),\n",
      " ('worldwide_organisations', 10324),\n",
      " ('ministers', 26262),\n",
      " ('children', 16470),\n",
      " ('lead_organisations', 4413),\n",
      " ('related_guides', 1086),\n",
      " ('topical_events', 2830),\n",
      " ('parent', 13281),\n",
      " ('topics', 12757),\n",
      " ('mainstream_browse_pages', 1839),\n",
      " ('ordered_related_items', 1970),\n",
      " ('related_statistical_data_sets', 566),\n",
      " ('documents', 3945),\n",
      " ('sections', 78),\n",
      " ('meets_user_needs', 751),\n",
      " ('field_of_operation', 487),\n",
      " ('related_mainstream', 239),\n",
      " ('related_mainstream_content', 312),\n",
      " ('part_of_step_navs', 170),\n",
      " ('related_to_step_navs', 69),\n",
      " ('ordered_related_items_overrides', 25),\n",
      " ('supporting_organisations', 61),\n",
      " ('pages_part_of_step_nav', 31),\n",
      " ('pages_related_to_step_nav', 28),\n",
      " ('worldwide_priorities', 15),\n",
      " ('alpha_taxons', 1),\n",
      " ('related_policies', 1)]\n"
     ]
    }
   ],
   "source": [
    "pprint(list(all_keys.items()))"
   ]
  },
  {
   "cell_type": "code",
   "execution_count": 73,
   "metadata": {},
   "outputs": [
    {
     "data": {
      "text/plain": [
       "((237234, 9), 237234)"
      ]
     },
     "execution_count": 73,
     "metadata": {},
     "output_type": "execute_result"
    }
   ],
   "source": [
    "df.shape, df.content_id.nunique()"
   ]
  },
  {
   "cell_type": "markdown",
   "metadata": {},
   "source": [
    "### Save out preprocessed version of `content.json.gz`"
   ]
  },
  {
   "cell_type": "code",
   "execution_count": 148,
   "metadata": {},
   "outputs": [
    {
     "ename": "NameError",
     "evalue": "name 'df_extract' is not defined",
     "output_type": "error",
     "traceback": [
      "\u001b[0;31m---------------------------------------------------------------------------\u001b[0m",
      "\u001b[0;31mNameError\u001b[0m                                 Traceback (most recent call last)",
      "\u001b[0;32m<ipython-input-148-4966ce4c8711>\u001b[0m in \u001b[0;36m<module>\u001b[0;34m\u001b[0m\n\u001b[1;32m      1\u001b[0m \u001b[0mout_filename\u001b[0m \u001b[0;34m=\u001b[0m \u001b[0mos\u001b[0m\u001b[0;34m.\u001b[0m\u001b[0mpath\u001b[0m\u001b[0;34m.\u001b[0m\u001b[0mjoin\u001b[0m\u001b[0;34m(\u001b[0m\u001b[0mcontent_api\u001b[0m\u001b[0;34m,\u001b[0m \u001b[0;34m\"11-02-19\"\u001b[0m\u001b[0;34m,\u001b[0m \u001b[0;34m\"content_json.csv.gz\"\u001b[0m\u001b[0;34m)\u001b[0m\u001b[0;34m\u001b[0m\u001b[0m\n\u001b[0;32m----> 2\u001b[0;31m \u001b[0mdf_extract\u001b[0m\u001b[0;34m.\u001b[0m\u001b[0mdrop\u001b[0m\u001b[0;34m(\u001b[0m\u001b[0;34m\"keys\"\u001b[0m\u001b[0;34m,\u001b[0m \u001b[0maxis\u001b[0m\u001b[0;34m=\u001b[0m\u001b[0;36m1\u001b[0m\u001b[0;34m,\u001b[0m \u001b[0minplace\u001b[0m\u001b[0;34m=\u001b[0m\u001b[0;32mTrue\u001b[0m\u001b[0;34m)\u001b[0m\u001b[0;34m\u001b[0m\u001b[0m\n\u001b[0m\u001b[1;32m      3\u001b[0m \u001b[0mdf_extract\u001b[0m\u001b[0;34m.\u001b[0m\u001b[0mto_csv\u001b[0m\u001b[0;34m(\u001b[0m\u001b[0mout_filename\u001b[0m\u001b[0;34m,\u001b[0m \u001b[0mcompression\u001b[0m\u001b[0;34m=\u001b[0m\u001b[0;34m\"gzip\"\u001b[0m\u001b[0;34m,\u001b[0m \u001b[0mindex\u001b[0m\u001b[0;34m=\u001b[0m\u001b[0;32mFalse\u001b[0m\u001b[0;34m)\u001b[0m\u001b[0;34m\u001b[0m\u001b[0m\n",
      "\u001b[0;31mNameError\u001b[0m: name 'df_extract' is not defined"
     ]
    }
   ],
   "source": [
    "out_filename = os.path.join(content_api, \"11-02-19\", \"content_json.csv.gz\")\n",
    "df_extract.drop(\"keys\", axis=1, inplace=True)\n",
    "df_extract.to_csv(out_filename, compression=\"gzip\", index=False)"
   ]
  },
  {
   "cell_type": "code",
   "execution_count": 81,
   "metadata": {},
   "outputs": [],
   "source": [
    "df2 = pd.DataFrame(df.content_id, columns=[\"content_id\"])"
   ]
  },
  {
   "cell_type": "code",
   "execution_count": 84,
   "metadata": {},
   "outputs": [],
   "source": [
    "df2.to_csv(os.path.join(content_api, \"11-02-19\", \"content_content_ids.csv.gz\"), \n",
    "                     index=False, compression=\"gzip\")"
   ]
  },
  {
   "cell_type": "code",
   "execution_count": 85,
   "metadata": {},
   "outputs": [],
   "source": [
    "df2 = pd.read_csv(os.path.join(content_api, \"11-02-19\", \"content_content_ids.csv.gz\"), compression=\"gzip\")"
   ]
  },
  {
   "cell_type": "code",
   "execution_count": 87,
   "metadata": {},
   "outputs": [
    {
     "data": {
      "text/html": [
       "<div>\n",
       "<style scoped>\n",
       "    .dataframe tbody tr th:only-of-type {\n",
       "        vertical-align: middle;\n",
       "    }\n",
       "\n",
       "    .dataframe tbody tr th {\n",
       "        vertical-align: top;\n",
       "    }\n",
       "\n",
       "    .dataframe thead th {\n",
       "        text-align: right;\n",
       "    }\n",
       "</style>\n",
       "<table border=\"1\" class=\"dataframe\">\n",
       "  <thead>\n",
       "    <tr style=\"text-align: right;\">\n",
       "      <th></th>\n",
       "      <th>content_id</th>\n",
       "    </tr>\n",
       "  </thead>\n",
       "  <tbody>\n",
       "    <tr>\n",
       "      <th>0</th>\n",
       "      <td>04a0cc0d-0b9f-45ad-bf57-7c54cbab9df9</td>\n",
       "    </tr>\n",
       "    <tr>\n",
       "      <th>1</th>\n",
       "      <td>a61985b0-d6eb-4cf1-8140-642b9557ce00</td>\n",
       "    </tr>\n",
       "    <tr>\n",
       "      <th>2</th>\n",
       "      <td>d569ef4b-d632-49a0-9795-6a7ea934b799</td>\n",
       "    </tr>\n",
       "    <tr>\n",
       "      <th>3</th>\n",
       "      <td>5e0fee54-7631-11e4-a3cb-005056011aef</td>\n",
       "    </tr>\n",
       "    <tr>\n",
       "      <th>4</th>\n",
       "      <td>581cabaf-2ed1-4411-8d1b-35b1bcb559b5</td>\n",
       "    </tr>\n",
       "    <tr>\n",
       "      <th>5</th>\n",
       "      <td>781ebba8-3c5b-40d2-8f39-b413d2665272</td>\n",
       "    </tr>\n",
       "    <tr>\n",
       "      <th>6</th>\n",
       "      <td>01401c28-d55a-4308-896c-c71285199017</td>\n",
       "    </tr>\n",
       "    <tr>\n",
       "      <th>7</th>\n",
       "      <td>dae6d3c3-f995-42e9-bd81-a5dffd7e812d</td>\n",
       "    </tr>\n",
       "    <tr>\n",
       "      <th>8</th>\n",
       "      <td>e618840d-40a5-4b80-9008-6b1f8c3f8741</td>\n",
       "    </tr>\n",
       "    <tr>\n",
       "      <th>9</th>\n",
       "      <td>5f12a87c-7631-11e4-a3cb-005056011aef</td>\n",
       "    </tr>\n",
       "    <tr>\n",
       "      <th>10</th>\n",
       "      <td>6600b0ac-2dab-4674-a63e-0606e239e15e</td>\n",
       "    </tr>\n",
       "    <tr>\n",
       "      <th>11</th>\n",
       "      <td>fbb0b843-324e-42b8-8201-4c36ae855e4e</td>\n",
       "    </tr>\n",
       "    <tr>\n",
       "      <th>12</th>\n",
       "      <td>5dca5609-7631-11e4-a3cb-005056011aef</td>\n",
       "    </tr>\n",
       "    <tr>\n",
       "      <th>13</th>\n",
       "      <td>8504d2e1-f873-41f8-9bb8-770e8beea20a</td>\n",
       "    </tr>\n",
       "    <tr>\n",
       "      <th>14</th>\n",
       "      <td>d06deca0-65e2-4f22-a0f1-c0cec8059b95</td>\n",
       "    </tr>\n",
       "    <tr>\n",
       "      <th>15</th>\n",
       "      <td>5d6465ae-7631-11e4-a3cb-005056011aef</td>\n",
       "    </tr>\n",
       "    <tr>\n",
       "      <th>16</th>\n",
       "      <td>5fd93724-7631-11e4-a3cb-005056011aef</td>\n",
       "    </tr>\n",
       "    <tr>\n",
       "      <th>17</th>\n",
       "      <td>bb62cbb6-d43d-44ff-8bd7-edc0ac07dd9c</td>\n",
       "    </tr>\n",
       "    <tr>\n",
       "      <th>18</th>\n",
       "      <td>b678f397-3c76-430f-8e86-460f94c92d98</td>\n",
       "    </tr>\n",
       "    <tr>\n",
       "      <th>19</th>\n",
       "      <td>5d618e8a-7631-11e4-a3cb-005056011aef</td>\n",
       "    </tr>\n",
       "    <tr>\n",
       "      <th>20</th>\n",
       "      <td>d1742c08-06f8-4e14-90df-e4c0aba66619</td>\n",
       "    </tr>\n",
       "    <tr>\n",
       "      <th>21</th>\n",
       "      <td>5eb9a333-7631-11e4-a3cb-005056011aef</td>\n",
       "    </tr>\n",
       "    <tr>\n",
       "      <th>22</th>\n",
       "      <td>29c44932-d38a-4916-9fc2-c1508e4eea39</td>\n",
       "    </tr>\n",
       "    <tr>\n",
       "      <th>23</th>\n",
       "      <td>f0979915-9cac-4bf8-b193-7153a451c364</td>\n",
       "    </tr>\n",
       "    <tr>\n",
       "      <th>24</th>\n",
       "      <td>a0ae6dea-01ae-44ec-878f-8146d4479c0d</td>\n",
       "    </tr>\n",
       "    <tr>\n",
       "      <th>25</th>\n",
       "      <td>f220240f-c402-404c-8b0b-71102e45192a</td>\n",
       "    </tr>\n",
       "    <tr>\n",
       "      <th>26</th>\n",
       "      <td>5efa10c0-7631-11e4-a3cb-005056011aef</td>\n",
       "    </tr>\n",
       "    <tr>\n",
       "      <th>27</th>\n",
       "      <td>5c9f52c0-7631-11e4-a3cb-005056011aef</td>\n",
       "    </tr>\n",
       "    <tr>\n",
       "      <th>28</th>\n",
       "      <td>c98e0e17-6faf-4653-8c78-18ed11e9ce1e</td>\n",
       "    </tr>\n",
       "    <tr>\n",
       "      <th>29</th>\n",
       "      <td>740f6141-1ee5-48fe-aa12-208022fa4d56</td>\n",
       "    </tr>\n",
       "    <tr>\n",
       "      <th>...</th>\n",
       "      <td>...</td>\n",
       "    </tr>\n",
       "    <tr>\n",
       "      <th>237204</th>\n",
       "      <td>5feba745-7631-11e4-a3cb-005056011aef</td>\n",
       "    </tr>\n",
       "    <tr>\n",
       "      <th>237205</th>\n",
       "      <td>5d2ac3fb-7631-11e4-a3cb-005056011aef</td>\n",
       "    </tr>\n",
       "    <tr>\n",
       "      <th>237206</th>\n",
       "      <td>1dc0e87e-ceac-4a02-bddf-221536819df8</td>\n",
       "    </tr>\n",
       "    <tr>\n",
       "      <th>237207</th>\n",
       "      <td>5d299977-7631-11e4-a3cb-005056011aef</td>\n",
       "    </tr>\n",
       "    <tr>\n",
       "      <th>237208</th>\n",
       "      <td>6b318605-fc37-4d90-9f39-3d5390e80f22</td>\n",
       "    </tr>\n",
       "    <tr>\n",
       "      <th>237209</th>\n",
       "      <td>abfbfae7-b3b7-4140-96ea-1d02b88cd2fd</td>\n",
       "    </tr>\n",
       "    <tr>\n",
       "      <th>237210</th>\n",
       "      <td>5d993503-4705-4051-873c-fce04c4961f7</td>\n",
       "    </tr>\n",
       "    <tr>\n",
       "      <th>237211</th>\n",
       "      <td>5fdd25d5-7631-11e4-a3cb-005056011aef</td>\n",
       "    </tr>\n",
       "    <tr>\n",
       "      <th>237212</th>\n",
       "      <td>5f18102e-7631-11e4-a3cb-005056011aef</td>\n",
       "    </tr>\n",
       "    <tr>\n",
       "      <th>237213</th>\n",
       "      <td>4dd39a50-09ed-4619-8ab3-ba45e610bae7</td>\n",
       "    </tr>\n",
       "    <tr>\n",
       "      <th>237214</th>\n",
       "      <td>a2138e80-9f58-42e0-8f75-d4a10783feb6</td>\n",
       "    </tr>\n",
       "    <tr>\n",
       "      <th>237215</th>\n",
       "      <td>dabd542e-1508-4602-9d3e-045416bcfa04</td>\n",
       "    </tr>\n",
       "    <tr>\n",
       "      <th>237216</th>\n",
       "      <td>5f5e6aee-7631-11e4-a3cb-005056011aef</td>\n",
       "    </tr>\n",
       "    <tr>\n",
       "      <th>237217</th>\n",
       "      <td>5c9d8390-7631-11e4-a3cb-005056011aef</td>\n",
       "    </tr>\n",
       "    <tr>\n",
       "      <th>237218</th>\n",
       "      <td>6e154f73-ee13-42bc-a7b7-aa9c3384a386</td>\n",
       "    </tr>\n",
       "    <tr>\n",
       "      <th>237219</th>\n",
       "      <td>5e30a017-7631-11e4-a3cb-005056011aef</td>\n",
       "    </tr>\n",
       "    <tr>\n",
       "      <th>237220</th>\n",
       "      <td>9c0ccff9-e3c4-413b-96d9-ee03ac648811</td>\n",
       "    </tr>\n",
       "    <tr>\n",
       "      <th>237221</th>\n",
       "      <td>5d629839-7631-11e4-a3cb-005056011aef</td>\n",
       "    </tr>\n",
       "    <tr>\n",
       "      <th>237222</th>\n",
       "      <td>f963f200-afa0-4c74-9ee6-8d371e313883</td>\n",
       "    </tr>\n",
       "    <tr>\n",
       "      <th>237223</th>\n",
       "      <td>85f6666c-0afd-4fad-9d0b-2426f8038575</td>\n",
       "    </tr>\n",
       "    <tr>\n",
       "      <th>237224</th>\n",
       "      <td>a23756c3-c2a0-459c-9846-1fb1b23e7993</td>\n",
       "    </tr>\n",
       "    <tr>\n",
       "      <th>237225</th>\n",
       "      <td>01ebd9d7-db19-409d-b3b6-cba821da9e1a</td>\n",
       "    </tr>\n",
       "    <tr>\n",
       "      <th>237226</th>\n",
       "      <td>2878a46f-43c2-43e7-aa9d-dce4238fa6d8</td>\n",
       "    </tr>\n",
       "    <tr>\n",
       "      <th>237227</th>\n",
       "      <td>c6d319c2-0456-4075-82ed-9ba178e5db37</td>\n",
       "    </tr>\n",
       "    <tr>\n",
       "      <th>237228</th>\n",
       "      <td>5ebffba0-7631-11e4-a3cb-005056011aef</td>\n",
       "    </tr>\n",
       "    <tr>\n",
       "      <th>237229</th>\n",
       "      <td>6021c24f-7631-11e4-a3cb-005056011aef</td>\n",
       "    </tr>\n",
       "    <tr>\n",
       "      <th>237230</th>\n",
       "      <td>07a4a27d-55ba-4168-91f5-a02f042ce005</td>\n",
       "    </tr>\n",
       "    <tr>\n",
       "      <th>237231</th>\n",
       "      <td>52dd1f03-eba9-4099-99c4-aa9b805f310b</td>\n",
       "    </tr>\n",
       "    <tr>\n",
       "      <th>237232</th>\n",
       "      <td>344eecf1-fe4e-4259-b24c-cde52da13ad1</td>\n",
       "    </tr>\n",
       "    <tr>\n",
       "      <th>237233</th>\n",
       "      <td>354fbb6f-6449-4070-aa01-87ecf0585c5f</td>\n",
       "    </tr>\n",
       "  </tbody>\n",
       "</table>\n",
       "<p>237234 rows × 1 columns</p>\n",
       "</div>"
      ],
      "text/plain": [
       "                                  content_id\n",
       "0       04a0cc0d-0b9f-45ad-bf57-7c54cbab9df9\n",
       "1       a61985b0-d6eb-4cf1-8140-642b9557ce00\n",
       "2       d569ef4b-d632-49a0-9795-6a7ea934b799\n",
       "3       5e0fee54-7631-11e4-a3cb-005056011aef\n",
       "4       581cabaf-2ed1-4411-8d1b-35b1bcb559b5\n",
       "5       781ebba8-3c5b-40d2-8f39-b413d2665272\n",
       "6       01401c28-d55a-4308-896c-c71285199017\n",
       "7       dae6d3c3-f995-42e9-bd81-a5dffd7e812d\n",
       "8       e618840d-40a5-4b80-9008-6b1f8c3f8741\n",
       "9       5f12a87c-7631-11e4-a3cb-005056011aef\n",
       "10      6600b0ac-2dab-4674-a63e-0606e239e15e\n",
       "11      fbb0b843-324e-42b8-8201-4c36ae855e4e\n",
       "12      5dca5609-7631-11e4-a3cb-005056011aef\n",
       "13      8504d2e1-f873-41f8-9bb8-770e8beea20a\n",
       "14      d06deca0-65e2-4f22-a0f1-c0cec8059b95\n",
       "15      5d6465ae-7631-11e4-a3cb-005056011aef\n",
       "16      5fd93724-7631-11e4-a3cb-005056011aef\n",
       "17      bb62cbb6-d43d-44ff-8bd7-edc0ac07dd9c\n",
       "18      b678f397-3c76-430f-8e86-460f94c92d98\n",
       "19      5d618e8a-7631-11e4-a3cb-005056011aef\n",
       "20      d1742c08-06f8-4e14-90df-e4c0aba66619\n",
       "21      5eb9a333-7631-11e4-a3cb-005056011aef\n",
       "22      29c44932-d38a-4916-9fc2-c1508e4eea39\n",
       "23      f0979915-9cac-4bf8-b193-7153a451c364\n",
       "24      a0ae6dea-01ae-44ec-878f-8146d4479c0d\n",
       "25      f220240f-c402-404c-8b0b-71102e45192a\n",
       "26      5efa10c0-7631-11e4-a3cb-005056011aef\n",
       "27      5c9f52c0-7631-11e4-a3cb-005056011aef\n",
       "28      c98e0e17-6faf-4653-8c78-18ed11e9ce1e\n",
       "29      740f6141-1ee5-48fe-aa12-208022fa4d56\n",
       "...                                      ...\n",
       "237204  5feba745-7631-11e4-a3cb-005056011aef\n",
       "237205  5d2ac3fb-7631-11e4-a3cb-005056011aef\n",
       "237206  1dc0e87e-ceac-4a02-bddf-221536819df8\n",
       "237207  5d299977-7631-11e4-a3cb-005056011aef\n",
       "237208  6b318605-fc37-4d90-9f39-3d5390e80f22\n",
       "237209  abfbfae7-b3b7-4140-96ea-1d02b88cd2fd\n",
       "237210  5d993503-4705-4051-873c-fce04c4961f7\n",
       "237211  5fdd25d5-7631-11e4-a3cb-005056011aef\n",
       "237212  5f18102e-7631-11e4-a3cb-005056011aef\n",
       "237213  4dd39a50-09ed-4619-8ab3-ba45e610bae7\n",
       "237214  a2138e80-9f58-42e0-8f75-d4a10783feb6\n",
       "237215  dabd542e-1508-4602-9d3e-045416bcfa04\n",
       "237216  5f5e6aee-7631-11e4-a3cb-005056011aef\n",
       "237217  5c9d8390-7631-11e4-a3cb-005056011aef\n",
       "237218  6e154f73-ee13-42bc-a7b7-aa9c3384a386\n",
       "237219  5e30a017-7631-11e4-a3cb-005056011aef\n",
       "237220  9c0ccff9-e3c4-413b-96d9-ee03ac648811\n",
       "237221  5d629839-7631-11e4-a3cb-005056011aef\n",
       "237222  f963f200-afa0-4c74-9ee6-8d371e313883\n",
       "237223  85f6666c-0afd-4fad-9d0b-2426f8038575\n",
       "237224  a23756c3-c2a0-459c-9846-1fb1b23e7993\n",
       "237225  01ebd9d7-db19-409d-b3b6-cba821da9e1a\n",
       "237226  2878a46f-43c2-43e7-aa9d-dce4238fa6d8\n",
       "237227  c6d319c2-0456-4075-82ed-9ba178e5db37\n",
       "237228  5ebffba0-7631-11e4-a3cb-005056011aef\n",
       "237229  6021c24f-7631-11e4-a3cb-005056011aef\n",
       "237230  07a4a27d-55ba-4168-91f5-a02f042ce005\n",
       "237231  52dd1f03-eba9-4099-99c4-aa9b805f310b\n",
       "237232  344eecf1-fe4e-4259-b24c-cde52da13ad1\n",
       "237233  354fbb6f-6449-4070-aa01-87ecf0585c5f\n",
       "\n",
       "[237234 rows x 1 columns]"
      ]
     },
     "execution_count": 87,
     "metadata": {},
     "output_type": "execute_result"
    }
   ],
   "source": [
    "df2"
   ]
  },
  {
   "cell_type": "code",
   "execution_count": null,
   "metadata": {},
   "outputs": [],
   "source": []
  }
 ],
 "metadata": {
  "kernelspec": {
   "display_name": "Python 3",
   "language": "python",
   "name": "python3"
  },
  "language_info": {
   "codemirror_mode": {
    "name": "ipython",
    "version": 3
   },
   "file_extension": ".py",
   "mimetype": "text/x-python",
   "name": "python",
   "nbconvert_exporter": "python",
   "pygments_lexer": "ipython3",
   "version": "3.6.0"
  }
 },
 "nbformat": 4,
 "nbformat_minor": 2
}
