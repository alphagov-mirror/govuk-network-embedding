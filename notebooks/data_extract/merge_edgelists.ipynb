{
 "cells": [
  {
   "cell_type": "code",
   "execution_count": null,
   "metadata": {},
   "outputs": [],
   "source": [
    "### TODO: probably merge a month's worth of data, nonsense/404 urls are suprisinly frequent"
   ]
  },
  {
   "cell_type": "code",
   "execution_count": 1,
   "metadata": {},
   "outputs": [],
   "source": [
    "import pandas as pd\n",
    "import os"
   ]
  },
  {
   "cell_type": "markdown",
   "metadata": {},
   "source": [
    "### Load in edge data"
   ]
  },
  {
   "cell_type": "code",
   "execution_count": 24,
   "metadata": {},
   "outputs": [
    {
     "data": {
      "text/plain": [
       "['feb_01_10_doo_nos_edges.csv.gz',\n",
       " 'feb_11_18_nos_edges.csv.gz',\n",
       " 'edges_graphsage_test_feb_01_18_doo.csv.gz',\n",
       " 'for_networkx_tutorial_edges.csv.gz',\n",
       " 'feb_11_18_doo_nos_edges.csv.gz']"
      ]
     },
     "execution_count": 24,
     "metadata": {},
     "output_type": "execute_result"
    }
   ],
   "source": [
    "DATA_DIR = os.getenv(\"DATA_DIR\")\n",
    "processed_network = os.path.join(DATA_DIR, \"processed_network\")\n",
    "[f for f in os.listdir(processed_network) if \"edges\" in f]"
   ]
  },
  {
   "cell_type": "code",
   "execution_count": 77,
   "metadata": {},
   "outputs": [
    {
     "data": {
      "text/plain": [
       "(454260, 3)"
      ]
     },
     "execution_count": 77,
     "metadata": {},
     "output_type": "execute_result"
    }
   ],
   "source": [
    "gt = pd.read_csv(os.path.join(processed_network, \"graphsage_test.csv.gz\"), compression=\"gzip\", sep='\\t')\n",
    "gt.shape"
   ]
  },
  {
   "cell_type": "code",
   "execution_count": 78,
   "metadata": {},
   "outputs": [
    {
     "data": {
      "text/plain": [
       "(3073339, 5)"
      ]
     },
     "execution_count": 78,
     "metadata": {},
     "output_type": "execute_result"
    }
   ],
   "source": [
    "processed_list = [os.path.join(processed_network, f) for f in [\"feb_11_18_doo_nos_edges.csv.gz\",\n",
    "                                                                \"feb_11_18_nos_edges.csv.gz\"]]\n",
    "feb_doo = pd.concat([pd.read_csv(f, compression=\"gzip\", sep=\"\\t\") for f in processed_list])\n",
    "feb_doo.shape"
   ]
  },
  {
   "cell_type": "code",
   "execution_count": 79,
   "metadata": {},
   "outputs": [
    {
     "data": {
      "text/html": [
       "<div>\n",
       "<style scoped>\n",
       "    .dataframe tbody tr th:only-of-type {\n",
       "        vertical-align: middle;\n",
       "    }\n",
       "\n",
       "    .dataframe tbody tr th {\n",
       "        vertical-align: top;\n",
       "    }\n",
       "\n",
       "    .dataframe thead th {\n",
       "        text-align: right;\n",
       "    }\n",
       "</style>\n",
       "<table border=\"1\" class=\"dataframe\">\n",
       "  <thead>\n",
       "    <tr style=\"text-align: right;\">\n",
       "      <th></th>\n",
       "      <th>Source_node</th>\n",
       "      <th>Source_id</th>\n",
       "      <th>Destination_node</th>\n",
       "      <th>Destination_id</th>\n",
       "      <th>Weight</th>\n",
       "    </tr>\n",
       "  </thead>\n",
       "  <tbody>\n",
       "    <tr>\n",
       "      <th>0</th>\n",
       "      <td>/</td>\n",
       "      <td>0</td>\n",
       "      <td>/</td>\n",
       "      <td>0</td>\n",
       "      <td>92079</td>\n",
       "    </tr>\n",
       "    <tr>\n",
       "      <th>1</th>\n",
       "      <td>/jobsearch</td>\n",
       "      <td>1</td>\n",
       "      <td>/jobsearch</td>\n",
       "      <td>1</td>\n",
       "      <td>50413</td>\n",
       "    </tr>\n",
       "    <tr>\n",
       "      <th>2</th>\n",
       "      <td>/government/organisations/hm-revenue-customs/c...</td>\n",
       "      <td>2</td>\n",
       "      <td>/government/organisations/hm-revenue-customs/c...</td>\n",
       "      <td>2</td>\n",
       "      <td>5614</td>\n",
       "    </tr>\n",
       "    <tr>\n",
       "      <th>3</th>\n",
       "      <td>/check-mot-history</td>\n",
       "      <td>3</td>\n",
       "      <td>/check-mot-history</td>\n",
       "      <td>3</td>\n",
       "      <td>193937</td>\n",
       "    </tr>\n",
       "    <tr>\n",
       "      <th>4</th>\n",
       "      <td>/government/organisations/hm-revenue-customs/c...</td>\n",
       "      <td>4</td>\n",
       "      <td>/government/organisations/hm-revenue-customs/c...</td>\n",
       "      <td>4</td>\n",
       "      <td>4369</td>\n",
       "    </tr>\n",
       "  </tbody>\n",
       "</table>\n",
       "</div>"
      ],
      "text/plain": [
       "                                         Source_node  Source_id  \\\n",
       "0                                                  /          0   \n",
       "1                                         /jobsearch          1   \n",
       "2  /government/organisations/hm-revenue-customs/c...          2   \n",
       "3                                 /check-mot-history          3   \n",
       "4  /government/organisations/hm-revenue-customs/c...          4   \n",
       "\n",
       "                                    Destination_node  Destination_id  Weight  \n",
       "0                                                  /               0   92079  \n",
       "1                                         /jobsearch               1   50413  \n",
       "2  /government/organisations/hm-revenue-customs/c...               2    5614  \n",
       "3                                 /check-mot-history               3  193937  \n",
       "4  /government/organisations/hm-revenue-customs/c...               4    4369  "
      ]
     },
     "execution_count": 79,
     "metadata": {},
     "output_type": "execute_result"
    }
   ],
   "source": [
    "feb_doo.head()"
   ]
  },
  {
   "cell_type": "code",
   "execution_count": 80,
   "metadata": {},
   "outputs": [
    {
     "data": {
      "text/plain": [
       "(2926418, 5)"
      ]
     },
     "execution_count": 80,
     "metadata": {},
     "output_type": "execute_result"
    }
   ],
   "source": [
    "feb_doo = feb_doo[feb_doo.Source_node!=feb_doo.Destination_node]\n",
    "feb_doo.shape"
   ]
  },
  {
   "cell_type": "code",
   "execution_count": 81,
   "metadata": {},
   "outputs": [
    {
     "data": {
      "text/plain": [
       "1"
      ]
     },
     "execution_count": 81,
     "metadata": {},
     "output_type": "execute_result"
    }
   ],
   "source": [
    "feb_doo.Weight.min()"
   ]
  },
  {
   "cell_type": "code",
   "execution_count": 82,
   "metadata": {},
   "outputs": [],
   "source": [
    "edge_weight = dict(zip(zip(gt.source,gt.target),gt.weight))"
   ]
  },
  {
   "cell_type": "code",
   "execution_count": 83,
   "metadata": {},
   "outputs": [
    {
     "data": {
      "text/plain": [
       "True"
      ]
     },
     "execution_count": 83,
     "metadata": {},
     "output_type": "execute_result"
    }
   ],
   "source": [
    "('/government/publications/guidance-for-dependants-of-uk-visa-applicants-tiers-1-2-4-5',\n",
    "   '/visa-fees') in edge_weight.keys()"
   ]
  },
  {
   "cell_type": "code",
   "execution_count": 84,
   "metadata": {},
   "outputs": [
    {
     "data": {
      "text/plain": [
       "2753533"
      ]
     },
     "execution_count": 84,
     "metadata": {},
     "output_type": "execute_result"
    }
   ],
   "source": [
    "# edge_weight = {}\n",
    "for tup in feb_doo.itertuples():\n",
    "    if (tup.Source_node, tup.Destination_node) in edge_weight.keys():\n",
    "        edge_weight[(tup.Source_node, tup.Destination_node)] += tup.Weight\n",
    "    else:\n",
    "        edge_weight[(tup.Source_node, tup.Destination_node)] = tup.Weight\n",
    "len(edge_weight)"
   ]
  },
  {
   "cell_type": "code",
   "execution_count": 85,
   "metadata": {},
   "outputs": [
    {
     "data": {
      "text/html": [
       "<div>\n",
       "<style scoped>\n",
       "    .dataframe tbody tr th:only-of-type {\n",
       "        vertical-align: middle;\n",
       "    }\n",
       "\n",
       "    .dataframe tbody tr th {\n",
       "        vertical-align: top;\n",
       "    }\n",
       "\n",
       "    .dataframe thead th {\n",
       "        text-align: right;\n",
       "    }\n",
       "</style>\n",
       "<table border=\"1\" class=\"dataframe\">\n",
       "  <thead>\n",
       "    <tr style=\"text-align: right;\">\n",
       "      <th></th>\n",
       "      <th>src_node</th>\n",
       "      <th>dest_node</th>\n",
       "      <th>weight</th>\n",
       "    </tr>\n",
       "  </thead>\n",
       "  <tbody>\n",
       "    <tr>\n",
       "      <th>0</th>\n",
       "      <td>/government/publications/guidance-for-dependan...</td>\n",
       "      <td>/visa-fees</td>\n",
       "      <td>66</td>\n",
       "    </tr>\n",
       "    <tr>\n",
       "      <th>1</th>\n",
       "      <td>/visa-fees</td>\n",
       "      <td>/find-a-visa-application-centre</td>\n",
       "      <td>1164</td>\n",
       "    </tr>\n",
       "    <tr>\n",
       "      <th>2</th>\n",
       "      <td>/entering-staying-uk/family-visas</td>\n",
       "      <td>/uk-family-visa</td>\n",
       "      <td>377</td>\n",
       "    </tr>\n",
       "    <tr>\n",
       "      <th>3</th>\n",
       "      <td>/uk-family-visa</td>\n",
       "      <td>/uk-family-visa/partner-spouse</td>\n",
       "      <td>26227</td>\n",
       "    </tr>\n",
       "    <tr>\n",
       "      <th>4</th>\n",
       "      <td>/uk-family-visa/partner-spouse</td>\n",
       "      <td>/government/publications/application-for-uk-vi...</td>\n",
       "      <td>2733</td>\n",
       "    </tr>\n",
       "  </tbody>\n",
       "</table>\n",
       "</div>"
      ],
      "text/plain": [
       "                                            src_node  \\\n",
       "0  /government/publications/guidance-for-dependan...   \n",
       "1                                         /visa-fees   \n",
       "2                  /entering-staying-uk/family-visas   \n",
       "3                                    /uk-family-visa   \n",
       "4                     /uk-family-visa/partner-spouse   \n",
       "\n",
       "                                           dest_node  weight  \n",
       "0                                         /visa-fees      66  \n",
       "1                    /find-a-visa-application-centre    1164  \n",
       "2                                    /uk-family-visa     377  \n",
       "3                     /uk-family-visa/partner-spouse   26227  \n",
       "4  /government/publications/application-for-uk-vi...    2733  "
      ]
     },
     "execution_count": 85,
     "metadata": {},
     "output_type": "execute_result"
    }
   ],
   "source": [
    "rowlist = [{\"src_node\":src ,\"dest_node\": dest, \"weight\": w} for (src, dest),w in edge_weight.items()]\n",
    "edges_merged = pd.DataFrame(rowlist, columns=[\"src_node\",\"dest_node\",\"weight\"])\n",
    "edges_merged.head()"
   ]
  },
  {
   "cell_type": "code",
   "execution_count": 86,
   "metadata": {},
   "outputs": [
    {
     "data": {
      "text/plain": [
       "((2753533, 3), (245797, 3))"
      ]
     },
     "execution_count": 86,
     "metadata": {},
     "output_type": "execute_result"
    }
   ],
   "source": [
    "edges_merged.shape, edges_merged[edges_merged.weight==2].shape"
   ]
  },
  {
   "cell_type": "code",
   "execution_count": 87,
   "metadata": {},
   "outputs": [
    {
     "data": {
      "text/plain": [
       "count    2753533.000000\n",
       "mean          40.581202\n",
       "std         6529.100705\n",
       "min            1.000000\n",
       "25%            1.000000\n",
       "50%            1.000000\n",
       "75%            2.000000\n",
       "max      8308677.000000\n",
       "Name: weight, dtype: object"
      ]
     },
     "execution_count": 87,
     "metadata": {},
     "output_type": "execute_result"
    }
   ],
   "source": [
    "edges_merged.weight.describe().apply(lambda x: format(x, 'f'))"
   ]
  },
  {
   "cell_type": "code",
   "execution_count": 93,
   "metadata": {},
   "outputs": [
    {
     "data": {
      "text/plain": [
       "(217703, 3)"
      ]
     },
     "execution_count": 93,
     "metadata": {},
     "output_type": "execute_result"
    }
   ],
   "source": [
    "edges_merged[edges_merged.weight >= 15].shape"
   ]
  },
  {
   "cell_type": "markdown",
   "metadata": {},
   "source": [
    "### Preliminary filtered dataset"
   ]
  },
  {
   "cell_type": "code",
   "execution_count": 96,
   "metadata": {},
   "outputs": [],
   "source": [
    "edges_fm = edges_merged[edges_merged.weight >= 15].copy(deep=True)"
   ]
  },
  {
   "cell_type": "code",
   "execution_count": 95,
   "metadata": {},
   "outputs": [
    {
     "data": {
      "text/html": [
       "<div>\n",
       "<style scoped>\n",
       "    .dataframe tbody tr th:only-of-type {\n",
       "        vertical-align: middle;\n",
       "    }\n",
       "\n",
       "    .dataframe tbody tr th {\n",
       "        vertical-align: top;\n",
       "    }\n",
       "\n",
       "    .dataframe thead th {\n",
       "        text-align: right;\n",
       "    }\n",
       "</style>\n",
       "<table border=\"1\" class=\"dataframe\">\n",
       "  <thead>\n",
       "    <tr style=\"text-align: right;\">\n",
       "      <th></th>\n",
       "      <th>src_node</th>\n",
       "      <th>dest_node</th>\n",
       "      <th>weight</th>\n",
       "    </tr>\n",
       "  </thead>\n",
       "  <tbody>\n",
       "    <tr>\n",
       "      <th>178171</th>\n",
       "      <td>/send-rent</td>\n",
       "      <td>/send-rent-lease-details</td>\n",
       "      <td>32</td>\n",
       "    </tr>\n",
       "  </tbody>\n",
       "</table>\n",
       "</div>"
      ],
      "text/plain": [
       "          src_node                 dest_node  weight\n",
       "178171  /send-rent  /send-rent-lease-details      32"
      ]
     },
     "execution_count": 95,
     "metadata": {},
     "output_type": "execute_result"
    }
   ],
   "source": [
    "edges_merged[edges_merged.src_node==\"/send-rent\"]"
   ]
  },
  {
   "cell_type": "markdown",
   "metadata": {},
   "source": [
    "### Check whether urls here exist in either `content` or `content_api_extract` or `labelled`"
   ]
  },
  {
   "cell_type": "code",
   "execution_count": 40,
   "metadata": {},
   "outputs": [
    {
     "data": {
      "text/plain": [
       "['not_found_urls.csv',\n",
       " '.DS_Store',\n",
       " 'predict_network',\n",
       " 'content_ids.csv',\n",
       " 'content_api',\n",
       " 'train_network',\n",
       " 'processed_network',\n",
       " 'content_json.csv.gz',\n",
       " 'top-pages-govuk-feb19.tsv',\n",
       " 'processed',\n",
       " 'raw',\n",
       " 'content_api_links.csv.gz']"
      ]
     },
     "execution_count": 40,
     "metadata": {},
     "output_type": "execute_result"
    }
   ],
   "source": [
    "os.listdir(DATA_DIR)"
   ]
  },
  {
   "cell_type": "code",
   "execution_count": 41,
   "metadata": {},
   "outputs": [
    {
     "data": {
      "text/plain": [
       "(['.DS_Store', 'content.json.gz', '21-02-19', 'labelled.csv.gz', '07-02-19'],\n",
       " ['content_json.csv.gz', 'content_api_links.csv.gz'])"
      ]
     },
     "execution_count": 41,
     "metadata": {},
     "output_type": "execute_result"
    }
   ],
   "source": [
    "content_api = os.path.join(DATA_DIR, \"content_api\")\n",
    "content_api_feb = os.path.join(content_api, \"07-02-19\")\n",
    "os.listdir(content_api), os.listdir(content_api_feb)"
   ]
  },
  {
   "cell_type": "code",
   "execution_count": 42,
   "metadata": {},
   "outputs": [
    {
     "name": "stderr",
     "output_type": "stream",
     "text": [
      "/Users/felisialoukou/.pyenv/versions/3.6.0/lib/python3.6/site-packages/IPython/core/interactiveshell.py:3018: DtypeWarning: Columns (16,17,18) have mixed types. Specify dtype option on import or set low_memory=False.\n",
      "  interactivity=interactivity, compiler=compiler, result=result)\n"
     ]
    }
   ],
   "source": [
    "labelled = pd.read_csv(os.path.join(content_api, \"labelled.csv.gz\"), compression=\"gzip\")"
   ]
  },
  {
   "cell_type": "code",
   "execution_count": 43,
   "metadata": {},
   "outputs": [
    {
     "data": {
      "text/plain": [
       "(['/government/publications/department-for-environment-food-and-rural-affairs-single-departmental-plan/department-for-environment-food-and-rural-affairs-single-departmental-plan',\n",
       "  '/calculate-employee-redundancy-pay/y/2019-03-31/33',\n",
       "  '/government/publications?departments[]=department-for-exiting-the-european-union&page=2',\n",
       "  '/state-pension-age/y/age/1962-12-21',\n",
       "  '/student-finance-calculator/y/2018-2019/uk-full-time/9250.0/at-home/31000.0/no/none-of-the-above',\n",
       "  '/government/publications/secure-by-design/code-of-practice-for-consumer-iot-security',\n",
       "  '/calculate-your-child-maintenance/y/pay/1_child/none/430.0',\n",
       "  '/state-pension-age/y/age/1952-08-15',\n",
       "  '/calculate-your-holiday-entitlement/y/hours-worked-per-week/starting/2019-01-02/2018-04-01',\n",
       "  '/calculate-your-child-maintenance/y/pay/1_child/none/935.5/0'],\n",
       " 112341)"
      ]
     },
     "execution_count": 43,
     "metadata": {},
     "output_type": "execute_result"
    }
   ],
   "source": [
    "edges = set(list(edges_fm.src_node)+list(edges_fm.dest_node))\n",
    "list(edges)[0:10], len(edges)   "
   ]
  },
  {
   "cell_type": "code",
   "execution_count": 74,
   "metadata": {},
   "outputs": [],
   "source": [
    "not_labelled = len(edges.difference(set(labelled.base_path)))"
   ]
  },
  {
   "cell_type": "code",
   "execution_count": 75,
   "metadata": {},
   "outputs": [
    {
     "data": {
      "text/plain": [
       "'78.613% of pages in edges from BQ are not in labelled dataset'"
      ]
     },
     "execution_count": 75,
     "metadata": {},
     "output_type": "execute_result"
    }
   ],
   "source": [
    "\"{}% of pages in edges from BQ are not in labelled dataset\".format(round((not_labelled*100)/len(edges), 3))"
   ]
  },
  {
   "cell_type": "markdown",
   "metadata": {},
   "source": [
    "The above figure makes sense because BQ urls are usually not stripped down"
   ]
  },
  {
   "cell_type": "code",
   "execution_count": 46,
   "metadata": {},
   "outputs": [],
   "source": [
    "api_extract = pd.read_csv(os.path.join(content_api_feb, \"content_json.csv.gz\"), compression=\"gzip\")"
   ]
  },
  {
   "cell_type": "code",
   "execution_count": 47,
   "metadata": {},
   "outputs": [
    {
     "data": {
      "text/html": [
       "<div>\n",
       "<style scoped>\n",
       "    .dataframe tbody tr th:only-of-type {\n",
       "        vertical-align: middle;\n",
       "    }\n",
       "\n",
       "    .dataframe tbody tr th {\n",
       "        vertical-align: top;\n",
       "    }\n",
       "\n",
       "    .dataframe thead th {\n",
       "        text-align: right;\n",
       "    }\n",
       "</style>\n",
       "<table border=\"1\" class=\"dataframe\">\n",
       "  <thead>\n",
       "    <tr style=\"text-align: right;\">\n",
       "      <th></th>\n",
       "      <th>base_path</th>\n",
       "      <th>content_id</th>\n",
       "      <th>description</th>\n",
       "      <th>details</th>\n",
       "      <th>document_type</th>\n",
       "      <th>first_published_at</th>\n",
       "      <th>links</th>\n",
       "      <th>locale</th>\n",
       "      <th>publishing_app</th>\n",
       "      <th>redirects</th>\n",
       "      <th>rendering_app</th>\n",
       "      <th>title</th>\n",
       "      <th>url</th>\n",
       "    </tr>\n",
       "  </thead>\n",
       "  <tbody>\n",
       "    <tr>\n",
       "      <th>0</th>\n",
       "      <td>/government/publications/guidance-for-dependan...</td>\n",
       "      <td>5ef7560d-7631-11e4-a3cb-005056011aef</td>\n",
       "      <td>Full guidance on the policy for applications b...</td>\n",
       "      <td>{'body': '&lt;div class=\"govspeak\"&gt;&lt;p&gt;This guidan...</td>\n",
       "      <td>guidance</td>\n",
       "      <td>2013-11-12T00:00:00.000+00:00</td>\n",
       "      <td>{'organisations': [{'analytics_identifier': 'O...</td>\n",
       "      <td>en</td>\n",
       "      <td>whitehall</td>\n",
       "      <td>NaN</td>\n",
       "      <td>government-frontend</td>\n",
       "      <td>Guidance for dependants of UK visa applicants ...</td>\n",
       "      <td>/government/publications/guidance-for-dependan...</td>\n",
       "    </tr>\n",
       "    <tr>\n",
       "      <th>1</th>\n",
       "      <td>/visa-fees</td>\n",
       "      <td>1e333395-5dd5-4452-96a3-fbe939928761</td>\n",
       "      <td>Check how much your visa application costs in ...</td>\n",
       "      <td>{'introductory_paragraph': '&lt;p&gt;Use this tool t...</td>\n",
       "      <td>transaction</td>\n",
       "      <td>2014-01-22T14:39:37.000+00:00</td>\n",
       "      <td>{'mainstream_browse_pages': [{'api_path': '/ap...</td>\n",
       "      <td>en</td>\n",
       "      <td>publisher</td>\n",
       "      <td>NaN</td>\n",
       "      <td>frontend</td>\n",
       "      <td>Visa fees</td>\n",
       "      <td>/visa-fees</td>\n",
       "    </tr>\n",
       "  </tbody>\n",
       "</table>\n",
       "</div>"
      ],
      "text/plain": [
       "                                           base_path  \\\n",
       "0  /government/publications/guidance-for-dependan...   \n",
       "1                                         /visa-fees   \n",
       "\n",
       "                             content_id  \\\n",
       "0  5ef7560d-7631-11e4-a3cb-005056011aef   \n",
       "1  1e333395-5dd5-4452-96a3-fbe939928761   \n",
       "\n",
       "                                         description  \\\n",
       "0  Full guidance on the policy for applications b...   \n",
       "1  Check how much your visa application costs in ...   \n",
       "\n",
       "                                             details document_type  \\\n",
       "0  {'body': '<div class=\"govspeak\"><p>This guidan...      guidance   \n",
       "1  {'introductory_paragraph': '<p>Use this tool t...   transaction   \n",
       "\n",
       "              first_published_at  \\\n",
       "0  2013-11-12T00:00:00.000+00:00   \n",
       "1  2014-01-22T14:39:37.000+00:00   \n",
       "\n",
       "                                               links locale publishing_app  \\\n",
       "0  {'organisations': [{'analytics_identifier': 'O...     en      whitehall   \n",
       "1  {'mainstream_browse_pages': [{'api_path': '/ap...     en      publisher   \n",
       "\n",
       "  redirects        rendering_app  \\\n",
       "0       NaN  government-frontend   \n",
       "1       NaN             frontend   \n",
       "\n",
       "                                               title  \\\n",
       "0  Guidance for dependants of UK visa applicants ...   \n",
       "1                                          Visa fees   \n",
       "\n",
       "                                                 url  \n",
       "0  /government/publications/guidance-for-dependan...  \n",
       "1                                         /visa-fees  "
      ]
     },
     "execution_count": 47,
     "metadata": {},
     "output_type": "execute_result"
    }
   ],
   "source": [
    "api_extract.head(2)"
   ]
  },
  {
   "cell_type": "code",
   "execution_count": 48,
   "metadata": {},
   "outputs": [
    {
     "data": {
      "text/plain": [
       "33057"
      ]
     },
     "execution_count": 48,
     "metadata": {},
     "output_type": "execute_result"
    }
   ],
   "source": [
    "missing = list(edges.difference(set(api_extract.url)))\n",
    "len(missing)"
   ]
  },
  {
   "cell_type": "code",
   "execution_count": 76,
   "metadata": {},
   "outputs": [
    {
     "data": {
      "text/plain": [
       "'29.092% of pages in edges from BQ are not in Content API extract dataset'"
      ]
     },
     "execution_count": 76,
     "metadata": {},
     "output_type": "execute_result"
    }
   ],
   "source": [
    "\"{}% of pages in edges from BQ are not in Content API extract dataset\".format(round((len(missing)*100)/len(edges), 3))"
   ]
  },
  {
   "cell_type": "code",
   "execution_count": 50,
   "metadata": {},
   "outputs": [
    {
     "data": {
      "text/plain": [
       "['/government/publications/department-for-environment-food-and-rural-affairs-single-departmental-plan/department-for-environment-food-and-rural-affairs-single-departmental-plan',\n",
       " '/search-register-planning-decisions/tameside',\n",
       " '/state-pension-age/y/age/1963-01-24/male',\n",
       " '/government/publications/visas-and-travel-requirements',\n",
       " '/calculate-your-child-maintenance/y/pay/1_child/none/935.5/0',\n",
       " '/government/publications/exporting-to-singapore',\n",
       " '/world/organisations/british-embassy-dakar/office/visa-section',\n",
       " '/print/foreign-travel-advice/france/print',\n",
       " '/pay-leave-for-parents/y/yes/2019-05-22/employee/self-employed/no/yes/yes',\n",
       " '/guidance/finish-setting-up-your-agent-services-account-if-you-are-overseas']"
      ]
     },
     "execution_count": 50,
     "metadata": {},
     "output_type": "execute_result"
    }
   ],
   "source": [
    "missing[0:10]"
   ]
  },
  {
   "cell_type": "code",
   "execution_count": 51,
   "metadata": {},
   "outputs": [
    {
     "data": {
      "text/plain": [
       "32682"
      ]
     },
     "execution_count": 51,
     "metadata": {},
     "output_type": "execute_result"
    }
   ],
   "source": [
    "### Remove some /print junk\n",
    "missing = list(set([m.replace(\"/print\", \"\") for m in missing]))\n",
    "len(missing)"
   ]
  },
  {
   "cell_type": "markdown",
   "metadata": {},
   "source": [
    "### Save out missing links and extract their text with a `content_api_extract` run"
   ]
  },
  {
   "cell_type": "code",
   "execution_count": 53,
   "metadata": {},
   "outputs": [],
   "source": [
    "miss = pd.DataFrame([{\"Node\":m} for m in missing])\n",
    "miss.to_csv(os.path.join(processed_network, \"missing_feb_01_18_v2.csv.gz\"), index=False, compression=\"gzip\")"
   ]
  },
  {
   "cell_type": "code",
   "execution_count": 63,
   "metadata": {},
   "outputs": [
    {
     "data": {
      "text/plain": [
       "['/send-rent-',\n",
       " '/send-rent-lease-details',\n",
       " '/send-rent',\n",
       " '/send-rent-release-details',\n",
       " '/send-rent-lease.details',\n",
       " '/send-rent-lease',\n",
       " '/send-rent-leases-details',\n",
       " '/send-rent-lease-detaisl',\n",
       " '/send-rentlease-details',\n",
       " '/send-rent-leasedetails',\n",
       " '/send-rent-lease-detals',\n",
       " '/send-rent-lease-deatails',\n",
       " '/send-rent-lease-deatils',\n",
       " '/send-rent-details',\n",
       " '/send-rent-lease-detail',\n",
       " '/send-rent-lease details',\n",
       " '/send-rent-lease-deails']"
      ]
     },
     "execution_count": 63,
     "metadata": {},
     "output_type": "execute_result"
    }
   ],
   "source": [
    "[m for m in missing if \"send-rent\" in m]"
   ]
  },
  {
   "cell_type": "markdown",
   "metadata": {},
   "source": [
    "### Save out `edges_fm`"
   ]
  },
  {
   "cell_type": "code",
   "execution_count": 97,
   "metadata": {},
   "outputs": [],
   "source": [
    "edges_fm.to_csv(os.path.join(processed_network, \"edges_graphsagetest_feb_01_18_doo_min15weight.csv.gz\"), \n",
    "                index=False, compression=\"gzip\")"
   ]
  },
  {
   "cell_type": "code",
   "execution_count": null,
   "metadata": {},
   "outputs": [],
   "source": []
  }
 ],
 "metadata": {
  "kernelspec": {
   "display_name": "Python 3",
   "language": "python",
   "name": "python3"
  },
  "language_info": {
   "codemirror_mode": {
    "name": "ipython",
    "version": 3
   },
   "file_extension": ".py",
   "mimetype": "text/x-python",
   "name": "python",
   "nbconvert_exporter": "python",
   "pygments_lexer": "ipython3",
   "version": "3.6.0"
  }
 },
 "nbformat": 4,
 "nbformat_minor": 2
}
