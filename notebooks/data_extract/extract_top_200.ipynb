{
 "cells": [
  {
   "cell_type": "code",
   "execution_count": 1,
   "metadata": {},
   "outputs": [],
   "source": [
    "import os\n",
    "import pandas as pd\n",
    "import numpy as np\n",
    "import networkx as nx\n",
    "import itertools"
   ]
  },
  {
   "cell_type": "code",
   "execution_count": 2,
   "metadata": {},
   "outputs": [],
   "source": [
    "import pickle"
   ]
  },
  {
   "cell_type": "code",
   "execution_count": 20,
   "metadata": {},
   "outputs": [
    {
     "data": {
      "text/plain": [
       "['not_found_urls.csv',\n",
       " '.DS_Store',\n",
       " 'content_ids.csv',\n",
       " 'content_api',\n",
       " 'processed_network',\n",
       " 'content_json.csv.gz',\n",
       " 'processed',\n",
       " 'content_api_links.csv.gz']"
      ]
     },
     "execution_count": 20,
     "metadata": {},
     "output_type": "execute_result"
    }
   ],
   "source": [
    "# os.listdir('../../data')"
   ]
  },
  {
   "cell_type": "code",
   "execution_count": 21,
   "metadata": {},
   "outputs": [],
   "source": [
    "DATA_DIR = os.getenv(\"DATA_DIR\")\n",
    "if DATA_DIR is None:\n",
    "    DATA_DIR = '../../data'\n",
    "    \n",
    "MODELS_DIR = os.path.join(os.path.dirname(os.path.dirname(os.getcwd())), \"models\")\n",
    "content_api = os.path.join(DATA_DIR, \"content_api\")\n",
    "\n",
    "api_extract_file = os.path.join(content_api,\"07-02-19\", \"content_json.csv.gz\")\n",
    "content_file = os.path.join(content_api,\"content.json.gz\")\n",
    "labelled_file = os.path.join(content_api,\"labelled.csv.gz\")\n",
    "edgefile = os.path.join(DATA_DIR, \"processed_network\", \"graphsage_test.csv.gz\")\n",
    "\n",
    "vectorizer_file = os.path.join(MODELS_DIR, \"vectorizer_v3.pickle\")"
   ]
  },
  {
   "cell_type": "markdown",
   "metadata": {},
   "source": [
    "## Load pretrained `tfidfVectorizer`"
   ]
  },
  {
   "cell_type": "code",
   "execution_count": 22,
   "metadata": {},
   "outputs": [],
   "source": [
    "vectorizer = pickle.load(open(vectorizer_file, \"rb\"))"
   ]
  },
  {
   "cell_type": "code",
   "execution_count": 23,
   "metadata": {},
   "outputs": [
    {
     "data": {
      "text/plain": [
       "<1x2000 sparse matrix of type '<class 'numpy.float64'>'\n",
       "\twith 1 stored elements in Compressed Sparse Row format>"
      ]
     },
     "execution_count": 23,
     "metadata": {},
     "output_type": "execute_result"
    }
   ],
   "source": [
    "vectorizer.transform([\"this is a test sentence\"])"
   ]
  },
  {
   "cell_type": "markdown",
   "metadata": {},
   "source": [
    "## Load data"
   ]
  },
  {
   "cell_type": "code",
   "execution_count": 24,
   "metadata": {},
   "outputs": [
    {
     "name": "stderr",
     "output_type": "stream",
     "text": [
      "/Users/felisialoukou/.pyenv/versions/3.6.0/lib/python3.6/site-packages/IPython/core/interactiveshell.py:3018: DtypeWarning: Columns (16,17,18) have mixed types. Specify dtype option on import or set low_memory=False.\n",
      "  interactivity=interactivity, compiler=compiler, result=result)\n"
     ]
    }
   ],
   "source": [
    "labelled = pd.read_csv(labelled_file, compression=\"gzip\")"
   ]
  },
  {
   "cell_type": "code",
   "execution_count": 25,
   "metadata": {},
   "outputs": [
    {
     "data": {
      "text/plain": [
       "Index(['base_path', 'content_id', 'description', 'document_type',\n",
       "       'first_published_at', 'locale', 'primary_publishing_organisation',\n",
       "       'publishing_app', 'title', 'body', 'combined_text', 'taxon_id',\n",
       "       'taxon_base_path', 'taxon_name', 'level1taxon', 'level2taxon',\n",
       "       'level3taxon', 'level4taxon', 'level5taxon'],\n",
       "      dtype='object')"
      ]
     },
     "execution_count": 25,
     "metadata": {},
     "output_type": "execute_result"
    }
   ],
   "source": [
    "labelled.columns"
   ]
  },
  {
   "cell_type": "code",
   "execution_count": 26,
   "metadata": {},
   "outputs": [
    {
     "data": {
      "text/plain": [
       "((302474, 19), (3563, 19))"
      ]
     },
     "execution_count": 26,
     "metadata": {},
     "output_type": "execute_result"
    }
   ],
   "source": [
    "labelled.shape, labelled[labelled.publishing_app==\"publisher\"].shape"
   ]
  },
  {
   "cell_type": "code",
   "execution_count": 27,
   "metadata": {},
   "outputs": [],
   "source": [
    "edges = pd.read_csv(edgefile, compression='gzip', sep='\\t')"
   ]
  },
  {
   "cell_type": "code",
   "execution_count": 28,
   "metadata": {},
   "outputs": [
    {
     "data": {
      "text/html": [
       "<div>\n",
       "<style scoped>\n",
       "    .dataframe tbody tr th:only-of-type {\n",
       "        vertical-align: middle;\n",
       "    }\n",
       "\n",
       "    .dataframe tbody tr th {\n",
       "        vertical-align: top;\n",
       "    }\n",
       "\n",
       "    .dataframe thead th {\n",
       "        text-align: right;\n",
       "    }\n",
       "</style>\n",
       "<table border=\"1\" class=\"dataframe\">\n",
       "  <thead>\n",
       "    <tr style=\"text-align: right;\">\n",
       "      <th></th>\n",
       "      <th>source</th>\n",
       "      <th>target</th>\n",
       "      <th>weight</th>\n",
       "    </tr>\n",
       "  </thead>\n",
       "  <tbody>\n",
       "    <tr>\n",
       "      <th>0</th>\n",
       "      <td>/government/publications/guidance-for-dependan...</td>\n",
       "      <td>/visa-fees</td>\n",
       "      <td>24</td>\n",
       "    </tr>\n",
       "    <tr>\n",
       "      <th>1</th>\n",
       "      <td>/visa-fees</td>\n",
       "      <td>/find-a-visa-application-centre</td>\n",
       "      <td>433</td>\n",
       "    </tr>\n",
       "    <tr>\n",
       "      <th>2</th>\n",
       "      <td>/entering-staying-uk/family-visas</td>\n",
       "      <td>/uk-family-visa</td>\n",
       "      <td>148</td>\n",
       "    </tr>\n",
       "    <tr>\n",
       "      <th>3</th>\n",
       "      <td>/uk-family-visa</td>\n",
       "      <td>/uk-family-visa/partner-spouse</td>\n",
       "      <td>10863</td>\n",
       "    </tr>\n",
       "    <tr>\n",
       "      <th>4</th>\n",
       "      <td>/uk-family-visa/partner-spouse</td>\n",
       "      <td>/government/publications/application-for-uk-vi...</td>\n",
       "      <td>1037</td>\n",
       "    </tr>\n",
       "  </tbody>\n",
       "</table>\n",
       "</div>"
      ],
      "text/plain": [
       "                                              source  \\\n",
       "0  /government/publications/guidance-for-dependan...   \n",
       "1                                         /visa-fees   \n",
       "2                  /entering-staying-uk/family-visas   \n",
       "3                                    /uk-family-visa   \n",
       "4                     /uk-family-visa/partner-spouse   \n",
       "\n",
       "                                              target  weight  \n",
       "0                                         /visa-fees      24  \n",
       "1                    /find-a-visa-application-centre     433  \n",
       "2                                    /uk-family-visa     148  \n",
       "3                     /uk-family-visa/partner-spouse   10863  \n",
       "4  /government/publications/application-for-uk-vi...    1037  "
      ]
     },
     "execution_count": 28,
     "metadata": {},
     "output_type": "execute_result"
    }
   ],
   "source": [
    "edges.head()"
   ]
  },
  {
   "cell_type": "code",
   "execution_count": 29,
   "metadata": {},
   "outputs": [],
   "source": [
    "node_id = {}\n",
    "counter=0\n",
    "for val in zip(edges.source.values, edges.target.values):\n",
    "    for v in val:\n",
    "        if v not in node_id.keys():\n",
    "            node_id[v] = counter\n",
    "            counter+=1\n",
    "edges['source_id'] = edges.source.map(lambda x : int(node_id[x]))\n",
    "edges['target_id'] = edges.target.map(lambda x : int(node_id[x]))"
   ]
  },
  {
   "cell_type": "markdown",
   "metadata": {},
   "source": [
    "### Map edge pairs and ids to original base_path/content_id"
   ]
  },
  {
   "cell_type": "code",
   "execution_count": 30,
   "metadata": {},
   "outputs": [],
   "source": [
    "api_extrach = pd.read_csv(api_extract_file, compression=\"gzip\")"
   ]
  },
  {
   "cell_type": "code",
   "execution_count": 31,
   "metadata": {},
   "outputs": [],
   "source": [
    "api_extrach.dropna(subset=['content_id'],inplace=True)"
   ]
  },
  {
   "cell_type": "code",
   "execution_count": 32,
   "metadata": {},
   "outputs": [],
   "source": [
    "url_id = dict(zip(api_extrach.url,api_extrach.content_id))"
   ]
  },
  {
   "cell_type": "code",
   "execution_count": 33,
   "metadata": {},
   "outputs": [],
   "source": [
    "edges['source_cid'] = edges.source.map(lambda x : url_id[x] if x in url_id.keys() else np.nan)\n",
    "edges['target_cid'] = edges.target.map(lambda x : url_id[x] if x in url_id.keys() else np.nan)"
   ]
  },
  {
   "cell_type": "code",
   "execution_count": 34,
   "metadata": {},
   "outputs": [
    {
     "data": {
      "text/html": [
       "<div>\n",
       "<style scoped>\n",
       "    .dataframe tbody tr th:only-of-type {\n",
       "        vertical-align: middle;\n",
       "    }\n",
       "\n",
       "    .dataframe tbody tr th {\n",
       "        vertical-align: top;\n",
       "    }\n",
       "\n",
       "    .dataframe thead th {\n",
       "        text-align: right;\n",
       "    }\n",
       "</style>\n",
       "<table border=\"1\" class=\"dataframe\">\n",
       "  <thead>\n",
       "    <tr style=\"text-align: right;\">\n",
       "      <th></th>\n",
       "      <th>source</th>\n",
       "      <th>target</th>\n",
       "      <th>weight</th>\n",
       "      <th>source_id</th>\n",
       "      <th>target_id</th>\n",
       "      <th>source_cid</th>\n",
       "      <th>target_cid</th>\n",
       "    </tr>\n",
       "  </thead>\n",
       "  <tbody>\n",
       "    <tr>\n",
       "      <th>0</th>\n",
       "      <td>/government/publications/guidance-for-dependan...</td>\n",
       "      <td>/visa-fees</td>\n",
       "      <td>24</td>\n",
       "      <td>0</td>\n",
       "      <td>1</td>\n",
       "      <td>5ef7560d-7631-11e4-a3cb-005056011aef</td>\n",
       "      <td>1e333395-5dd5-4452-96a3-fbe939928761</td>\n",
       "    </tr>\n",
       "    <tr>\n",
       "      <th>1</th>\n",
       "      <td>/visa-fees</td>\n",
       "      <td>/find-a-visa-application-centre</td>\n",
       "      <td>433</td>\n",
       "      <td>1</td>\n",
       "      <td>2</td>\n",
       "      <td>1e333395-5dd5-4452-96a3-fbe939928761</td>\n",
       "      <td>aa055bd6-fde1-4471-8ac2-ac86241b4898</td>\n",
       "    </tr>\n",
       "    <tr>\n",
       "      <th>2</th>\n",
       "      <td>/entering-staying-uk/family-visas</td>\n",
       "      <td>/uk-family-visa</td>\n",
       "      <td>148</td>\n",
       "      <td>3</td>\n",
       "      <td>4</td>\n",
       "      <td>d612c61e-22f4-4922-8bb2-b04b9202126e</td>\n",
       "      <td>305acc88-488e-44ec-8e5a-1a5de7819ba9</td>\n",
       "    </tr>\n",
       "    <tr>\n",
       "      <th>3</th>\n",
       "      <td>/uk-family-visa</td>\n",
       "      <td>/uk-family-visa/partner-spouse</td>\n",
       "      <td>10863</td>\n",
       "      <td>4</td>\n",
       "      <td>5</td>\n",
       "      <td>305acc88-488e-44ec-8e5a-1a5de7819ba9</td>\n",
       "      <td>305acc88-488e-44ec-8e5a-1a5de7819ba9</td>\n",
       "    </tr>\n",
       "    <tr>\n",
       "      <th>4</th>\n",
       "      <td>/uk-family-visa/partner-spouse</td>\n",
       "      <td>/government/publications/application-for-uk-vi...</td>\n",
       "      <td>1037</td>\n",
       "      <td>5</td>\n",
       "      <td>6</td>\n",
       "      <td>305acc88-488e-44ec-8e5a-1a5de7819ba9</td>\n",
       "      <td>5ef421be-7631-11e4-a3cb-005056011aef</td>\n",
       "    </tr>\n",
       "  </tbody>\n",
       "</table>\n",
       "</div>"
      ],
      "text/plain": [
       "                                              source  \\\n",
       "0  /government/publications/guidance-for-dependan...   \n",
       "1                                         /visa-fees   \n",
       "2                  /entering-staying-uk/family-visas   \n",
       "3                                    /uk-family-visa   \n",
       "4                     /uk-family-visa/partner-spouse   \n",
       "\n",
       "                                              target  weight  source_id  \\\n",
       "0                                         /visa-fees      24          0   \n",
       "1                    /find-a-visa-application-centre     433          1   \n",
       "2                                    /uk-family-visa     148          3   \n",
       "3                     /uk-family-visa/partner-spouse   10863          4   \n",
       "4  /government/publications/application-for-uk-vi...    1037          5   \n",
       "\n",
       "   target_id                            source_cid  \\\n",
       "0          1  5ef7560d-7631-11e4-a3cb-005056011aef   \n",
       "1          2  1e333395-5dd5-4452-96a3-fbe939928761   \n",
       "2          4  d612c61e-22f4-4922-8bb2-b04b9202126e   \n",
       "3          5  305acc88-488e-44ec-8e5a-1a5de7819ba9   \n",
       "4          6  305acc88-488e-44ec-8e5a-1a5de7819ba9   \n",
       "\n",
       "                             target_cid  \n",
       "0  1e333395-5dd5-4452-96a3-fbe939928761  \n",
       "1  aa055bd6-fde1-4471-8ac2-ac86241b4898  \n",
       "2  305acc88-488e-44ec-8e5a-1a5de7819ba9  \n",
       "3  305acc88-488e-44ec-8e5a-1a5de7819ba9  \n",
       "4  5ef421be-7631-11e4-a3cb-005056011aef  "
      ]
     },
     "execution_count": 34,
     "metadata": {},
     "output_type": "execute_result"
    }
   ],
   "source": [
    "edges.head()"
   ]
  },
  {
   "cell_type": "code",
   "execution_count": 35,
   "metadata": {},
   "outputs": [],
   "source": [
    "def count_missing(ids):\n",
    "    missing = 0\n",
    "    missing_list = []\n",
    "    all_i = 0 \n",
    "    set_id = set(labelled.content_id.values)\n",
    "    for id1 in ids:\n",
    "        if id1 not in set_id:\n",
    "            missing+=1\n",
    "            missing_list.append(id1)\n",
    "        all_i +=1\n",
    "    print(\"included: {} missing: {}\".format(all_i-missing, missing))\n",
    "    return missing_list"
   ]
  },
  {
   "cell_type": "code",
   "execution_count": 36,
   "metadata": {},
   "outputs": [
    {
     "name": "stdout",
     "output_type": "stream",
     "text": [
      "included: 20504 missing: 21225\n",
      "included: 22577 missing: 23927\n"
     ]
    }
   ],
   "source": [
    "missing_list1 = count_missing(set(edges.source_cid.values))\n",
    "missing_list2 = count_missing(set(edges.target_cid.values))"
   ]
  },
  {
   "cell_type": "code",
   "execution_count": 37,
   "metadata": {},
   "outputs": [
    {
     "data": {
      "text/plain": [
       "[nan,\n",
       " '300a48c3-9cac-5a9f-bf56-97c8971d869d',\n",
       " 'b24fca20-4c63-5042-bfc9-faddf1f1d95c',\n",
       " '9fa4215f-1034-485d-b5d4-6cde152509cc',\n",
       " 'ea379f11-df97-416a-b355-7b03b4bb479a',\n",
       " 'e4491ccf-20c1-4950-a043-579c8cbba644',\n",
       " '95a1d0dd-aad3-4c85-a117-1b52f05ea4dd',\n",
       " '4fea23c6-5052-55bc-845d-d13ea20c501e',\n",
       " '3df8e25b-a46d-5ea0-8932-2ca0a50d3950',\n",
       " 'f4e9e92d-9192-4e17-90c6-553339bc04c3']"
      ]
     },
     "execution_count": 37,
     "metadata": {},
     "output_type": "execute_result"
    }
   ],
   "source": [
    "missing_list1[0:10]"
   ]
  },
  {
   "cell_type": "code",
   "execution_count": 38,
   "metadata": {},
   "outputs": [],
   "source": [
    "# \"5ef7560d-7631-11e4-a3cb-005056011aef\" in labelled.content_id.values\n",
    "# labelled[labelled.content_id==\"5ef7560d-7631-11e4-a3cb-005056011aef\"]"
   ]
  },
  {
   "cell_type": "code",
   "execution_count": 43,
   "metadata": {},
   "outputs": [],
   "source": [
    "# df_main = labelled[labelled.publishing_app==\"publisher\"].copy(deep=True)"
   ]
  },
  {
   "cell_type": "code",
   "execution_count": 39,
   "metadata": {},
   "outputs": [],
   "source": [
    "mainstream = set(labelled[labelled.publishing_app==\"publisher\"].content_id.values)"
   ]
  },
  {
   "cell_type": "code",
   "execution_count": 40,
   "metadata": {},
   "outputs": [
    {
     "data": {
      "text/plain": [
       "2239"
      ]
     },
     "execution_count": 40,
     "metadata": {},
     "output_type": "execute_result"
    }
   ],
   "source": [
    "len(mainstream)"
   ]
  },
  {
   "cell_type": "code",
   "execution_count": 42,
   "metadata": {},
   "outputs": [
    {
     "data": {
      "text/plain": [
       "'1881 out of 2239 mainstream cids in edgelist'"
      ]
     },
     "execution_count": 42,
     "metadata": {},
     "output_type": "execute_result"
    }
   ],
   "source": [
    "\"{} out of {} mainstream cids in edgelist\".format(len(mainstream.intersection(set(edges.source_cid.values))),\n",
    "                                                  len(mainstream))"
   ]
  },
  {
   "cell_type": "markdown",
   "metadata": {},
   "source": [
    "## Read in top GOV.UK pages for February 2019\n",
    "Set up a subsmaple to predict for"
   ]
  },
  {
   "cell_type": "code",
   "execution_count": 69,
   "metadata": {},
   "outputs": [],
   "source": [
    "top = pd.read_csv(os.path.join(DATA_DIR, \"top-pages-govuk-feb19.tsv\"), sep='\\t', usecols=['Page', 'Page Views'])"
   ]
  },
  {
   "cell_type": "code",
   "execution_count": 71,
   "metadata": {},
   "outputs": [],
   "source": [
    "top['Page'] = top['Page'].map(lambda x: x.replace(\"https://www.integration.publishing.service.gov.uk\",\"\"))"
   ]
  },
  {
   "cell_type": "markdown",
   "metadata": {},
   "source": [
    "#### Check which top pages are included in the `labelled` dataset."
   ]
  },
  {
   "cell_type": "code",
   "execution_count": 76,
   "metadata": {},
   "outputs": [],
   "source": [
    "top = top[top.Page.isin(labelled.base_path.values)]"
   ]
  },
  {
   "cell_type": "code",
   "execution_count": 77,
   "metadata": {},
   "outputs": [
    {
     "data": {
      "text/html": [
       "<div>\n",
       "<style scoped>\n",
       "    .dataframe tbody tr th:only-of-type {\n",
       "        vertical-align: middle;\n",
       "    }\n",
       "\n",
       "    .dataframe tbody tr th {\n",
       "        vertical-align: top;\n",
       "    }\n",
       "\n",
       "    .dataframe thead th {\n",
       "        text-align: right;\n",
       "    }\n",
       "</style>\n",
       "<table border=\"1\" class=\"dataframe\">\n",
       "  <thead>\n",
       "    <tr style=\"text-align: right;\">\n",
       "      <th></th>\n",
       "      <th>Page</th>\n",
       "      <th>Page Views</th>\n",
       "    </tr>\n",
       "  </thead>\n",
       "  <tbody>\n",
       "    <tr>\n",
       "      <th>2</th>\n",
       "      <td>/sign-in-universal-credit</td>\n",
       "      <td>8,221,833</td>\n",
       "    </tr>\n",
       "    <tr>\n",
       "      <th>3</th>\n",
       "      <td>/log-in-register-hmrc-online-services</td>\n",
       "      <td>6,564,918</td>\n",
       "    </tr>\n",
       "    <tr>\n",
       "      <th>4</th>\n",
       "      <td>/sold-bought-vehicle</td>\n",
       "      <td>4,722,768</td>\n",
       "    </tr>\n",
       "    <tr>\n",
       "      <th>5</th>\n",
       "      <td>/vehicle-tax</td>\n",
       "      <td>4,670,761</td>\n",
       "    </tr>\n",
       "    <tr>\n",
       "      <th>6</th>\n",
       "      <td>/check-mot-history</td>\n",
       "      <td>4,666,636</td>\n",
       "    </tr>\n",
       "  </tbody>\n",
       "</table>\n",
       "</div>"
      ],
      "text/plain": [
       "                                    Page Page Views\n",
       "2              /sign-in-universal-credit  8,221,833\n",
       "3  /log-in-register-hmrc-online-services  6,564,918\n",
       "4                   /sold-bought-vehicle  4,722,768\n",
       "5                           /vehicle-tax  4,670,761\n",
       "6                     /check-mot-history  4,666,636"
      ]
     },
     "execution_count": 77,
     "metadata": {},
     "output_type": "execute_result"
    }
   ],
   "source": [
    "top.head()"
   ]
  },
  {
   "cell_type": "markdown",
   "metadata": {},
   "source": [
    "## Initialize generator data"
   ]
  },
  {
   "cell_type": "code",
   "execution_count": 61,
   "metadata": {},
   "outputs": [
    {
     "data": {
      "text/plain": [
       "206038"
      ]
     },
     "execution_count": 61,
     "metadata": {},
     "output_type": "execute_result"
    }
   ],
   "source": [
    "labelled_cid = set(labelled.content_id.values)\n",
    "len(labelled_cid)"
   ]
  },
  {
   "cell_type": "code",
   "execution_count": 80,
   "metadata": {},
   "outputs": [],
   "source": [
    "cid_base = dict(zip(labelled.content_id, labelled.base_path))\n",
    "base_cid = dict(zip(labelled.base_path, labelled.content_id))"
   ]
  },
  {
   "cell_type": "code",
   "execution_count": 79,
   "metadata": {},
   "outputs": [],
   "source": [
    "# cid_pairs = []\n",
    "# basepath_pairs = []\n",
    "# for v,w in itertools.product([list(mainstream)[1]],labelled_cid):\n",
    "#     if v!=w:\n",
    "#         cid_pairs.append((v,w))\n",
    "#         basepath_pairs.append((cid_base[v], cid_base[w]))\n",
    "# len(cid_pairs), len(basepath_pairs)"
   ]
  },
  {
   "cell_type": "markdown",
   "metadata": {},
   "source": [
    "### Set up dataframe with top 50 pages"
   ]
  },
  {
   "cell_type": "code",
   "execution_count": 90,
   "metadata": {},
   "outputs": [],
   "source": [
    "### top base_paths to content_ids\n",
    "top['content_id'] = top['Page'].map(base_cid)\n",
    "top_50_ids = top.sort_values(\"Page Views\", ascending=False)['content_id'].values"
   ]
  },
  {
   "cell_type": "code",
   "execution_count": 91,
   "metadata": {},
   "outputs": [
    {
     "data": {
      "text/plain": [
       "(28639143, 28639143)"
      ]
     },
     "execution_count": 91,
     "metadata": {},
     "output_type": "execute_result"
    }
   ],
   "source": [
    "cid_pairs = []\n",
    "basepath_pairs = []\n",
    "for v,w in itertools.product(top_50_ids, labelled_cid):\n",
    "    if v!=w:\n",
    "        cid_pairs.append((v,w))\n",
    "        basepath_pairs.append((cid_base[v], cid_base[w]))\n",
    "len(cid_pairs), len(basepath_pairs)"
   ]
  },
  {
   "cell_type": "markdown",
   "metadata": {},
   "source": [
    "### Set up test set for prediction, top pages against the entirety of `labelled`"
   ]
  },
  {
   "cell_type": "code",
   "execution_count": 92,
   "metadata": {},
   "outputs": [],
   "source": [
    "predict_test = pd.DataFrame({'source_cid':[s for s,_ in cid_pairs], \n",
    "                             'target_cid':[t for _,t in cid_pairs],\n",
    "                             'source_bp':[s for s,_ in basepath_pairs], \n",
    "                             'target_bp':[t for _,t in basepath_pairs],\n",
    "                              })"
   ]
  },
  {
   "cell_type": "code",
   "execution_count": 93,
   "metadata": {},
   "outputs": [
    {
     "data": {
      "text/html": [
       "<div>\n",
       "<style scoped>\n",
       "    .dataframe tbody tr th:only-of-type {\n",
       "        vertical-align: middle;\n",
       "    }\n",
       "\n",
       "    .dataframe tbody tr th {\n",
       "        vertical-align: top;\n",
       "    }\n",
       "\n",
       "    .dataframe thead th {\n",
       "        text-align: right;\n",
       "    }\n",
       "</style>\n",
       "<table border=\"1\" class=\"dataframe\">\n",
       "  <thead>\n",
       "    <tr style=\"text-align: right;\">\n",
       "      <th></th>\n",
       "      <th>source_cid</th>\n",
       "      <th>target_cid</th>\n",
       "      <th>source_bp</th>\n",
       "      <th>target_bp</th>\n",
       "    </tr>\n",
       "  </thead>\n",
       "  <tbody>\n",
       "    <tr>\n",
       "      <th>0</th>\n",
       "      <td>7ae28e91-b918-4b9a-898c-fcdee95a83d0</td>\n",
       "      <td>5d36d60b-7631-11e4-a3cb-005056011aef</td>\n",
       "      <td>/sign-in-childcare-account</td>\n",
       "      <td>/government/publications/caribbean-regional-pr...</td>\n",
       "    </tr>\n",
       "    <tr>\n",
       "      <th>1</th>\n",
       "      <td>7ae28e91-b918-4b9a-898c-fcdee95a83d0</td>\n",
       "      <td>5dc410b9-7631-11e4-a3cb-005056011aef</td>\n",
       "      <td>/sign-in-childcare-account</td>\n",
       "      <td>/government/publications/adult-cancers-near-ov...</td>\n",
       "    </tr>\n",
       "    <tr>\n",
       "      <th>2</th>\n",
       "      <td>7ae28e91-b918-4b9a-898c-fcdee95a83d0</td>\n",
       "      <td>6057480d-7631-11e4-a3cb-005056011aef</td>\n",
       "      <td>/sign-in-childcare-account</td>\n",
       "      <td>/government/news/shanghai-creativity-is-great-...</td>\n",
       "    </tr>\n",
       "    <tr>\n",
       "      <th>3</th>\n",
       "      <td>7ae28e91-b918-4b9a-898c-fcdee95a83d0</td>\n",
       "      <td>5e11f679-7631-11e4-a3cb-005056011aef</td>\n",
       "      <td>/sign-in-childcare-account</td>\n",
       "      <td>/government/news/maria-miller-calls-on-busines...</td>\n",
       "    </tr>\n",
       "    <tr>\n",
       "      <th>4</th>\n",
       "      <td>7ae28e91-b918-4b9a-898c-fcdee95a83d0</td>\n",
       "      <td>3f491408-350b-4b98-aa8c-916b9df0b01e</td>\n",
       "      <td>/sign-in-childcare-account</td>\n",
       "      <td>/government/publications/cm0-7dz-g-b-finch-lim...</td>\n",
       "    </tr>\n",
       "  </tbody>\n",
       "</table>\n",
       "</div>"
      ],
      "text/plain": [
       "                             source_cid                            target_cid  \\\n",
       "0  7ae28e91-b918-4b9a-898c-fcdee95a83d0  5d36d60b-7631-11e4-a3cb-005056011aef   \n",
       "1  7ae28e91-b918-4b9a-898c-fcdee95a83d0  5dc410b9-7631-11e4-a3cb-005056011aef   \n",
       "2  7ae28e91-b918-4b9a-898c-fcdee95a83d0  6057480d-7631-11e4-a3cb-005056011aef   \n",
       "3  7ae28e91-b918-4b9a-898c-fcdee95a83d0  5e11f679-7631-11e4-a3cb-005056011aef   \n",
       "4  7ae28e91-b918-4b9a-898c-fcdee95a83d0  3f491408-350b-4b98-aa8c-916b9df0b01e   \n",
       "\n",
       "                    source_bp  \\\n",
       "0  /sign-in-childcare-account   \n",
       "1  /sign-in-childcare-account   \n",
       "2  /sign-in-childcare-account   \n",
       "3  /sign-in-childcare-account   \n",
       "4  /sign-in-childcare-account   \n",
       "\n",
       "                                           target_bp  \n",
       "0  /government/publications/caribbean-regional-pr...  \n",
       "1  /government/publications/adult-cancers-near-ov...  \n",
       "2  /government/news/shanghai-creativity-is-great-...  \n",
       "3  /government/news/maria-miller-calls-on-busines...  \n",
       "4  /government/publications/cm0-7dz-g-b-finch-lim...  "
      ]
     },
     "execution_count": 93,
     "metadata": {},
     "output_type": "execute_result"
    }
   ],
   "source": [
    "predict_test.head()"
   ]
  },
  {
   "cell_type": "markdown",
   "metadata": {},
   "source": [
    "#### *TODO:* Base node_ids on base_paths, not content_id"
   ]
  },
  {
   "cell_type": "code",
   "execution_count": 94,
   "metadata": {},
   "outputs": [],
   "source": [
    "max_node_id = max(node_id.values()) + 1\n",
    "for items in zip(predict_test.source_bp.values, predict_test.target_bp.values) :\n",
    "    for item in items:\n",
    "        if item not in node_id.keys():\n",
    "            node_id[item] = max_node_id\n",
    "            max_node_id+=1"
   ]
  },
  {
   "cell_type": "code",
   "execution_count": 95,
   "metadata": {},
   "outputs": [],
   "source": [
    "predict_test['source'] = predict_test['source_bp'].map(node_id)\n",
    "predict_test['target'] = predict_test['target_bp'].map(node_id)"
   ]
  },
  {
   "cell_type": "code",
   "execution_count": 96,
   "metadata": {},
   "outputs": [
    {
     "data": {
      "text/plain": [
       "206038"
      ]
     },
     "execution_count": 96,
     "metadata": {},
     "output_type": "execute_result"
    }
   ],
   "source": [
    "text_dict = {}\n",
    "for tup in labelled.itertuples():\n",
    "    if tup.base_path in node_id.keys():\n",
    "        text_dict[node_id[tup.base_path]] = \"{} {}\".format(tup.title, tup.description).rstrip()\n",
    "        \n",
    "text_list = [(key,value) for key,value in text_dict.items()]\n",
    "text = [(value) for key,value in text_list]\n",
    "index = [key for key,value in text_list]\n",
    "\n",
    "X = vectorizer.transform(text)\n",
    "X.shape[0]"
   ]
  },
  {
   "cell_type": "code",
   "execution_count": 97,
   "metadata": {},
   "outputs": [
    {
     "data": {
      "text/plain": [
       "'get information about property and land how to search for information about property and land in england and wales - find out who owns it how much was paid for it how to get a copy of the deeds and how to check the property boundaries'"
      ]
     },
     "execution_count": 97,
     "metadata": {},
     "output_type": "execute_result"
    }
   ],
   "source": [
    "text_dict[412]"
   ]
  },
  {
   "cell_type": "code",
   "execution_count": 98,
   "metadata": {},
   "outputs": [
    {
     "data": {
      "text/html": [
       "<div>\n",
       "<style scoped>\n",
       "    .dataframe tbody tr th:only-of-type {\n",
       "        vertical-align: middle;\n",
       "    }\n",
       "\n",
       "    .dataframe tbody tr th {\n",
       "        vertical-align: top;\n",
       "    }\n",
       "\n",
       "    .dataframe thead th {\n",
       "        text-align: right;\n",
       "    }\n",
       "</style>\n",
       "<table border=\"1\" class=\"dataframe\">\n",
       "  <thead>\n",
       "    <tr style=\"text-align: right;\">\n",
       "      <th></th>\n",
       "      <th>content_id</th>\n",
       "      <th>title</th>\n",
       "      <th>description</th>\n",
       "    </tr>\n",
       "  </thead>\n",
       "  <tbody>\n",
       "    <tr>\n",
       "      <th>296378</th>\n",
       "      <td>0f2e8c41-78fa-40f9-9eea-857c07bacd80</td>\n",
       "      <td>get information about property and land</td>\n",
       "      <td>how to search for information about property a...</td>\n",
       "    </tr>\n",
       "    <tr>\n",
       "      <th>299770</th>\n",
       "      <td>0f2e8c41-78fa-40f9-9eea-857c07bacd80</td>\n",
       "      <td>get information about property and land</td>\n",
       "      <td>how to search for information about property a...</td>\n",
       "    </tr>\n",
       "  </tbody>\n",
       "</table>\n",
       "</div>"
      ],
      "text/plain": [
       "                                  content_id  \\\n",
       "296378  0f2e8c41-78fa-40f9-9eea-857c07bacd80   \n",
       "299770  0f2e8c41-78fa-40f9-9eea-857c07bacd80   \n",
       "\n",
       "                                          title  \\\n",
       "296378  get information about property and land   \n",
       "299770  get information about property and land   \n",
       "\n",
       "                                              description  \n",
       "296378  how to search for information about property a...  \n",
       "299770  how to search for information about property a...  "
      ]
     },
     "execution_count": 98,
     "metadata": {},
     "output_type": "execute_result"
    }
   ],
   "source": [
    "labelled[labelled.content_id=='0f2e8c41-78fa-40f9-9eea-857c07bacd80'][['content_id', 'title','description']]"
   ]
  },
  {
   "cell_type": "markdown",
   "metadata": {},
   "source": [
    "### Initialize `node_data`"
   ]
  },
  {
   "cell_type": "code",
   "execution_count": 99,
   "metadata": {},
   "outputs": [
    {
     "data": {
      "text/html": [
       "<div>\n",
       "<style scoped>\n",
       "    .dataframe tbody tr th:only-of-type {\n",
       "        vertical-align: middle;\n",
       "    }\n",
       "\n",
       "    .dataframe tbody tr th {\n",
       "        vertical-align: top;\n",
       "    }\n",
       "\n",
       "    .dataframe thead th {\n",
       "        text-align: right;\n",
       "    }\n",
       "</style>\n",
       "<table border=\"1\" class=\"dataframe\">\n",
       "  <thead>\n",
       "    <tr style=\"text-align: right;\">\n",
       "      <th></th>\n",
       "      <th>0</th>\n",
       "      <th>1</th>\n",
       "      <th>2</th>\n",
       "      <th>3</th>\n",
       "      <th>4</th>\n",
       "      <th>5</th>\n",
       "      <th>6</th>\n",
       "      <th>7</th>\n",
       "      <th>8</th>\n",
       "      <th>9</th>\n",
       "      <th>...</th>\n",
       "      <th>1990</th>\n",
       "      <th>1991</th>\n",
       "      <th>1992</th>\n",
       "      <th>1993</th>\n",
       "      <th>1994</th>\n",
       "      <th>1995</th>\n",
       "      <th>1996</th>\n",
       "      <th>1997</th>\n",
       "      <th>1998</th>\n",
       "      <th>1999</th>\n",
       "    </tr>\n",
       "  </thead>\n",
       "  <tbody>\n",
       "    <tr>\n",
       "      <th>268029</th>\n",
       "      <td>0.0</td>\n",
       "      <td>0.0</td>\n",
       "      <td>0.0</td>\n",
       "      <td>0.0</td>\n",
       "      <td>0.0</td>\n",
       "      <td>0.000000</td>\n",
       "      <td>0.0</td>\n",
       "      <td>0.0</td>\n",
       "      <td>0.00000</td>\n",
       "      <td>0.0</td>\n",
       "      <td>...</td>\n",
       "      <td>0.0</td>\n",
       "      <td>0.0</td>\n",
       "      <td>0.0</td>\n",
       "      <td>0.0</td>\n",
       "      <td>0.0</td>\n",
       "      <td>0.0</td>\n",
       "      <td>0.0</td>\n",
       "      <td>0.0</td>\n",
       "      <td>0.0</td>\n",
       "      <td>0.0</td>\n",
       "    </tr>\n",
       "    <tr>\n",
       "      <th>198002</th>\n",
       "      <td>0.0</td>\n",
       "      <td>0.0</td>\n",
       "      <td>0.0</td>\n",
       "      <td>0.0</td>\n",
       "      <td>0.0</td>\n",
       "      <td>0.000000</td>\n",
       "      <td>0.0</td>\n",
       "      <td>0.0</td>\n",
       "      <td>0.00000</td>\n",
       "      <td>0.0</td>\n",
       "      <td>...</td>\n",
       "      <td>0.0</td>\n",
       "      <td>0.0</td>\n",
       "      <td>0.0</td>\n",
       "      <td>0.0</td>\n",
       "      <td>0.0</td>\n",
       "      <td>0.0</td>\n",
       "      <td>0.0</td>\n",
       "      <td>0.0</td>\n",
       "      <td>0.0</td>\n",
       "      <td>0.0</td>\n",
       "    </tr>\n",
       "    <tr>\n",
       "      <th>157685</th>\n",
       "      <td>0.0</td>\n",
       "      <td>0.0</td>\n",
       "      <td>0.0</td>\n",
       "      <td>0.0</td>\n",
       "      <td>0.0</td>\n",
       "      <td>0.000000</td>\n",
       "      <td>0.0</td>\n",
       "      <td>0.0</td>\n",
       "      <td>0.00000</td>\n",
       "      <td>0.0</td>\n",
       "      <td>...</td>\n",
       "      <td>0.0</td>\n",
       "      <td>0.0</td>\n",
       "      <td>0.0</td>\n",
       "      <td>0.0</td>\n",
       "      <td>0.0</td>\n",
       "      <td>0.0</td>\n",
       "      <td>0.0</td>\n",
       "      <td>0.0</td>\n",
       "      <td>0.0</td>\n",
       "      <td>0.0</td>\n",
       "    </tr>\n",
       "    <tr>\n",
       "      <th>263649</th>\n",
       "      <td>0.0</td>\n",
       "      <td>0.0</td>\n",
       "      <td>0.0</td>\n",
       "      <td>0.0</td>\n",
       "      <td>0.0</td>\n",
       "      <td>0.000000</td>\n",
       "      <td>0.0</td>\n",
       "      <td>0.0</td>\n",
       "      <td>0.68613</td>\n",
       "      <td>0.0</td>\n",
       "      <td>...</td>\n",
       "      <td>0.0</td>\n",
       "      <td>0.0</td>\n",
       "      <td>0.0</td>\n",
       "      <td>0.0</td>\n",
       "      <td>0.0</td>\n",
       "      <td>0.0</td>\n",
       "      <td>0.0</td>\n",
       "      <td>0.0</td>\n",
       "      <td>0.0</td>\n",
       "      <td>0.0</td>\n",
       "    </tr>\n",
       "    <tr>\n",
       "      <th>166164</th>\n",
       "      <td>0.0</td>\n",
       "      <td>0.0</td>\n",
       "      <td>0.0</td>\n",
       "      <td>0.0</td>\n",
       "      <td>0.0</td>\n",
       "      <td>0.320345</td>\n",
       "      <td>0.0</td>\n",
       "      <td>0.0</td>\n",
       "      <td>0.00000</td>\n",
       "      <td>0.0</td>\n",
       "      <td>...</td>\n",
       "      <td>0.0</td>\n",
       "      <td>0.0</td>\n",
       "      <td>0.0</td>\n",
       "      <td>0.0</td>\n",
       "      <td>0.0</td>\n",
       "      <td>0.0</td>\n",
       "      <td>0.0</td>\n",
       "      <td>0.0</td>\n",
       "      <td>0.0</td>\n",
       "      <td>0.0</td>\n",
       "    </tr>\n",
       "  </tbody>\n",
       "</table>\n",
       "<p>5 rows × 2000 columns</p>\n",
       "</div>"
      ],
      "text/plain": [
       "        0     1     2     3     4         5     6     7        8     9     \\\n",
       "268029   0.0   0.0   0.0   0.0   0.0  0.000000   0.0   0.0  0.00000   0.0   \n",
       "198002   0.0   0.0   0.0   0.0   0.0  0.000000   0.0   0.0  0.00000   0.0   \n",
       "157685   0.0   0.0   0.0   0.0   0.0  0.000000   0.0   0.0  0.00000   0.0   \n",
       "263649   0.0   0.0   0.0   0.0   0.0  0.000000   0.0   0.0  0.68613   0.0   \n",
       "166164   0.0   0.0   0.0   0.0   0.0  0.320345   0.0   0.0  0.00000   0.0   \n",
       "\n",
       "        ...   1990  1991  1992  1993  1994  1995  1996  1997  1998  1999  \n",
       "268029  ...    0.0   0.0   0.0   0.0   0.0   0.0   0.0   0.0   0.0   0.0  \n",
       "198002  ...    0.0   0.0   0.0   0.0   0.0   0.0   0.0   0.0   0.0   0.0  \n",
       "157685  ...    0.0   0.0   0.0   0.0   0.0   0.0   0.0   0.0   0.0   0.0  \n",
       "263649  ...    0.0   0.0   0.0   0.0   0.0   0.0   0.0   0.0   0.0   0.0  \n",
       "166164  ...    0.0   0.0   0.0   0.0   0.0   0.0   0.0   0.0   0.0   0.0  \n",
       "\n",
       "[5 rows x 2000 columns]"
      ]
     },
     "execution_count": 99,
     "metadata": {},
     "output_type": "execute_result"
    }
   ],
   "source": [
    "node_data = pd.DataFrame(X.todense(),index=index)\n",
    "node_data.head()"
   ]
  },
  {
   "cell_type": "code",
   "execution_count": 100,
   "metadata": {},
   "outputs": [],
   "source": [
    "predict_test['label'] = \"go_to\""
   ]
  },
  {
   "cell_type": "code",
   "execution_count": 101,
   "metadata": {},
   "outputs": [
    {
     "data": {
      "text/plain": [
       "((28639143, 7), (206038, 2000))"
      ]
     },
     "execution_count": 101,
     "metadata": {},
     "output_type": "execute_result"
    }
   ],
   "source": [
    "predict_test.shape, node_data.shape"
   ]
  },
  {
   "cell_type": "markdown",
   "metadata": {},
   "source": [
    "## Save to file"
   ]
  },
  {
   "cell_type": "code",
   "execution_count": 103,
   "metadata": {},
   "outputs": [],
   "source": [
    "predict_file = os.path.join(DATA_DIR, \"predict_top50_vs_all.csv.gz\")\n",
    "node_data_file = os.path.join(DATA_DIR, \"node_data_labelled_tfidf_2K.csv.gz\")"
   ]
  },
  {
   "cell_type": "code",
   "execution_count": null,
   "metadata": {},
   "outputs": [],
   "source": [
    "predict_test.to_csv(predict_file, index=False, compression=\"gzip\")\n",
    "node_data.to_csv(node_data_file, compression=\"gzip\")"
   ]
  },
  {
   "cell_type": "code",
   "execution_count": null,
   "metadata": {},
   "outputs": [],
   "source": [
    "n2 = pd.read_csv(node_data_file)\n",
    "n2.head()"
   ]
  },
  {
   "cell_type": "code",
   "execution_count": null,
   "metadata": {},
   "outputs": [],
   "source": []
  }
 ],
 "metadata": {
  "kernelspec": {
   "display_name": "Python 3",
   "language": "python",
   "name": "python3"
  },
  "language_info": {
   "codemirror_mode": {
    "name": "ipython",
    "version": 3
   },
   "file_extension": ".py",
   "mimetype": "text/x-python",
   "name": "python",
   "nbconvert_exporter": "python",
   "pygments_lexer": "ipython3",
   "version": "3.6.0"
  }
 },
 "nbformat": 4,
 "nbformat_minor": 2
}
